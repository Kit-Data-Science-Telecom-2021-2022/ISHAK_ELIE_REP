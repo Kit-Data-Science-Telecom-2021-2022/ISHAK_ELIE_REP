{
 "cells": [
  {
   "cell_type": "markdown",
   "metadata": {},
   "source": [
    "\n",
    "# Télécom Paris - Kit Start Data - Session 2"
   ]
  },
  {
   "cell_type": "markdown",
   "metadata": {
    "collapsed": true
   },
   "source": [
    "# Pandas"
   ]
  },
  {
   "cell_type": "code",
   "execution_count": 9,
   "metadata": {
    "scrolled": false
   },
   "outputs": [],
   "source": [
    "# import des modules usuels\n",
    "import numpy as np\n",
    "import pandas as pd\n",
    "\n",
    "# options d'affichage\n",
    "pd.set_option(\"display.min_rows\", 16)"
   ]
  },
  {
   "cell_type": "code",
   "execution_count": 10,
   "metadata": {},
   "outputs": [
    {
     "name": "stdout",
     "output_type": "stream",
     "text": [
      "1.2.4\n"
     ]
    }
   ],
   "source": [
    "print(pd.__version__) "
   ]
  },
  {
   "cell_type": "code",
   "execution_count": 11,
   "metadata": {
    "scrolled": true
   },
   "outputs": [
    {
     "data": {
      "text/plain": [
       "<function pandas.io.parsers.read_csv(filepath_or_buffer: Union[ForwardRef('PathLike[str]'), str, IO[~T], io.RawIOBase, io.BufferedIOBase, io.TextIOBase, _io.TextIOWrapper, mmap.mmap], sep=<object object at 0x7f8af8e4b3c0>, delimiter=None, header='infer', names=None, index_col=None, usecols=None, squeeze=False, prefix=None, mangle_dupe_cols=True, dtype=None, engine=None, converters=None, true_values=None, false_values=None, skipinitialspace=False, skiprows=None, skipfooter=0, nrows=None, na_values=None, keep_default_na=True, na_filter=True, verbose=False, skip_blank_lines=True, parse_dates=False, infer_datetime_format=False, keep_date_col=False, date_parser=None, dayfirst=False, cache_dates=True, iterator=False, chunksize=None, compression='infer', thousands=None, decimal: str = '.', lineterminator=None, quotechar='\"', quoting=0, doublequote=True, escapechar=None, comment=None, encoding=None, dialect=None, error_bad_lines=True, warn_bad_lines=True, delim_whitespace=False, low_memory=True, memory_map=False, float_precision=None, storage_options: Union[Dict[str, Any], NoneType] = None)>"
      ]
     },
     "execution_count": 11,
     "metadata": {},
     "output_type": "execute_result"
    }
   ],
   "source": [
    "# utilisation de Tab\n",
    "pd.read_csv"
   ]
  },
  {
   "cell_type": "code",
   "execution_count": 12,
   "metadata": {},
   "outputs": [],
   "source": [
    "# aide en ligne\n",
    "pd.read_csv?"
   ]
  },
  {
   "cell_type": "code",
   "execution_count": 76,
   "metadata": {
    "scrolled": false
   },
   "outputs": [
    {
     "data": {
      "text/html": [
       "<div>\n",
       "<style scoped>\n",
       "    .dataframe tbody tr th:only-of-type {\n",
       "        vertical-align: middle;\n",
       "    }\n",
       "\n",
       "    .dataframe tbody tr th {\n",
       "        vertical-align: top;\n",
       "    }\n",
       "\n",
       "    .dataframe thead th {\n",
       "        text-align: right;\n",
       "    }\n",
       "</style>\n",
       "<table border=\"1\" class=\"dataframe\">\n",
       "  <thead>\n",
       "    <tr style=\"text-align: right;\">\n",
       "      <th></th>\n",
       "      <th>Code INSEE</th>\n",
       "      <th>Code Postal</th>\n",
       "      <th>Commune</th>\n",
       "      <th>Département</th>\n",
       "      <th>Région</th>\n",
       "      <th>Statut</th>\n",
       "      <th>Altitude Moyenne</th>\n",
       "      <th>Superficie</th>\n",
       "      <th>Population</th>\n",
       "      <th>geo_point_2d</th>\n",
       "      <th>geo_shape</th>\n",
       "    </tr>\n",
       "  </thead>\n",
       "  <tbody>\n",
       "    <tr>\n",
       "      <th>0</th>\n",
       "      <td>31080</td>\n",
       "      <td>31350</td>\n",
       "      <td>BOULOGNE-SUR-GESSE</td>\n",
       "      <td>HAUTE-GARONNE</td>\n",
       "      <td>MIDI-PYRENEES</td>\n",
       "      <td>Chef-lieu canton</td>\n",
       "      <td>301.0</td>\n",
       "      <td>2470.0</td>\n",
       "      <td>1.6</td>\n",
       "      <td>43.2904403081, 0.650641474176</td>\n",
       "      <td>{\"type\": \"Polygon\", \"coordinates\": [[[0.671852...</td>\n",
       "    </tr>\n",
       "    <tr>\n",
       "      <th>1</th>\n",
       "      <td>11143</td>\n",
       "      <td>11510</td>\n",
       "      <td>FEUILLA</td>\n",
       "      <td>AUDE</td>\n",
       "      <td>LANGUEDOC-ROUSSILLON</td>\n",
       "      <td>Commune simple</td>\n",
       "      <td>314.0</td>\n",
       "      <td>2426.0</td>\n",
       "      <td>0.1</td>\n",
       "      <td>42.9291375888, 2.90138923544</td>\n",
       "      <td>{\"type\": \"Polygon\", \"coordinates\": [[[2.906996...</td>\n",
       "    </tr>\n",
       "    <tr>\n",
       "      <th>2</th>\n",
       "      <td>43028</td>\n",
       "      <td>43200</td>\n",
       "      <td>BESSAMOREL</td>\n",
       "      <td>HAUTE-LOIRE</td>\n",
       "      <td>AUVERGNE</td>\n",
       "      <td>Commune simple</td>\n",
       "      <td>888.0</td>\n",
       "      <td>743.0</td>\n",
       "      <td>0.4</td>\n",
       "      <td>45.1306448726, 4.07952494849</td>\n",
       "      <td>{\"type\": \"Polygon\", \"coordinates\": [[[4.091674...</td>\n",
       "    </tr>\n",
       "    <tr>\n",
       "      <th>3</th>\n",
       "      <td>78506</td>\n",
       "      <td>78660</td>\n",
       "      <td>PRUNAY-EN-YVELINES</td>\n",
       "      <td>YVELINES</td>\n",
       "      <td>ILE-DE-FRANCE</td>\n",
       "      <td>Commune simple</td>\n",
       "      <td>155.0</td>\n",
       "      <td>2717.0</td>\n",
       "      <td>0.8</td>\n",
       "      <td>48.5267627187, 1.80513972814</td>\n",
       "      <td>{\"type\": \"Polygon\", \"coordinates\": [[[1.829610...</td>\n",
       "    </tr>\n",
       "    <tr>\n",
       "      <th>4</th>\n",
       "      <td>84081</td>\n",
       "      <td>84310</td>\n",
       "      <td>MORIERES-LES-AVIGNON</td>\n",
       "      <td>VAUCLUSE</td>\n",
       "      <td>PROVENCE-ALPES-COTE D'AZUR</td>\n",
       "      <td>Commune simple</td>\n",
       "      <td>49.0</td>\n",
       "      <td>1042.0</td>\n",
       "      <td>7.6</td>\n",
       "      <td>43.9337788848, 4.90875878315</td>\n",
       "      <td>{\"type\": \"Polygon\", \"coordinates\": [[[4.927176...</td>\n",
       "    </tr>\n",
       "    <tr>\n",
       "      <th>5</th>\n",
       "      <td>80462</td>\n",
       "      <td>80150</td>\n",
       "      <td>LAMOTTE-BULEUX</td>\n",
       "      <td>SOMME</td>\n",
       "      <td>PICARDIE</td>\n",
       "      <td>Commune simple</td>\n",
       "      <td>59.0</td>\n",
       "      <td>613.0</td>\n",
       "      <td>0.4</td>\n",
       "      <td>50.1865666179, 1.83564836965</td>\n",
       "      <td>{\"type\": \"Polygon\", \"coordinates\": [[[1.849459...</td>\n",
       "    </tr>\n",
       "    <tr>\n",
       "      <th>6</th>\n",
       "      <td>40200</td>\n",
       "      <td>40410</td>\n",
       "      <td>MOUSTEY</td>\n",
       "      <td>LANDES</td>\n",
       "      <td>AQUITAINE</td>\n",
       "      <td>Commune simple</td>\n",
       "      <td>49.0</td>\n",
       "      <td>6736.0</td>\n",
       "      <td>0.7</td>\n",
       "      <td>44.3882918763, -0.750880080586</td>\n",
       "      <td>{\"type\": \"Polygon\", \"coordinates\": [[[-0.71016...</td>\n",
       "    </tr>\n",
       "    <tr>\n",
       "      <th>7</th>\n",
       "      <td>17394</td>\n",
       "      <td>17700</td>\n",
       "      <td>SAINT-SATURNIN-DU-BOIS</td>\n",
       "      <td>CHARENTE-MARITIME</td>\n",
       "      <td>POITOU-CHARENTES</td>\n",
       "      <td>Commune simple</td>\n",
       "      <td>45.0</td>\n",
       "      <td>2528.0</td>\n",
       "      <td>0.9</td>\n",
       "      <td>46.1401428747, -0.665133364912</td>\n",
       "      <td>{\"type\": \"Polygon\", \"coordinates\": [[[-0.66124...</td>\n",
       "    </tr>\n",
       "    <tr>\n",
       "      <th>...</th>\n",
       "      <td>...</td>\n",
       "      <td>...</td>\n",
       "      <td>...</td>\n",
       "      <td>...</td>\n",
       "      <td>...</td>\n",
       "      <td>...</td>\n",
       "      <td>...</td>\n",
       "      <td>...</td>\n",
       "      <td>...</td>\n",
       "      <td>...</td>\n",
       "      <td>...</td>\n",
       "    </tr>\n",
       "    <tr>\n",
       "      <th>36734</th>\n",
       "      <td>15024</td>\n",
       "      <td>15700</td>\n",
       "      <td>BRAGEAC</td>\n",
       "      <td>CANTAL</td>\n",
       "      <td>AUVERGNE</td>\n",
       "      <td>Commune simple</td>\n",
       "      <td>555.0</td>\n",
       "      <td>1222.0</td>\n",
       "      <td>0.1</td>\n",
       "      <td>45.2038604898, 2.26559675808</td>\n",
       "      <td>{\"type\": \"Polygon\", \"coordinates\": [[[2.302124...</td>\n",
       "    </tr>\n",
       "    <tr>\n",
       "      <th>36735</th>\n",
       "      <td>76008</td>\n",
       "      <td>76370</td>\n",
       "      <td>ANCOURT</td>\n",
       "      <td>SEINE-MARITIME</td>\n",
       "      <td>HAUTE-NORMANDIE</td>\n",
       "      <td>Commune simple</td>\n",
       "      <td>80.0</td>\n",
       "      <td>1252.0</td>\n",
       "      <td>0.7</td>\n",
       "      <td>49.9085547953, 1.17898885458</td>\n",
       "      <td>{\"type\": \"Polygon\", \"coordinates\": [[[1.205457...</td>\n",
       "    </tr>\n",
       "    <tr>\n",
       "      <th>36736</th>\n",
       "      <td>02137</td>\n",
       "      <td>02810</td>\n",
       "      <td>BUSSIARES</td>\n",
       "      <td>AISNE</td>\n",
       "      <td>PICARDIE</td>\n",
       "      <td>Commune simple</td>\n",
       "      <td>141.0</td>\n",
       "      <td>769.0</td>\n",
       "      <td>0.1</td>\n",
       "      <td>49.0765910572, 3.25026191909</td>\n",
       "      <td>{\"type\": \"Polygon\", \"coordinates\": [[[3.258096...</td>\n",
       "    </tr>\n",
       "    <tr>\n",
       "      <th>36737</th>\n",
       "      <td>74066</td>\n",
       "      <td>74270</td>\n",
       "      <td>CHAVANNAZ</td>\n",
       "      <td>HAUTE-SAVOIE</td>\n",
       "      <td>RHONE-ALPES</td>\n",
       "      <td>Commune simple</td>\n",
       "      <td>564.0</td>\n",
       "      <td>321.0</td>\n",
       "      <td>0.2</td>\n",
       "      <td>46.0500384099, 6.01652644319</td>\n",
       "      <td>{\"type\": \"Polygon\", \"coordinates\": [[[6.026228...</td>\n",
       "    </tr>\n",
       "    <tr>\n",
       "      <th>36738</th>\n",
       "      <td>67315</td>\n",
       "      <td>67630</td>\n",
       "      <td>NEEWILLER-PRES-LAUTERBOURG</td>\n",
       "      <td>BAS-RHIN</td>\n",
       "      <td>ALSACE</td>\n",
       "      <td>Commune simple</td>\n",
       "      <td>157.0</td>\n",
       "      <td>725.0</td>\n",
       "      <td>0.7</td>\n",
       "      <td>48.9516989257, 8.11931601006</td>\n",
       "      <td>{\"type\": \"Polygon\", \"coordinates\": [[[8.106826...</td>\n",
       "    </tr>\n",
       "    <tr>\n",
       "      <th>36739</th>\n",
       "      <td>07122</td>\n",
       "      <td>07200</td>\n",
       "      <td>LACHAPELLE-SOUS-AUBENAS</td>\n",
       "      <td>ARDECHE</td>\n",
       "      <td>RHONE-ALPES</td>\n",
       "      <td>Commune simple</td>\n",
       "      <td>257.0</td>\n",
       "      <td>1018.0</td>\n",
       "      <td>1.5</td>\n",
       "      <td>44.5622616562, 4.35906947518</td>\n",
       "      <td>{\"type\": \"Polygon\", \"coordinates\": [[[4.356584...</td>\n",
       "    </tr>\n",
       "    <tr>\n",
       "      <th>36740</th>\n",
       "      <td>01026</td>\n",
       "      <td>01380</td>\n",
       "      <td>BAGE-LE-CHATEL</td>\n",
       "      <td>AIN</td>\n",
       "      <td>RHONE-ALPES</td>\n",
       "      <td>Chef-lieu canton</td>\n",
       "      <td>202.0</td>\n",
       "      <td>86.0</td>\n",
       "      <td>0.8</td>\n",
       "      <td>46.3077069231, 4.92862084189</td>\n",
       "      <td>{\"type\": \"Polygon\", \"coordinates\": [[[4.926593...</td>\n",
       "    </tr>\n",
       "    <tr>\n",
       "      <th>36741</th>\n",
       "      <td>50224</td>\n",
       "      <td>50160</td>\n",
       "      <td>GUILBERVILLE</td>\n",
       "      <td>MANCHE</td>\n",
       "      <td>BASSE-NORMANDIE</td>\n",
       "      <td>Commune simple</td>\n",
       "      <td>165.0</td>\n",
       "      <td>2224.0</td>\n",
       "      <td>1.0</td>\n",
       "      <td>48.9866701737, -0.949588175705</td>\n",
       "      <td>{\"type\": \"Polygon\", \"coordinates\": [[[-0.99753...</td>\n",
       "    </tr>\n",
       "  </tbody>\n",
       "</table>\n",
       "<p>36742 rows × 11 columns</p>\n",
       "</div>"
      ],
      "text/plain": [
       "      Code INSEE Code Postal                     Commune        Département  \\\n",
       "0          31080       31350          BOULOGNE-SUR-GESSE      HAUTE-GARONNE   \n",
       "1          11143       11510                     FEUILLA               AUDE   \n",
       "2          43028       43200                  BESSAMOREL        HAUTE-LOIRE   \n",
       "3          78506       78660          PRUNAY-EN-YVELINES           YVELINES   \n",
       "4          84081       84310        MORIERES-LES-AVIGNON           VAUCLUSE   \n",
       "5          80462       80150              LAMOTTE-BULEUX              SOMME   \n",
       "6          40200       40410                     MOUSTEY             LANDES   \n",
       "7          17394       17700      SAINT-SATURNIN-DU-BOIS  CHARENTE-MARITIME   \n",
       "...          ...         ...                         ...                ...   \n",
       "36734      15024       15700                     BRAGEAC             CANTAL   \n",
       "36735      76008       76370                     ANCOURT     SEINE-MARITIME   \n",
       "36736      02137       02810                   BUSSIARES              AISNE   \n",
       "36737      74066       74270                   CHAVANNAZ       HAUTE-SAVOIE   \n",
       "36738      67315       67630  NEEWILLER-PRES-LAUTERBOURG           BAS-RHIN   \n",
       "36739      07122       07200     LACHAPELLE-SOUS-AUBENAS            ARDECHE   \n",
       "36740      01026       01380              BAGE-LE-CHATEL                AIN   \n",
       "36741      50224       50160                GUILBERVILLE             MANCHE   \n",
       "\n",
       "                           Région            Statut  Altitude Moyenne  \\\n",
       "0                   MIDI-PYRENEES  Chef-lieu canton             301.0   \n",
       "1            LANGUEDOC-ROUSSILLON    Commune simple             314.0   \n",
       "2                        AUVERGNE    Commune simple             888.0   \n",
       "3                   ILE-DE-FRANCE    Commune simple             155.0   \n",
       "4      PROVENCE-ALPES-COTE D'AZUR    Commune simple              49.0   \n",
       "5                        PICARDIE    Commune simple              59.0   \n",
       "6                       AQUITAINE    Commune simple              49.0   \n",
       "7                POITOU-CHARENTES    Commune simple              45.0   \n",
       "...                           ...               ...               ...   \n",
       "36734                    AUVERGNE    Commune simple             555.0   \n",
       "36735             HAUTE-NORMANDIE    Commune simple              80.0   \n",
       "36736                    PICARDIE    Commune simple             141.0   \n",
       "36737                 RHONE-ALPES    Commune simple             564.0   \n",
       "36738                      ALSACE    Commune simple             157.0   \n",
       "36739                 RHONE-ALPES    Commune simple             257.0   \n",
       "36740                 RHONE-ALPES  Chef-lieu canton             202.0   \n",
       "36741             BASSE-NORMANDIE    Commune simple             165.0   \n",
       "\n",
       "       Superficie  Population                    geo_point_2d  \\\n",
       "0          2470.0         1.6   43.2904403081, 0.650641474176   \n",
       "1          2426.0         0.1    42.9291375888, 2.90138923544   \n",
       "2           743.0         0.4    45.1306448726, 4.07952494849   \n",
       "3          2717.0         0.8    48.5267627187, 1.80513972814   \n",
       "4          1042.0         7.6    43.9337788848, 4.90875878315   \n",
       "5           613.0         0.4    50.1865666179, 1.83564836965   \n",
       "6          6736.0         0.7  44.3882918763, -0.750880080586   \n",
       "7          2528.0         0.9  46.1401428747, -0.665133364912   \n",
       "...           ...         ...                             ...   \n",
       "36734      1222.0         0.1    45.2038604898, 2.26559675808   \n",
       "36735      1252.0         0.7    49.9085547953, 1.17898885458   \n",
       "36736       769.0         0.1    49.0765910572, 3.25026191909   \n",
       "36737       321.0         0.2    46.0500384099, 6.01652644319   \n",
       "36738       725.0         0.7    48.9516989257, 8.11931601006   \n",
       "36739      1018.0         1.5    44.5622616562, 4.35906947518   \n",
       "36740        86.0         0.8    46.3077069231, 4.92862084189   \n",
       "36741      2224.0         1.0  48.9866701737, -0.949588175705   \n",
       "\n",
       "                                               geo_shape  \n",
       "0      {\"type\": \"Polygon\", \"coordinates\": [[[0.671852...  \n",
       "1      {\"type\": \"Polygon\", \"coordinates\": [[[2.906996...  \n",
       "2      {\"type\": \"Polygon\", \"coordinates\": [[[4.091674...  \n",
       "3      {\"type\": \"Polygon\", \"coordinates\": [[[1.829610...  \n",
       "4      {\"type\": \"Polygon\", \"coordinates\": [[[4.927176...  \n",
       "5      {\"type\": \"Polygon\", \"coordinates\": [[[1.849459...  \n",
       "6      {\"type\": \"Polygon\", \"coordinates\": [[[-0.71016...  \n",
       "7      {\"type\": \"Polygon\", \"coordinates\": [[[-0.66124...  \n",
       "...                                                  ...  \n",
       "36734  {\"type\": \"Polygon\", \"coordinates\": [[[2.302124...  \n",
       "36735  {\"type\": \"Polygon\", \"coordinates\": [[[1.205457...  \n",
       "36736  {\"type\": \"Polygon\", \"coordinates\": [[[3.258096...  \n",
       "36737  {\"type\": \"Polygon\", \"coordinates\": [[[6.026228...  \n",
       "36738  {\"type\": \"Polygon\", \"coordinates\": [[[8.106826...  \n",
       "36739  {\"type\": \"Polygon\", \"coordinates\": [[[4.356584...  \n",
       "36740  {\"type\": \"Polygon\", \"coordinates\": [[[4.926593...  \n",
       "36741  {\"type\": \"Polygon\", \"coordinates\": [[[-0.99753...  \n",
       "\n",
       "[36742 rows x 11 columns]"
      ]
     },
     "execution_count": 76,
     "metadata": {},
     "output_type": "execute_result"
    }
   ],
   "source": [
    "# chargement des données\n",
    "geo = pd.read_csv(\"correspondance-code-insee-code-postal.csv\",\n",
    "                   sep=';',\n",
    "                   usecols=range(11))\n",
    "geo"
   ]
  },
  {
   "cell_type": "code",
   "execution_count": 14,
   "metadata": {},
   "outputs": [
    {
     "data": {
      "text/plain": [
       "pandas.core.frame.DataFrame"
      ]
     },
     "execution_count": 14,
     "metadata": {},
     "output_type": "execute_result"
    }
   ],
   "source": [
    "# type ou classe\n",
    "type(geo)"
   ]
  },
  {
   "cell_type": "code",
   "execution_count": 15,
   "metadata": {},
   "outputs": [
    {
     "data": {
      "text/plain": [
       "(36742, 11)"
      ]
     },
     "execution_count": 15,
     "metadata": {},
     "output_type": "execute_result"
    }
   ],
   "source": [
    "# dimensions\n",
    "geo.shape"
   ]
  },
  {
   "cell_type": "markdown",
   "metadata": {},
   "source": [
    "## Series"
   ]
  },
  {
   "cell_type": "code",
   "execution_count": 16,
   "metadata": {
    "scrolled": false
   },
   "outputs": [
    {
     "data": {
      "text/plain": [
       "0                BOULOGNE-SUR-GESSE\n",
       "1                           FEUILLA\n",
       "2                        BESSAMOREL\n",
       "3                PRUNAY-EN-YVELINES\n",
       "4              MORIERES-LES-AVIGNON\n",
       "5                    LAMOTTE-BULEUX\n",
       "6                           MOUSTEY\n",
       "7            SAINT-SATURNIN-DU-BOIS\n",
       "                    ...            \n",
       "36734                       BRAGEAC\n",
       "36735                       ANCOURT\n",
       "36736                     BUSSIARES\n",
       "36737                     CHAVANNAZ\n",
       "36738    NEEWILLER-PRES-LAUTERBOURG\n",
       "36739       LACHAPELLE-SOUS-AUBENAS\n",
       "36740                BAGE-LE-CHATEL\n",
       "36741                  GUILBERVILLE\n",
       "Name: Commune, Length: 36742, dtype: object"
      ]
     },
     "execution_count": 16,
     "metadata": {},
     "output_type": "execute_result"
    }
   ],
   "source": [
    "# on obtient un objet Series à partir d'une colonne du DataFrame\n",
    "s = geo[\"Commune\"]\n",
    "s"
   ]
  },
  {
   "cell_type": "code",
   "execution_count": 17,
   "metadata": {
    "scrolled": false
   },
   "outputs": [
    {
     "data": {
      "text/plain": [
       "pandas.core.series.Series"
      ]
     },
     "execution_count": 17,
     "metadata": {},
     "output_type": "execute_result"
    }
   ],
   "source": [
    "# type de l'objet\n",
    "type(s)"
   ]
  },
  {
   "cell_type": "code",
   "execution_count": 18,
   "metadata": {
    "scrolled": false
   },
   "outputs": [
    {
     "data": {
      "text/plain": [
       "'Commune'"
      ]
     },
     "execution_count": 18,
     "metadata": {},
     "output_type": "execute_result"
    }
   ],
   "source": [
    "# accès à la variable d'instance \"name\" = nom de la colonne\n",
    "s.name"
   ]
  },
  {
   "cell_type": "code",
   "execution_count": 19,
   "metadata": {
    "scrolled": false
   },
   "outputs": [
    {
     "data": {
      "text/plain": [
       "array(['BOULOGNE-SUR-GESSE', 'FEUILLA', 'BESSAMOREL', ...,\n",
       "       'LACHAPELLE-SOUS-AUBENAS', 'BAGE-LE-CHATEL', 'GUILBERVILLE'],\n",
       "      dtype=object)"
      ]
     },
     "execution_count": 19,
     "metadata": {},
     "output_type": "execute_result"
    }
   ],
   "source": [
    "# accès à la variable d'instance \"values\"\n",
    "s.values"
   ]
  },
  {
   "cell_type": "code",
   "execution_count": 21,
   "metadata": {
    "scrolled": false
   },
   "outputs": [
    {
     "data": {
      "text/plain": [
       "numpy.ndarray"
      ]
     },
     "execution_count": 21,
     "metadata": {},
     "output_type": "execute_result"
    }
   ],
   "source": [
    "# type de la variable \"values\"\n",
    "type(s.values)"
   ]
  },
  {
   "cell_type": "markdown",
   "metadata": {},
   "source": [
    "#### append() vs list comprehension"
   ]
  },
  {
   "cell_type": "code",
   "execution_count": 24,
   "metadata": {},
   "outputs": [
    {
     "name": "stdout",
     "output_type": "stream",
     "text": [
      "CPU times: user 4.44 s, sys: 263 ms, total: 4.7 s\n",
      "Wall time: 4.87 s\n"
     ]
    },
    {
     "data": {
      "text/plain": [
       "10000000"
      ]
     },
     "execution_count": 24,
     "metadata": {},
     "output_type": "execute_result"
    }
   ],
   "source": [
    "%%time\n",
    "res = []\n",
    "for i in range(10_000_000):\n",
    "    res.append(i**2)\n",
    "len(res)"
   ]
  },
  {
   "cell_type": "code",
   "execution_count": 25,
   "metadata": {},
   "outputs": [
    {
     "name": "stdout",
     "output_type": "stream",
     "text": [
      "CPU times: user 3.78 s, sys: 253 ms, total: 4.03 s\n",
      "Wall time: 4.44 s\n"
     ]
    },
    {
     "data": {
      "text/plain": [
       "10000000"
      ]
     },
     "execution_count": 25,
     "metadata": {},
     "output_type": "execute_result"
    }
   ],
   "source": [
    "%%time\n",
    "res = [i**2 for i in range(10_000_000)]\n",
    "len(res)"
   ]
  },
  {
   "cell_type": "markdown",
   "metadata": {},
   "source": [
    "#### Python vs NumPy"
   ]
  },
  {
   "cell_type": "code",
   "execution_count": 13,
   "metadata": {},
   "outputs": [
    {
     "name": "stdout",
     "output_type": "stream",
     "text": [
      "Wall time: 4.25 s\n"
     ]
    },
    {
     "data": {
      "text/plain": [
       "10000000"
      ]
     },
     "execution_count": 13,
     "metadata": {},
     "output_type": "execute_result"
    }
   ],
   "source": [
    "%%time\n",
    "# listes Python\n",
    "len([i ** 2 for i in range(10_000_000)])"
   ]
  },
  {
   "cell_type": "code",
   "execution_count": 14,
   "metadata": {},
   "outputs": [
    {
     "name": "stdout",
     "output_type": "stream",
     "text": [
      "Wall time: 64 ms\n"
     ]
    },
    {
     "data": {
      "text/plain": [
       "10000000"
      ]
     },
     "execution_count": 14,
     "metadata": {},
     "output_type": "execute_result"
    }
   ],
   "source": [
    "%%time\n",
    "# ndarray numpy\n",
    "len(np.arange(10_000_000, dtype=int) ** 2)"
   ]
  },
  {
   "cell_type": "code",
   "execution_count": 28,
   "metadata": {},
   "outputs": [
    {
     "name": "stdout",
     "output_type": "stream",
     "text": [
      "[ 0  1  2  3  4  5  6  7  8  9 10 11 12 13 14 15 16 17 18 19]\n",
      "[  0   1   4   9  16  25  36  49  64  81 100 121 144 169 196 225 256 289\n",
      " 324 361]\n"
     ]
    }
   ],
   "source": [
    "import numpy as np\n",
    "a = np.arange(20, dtype=int)\n",
    "print(a)\n",
    "print(a**2)"
   ]
  },
  {
   "cell_type": "code",
   "execution_count": 29,
   "metadata": {},
   "outputs": [],
   "source": [
    "np.arange?"
   ]
  },
  {
   "cell_type": "code",
   "execution_count": 31,
   "metadata": {
    "scrolled": false
   },
   "outputs": [
    {
     "data": {
      "text/plain": [
       "(36742,)"
      ]
     },
     "execution_count": 31,
     "metadata": {},
     "output_type": "execute_result"
    }
   ],
   "source": [
    "# dimension de l'objet, retourne un tuple avec un seul élément\n",
    "s.shape"
   ]
  },
  {
   "cell_type": "code",
   "execution_count": 32,
   "metadata": {
    "scrolled": false
   },
   "outputs": [
    {
     "data": {
      "text/plain": [
       "36742"
      ]
     },
     "execution_count": 32,
     "metadata": {},
     "output_type": "execute_result"
    }
   ],
   "source": [
    "# taille de l'objet, ou bien len(s)\n",
    "s.size"
   ]
  },
  {
   "cell_type": "code",
   "execution_count": 33,
   "metadata": {
    "scrolled": false
   },
   "outputs": [
    {
     "data": {
      "text/plain": [
       "RangeIndex(start=0, stop=36742, step=1)"
      ]
     },
     "execution_count": 33,
     "metadata": {},
     "output_type": "execute_result"
    }
   ],
   "source": [
    "# index numérique par défaut\n",
    "s.index"
   ]
  },
  {
   "cell_type": "code",
   "execution_count": 34,
   "metadata": {},
   "outputs": [
    {
     "data": {
      "text/plain": [
       "dtype('O')"
      ]
     },
     "execution_count": 34,
     "metadata": {},
     "output_type": "execute_result"
    }
   ],
   "source": [
    "# dtype de la série\n",
    "s.dtype"
   ]
  },
  {
   "cell_type": "code",
   "execution_count": 35,
   "metadata": {
    "scrolled": false
   },
   "outputs": [
    {
     "data": {
      "text/plain": [
       "0      BOULOGNE-SUR-GESSE\n",
       "1                 FEUILLA\n",
       "2              BESSAMOREL\n",
       "3      PRUNAY-EN-YVELINES\n",
       "4    MORIERES-LES-AVIGNON\n",
       "Name: Commune, dtype: object"
      ]
     },
     "execution_count": 35,
     "metadata": {},
     "output_type": "execute_result"
    }
   ],
   "source": [
    "# tête\n",
    "s.head()"
   ]
  },
  {
   "cell_type": "code",
   "execution_count": 37,
   "metadata": {
    "scrolled": false
   },
   "outputs": [
    {
     "data": {
      "text/plain": [
       "36736                     BUSSIARES\n",
       "36737                     CHAVANNAZ\n",
       "36738    NEEWILLER-PRES-LAUTERBOURG\n",
       "36739       LACHAPELLE-SOUS-AUBENAS\n",
       "36740                BAGE-LE-CHATEL\n",
       "36741                  GUILBERVILLE\n",
       "Name: Commune, dtype: object"
      ]
     },
     "execution_count": 37,
     "metadata": {},
     "output_type": "execute_result"
    }
   ],
   "source": [
    "# queue\n",
    "s.tail(6)  # ou bien s.tail(n=3)"
   ]
  },
  {
   "cell_type": "markdown",
   "metadata": {},
   "source": [
    "Nombre de valeurs uniques d'un objet *Series*"
   ]
  },
  {
   "cell_type": "code",
   "execution_count": 38,
   "metadata": {
    "scrolled": false
   },
   "outputs": [
    {
     "data": {
      "text/plain": [
       "34130"
      ]
     },
     "execution_count": 38,
     "metadata": {},
     "output_type": "execute_result"
    }
   ],
   "source": [
    "# nombre de valeurs uniques\n",
    "s.nunique()"
   ]
  },
  {
   "cell_type": "code",
   "execution_count": 39,
   "metadata": {
    "scrolled": false
   },
   "outputs": [
    {
     "data": {
      "text/plain": [
       "101"
      ]
     },
     "execution_count": 39,
     "metadata": {},
     "output_type": "execute_result"
    }
   ],
   "source": [
    "# nombre de départements\n",
    "geo[\"Département\"].nunique()"
   ]
  },
  {
   "cell_type": "code",
   "execution_count": 40,
   "metadata": {
    "scrolled": false
   },
   "outputs": [
    {
     "data": {
      "text/plain": [
       "6"
      ]
     },
     "execution_count": 40,
     "metadata": {},
     "output_type": "execute_result"
    }
   ],
   "source": [
    "# nombre de statuts de commune\n",
    "geo[\"Statut\"].nunique()"
   ]
  },
  {
   "cell_type": "code",
   "execution_count": 41,
   "metadata": {
    "scrolled": false
   },
   "outputs": [
    {
     "data": {
      "text/plain": [
       "array(['HAUTE-GARONNE', 'AUDE', 'HAUTE-LOIRE', 'YVELINES', 'VAUCLUSE',\n",
       "       'SOMME', 'LANDES', 'CHARENTE-MARITIME', 'ORNE', 'NORD',\n",
       "       'ALPES-DE-HAUTE-PROVENCE', 'AISNE', 'CHER', 'CALVADOS', 'ARDECHE',\n",
       "       'MOSELLE', 'SARTHE', 'DEUX-SEVRES', 'HAUTES-ALPES', 'FINISTERE',\n",
       "       'SAVOIE', \"COTES-D'ARMOR\", \"COTE-D'OR\", 'HAUTE-MARNE', 'VIENNE',\n",
       "       'PYRENEES-ATLANTIQUES', 'DROME', 'OISE', 'CHARENTE',\n",
       "       'EURE-ET-LOIR', 'MARNE', 'MAYENNE', 'GIRONDE', 'DOUBS',\n",
       "       'PAS-DE-CALAIS', 'LOIRE', 'VENDEE', 'HAUTE-SAVOIE', 'HAUTE-CORSE',\n",
       "       'VOSGES', 'MEUSE', 'ESSONNE', 'JURA', 'EURE',\n",
       "       'PYRENEES-ORIENTALES', 'MORBIHAN', 'LOT', 'SEINE-ET-MARNE', 'GARD',\n",
       "       'HAUTE-SAONE', 'HAUTE-VIENNE', 'SAONE-ET-LOIRE', 'ARDENNES',\n",
       "       'HERAULT', 'ILLE-ET-VILAINE', 'SEINE-MARITIME', 'MANCHE',\n",
       "       'BAS-RHIN', 'HAUTES-PYRENEES', 'AIN', 'LOIRET', 'CORREZE',\n",
       "       'INDRE-ET-LOIRE', 'INDRE', 'ARIEGE', \"VAL-D'OISE\",\n",
       "       'MEURTHE-ET-MOSELLE', 'RHONE', 'LOIRE-ATLANTIQUE',\n",
       "       'ALPES-MARITIMES', 'HAUT-RHIN', 'MAINE-ET-LOIRE', 'ISERE',\n",
       "       'BOUCHES-DU-RHONE', 'TARN-ET-GARONNE', 'CANTAL', 'YONNE',\n",
       "       'LOIR-ET-CHER', 'CORSE-DU-SUD', 'LOT-ET-GARONNE', 'PUY-DE-DOME',\n",
       "       'ALLIER', 'LOZERE', 'AUBE', 'GERS', 'HAUTS-DE-SEINE', 'DORDOGNE',\n",
       "       'TERRITOIRE DE BELFORT', 'NIEVRE', 'TARN', 'CREUSE', 'VAR',\n",
       "       'AVEYRON', 'GUYANE', 'REUNION', 'GUADELOUPE', 'PARIS',\n",
       "       'VAL-DE-MARNE', 'SEINE-SAINT-DENIS', 'MAYOTTE', 'MARTINIQUE'],\n",
       "      dtype=object)"
      ]
     },
     "execution_count": 41,
     "metadata": {},
     "output_type": "execute_result"
    }
   ],
   "source": [
    "# liste des départements\n",
    "geo[\"Département\"].unique()"
   ]
  },
  {
   "cell_type": "markdown",
   "metadata": {},
   "source": [
    "**Exercice 1**\n",
    "- Combien de valeurs différentes comporte la colonne \"Altitude Moyenne\" ?\n",
    "- Pour quelle altitude inférieure à 1000 mètres n'y a-t-il aucune commune ?"
   ]
  },
  {
   "cell_type": "code",
   "execution_count": 42,
   "metadata": {},
   "outputs": [
    {
     "data": {
      "text/plain": [
       "1652"
      ]
     },
     "execution_count": 42,
     "metadata": {},
     "output_type": "execute_result"
    }
   ],
   "source": [
    "geo[\"Altitude Moyenne\"].nunique()"
   ]
  },
  {
   "cell_type": "code",
   "execution_count": null,
   "metadata": {},
   "outputs": [],
   "source": [
    "# algo vs set"
   ]
  },
  {
   "cell_type": "code",
   "execution_count": null,
   "metadata": {},
   "outputs": [],
   "source": []
  },
  {
   "cell_type": "code",
   "execution_count": 31,
   "metadata": {},
   "outputs": [
    {
     "data": {
      "text/plain": [
       "1652"
      ]
     },
     "execution_count": 31,
     "metadata": {},
     "output_type": "execute_result"
    }
   ],
   "source": [
    "geo['Altitude Moyenne'].nunique()"
   ]
  },
  {
   "cell_type": "code",
   "execution_count": 45,
   "metadata": {},
   "outputs": [
    {
     "name": "stdout",
     "output_type": "stream",
     "text": [
      "{0.0, 1.0, 2.0, 3.0, 4.0, 5.0, 6.0, 7.0, 8.0, 9.0, 10.0, 11.0, 12.0, 13.0, 14.0, 15.0, 16.0, 17.0, 18.0, 19.0, 20.0, 21.0, 22.0, 23.0, 24.0, 25.0, 26.0, 27.0, 28.0, 29.0, 30.0, 31.0, 32.0, 33.0, 34.0, 35.0, 36.0, 37.0, 38.0, 39.0, 40.0, 41.0, 42.0, 43.0, 44.0, 45.0, 46.0, 47.0, 48.0, 49.0, 50.0, 51.0, 52.0, 53.0, 54.0, 55.0, 56.0, 57.0, 58.0, 59.0, 60.0, 61.0, 62.0, 63.0, 64.0, 65.0, 66.0, 67.0, 68.0, 69.0, 70.0, 71.0, 72.0, 73.0, 74.0, 75.0, 76.0, 77.0, 78.0, 79.0, 80.0, 81.0, 82.0, 83.0, 84.0, 85.0, 86.0, 87.0, 88.0, 89.0, 90.0, 91.0, 92.0, 93.0, 94.0, 95.0, 96.0, 97.0, 98.0, 99.0, 100.0, 101.0, 102.0, 103.0, 104.0, 105.0, 106.0, 107.0, 108.0, 109.0, 110.0, 111.0, 112.0, 113.0, 114.0, 115.0, 116.0, 117.0, 118.0, 119.0, 120.0, 121.0, 122.0, 123.0, 124.0, 125.0, 126.0, 127.0, 128.0, 129.0, 130.0, 131.0, 132.0, 133.0, 134.0, 135.0, 136.0, 137.0, 138.0, 139.0, 140.0, 141.0, 142.0, 143.0, 144.0, 145.0, 146.0, 147.0, 148.0, 149.0, 150.0, 151.0, 152.0, 153.0, 154.0, 155.0, 156.0, 157.0, 158.0, 159.0, 160.0, 161.0, 162.0, 163.0, 164.0, 165.0, 166.0, 167.0, 168.0, 169.0, 170.0, 171.0, 172.0, 173.0, 174.0, 175.0, 176.0, 177.0, 178.0, 179.0, 180.0, 181.0, 182.0, 183.0, 184.0, 185.0, 186.0, 187.0, 188.0, 189.0, 190.0, 191.0, 192.0, 193.0, 194.0, 195.0, 196.0, 197.0, 198.0, 199.0, 200.0, 201.0, 202.0, 203.0, 204.0, 205.0, 206.0, 207.0, 208.0, 209.0, 210.0, 211.0, 212.0, 213.0, 214.0, 215.0, 216.0, 217.0, 218.0, 219.0, 220.0, 221.0, 222.0, 223.0, 224.0, 225.0, 226.0, 227.0, 228.0, 229.0, 230.0, 231.0, 232.0, 233.0, 234.0, 235.0, 236.0, 237.0, 238.0, 239.0, 240.0, 241.0, 242.0, 243.0, 244.0, 245.0, 246.0, 247.0, 248.0, 249.0, 250.0, 251.0, 252.0, 253.0, 254.0, 255.0, 256.0, 257.0, 258.0, 259.0, 260.0, 261.0, 262.0, 263.0, 264.0, 265.0, 266.0, 267.0, 268.0, 269.0, 270.0, 271.0, 272.0, 273.0, 274.0, 275.0, 276.0, 277.0, 278.0, 279.0, 280.0, 281.0, 282.0, 283.0, 284.0, 285.0, 286.0, 287.0, 288.0, 289.0, 290.0, 291.0, 292.0, 293.0, 294.0, 295.0, 296.0, 297.0, 298.0, 299.0, 300.0, 301.0, 302.0, 303.0, 304.0, 305.0, 306.0, 307.0, 308.0, 309.0, 310.0, 311.0, 312.0, 313.0, 314.0, 315.0, 316.0, 317.0, 318.0, 319.0, 320.0, 321.0, 322.0, 323.0, 324.0, 325.0, 326.0, 327.0, 328.0, 329.0, 330.0, 331.0, 332.0, 333.0, 334.0, 335.0, 336.0, 337.0, 338.0, 339.0, 340.0, 341.0, 342.0, 343.0, 344.0, 345.0, 346.0, 347.0, 348.0, 349.0, 350.0, 351.0, 352.0, 353.0, 354.0, 355.0, 356.0, 357.0, 358.0, 359.0, 360.0, 361.0, 362.0, 363.0, 364.0, 365.0, 366.0, 367.0, 368.0, 369.0, 370.0, 371.0, 372.0, 373.0, 374.0, 375.0, 376.0, 377.0, 378.0, 379.0, 380.0, 381.0, 382.0, 383.0, 384.0, 385.0, 386.0, 387.0, 388.0, 389.0, 390.0, 391.0, 392.0, 393.0, 394.0, 395.0, 396.0, 397.0, 398.0, 399.0, 400.0, 401.0, 402.0, 403.0, 404.0, 405.0, 406.0, 407.0, 408.0, 409.0, 410.0, 411.0, 412.0, 413.0, 414.0, 415.0, 416.0, 417.0, 418.0, 419.0, 420.0, 421.0, 422.0, 423.0, 424.0, 425.0, 426.0, 427.0, 428.0, 429.0, 430.0, 431.0, 432.0, 433.0, 434.0, 435.0, 436.0, 437.0, 438.0, 439.0, 440.0, 441.0, 442.0, 443.0, 444.0, 445.0, 446.0, 447.0, 448.0, 449.0, 450.0, 451.0, 452.0, 453.0, 454.0, 455.0, 456.0, 457.0, 458.0, 459.0, 460.0, 461.0, 462.0, 463.0, 464.0, 465.0, 466.0, 467.0, 468.0, 469.0, 470.0, 471.0, 472.0, 473.0, 474.0, 475.0, 476.0, 477.0, 478.0, 479.0, 480.0, 481.0, 482.0, 483.0, 484.0, 485.0, 486.0, 487.0, 488.0, 489.0, 490.0, 491.0, 492.0, 493.0, 494.0, 495.0, 496.0, 497.0, 498.0, 499.0, 500.0, 501.0, 502.0, 503.0, 504.0, 505.0, 506.0, 507.0, 508.0, 509.0, 510.0, 511.0, 512.0, 513.0, 514.0, 515.0, 516.0, 517.0, 518.0, 519.0, 520.0, 521.0, 522.0, 523.0, 524.0, 525.0, 526.0, 527.0, 528.0, 529.0, 530.0, 531.0, 532.0, 533.0, 534.0, 535.0, 536.0, 537.0, 538.0, 539.0, 540.0, 541.0, 542.0, 543.0, 544.0, 545.0, 546.0, 547.0, 548.0, 549.0, 550.0, 551.0, 552.0, 553.0, 554.0, 555.0, 556.0, 557.0, 558.0, 559.0, 560.0, 561.0, 562.0, 563.0, 564.0, 565.0, 566.0, 567.0, 568.0, 569.0, 570.0, 571.0, 572.0, 573.0, 574.0, 575.0, 576.0, 577.0, 578.0, 579.0, 580.0, 581.0, 582.0, 583.0, 584.0, 585.0, 586.0, 587.0, 588.0, 589.0, 590.0, 591.0, 592.0, 593.0, 594.0, 595.0, 596.0, 597.0, 598.0, 599.0, 600.0, 601.0, 602.0, 603.0, 604.0, 605.0, 606.0, 607.0, 608.0, 609.0, 610.0, 611.0, 612.0, 613.0, 614.0, 615.0, 616.0, 617.0, 618.0, 619.0, 620.0, 621.0, 622.0, 623.0, 624.0, 625.0, 626.0, 627.0, 628.0, 629.0, 630.0, 631.0, 632.0, 633.0, 634.0, 635.0, 636.0, 637.0, 638.0, 639.0, 640.0, 641.0, 642.0, 643.0, 644.0, 645.0, 646.0, 647.0, 648.0, 649.0, 650.0, 651.0, 652.0, 653.0, 654.0, 655.0, 656.0, 657.0, 658.0, 659.0, 660.0, 661.0, 662.0, 663.0, 664.0, 665.0, 666.0, 667.0, 668.0, 669.0, 670.0, 671.0, 672.0, 673.0, 674.0, 675.0, 676.0, 677.0, 678.0, 679.0, 680.0, 681.0, 682.0, 683.0, 684.0, 685.0, 686.0, 687.0, 688.0, 689.0, 690.0, 691.0, 692.0, 693.0, 694.0, 695.0, 696.0, 697.0, 698.0, 699.0, 700.0, 701.0, 702.0, 703.0, 704.0, 705.0, 706.0, 707.0, 708.0, 709.0, 710.0, 711.0, 712.0, 713.0, 714.0, 715.0, 716.0, 717.0, 718.0, 719.0, 720.0, 721.0, 722.0, 723.0, 724.0, 725.0, 726.0, 727.0, 728.0, 729.0, 730.0, 731.0, 732.0, 733.0, 734.0, 735.0, 736.0, 737.0, 738.0, 739.0, 740.0, 741.0, 742.0, 743.0, 744.0, 745.0, 746.0, 747.0, 748.0, 749.0, 750.0, 751.0, 752.0, 753.0, 754.0, 755.0, 756.0, 757.0, 758.0, 759.0, 760.0, 761.0, 762.0, 763.0, 764.0, 765.0, 766.0, 767.0, 768.0, 769.0, 770.0, 771.0, 772.0, 773.0, 774.0, 775.0, 776.0, 777.0, 778.0, 779.0, 780.0, 781.0, 782.0, 783.0, 784.0, 785.0, 786.0, 787.0, 788.0, 789.0, 790.0, 791.0, 792.0, 793.0, 794.0, 795.0, 796.0, 797.0, 798.0, 799.0, 800.0, 801.0, 802.0, 803.0, 804.0, 805.0, 806.0, 807.0, 808.0, 809.0, 810.0, 811.0, 812.0, 813.0, 814.0, 815.0, 816.0, 817.0, 818.0, 819.0, 820.0, 821.0, 822.0, 823.0, 824.0, 825.0, 826.0, 827.0, 828.0, 829.0, 830.0, 831.0, 832.0, 833.0, 834.0, 835.0, 836.0, 837.0, 838.0, 839.0, 840.0, 841.0, 842.0, 843.0, 844.0, 845.0, 846.0, 847.0, 848.0, 849.0, 850.0, 851.0, 852.0, 853.0, 854.0, 855.0, 856.0, 857.0, 858.0, 859.0, 860.0, 861.0, 862.0, 863.0, 864.0, 865.0, 866.0, 867.0, 868.0, 869.0, 870.0, 871.0, 872.0, 873.0, 874.0, 875.0, 876.0, 877.0, 878.0, 879.0, 880.0, 881.0, 882.0, 883.0, 884.0, 885.0, 886.0, 887.0, 888.0, 889.0, 890.0, 891.0, 892.0, 893.0, 894.0, 895.0, 896.0, 897.0, 898.0, 899.0, 900.0, 901.0, 902.0, 903.0, 904.0, 905.0, 906.0, 907.0, 908.0, 909.0, 910.0, 911.0, 912.0, 913.0, 914.0, 915.0, 916.0, 917.0, 918.0, 919.0, 920.0, 921.0, 922.0, 923.0, 924.0, 925.0, 926.0, 927.0, 928.0, 929.0, 930.0, 931.0, 932.0, 933.0, 934.0, 935.0, 936.0, 937.0, 938.0, 939.0, 940.0, 941.0, 942.0, 943.0, 944.0, 945.0, 946.0, 947.0, 948.0, 949.0, 950.0, 951.0, 952.0, 953.0, 954.0, 955.0, 956.0, 957.0, 958.0, 959.0, 960.0, 961.0, 962.0, 963.0, 964.0, 965.0, 966.0, 967.0, 968.0, 969.0, 970.0, 971.0, 972.0, 973.0, 974.0, 975.0, 976.0, 977.0, 978.0, 979.0, 980.0, 981.0, 982.0, 983.0, 984.0, 985.0, 986.0, 987.0, 988.0, 989.0, 990.0, 991.0, 992.0, 993.0, 994.0, 995.0, 996.0, 997.0, 998.0, 999.0}\n"
     ]
    }
   ],
   "source": [
    "print(set(np.arange(1000, dtype=float))) #this will give a set of data from 0 to 1000 as float"
   ]
  },
  {
   "cell_type": "code",
   "execution_count": 35,
   "metadata": {},
   "outputs": [
    {
     "data": {
      "text/plain": [
       "{876.0}"
      ]
     },
     "execution_count": 35,
     "metadata": {},
     "output_type": "execute_result"
    }
   ],
   "source": [
    "set(np.arange(1000, dtype=float)).difference(geo['Altitude Moyenne'])\n",
    "# the set before difference gives all altitudes possible and less than 1000\n",
    "# we use \"difference\" to find the difference between the values in the set 1 to 1000 and the set \"Altitude moyenne\"\n",
    "# this will answer the question \"Pour quelle altitude inférieure à 1000 mètres n'y a-t-il aucune commune ?\""
   ]
  },
  {
   "cell_type": "code",
   "execution_count": 46,
   "metadata": {},
   "outputs": [
    {
     "data": {
      "text/plain": [
       "{876}"
      ]
     },
     "execution_count": 46,
     "metadata": {},
     "output_type": "execute_result"
    }
   ],
   "source": [
    "set(np.arange(1000)).difference(geo['Altitude Moyenne'])"
   ]
  },
  {
   "cell_type": "code",
   "execution_count": 47,
   "metadata": {},
   "outputs": [
    {
     "ename": "AttributeError",
     "evalue": "'numpy.ndarray' object has no attribute 'difference'",
     "output_type": "error",
     "traceback": [
      "\u001b[0;31m---------------------------------------------------------------------------\u001b[0m",
      "\u001b[0;31mAttributeError\u001b[0m                            Traceback (most recent call last)",
      "\u001b[0;32m<ipython-input-47-bdb9311eff49>\u001b[0m in \u001b[0;36m<module>\u001b[0;34m\u001b[0m\n\u001b[0;32m----> 1\u001b[0;31m \u001b[0mnp\u001b[0m\u001b[0;34m.\u001b[0m\u001b[0marange\u001b[0m\u001b[0;34m(\u001b[0m\u001b[0;36m1000\u001b[0m\u001b[0;34m)\u001b[0m\u001b[0;34m.\u001b[0m\u001b[0mdifference\u001b[0m\u001b[0;34m(\u001b[0m\u001b[0mgeo\u001b[0m\u001b[0;34m[\u001b[0m\u001b[0;34m'Altitude Moyenne'\u001b[0m\u001b[0;34m]\u001b[0m\u001b[0;34m)\u001b[0m\u001b[0;34m\u001b[0m\u001b[0;34m\u001b[0m\u001b[0m\n\u001b[0m",
      "\u001b[0;31mAttributeError\u001b[0m: 'numpy.ndarray' object has no attribute 'difference'"
     ]
    }
   ],
   "source": [
    "np.arange(1000).difference(geo['Altitude Moyenne'])"
   ]
  },
  {
   "cell_type": "code",
   "execution_count": 75,
   "metadata": {},
   "outputs": [
    {
     "data": {
      "text/plain": [
       "115.0     166\n",
       "131.0     163\n",
       "98.0      150\n",
       "121.0     150\n",
       "127.0     149\n",
       "95.0      148\n",
       "132.0     147\n",
       "135.0     147\n",
       "         ... \n",
       "1094.0      1\n",
       "1236.0      1\n",
       "1559.0      1\n",
       "1563.0      1\n",
       "1424.0      1\n",
       "1190.0      1\n",
       "1598.0      1\n",
       "1647.0      1\n",
       "Name: Altitude Moyenne, Length: 1652, dtype: int64"
      ]
     },
     "execution_count": 75,
     "metadata": {},
     "output_type": "execute_result"
    }
   ],
   "source": [
    "geo['Altitude Moyenne']"
   ]
  },
  {
   "cell_type": "code",
   "execution_count": 50,
   "metadata": {
    "scrolled": false
   },
   "outputs": [
    {
     "data": {
      "text/plain": [
       "PAS-DE-CALAIS        895\n",
       "AISNE                816\n",
       "SOMME                782\n",
       "SEINE-MARITIME       744\n",
       "MOSELLE              730\n",
       "COTE-D'OR            706\n",
       "CALVADOS             706\n",
       "OISE                 693\n",
       "                    ... \n",
       "SEINE-SAINT-DENIS     40\n",
       "HAUTS-DE-SEINE        36\n",
       "MARTINIQUE            34\n",
       "GUADELOUPE            32\n",
       "REUNION               24\n",
       "GUYANE                22\n",
       "PARIS                 20\n",
       "MAYOTTE               17\n",
       "Name: Département, Length: 101, dtype: int64"
      ]
     },
     "execution_count": 50,
     "metadata": {},
     "output_type": "execute_result"
    }
   ],
   "source": [
    "# nombre de communes par département\n",
    "geo[\"Département\"].value_counts() #it's a function used to get Series containing counts of unique values"
   ]
  },
  {
   "cell_type": "code",
   "execution_count": 51,
   "metadata": {
    "scrolled": false
   },
   "outputs": [
    {
     "data": {
      "text/plain": [
       "pandas.core.series.Series"
      ]
     },
     "execution_count": 51,
     "metadata": {},
     "output_type": "execute_result"
    }
   ],
   "source": [
    "s2 = geo[\"Département\"].value_counts()\n",
    "type(s2)"
   ]
  },
  {
   "cell_type": "code",
   "execution_count": 52,
   "metadata": {
    "scrolled": false
   },
   "outputs": [
    {
     "data": {
      "text/plain": [
       "Index(['PAS-DE-CALAIS', 'AISNE', 'SOMME', 'SEINE-MARITIME', 'MOSELLE',\n",
       "       'COTE-D'OR', 'CALVADOS', 'OISE', 'EURE', 'NORD',\n",
       "       ...\n",
       "       'TERRITOIRE DE BELFORT', 'VAL-DE-MARNE', 'SEINE-SAINT-DENIS',\n",
       "       'HAUTS-DE-SEINE', 'MARTINIQUE', 'GUADELOUPE', 'REUNION', 'GUYANE',\n",
       "       'PARIS', 'MAYOTTE'],\n",
       "      dtype='object', length=101)"
      ]
     },
     "execution_count": 52,
     "metadata": {},
     "output_type": "execute_result"
    }
   ],
   "source": [
    "# l'index est composé des valeurs uniques de l'objet Series initial\n",
    "s2.index"
   ]
  },
  {
   "cell_type": "code",
   "execution_count": 53,
   "metadata": {},
   "outputs": [
    {
     "data": {
      "text/plain": [
       "True"
      ]
     },
     "execution_count": 53,
     "metadata": {},
     "output_type": "execute_result"
    }
   ],
   "source": [
    "s2.index.is_unique"
   ]
  },
  {
   "cell_type": "code",
   "execution_count": 54,
   "metadata": {
    "scrolled": false
   },
   "outputs": [
    {
     "data": {
      "text/plain": [
       "array([895, 816, 782, 744, 730, 706, 706, 693, 675, 650, 620, 601, 594,\n",
       "       594, 589, 573, 557, 547, 545, 544, 542, 533, 527, 515, 514, 505,\n",
       "       500, 474, 472, 470, 463, 463, 455, 438, 438, 433, 419, 404, 402,\n",
       "       377, 375, 373, 369, 363, 353, 353, 343, 340, 339, 334, 332, 331,\n",
       "       327, 323, 320, 319, 312, 305, 305, 304, 301, 294, 291, 290, 286,\n",
       "       283, 282, 281, 277, 262, 261, 261, 260, 260, 260, 247, 236, 226,\n",
       "       221, 201, 200, 196, 195, 185, 185, 177, 163, 153, 151, 134, 124,\n",
       "       102,  47,  40,  36,  34,  32,  24,  22,  20,  17])"
      ]
     },
     "execution_count": 54,
     "metadata": {},
     "output_type": "execute_result"
    }
   ],
   "source": [
    "# les valeurs sont les nombres d'occurences des valeurs uniques de l'objet Series initial\n",
    "s2.values"
   ]
  },
  {
   "cell_type": "markdown",
   "metadata": {},
   "source": [
    "**Exercice 2**\n",
    "\n",
    "- Donner le décompte des différents statuts des communes.\n",
    "- Quels sont les 10 noms de communes les plus fréquents ?\n",
    "- En français, le nom de famille le plus fréquent est *Martin*, mais quel est le nom de commune le plus fréquent ?"
   ]
  },
  {
   "cell_type": "code",
   "execution_count": 43,
   "metadata": {},
   "outputs": [
    {
     "data": {
      "text/plain": [
       "Commune simple          33421\n",
       "Chef-lieu canton         2980\n",
       "Sous-préfecture           240\n",
       "Préfecture                 74\n",
       "Préfecture de région       26\n",
       "Capitale d'état             1\n",
       "Name: Statut, dtype: int64"
      ]
     },
     "execution_count": 43,
     "metadata": {},
     "output_type": "execute_result"
    }
   ],
   "source": [
    "geo['Statut'].value_counts()"
   ]
  },
  {
   "cell_type": "code",
   "execution_count": 64,
   "metadata": {},
   "outputs": [
    {
     "data": {
      "text/plain": [
       "SAINTE-COLOMBE    14\n",
       "SAINT-SAUVEUR     12\n",
       "BEAULIEU          11\n",
       "SAINTE-MARIE      11\n",
       "SAINT-AUBIN       10\n",
       "SAINT-LOUP        10\n",
       "LE PIN            10\n",
       "SAINT-SULPICE     10\n",
       "SAINT-REMY        10\n",
       "SAINT-MICHEL       9\n",
       "Name: Commune, dtype: int64"
      ]
     },
     "execution_count": 64,
     "metadata": {},
     "output_type": "execute_result"
    }
   ],
   "source": [
    "geo['Commune'].value_counts().head(10) #by default the parameter sort of value_count() is true and ascending is false"
   ]
  },
  {
   "cell_type": "code",
   "execution_count": 56,
   "metadata": {},
   "outputs": [
    {
     "data": {
      "text/plain": [
       "'Sainte-Colombe'"
      ]
     },
     "execution_count": 56,
     "metadata": {},
     "output_type": "execute_result"
    }
   ],
   "source": [
    "geo['Commune'].value_counts().index[0].title() "
   ]
  },
  {
   "cell_type": "code",
   "execution_count": 65,
   "metadata": {},
   "outputs": [],
   "source": [
    "s.value_counts?"
   ]
  },
  {
   "cell_type": "code",
   "execution_count": 67,
   "metadata": {},
   "outputs": [
    {
     "data": {
      "text/plain": [
       "64500.00000000001"
      ]
     },
     "execution_count": 67,
     "metadata": {},
     "output_type": "execute_result"
    }
   ],
   "source": [
    "# population précision limitée\n",
    "geo[\"Population\"].sum()"
   ]
  },
  {
   "cell_type": "code",
   "execution_count": 68,
   "metadata": {},
   "outputs": [
    {
     "data": {
      "text/plain": [
       "0.30000000000000004"
      ]
     },
     "execution_count": 68,
     "metadata": {},
     "output_type": "execute_result"
    }
   ],
   "source": [
    "0.1 + 0.1 + 0.1"
   ]
  },
  {
   "cell_type": "code",
   "execution_count": 69,
   "metadata": {},
   "outputs": [
    {
     "data": {
      "text/plain": [
       "0.0"
      ]
     },
     "execution_count": 69,
     "metadata": {},
     "output_type": "execute_result"
    }
   ],
   "source": [
    "# min\n",
    "geo['Altitude Moyenne'].min()"
   ]
  },
  {
   "cell_type": "code",
   "execution_count": 54,
   "metadata": {},
   "outputs": [
    {
     "data": {
      "text/plain": [
       "25402"
      ]
     },
     "execution_count": 54,
     "metadata": {},
     "output_type": "execute_result"
    }
   ],
   "source": [
    "# index du min\n",
    "geo['Altitude Moyenne'].idxmin()"
   ]
  },
  {
   "cell_type": "code",
   "execution_count": 55,
   "metadata": {},
   "outputs": [
    {
     "data": {
      "text/plain": [
       "2713.0"
      ]
     },
     "execution_count": 55,
     "metadata": {},
     "output_type": "execute_result"
    }
   ],
   "source": [
    "# max\n",
    "geo['Altitude Moyenne'].max()"
   ]
  },
  {
   "cell_type": "code",
   "execution_count": 56,
   "metadata": {},
   "outputs": [
    {
     "data": {
      "text/plain": [
       "6414"
      ]
     },
     "execution_count": 56,
     "metadata": {},
     "output_type": "execute_result"
    }
   ],
   "source": [
    "# index du max\n",
    "geo['Altitude Moyenne'].idxmax()"
   ]
  },
  {
   "cell_type": "code",
   "execution_count": 78,
   "metadata": {},
   "outputs": [
    {
     "data": {
      "text/plain": [
       "0        1600.0\n",
       "1         100.0\n",
       "2         400.0\n",
       "3         800.0\n",
       "4        7600.0\n",
       "5         400.0\n",
       "6         700.0\n",
       "7         900.0\n",
       "          ...  \n",
       "36734     100.0\n",
       "36735     700.0\n",
       "36736     100.0\n",
       "36737     200.0\n",
       "36738     700.0\n",
       "36739    1500.0\n",
       "36740     800.0\n",
       "36741    1000.0\n",
       "Name: Population, Length: 36742, dtype: float64"
      ]
     },
     "execution_count": 78,
     "metadata": {},
     "output_type": "execute_result"
    }
   ],
   "source": [
    "# opération avec un scalaire\n",
    "geo[\"Population\"] * 1000"
   ]
  },
  {
   "cell_type": "code",
   "execution_count": 79,
   "metadata": {},
   "outputs": [
    {
     "data": {
      "text/plain": [
       "0        False\n",
       "1        False\n",
       "2        False\n",
       "3        False\n",
       "4         True\n",
       "5        False\n",
       "6         True\n",
       "7        False\n",
       "         ...  \n",
       "36734    False\n",
       "36735    False\n",
       "36736    False\n",
       "36737    False\n",
       "36738    False\n",
       "36739    False\n",
       "36740    False\n",
       "36741    False\n",
       "Name: Altitude Moyenne, Length: 36742, dtype: bool"
      ]
     },
     "execution_count": 79,
     "metadata": {},
     "output_type": "execute_result"
    }
   ],
   "source": [
    "# comparaison\n",
    "geo['Altitude Moyenne'] == 49"
   ]
  },
  {
   "cell_type": "code",
   "execution_count": 80,
   "metadata": {
    "scrolled": false
   },
   "outputs": [
    {
     "data": {
      "text/plain": [
       "0        False\n",
       "1        False\n",
       "2        False\n",
       "3        False\n",
       "4         True\n",
       "5         True\n",
       "6         True\n",
       "7        False\n",
       "         ...  \n",
       "36734    False\n",
       "36735    False\n",
       "36736    False\n",
       "36737    False\n",
       "36738    False\n",
       "36739    False\n",
       "36740    False\n",
       "36741    False\n",
       "Name: Altitude Moyenne, Length: 36742, dtype: bool"
      ]
     },
     "execution_count": 80,
     "metadata": {},
     "output_type": "execute_result"
    }
   ],
   "source": [
    "# exemple : appartenance à une liste de valeurs\n",
    "geo[\"Altitude Moyenne\"].isin([49.0, 59.0])"
   ]
  },
  {
   "cell_type": "code",
   "execution_count": 82,
   "metadata": {},
   "outputs": [
    {
     "data": {
      "text/plain": [
       "0            1.6\n",
       "1            1.7\n",
       "2            2.1\n",
       "3            2.9\n",
       "4           10.5\n",
       "5           10.9\n",
       "6           11.6\n",
       "7           12.5\n",
       "          ...   \n",
       "36734    64495.0\n",
       "36735    64495.7\n",
       "36736    64495.8\n",
       "36737    64496.0\n",
       "36738    64496.7\n",
       "36739    64498.2\n",
       "36740    64499.0\n",
       "36741    64500.0\n",
       "Name: Population, Length: 36742, dtype: float64"
      ]
     },
     "execution_count": 82,
     "metadata": {},
     "output_type": "execute_result"
    }
   ],
   "source": [
    "# somme cumulée population\n",
    "geo[\"Population\"].cumsum()"
   ]
  },
  {
   "cell_type": "code",
   "execution_count": 65,
   "metadata": {},
   "outputs": [
    {
     "data": {
      "text/plain": [
       "0          1.6\n",
       "1          1.6\n",
       "2          1.6\n",
       "3          1.6\n",
       "4          7.6\n",
       "5          7.6\n",
       "6          7.6\n",
       "7          7.6\n",
       "         ...  \n",
       "36734    440.2\n",
       "36735    440.2\n",
       "36736    440.2\n",
       "36737    440.2\n",
       "36738    440.2\n",
       "36739    440.2\n",
       "36740    440.2\n",
       "36741    440.2\n",
       "Name: Population, Length: 36742, dtype: float64"
      ]
     },
     "execution_count": 65,
     "metadata": {},
     "output_type": "execute_result"
    }
   ],
   "source": [
    "# somme cumulée population\n",
    "geo[\"Population\"].cummax()"
   ]
  },
  {
   "cell_type": "code",
   "execution_count": 62,
   "metadata": {},
   "outputs": [
    {
     "data": {
      "text/plain": [
       "0        1.600000\n",
       "1        0.160000\n",
       "2        0.064000\n",
       "3        0.051200\n",
       "4        0.389120\n",
       "5        0.155648\n",
       "6        0.108954\n",
       "7        0.098058\n",
       "           ...   \n",
       "36734    0.000000\n",
       "36735    0.000000\n",
       "36736    0.000000\n",
       "36737    0.000000\n",
       "36738    0.000000\n",
       "36739    0.000000\n",
       "36740    0.000000\n",
       "36741    0.000000\n",
       "Name: Population, Length: 36742, dtype: float64"
      ]
     },
     "execution_count": 62,
     "metadata": {},
     "output_type": "execute_result"
    }
   ],
   "source": [
    "# somme cumulée population\n",
    "geo[\"Population\"].cumprod() # précision limitée"
   ]
  },
  {
   "cell_type": "code",
   "execution_count": 63,
   "metadata": {},
   "outputs": [
    {
     "data": {
      "text/plain": [
       "0           2470\n",
       "1        5992220\n",
       "2      157252164\n",
       "3     2052367284\n",
       "4     -327003480\n",
       "5     1410329672\n",
       "6     -486988160\n",
       "7     1549545472\n",
       "8     1691344896\n",
       "9    -1962000384\n",
       "10    1508655104\n",
       "11   -2069381120\n",
       "12    -481804288\n",
       "13    -699777024\n",
       "14   -2111242240\n",
       "15   -1188888576\n",
       "16     776863744\n",
       "17   -1357381632\n",
       "18   -1705508864\n",
       "19    2099773440\n",
       "Name: Superficie, dtype: int32"
      ]
     },
     "execution_count": 63,
     "metadata": {},
     "output_type": "execute_result"
    }
   ],
   "source": [
    "# produit cumulé population\n",
    "geo[\"Superficie\"].astype(int).cumprod().head(20)"
   ]
  },
  {
   "cell_type": "code",
   "execution_count": 66,
   "metadata": {
    "scrolled": false
   },
   "outputs": [
    {
     "data": {
      "text/plain": [
       "0        0.000648\n",
       "1        0.000041\n",
       "2        0.000538\n",
       "3        0.000294\n",
       "4        0.007294\n",
       "5        0.000653\n",
       "6        0.000104\n",
       "7        0.000356\n",
       "           ...   \n",
       "36734    0.000082\n",
       "36735    0.000559\n",
       "36736    0.000130\n",
       "36737    0.000623\n",
       "36738    0.000966\n",
       "36739    0.001473\n",
       "36740    0.009302\n",
       "36741    0.000450\n",
       "Length: 36742, dtype: float64"
      ]
     },
     "execution_count": 66,
     "metadata": {},
     "output_type": "execute_result"
    }
   ],
   "source": [
    "# exemple : calcul de la densité en divisant la population par la superficie\n",
    "geo[\"Population\"] / geo[\"Superficie\"]"
   ]
  },
  {
   "cell_type": "code",
   "execution_count": 68,
   "metadata": {},
   "outputs": [
    {
     "data": {
      "text/plain": [
       "a    2.0\n",
       "b    4.0\n",
       "c    NaN\n",
       "d    NaN\n",
       "dtype: float64"
      ]
     },
     "execution_count": 68,
     "metadata": {},
     "output_type": "execute_result"
    }
   ],
   "source": [
    "s1 = pd.Series([1, 2, 3], index=['a', 'b', 'c'])\n",
    "s2 = pd.Series([1, 2, 3], index=['a', 'b', 'd'])\n",
    "s1+s2"
   ]
  },
  {
   "cell_type": "code",
   "execution_count": 69,
   "metadata": {},
   "outputs": [
    {
     "data": {
      "text/plain": [
       "0         True\n",
       "1        False\n",
       "2         True\n",
       "3        False\n",
       "4        False\n",
       "5        False\n",
       "6        False\n",
       "7        False\n",
       "         ...  \n",
       "36734     True\n",
       "36735    False\n",
       "36736     True\n",
       "36737    False\n",
       "36738    False\n",
       "36739    False\n",
       "36740     True\n",
       "36741    False\n",
       "Name: Commune, Length: 36742, dtype: bool"
      ]
     },
     "execution_count": 69,
     "metadata": {},
     "output_type": "execute_result"
    }
   ],
   "source": [
    "# startswith\n",
    "geo[\"Commune\"].str.startswith(\"B\")"
   ]
  },
  {
   "cell_type": "code",
   "execution_count": 70,
   "metadata": {},
   "outputs": [
    {
     "data": {
      "text/plain": [
       "0                Boulogne-sur-gesse\n",
       "1                           Feuilla\n",
       "2                        Bessamorel\n",
       "3                Prunay-en-yvelines\n",
       "4              Morieres-les-avignon\n",
       "5                    Lamotte-buleux\n",
       "6                           Moustey\n",
       "7            Saint-saturnin-du-bois\n",
       "                    ...            \n",
       "36734                       Brageac\n",
       "36735                       Ancourt\n",
       "36736                     Bussiares\n",
       "36737                     Chavannaz\n",
       "36738    Neewiller-pres-lauterbourg\n",
       "36739       Lachapelle-sous-aubenas\n",
       "36740                Bage-le-chatel\n",
       "36741                  Guilberville\n",
       "Name: Commune, Length: 36742, dtype: object"
      ]
     },
     "execution_count": 70,
     "metadata": {},
     "output_type": "execute_result"
    }
   ],
   "source": [
    "geo[\"Commune\"].str.capitalize()"
   ]
  },
  {
   "cell_type": "code",
   "execution_count": 71,
   "metadata": {},
   "outputs": [
    {
     "data": {
      "text/plain": [
       "0                Boulogne-Sur-Gesse\n",
       "1                           Feuilla\n",
       "2                        Bessamorel\n",
       "3                Prunay-En-Yvelines\n",
       "4              Morieres-Les-Avignon\n",
       "5                    Lamotte-Buleux\n",
       "6                           Moustey\n",
       "7            Saint-Saturnin-Du-Bois\n",
       "                    ...            \n",
       "36734                       Brageac\n",
       "36735                       Ancourt\n",
       "36736                     Bussiares\n",
       "36737                     Chavannaz\n",
       "36738    Neewiller-Pres-Lauterbourg\n",
       "36739       Lachapelle-Sous-Aubenas\n",
       "36740                Bage-Le-Chatel\n",
       "36741                  Guilberville\n",
       "Name: Commune, Length: 36742, dtype: object"
      ]
     },
     "execution_count": 71,
     "metadata": {},
     "output_type": "execute_result"
    }
   ],
   "source": [
    "geo[\"Commune\"].str.title() #Make the first letter in each word upper case"
   ]
  },
  {
   "cell_type": "code",
   "execution_count": 72,
   "metadata": {},
   "outputs": [
    {
     "data": {
      "text/plain": [
       "0        B\n",
       "1        F\n",
       "2        B\n",
       "3        P\n",
       "4        M\n",
       "5        L\n",
       "6        M\n",
       "7        S\n",
       "        ..\n",
       "36734    B\n",
       "36735    A\n",
       "36736    B\n",
       "36737    C\n",
       "36738    N\n",
       "36739    L\n",
       "36740    B\n",
       "36741    G\n",
       "Name: Commune, Length: 36742, dtype: object"
      ]
     },
     "execution_count": 72,
     "metadata": {},
     "output_type": "execute_result"
    }
   ],
   "source": [
    "geo[\"Commune\"].str[0]"
   ]
  },
  {
   "cell_type": "markdown",
   "metadata": {},
   "source": [
    "**Exercice 3**\n",
    "\n",
    "- Calculez le minimum et le maximum des longueurs des noms des communes.\n",
    "- Donnez le décompte des longueurs de noms des communes.\n",
    "- Quelle est la commune dont le nom est le plus long ?"
   ]
  },
  {
   "cell_type": "code",
   "execution_count": 75,
   "metadata": {},
   "outputs": [
    {
     "data": {
      "text/plain": [
       "1"
      ]
     },
     "execution_count": 75,
     "metadata": {},
     "output_type": "execute_result"
    }
   ],
   "source": [
    "geo['Commune'].str.len().min()"
   ]
  },
  {
   "cell_type": "code",
   "execution_count": 76,
   "metadata": {},
   "outputs": [
    {
     "data": {
      "text/plain": [
       "45"
      ]
     },
     "execution_count": 76,
     "metadata": {},
     "output_type": "execute_result"
    }
   ],
   "source": [
    "geo['Commune'].str.len().max()"
   ]
  },
  {
   "cell_type": "code",
   "execution_count": 77,
   "metadata": {},
   "outputs": [
    {
     "data": {
      "text/plain": [
       "8     3919\n",
       "7     3883\n",
       "6     3393\n",
       "9     3193\n",
       "10    2675\n",
       "5     2084\n",
       "11    1993\n",
       "12    1505\n",
       "13    1235\n",
       "18    1230\n",
       "16    1209\n",
       "17    1177\n",
       "19    1158\n",
       "15    1152\n",
       "20    1041\n",
       "14    1035\n",
       "21     981\n",
       "22     841\n",
       "4      757\n",
       "23     699\n",
       "24     546\n",
       "25     346\n",
       "26     217\n",
       "3      159\n",
       "27     107\n",
       "29      66\n",
       "28      54\n",
       "30      23\n",
       "2       15\n",
       "31      10\n",
       "32       9\n",
       "35       7\n",
       "40       4\n",
       "34       4\n",
       "38       3\n",
       "41       2\n",
       "37       2\n",
       "36       2\n",
       "33       2\n",
       "45       1\n",
       "44       1\n",
       "1        1\n",
       "43       1\n",
       "Name: Commune, dtype: int64"
      ]
     },
     "execution_count": 77,
     "metadata": {},
     "output_type": "execute_result"
    }
   ],
   "source": [
    "geo['Commune'].str.len().value_counts()"
   ]
  },
  {
   "cell_type": "markdown",
   "metadata": {},
   "source": [
    "#### méthode apply()"
   ]
  },
  {
   "cell_type": "code",
   "execution_count": 83,
   "metadata": {
    "scrolled": false
   },
   "outputs": [
    {
     "data": {
      "text/plain": [
       "0        2470.0\n",
       "1        2426.0\n",
       "2         743.0\n",
       "3        2717.0\n",
       "4        1042.0\n",
       "5         613.0\n",
       "6        6736.0\n",
       "7        2528.0\n",
       "          ...  \n",
       "36734    1222.0\n",
       "36735    1252.0\n",
       "36736     769.0\n",
       "36737     321.0\n",
       "36738     725.0\n",
       "36739    1018.0\n",
       "36740      86.0\n",
       "36741    2224.0\n",
       "Name: Superficie, Length: 36742, dtype: float64"
      ]
     },
     "execution_count": 83,
     "metadata": {},
     "output_type": "execute_result"
    }
   ],
   "source": [
    "# series\n",
    "s = geo[\"Superficie\"]\n",
    "s"
   ]
  },
  {
   "cell_type": "code",
   "execution_count": 79,
   "metadata": {
    "scrolled": false
   },
   "outputs": [
    {
     "data": {
      "text/plain": [
       "0        49.699095\n",
       "1        49.254441\n",
       "2        27.258026\n",
       "3        52.124850\n",
       "4        32.280025\n",
       "5        24.758837\n",
       "6        82.073138\n",
       "7        50.279220\n",
       "           ...    \n",
       "36734    34.957117\n",
       "36735    35.383612\n",
       "36736    27.730849\n",
       "36737    17.916473\n",
       "36738    26.925824\n",
       "36739    31.906112\n",
       "36740     9.273618\n",
       "36741    47.159304\n",
       "Name: Superficie, Length: 36742, dtype: float64"
      ]
     },
     "execution_count": 79,
     "metadata": {},
     "output_type": "execute_result"
    }
   ],
   "source": [
    "# côtés des carrés de surface équivalente\n",
    "s.apply(np.sqrt)"
   ]
  },
  {
   "cell_type": "code",
   "execution_count": 84,
   "metadata": {},
   "outputs": [
    {
     "data": {
      "text/plain": [
       "1.7841241161527712"
      ]
     },
     "execution_count": 84,
     "metadata": {},
     "output_type": "execute_result"
    }
   ],
   "source": [
    "# rayons des cercles de surface équivalente\n",
    "# fonction standard\n",
    "def rayon(surface):\n",
    "    rayon = np.sqrt(surface / np.pi)\n",
    "    return rayon\n",
    "\n",
    "rayon(10)"
   ]
  },
  {
   "cell_type": "code",
   "execution_count": 81,
   "metadata": {},
   "outputs": [
    {
     "data": {
      "text/plain": [
       "0        28.039711\n",
       "1        27.788843\n",
       "2        15.378695\n",
       "3        29.408297\n",
       "4        18.212054\n",
       "5        13.968678\n",
       "6        46.304810\n",
       "7        28.367012\n",
       "           ...    \n",
       "36734    19.722441\n",
       "36735    19.963065\n",
       "36736    15.645456\n",
       "36737    10.108287\n",
       "36738    15.191269\n",
       "36739    18.001096\n",
       "36740     5.232079\n",
       "36741    26.606788\n",
       "Name: Superficie, Length: 36742, dtype: float64"
      ]
     },
     "execution_count": 81,
     "metadata": {},
     "output_type": "execute_result"
    }
   ],
   "source": [
    "# rayons des cercles de surface équivalente\n",
    "# fonction standard\n",
    "s.apply(rayon)"
   ]
  },
  {
   "cell_type": "code",
   "execution_count": 82,
   "metadata": {
    "scrolled": false
   },
   "outputs": [
    {
     "data": {
      "text/plain": [
       "0        28.039711\n",
       "1        27.788843\n",
       "2        15.378695\n",
       "3        29.408297\n",
       "4        18.212054\n",
       "5        13.968678\n",
       "6        46.304810\n",
       "7        28.367012\n",
       "           ...    \n",
       "36734    19.722441\n",
       "36735    19.963065\n",
       "36736    15.645456\n",
       "36737    10.108287\n",
       "36738    15.191269\n",
       "36739    18.001096\n",
       "36740     5.232079\n",
       "36741    26.606788\n",
       "Name: Superficie, Length: 36742, dtype: float64"
      ]
     },
     "execution_count": 82,
     "metadata": {},
     "output_type": "execute_result"
    }
   ],
   "source": [
    "# rayons des cercles de surface équivalente\n",
    "# lambda\n",
    "s.apply(lambda x: np.sqrt(x / np.pi))   # ?????"
   ]
  },
  {
   "cell_type": "markdown",
   "metadata": {},
   "source": [
    "**map()**"
   ]
  },
  {
   "cell_type": "code",
   "execution_count": 85,
   "metadata": {},
   "outputs": [
    {
     "data": {
      "text/plain": [
       "array(['Chef-lieu canton', 'Commune simple', 'Sous-préfecture',\n",
       "       'Préfecture', 'Préfecture de région', \"Capitale d'état\"],\n",
       "      dtype=object)"
      ]
     },
     "execution_count": 85,
     "metadata": {},
     "output_type": "execute_result"
    }
   ],
   "source": [
    "geo['Statut'].unique()"
   ]
  },
  {
   "cell_type": "code",
   "execution_count": 87,
   "metadata": {},
   "outputs": [
    {
     "data": {
      "text/plain": [
       "0        CLC\n",
       "1         CS\n",
       "2         CS\n",
       "3         CS\n",
       "4         CS\n",
       "5         CS\n",
       "6         CS\n",
       "7         CS\n",
       "        ... \n",
       "36734     CS\n",
       "36735     CS\n",
       "36736     CS\n",
       "36737     CS\n",
       "36738     CS\n",
       "36739     CS\n",
       "36740    CLC\n",
       "36741     CS\n",
       "Name: Statut, Length: 36742, dtype: object"
      ]
     },
     "execution_count": 87,
     "metadata": {},
     "output_type": "execute_result"
    }
   ],
   "source": [
    "# dico\n",
    "dico = {'Chef-lieu canton': 'CLC', 'Commune simple': 'CS', 'Sous-préfecture': 'SP',\n",
    "       'Préfecture': 'P', 'Préfecture de région': 'PR', \"Capitale d'état\": 'CDE'}\n",
    "geo['Statut'].map(dico)"
   ]
  },
  {
   "cell_type": "code",
   "execution_count": 91,
   "metadata": {},
   "outputs": [
    {
     "name": "stdout",
     "output_type": "stream",
     "text": [
      "Chef-lieu canton        CLC\n",
      "Commune simple           CS\n",
      "Sous-préfecture          SP\n",
      "Préfecture                P\n",
      "Préfecture de région     PR\n",
      "Capitale d'état         CDE\n",
      "dtype: object\n"
     ]
    },
    {
     "data": {
      "text/plain": [
       "0        CLC\n",
       "1         CS\n",
       "2         CS\n",
       "3         CS\n",
       "4         CS\n",
       "5         CS\n",
       "6         CS\n",
       "7         CS\n",
       "        ... \n",
       "36734     CS\n",
       "36735     CS\n",
       "36736     CS\n",
       "36737     CS\n",
       "36738     CS\n",
       "36739     CS\n",
       "36740    CLC\n",
       "36741     CS\n",
       "Name: Statut, Length: 36742, dtype: object"
      ]
     },
     "execution_count": 91,
     "metadata": {},
     "output_type": "execute_result"
    }
   ],
   "source": [
    "# série\n",
    "dico = {'Chef-lieu canton': 'CLC', 'Commune simple': 'CS', 'Sous-préfecture': 'SP',\n",
    "       'Préfecture': 'P', 'Préfecture de région': 'PR', \"Capitale d'état\": 'CDE'}\n",
    "s = pd.Series(dico)\n",
    "print(s)\n",
    "geo['Statut'].map(s)"
   ]
  },
  {
   "cell_type": "markdown",
   "metadata": {},
   "source": [
    "**combine()**"
   ]
  },
  {
   "cell_type": "code",
   "execution_count": 90,
   "metadata": {},
   "outputs": [
    {
     "name": "stdout",
     "output_type": "stream",
     "text": [
      "8.75 ms ± 672 µs per loop (mean ± std. dev. of 7 runs, 100 loops each)\n"
     ]
    }
   ],
   "source": [
    "%timeit geo['Commune'] + '***' + geo['Département']  ## ????"
   ]
  },
  {
   "cell_type": "code",
   "execution_count": 91,
   "metadata": {},
   "outputs": [
    {
     "name": "stdout",
     "output_type": "stream",
     "text": [
      "493 ms ± 25.7 ms per loop (mean ± std. dev. of 7 runs, 1 loop each)\n"
     ]
    }
   ],
   "source": [
    "# combine lent !\n",
    "%timeit geo['Commune'].combine(geo['Département'], lambda x, y: x + '***' + y)  # ????"
   ]
  },
  {
   "cell_type": "markdown",
   "metadata": {},
   "source": [
    "## DataFrame"
   ]
  },
  {
   "cell_type": "code",
   "execution_count": 92,
   "metadata": {
    "scrolled": false
   },
   "outputs": [
    {
     "data": {
      "text/plain": [
       "pandas.core.frame.DataFrame"
      ]
     },
     "execution_count": 92,
     "metadata": {},
     "output_type": "execute_result"
    }
   ],
   "source": [
    "# type de l'objet\n",
    "type(geo)"
   ]
  },
  {
   "cell_type": "code",
   "execution_count": 93,
   "metadata": {},
   "outputs": [
    {
     "data": {
      "text/html": [
       "<div>\n",
       "<style scoped>\n",
       "    .dataframe tbody tr th:only-of-type {\n",
       "        vertical-align: middle;\n",
       "    }\n",
       "\n",
       "    .dataframe tbody tr th {\n",
       "        vertical-align: top;\n",
       "    }\n",
       "\n",
       "    .dataframe thead th {\n",
       "        text-align: right;\n",
       "    }\n",
       "</style>\n",
       "<table border=\"1\" class=\"dataframe\">\n",
       "  <thead>\n",
       "    <tr style=\"text-align: right;\">\n",
       "      <th></th>\n",
       "      <th>Code INSEE</th>\n",
       "      <th>Code Postal</th>\n",
       "      <th>Commune</th>\n",
       "      <th>Département</th>\n",
       "      <th>Région</th>\n",
       "      <th>Statut</th>\n",
       "      <th>Altitude Moyenne</th>\n",
       "      <th>Superficie</th>\n",
       "      <th>Population</th>\n",
       "      <th>geo_point_2d</th>\n",
       "      <th>geo_shape</th>\n",
       "    </tr>\n",
       "  </thead>\n",
       "  <tbody>\n",
       "    <tr>\n",
       "      <th>0</th>\n",
       "      <td>31080</td>\n",
       "      <td>31350</td>\n",
       "      <td>BOULOGNE-SUR-GESSE</td>\n",
       "      <td>HAUTE-GARONNE</td>\n",
       "      <td>MIDI-PYRENEES</td>\n",
       "      <td>Chef-lieu canton</td>\n",
       "      <td>301.0</td>\n",
       "      <td>2470.0</td>\n",
       "      <td>1.6</td>\n",
       "      <td>43.2904403081, 0.650641474176</td>\n",
       "      <td>{\"type\": \"Polygon\", \"coordinates\": [[[0.671852...</td>\n",
       "    </tr>\n",
       "    <tr>\n",
       "      <th>1</th>\n",
       "      <td>11143</td>\n",
       "      <td>11510</td>\n",
       "      <td>FEUILLA</td>\n",
       "      <td>AUDE</td>\n",
       "      <td>LANGUEDOC-ROUSSILLON</td>\n",
       "      <td>Commune simple</td>\n",
       "      <td>314.0</td>\n",
       "      <td>2426.0</td>\n",
       "      <td>0.1</td>\n",
       "      <td>42.9291375888, 2.90138923544</td>\n",
       "      <td>{\"type\": \"Polygon\", \"coordinates\": [[[2.906996...</td>\n",
       "    </tr>\n",
       "    <tr>\n",
       "      <th>2</th>\n",
       "      <td>43028</td>\n",
       "      <td>43200</td>\n",
       "      <td>BESSAMOREL</td>\n",
       "      <td>HAUTE-LOIRE</td>\n",
       "      <td>AUVERGNE</td>\n",
       "      <td>Commune simple</td>\n",
       "      <td>888.0</td>\n",
       "      <td>743.0</td>\n",
       "      <td>0.4</td>\n",
       "      <td>45.1306448726, 4.07952494849</td>\n",
       "      <td>{\"type\": \"Polygon\", \"coordinates\": [[[4.091674...</td>\n",
       "    </tr>\n",
       "    <tr>\n",
       "      <th>3</th>\n",
       "      <td>78506</td>\n",
       "      <td>78660</td>\n",
       "      <td>PRUNAY-EN-YVELINES</td>\n",
       "      <td>YVELINES</td>\n",
       "      <td>ILE-DE-FRANCE</td>\n",
       "      <td>Commune simple</td>\n",
       "      <td>155.0</td>\n",
       "      <td>2717.0</td>\n",
       "      <td>0.8</td>\n",
       "      <td>48.5267627187, 1.80513972814</td>\n",
       "      <td>{\"type\": \"Polygon\", \"coordinates\": [[[1.829610...</td>\n",
       "    </tr>\n",
       "    <tr>\n",
       "      <th>4</th>\n",
       "      <td>84081</td>\n",
       "      <td>84310</td>\n",
       "      <td>MORIERES-LES-AVIGNON</td>\n",
       "      <td>VAUCLUSE</td>\n",
       "      <td>PROVENCE-ALPES-COTE D'AZUR</td>\n",
       "      <td>Commune simple</td>\n",
       "      <td>49.0</td>\n",
       "      <td>1042.0</td>\n",
       "      <td>7.6</td>\n",
       "      <td>43.9337788848, 4.90875878315</td>\n",
       "      <td>{\"type\": \"Polygon\", \"coordinates\": [[[4.927176...</td>\n",
       "    </tr>\n",
       "    <tr>\n",
       "      <th>5</th>\n",
       "      <td>80462</td>\n",
       "      <td>80150</td>\n",
       "      <td>LAMOTTE-BULEUX</td>\n",
       "      <td>SOMME</td>\n",
       "      <td>PICARDIE</td>\n",
       "      <td>Commune simple</td>\n",
       "      <td>59.0</td>\n",
       "      <td>613.0</td>\n",
       "      <td>0.4</td>\n",
       "      <td>50.1865666179, 1.83564836965</td>\n",
       "      <td>{\"type\": \"Polygon\", \"coordinates\": [[[1.849459...</td>\n",
       "    </tr>\n",
       "    <tr>\n",
       "      <th>6</th>\n",
       "      <td>40200</td>\n",
       "      <td>40410</td>\n",
       "      <td>MOUSTEY</td>\n",
       "      <td>LANDES</td>\n",
       "      <td>AQUITAINE</td>\n",
       "      <td>Commune simple</td>\n",
       "      <td>49.0</td>\n",
       "      <td>6736.0</td>\n",
       "      <td>0.7</td>\n",
       "      <td>44.3882918763, -0.750880080586</td>\n",
       "      <td>{\"type\": \"Polygon\", \"coordinates\": [[[-0.71016...</td>\n",
       "    </tr>\n",
       "    <tr>\n",
       "      <th>7</th>\n",
       "      <td>17394</td>\n",
       "      <td>17700</td>\n",
       "      <td>SAINT-SATURNIN-DU-BOIS</td>\n",
       "      <td>CHARENTE-MARITIME</td>\n",
       "      <td>POITOU-CHARENTES</td>\n",
       "      <td>Commune simple</td>\n",
       "      <td>45.0</td>\n",
       "      <td>2528.0</td>\n",
       "      <td>0.9</td>\n",
       "      <td>46.1401428747, -0.665133364912</td>\n",
       "      <td>{\"type\": \"Polygon\", \"coordinates\": [[[-0.66124...</td>\n",
       "    </tr>\n",
       "    <tr>\n",
       "      <th>...</th>\n",
       "      <td>...</td>\n",
       "      <td>...</td>\n",
       "      <td>...</td>\n",
       "      <td>...</td>\n",
       "      <td>...</td>\n",
       "      <td>...</td>\n",
       "      <td>...</td>\n",
       "      <td>...</td>\n",
       "      <td>...</td>\n",
       "      <td>...</td>\n",
       "      <td>...</td>\n",
       "    </tr>\n",
       "    <tr>\n",
       "      <th>36734</th>\n",
       "      <td>15024</td>\n",
       "      <td>15700</td>\n",
       "      <td>BRAGEAC</td>\n",
       "      <td>CANTAL</td>\n",
       "      <td>AUVERGNE</td>\n",
       "      <td>Commune simple</td>\n",
       "      <td>555.0</td>\n",
       "      <td>1222.0</td>\n",
       "      <td>0.1</td>\n",
       "      <td>45.2038604898, 2.26559675808</td>\n",
       "      <td>{\"type\": \"Polygon\", \"coordinates\": [[[2.302124...</td>\n",
       "    </tr>\n",
       "    <tr>\n",
       "      <th>36735</th>\n",
       "      <td>76008</td>\n",
       "      <td>76370</td>\n",
       "      <td>ANCOURT</td>\n",
       "      <td>SEINE-MARITIME</td>\n",
       "      <td>HAUTE-NORMANDIE</td>\n",
       "      <td>Commune simple</td>\n",
       "      <td>80.0</td>\n",
       "      <td>1252.0</td>\n",
       "      <td>0.7</td>\n",
       "      <td>49.9085547953, 1.17898885458</td>\n",
       "      <td>{\"type\": \"Polygon\", \"coordinates\": [[[1.205457...</td>\n",
       "    </tr>\n",
       "    <tr>\n",
       "      <th>36736</th>\n",
       "      <td>02137</td>\n",
       "      <td>02810</td>\n",
       "      <td>BUSSIARES</td>\n",
       "      <td>AISNE</td>\n",
       "      <td>PICARDIE</td>\n",
       "      <td>Commune simple</td>\n",
       "      <td>141.0</td>\n",
       "      <td>769.0</td>\n",
       "      <td>0.1</td>\n",
       "      <td>49.0765910572, 3.25026191909</td>\n",
       "      <td>{\"type\": \"Polygon\", \"coordinates\": [[[3.258096...</td>\n",
       "    </tr>\n",
       "    <tr>\n",
       "      <th>36737</th>\n",
       "      <td>74066</td>\n",
       "      <td>74270</td>\n",
       "      <td>CHAVANNAZ</td>\n",
       "      <td>HAUTE-SAVOIE</td>\n",
       "      <td>RHONE-ALPES</td>\n",
       "      <td>Commune simple</td>\n",
       "      <td>564.0</td>\n",
       "      <td>321.0</td>\n",
       "      <td>0.2</td>\n",
       "      <td>46.0500384099, 6.01652644319</td>\n",
       "      <td>{\"type\": \"Polygon\", \"coordinates\": [[[6.026228...</td>\n",
       "    </tr>\n",
       "    <tr>\n",
       "      <th>36738</th>\n",
       "      <td>67315</td>\n",
       "      <td>67630</td>\n",
       "      <td>NEEWILLER-PRES-LAUTERBOURG</td>\n",
       "      <td>BAS-RHIN</td>\n",
       "      <td>ALSACE</td>\n",
       "      <td>Commune simple</td>\n",
       "      <td>157.0</td>\n",
       "      <td>725.0</td>\n",
       "      <td>0.7</td>\n",
       "      <td>48.9516989257, 8.11931601006</td>\n",
       "      <td>{\"type\": \"Polygon\", \"coordinates\": [[[8.106826...</td>\n",
       "    </tr>\n",
       "    <tr>\n",
       "      <th>36739</th>\n",
       "      <td>07122</td>\n",
       "      <td>07200</td>\n",
       "      <td>LACHAPELLE-SOUS-AUBENAS</td>\n",
       "      <td>ARDECHE</td>\n",
       "      <td>RHONE-ALPES</td>\n",
       "      <td>Commune simple</td>\n",
       "      <td>257.0</td>\n",
       "      <td>1018.0</td>\n",
       "      <td>1.5</td>\n",
       "      <td>44.5622616562, 4.35906947518</td>\n",
       "      <td>{\"type\": \"Polygon\", \"coordinates\": [[[4.356584...</td>\n",
       "    </tr>\n",
       "    <tr>\n",
       "      <th>36740</th>\n",
       "      <td>01026</td>\n",
       "      <td>01380</td>\n",
       "      <td>BAGE-LE-CHATEL</td>\n",
       "      <td>AIN</td>\n",
       "      <td>RHONE-ALPES</td>\n",
       "      <td>Chef-lieu canton</td>\n",
       "      <td>202.0</td>\n",
       "      <td>86.0</td>\n",
       "      <td>0.8</td>\n",
       "      <td>46.3077069231, 4.92862084189</td>\n",
       "      <td>{\"type\": \"Polygon\", \"coordinates\": [[[4.926593...</td>\n",
       "    </tr>\n",
       "    <tr>\n",
       "      <th>36741</th>\n",
       "      <td>50224</td>\n",
       "      <td>50160</td>\n",
       "      <td>GUILBERVILLE</td>\n",
       "      <td>MANCHE</td>\n",
       "      <td>BASSE-NORMANDIE</td>\n",
       "      <td>Commune simple</td>\n",
       "      <td>165.0</td>\n",
       "      <td>2224.0</td>\n",
       "      <td>1.0</td>\n",
       "      <td>48.9866701737, -0.949588175705</td>\n",
       "      <td>{\"type\": \"Polygon\", \"coordinates\": [[[-0.99753...</td>\n",
       "    </tr>\n",
       "  </tbody>\n",
       "</table>\n",
       "<p>36742 rows × 11 columns</p>\n",
       "</div>"
      ],
      "text/plain": [
       "      Code INSEE Code Postal                     Commune        Département  \\\n",
       "0          31080       31350          BOULOGNE-SUR-GESSE      HAUTE-GARONNE   \n",
       "1          11143       11510                     FEUILLA               AUDE   \n",
       "2          43028       43200                  BESSAMOREL        HAUTE-LOIRE   \n",
       "3          78506       78660          PRUNAY-EN-YVELINES           YVELINES   \n",
       "4          84081       84310        MORIERES-LES-AVIGNON           VAUCLUSE   \n",
       "5          80462       80150              LAMOTTE-BULEUX              SOMME   \n",
       "6          40200       40410                     MOUSTEY             LANDES   \n",
       "7          17394       17700      SAINT-SATURNIN-DU-BOIS  CHARENTE-MARITIME   \n",
       "...          ...         ...                         ...                ...   \n",
       "36734      15024       15700                     BRAGEAC             CANTAL   \n",
       "36735      76008       76370                     ANCOURT     SEINE-MARITIME   \n",
       "36736      02137       02810                   BUSSIARES              AISNE   \n",
       "36737      74066       74270                   CHAVANNAZ       HAUTE-SAVOIE   \n",
       "36738      67315       67630  NEEWILLER-PRES-LAUTERBOURG           BAS-RHIN   \n",
       "36739      07122       07200     LACHAPELLE-SOUS-AUBENAS            ARDECHE   \n",
       "36740      01026       01380              BAGE-LE-CHATEL                AIN   \n",
       "36741      50224       50160                GUILBERVILLE             MANCHE   \n",
       "\n",
       "                           Région            Statut  Altitude Moyenne  \\\n",
       "0                   MIDI-PYRENEES  Chef-lieu canton             301.0   \n",
       "1            LANGUEDOC-ROUSSILLON    Commune simple             314.0   \n",
       "2                        AUVERGNE    Commune simple             888.0   \n",
       "3                   ILE-DE-FRANCE    Commune simple             155.0   \n",
       "4      PROVENCE-ALPES-COTE D'AZUR    Commune simple              49.0   \n",
       "5                        PICARDIE    Commune simple              59.0   \n",
       "6                       AQUITAINE    Commune simple              49.0   \n",
       "7                POITOU-CHARENTES    Commune simple              45.0   \n",
       "...                           ...               ...               ...   \n",
       "36734                    AUVERGNE    Commune simple             555.0   \n",
       "36735             HAUTE-NORMANDIE    Commune simple              80.0   \n",
       "36736                    PICARDIE    Commune simple             141.0   \n",
       "36737                 RHONE-ALPES    Commune simple             564.0   \n",
       "36738                      ALSACE    Commune simple             157.0   \n",
       "36739                 RHONE-ALPES    Commune simple             257.0   \n",
       "36740                 RHONE-ALPES  Chef-lieu canton             202.0   \n",
       "36741             BASSE-NORMANDIE    Commune simple             165.0   \n",
       "\n",
       "       Superficie  Population                    geo_point_2d  \\\n",
       "0          2470.0         1.6   43.2904403081, 0.650641474176   \n",
       "1          2426.0         0.1    42.9291375888, 2.90138923544   \n",
       "2           743.0         0.4    45.1306448726, 4.07952494849   \n",
       "3          2717.0         0.8    48.5267627187, 1.80513972814   \n",
       "4          1042.0         7.6    43.9337788848, 4.90875878315   \n",
       "5           613.0         0.4    50.1865666179, 1.83564836965   \n",
       "6          6736.0         0.7  44.3882918763, -0.750880080586   \n",
       "7          2528.0         0.9  46.1401428747, -0.665133364912   \n",
       "...           ...         ...                             ...   \n",
       "36734      1222.0         0.1    45.2038604898, 2.26559675808   \n",
       "36735      1252.0         0.7    49.9085547953, 1.17898885458   \n",
       "36736       769.0         0.1    49.0765910572, 3.25026191909   \n",
       "36737       321.0         0.2    46.0500384099, 6.01652644319   \n",
       "36738       725.0         0.7    48.9516989257, 8.11931601006   \n",
       "36739      1018.0         1.5    44.5622616562, 4.35906947518   \n",
       "36740        86.0         0.8    46.3077069231, 4.92862084189   \n",
       "36741      2224.0         1.0  48.9866701737, -0.949588175705   \n",
       "\n",
       "                                               geo_shape  \n",
       "0      {\"type\": \"Polygon\", \"coordinates\": [[[0.671852...  \n",
       "1      {\"type\": \"Polygon\", \"coordinates\": [[[2.906996...  \n",
       "2      {\"type\": \"Polygon\", \"coordinates\": [[[4.091674...  \n",
       "3      {\"type\": \"Polygon\", \"coordinates\": [[[1.829610...  \n",
       "4      {\"type\": \"Polygon\", \"coordinates\": [[[4.927176...  \n",
       "5      {\"type\": \"Polygon\", \"coordinates\": [[[1.849459...  \n",
       "6      {\"type\": \"Polygon\", \"coordinates\": [[[-0.71016...  \n",
       "7      {\"type\": \"Polygon\", \"coordinates\": [[[-0.66124...  \n",
       "...                                                  ...  \n",
       "36734  {\"type\": \"Polygon\", \"coordinates\": [[[2.302124...  \n",
       "36735  {\"type\": \"Polygon\", \"coordinates\": [[[1.205457...  \n",
       "36736  {\"type\": \"Polygon\", \"coordinates\": [[[3.258096...  \n",
       "36737  {\"type\": \"Polygon\", \"coordinates\": [[[6.026228...  \n",
       "36738  {\"type\": \"Polygon\", \"coordinates\": [[[8.106826...  \n",
       "36739  {\"type\": \"Polygon\", \"coordinates\": [[[4.356584...  \n",
       "36740  {\"type\": \"Polygon\", \"coordinates\": [[[4.926593...  \n",
       "36741  {\"type\": \"Polygon\", \"coordinates\": [[[-0.99753...  \n",
       "\n",
       "[36742 rows x 11 columns]"
      ]
     },
     "execution_count": 93,
     "metadata": {},
     "output_type": "execute_result"
    }
   ],
   "source": [
    "geo"
   ]
  },
  {
   "cell_type": "code",
   "execution_count": 99,
   "metadata": {
    "scrolled": false
   },
   "outputs": [
    {
     "data": {
      "text/plain": [
       "(36742, 11)"
      ]
     },
     "execution_count": 99,
     "metadata": {},
     "output_type": "execute_result"
    }
   ],
   "source": [
    "# dimensions\n",
    "geo.shape"
   ]
  },
  {
   "cell_type": "code",
   "execution_count": 100,
   "metadata": {
    "scrolled": false
   },
   "outputs": [
    {
     "data": {
      "text/plain": [
       "36742"
      ]
     },
     "execution_count": 100,
     "metadata": {},
     "output_type": "execute_result"
    }
   ],
   "source": [
    "# nombre de lignes\n",
    "len(geo)"
   ]
  },
  {
   "cell_type": "code",
   "execution_count": 101,
   "metadata": {
    "scrolled": false
   },
   "outputs": [
    {
     "data": {
      "text/plain": [
       "404162"
      ]
     },
     "execution_count": 101,
     "metadata": {},
     "output_type": "execute_result"
    }
   ],
   "source": [
    "# nombre total d'éléments\n",
    "geo.size"
   ]
  },
  {
   "cell_type": "code",
   "execution_count": 94,
   "metadata": {
    "scrolled": false
   },
   "outputs": [
    {
     "data": {
      "text/plain": [
       "RangeIndex(start=0, stop=36742, step=1)"
      ]
     },
     "execution_count": 94,
     "metadata": {},
     "output_type": "execute_result"
    }
   ],
   "source": [
    "# index\n",
    "geo.index"
   ]
  },
  {
   "cell_type": "code",
   "execution_count": 95,
   "metadata": {
    "scrolled": false
   },
   "outputs": [
    {
     "data": {
      "text/plain": [
       "Index(['Code INSEE', 'Code Postal', 'Commune', 'Département', 'Région',\n",
       "       'Statut', 'Altitude Moyenne', 'Superficie', 'Population',\n",
       "       'geo_point_2d', 'geo_shape'],\n",
       "      dtype='object')"
      ]
     },
     "execution_count": 95,
     "metadata": {},
     "output_type": "execute_result"
    }
   ],
   "source": [
    "# liste des colonnes\n",
    "geo.columns"
   ]
  },
  {
   "cell_type": "code",
   "execution_count": 96,
   "metadata": {
    "scrolled": false
   },
   "outputs": [
    {
     "data": {
      "text/plain": [
       "Code INSEE           object\n",
       "Code Postal          object\n",
       "Commune              object\n",
       "Département          object\n",
       "Région               object\n",
       "Statut               object\n",
       "Altitude Moyenne    float64\n",
       "Superficie          float64\n",
       "Population          float64\n",
       "geo_point_2d         object\n",
       "geo_shape            object\n",
       "dtype: object"
      ]
     },
     "execution_count": 96,
     "metadata": {},
     "output_type": "execute_result"
    }
   ],
   "source": [
    "# types des colonnes\n",
    "geo.dtypes"
   ]
  },
  {
   "cell_type": "code",
   "execution_count": 97,
   "metadata": {
    "scrolled": false
   },
   "outputs": [
    {
     "name": "stdout",
     "output_type": "stream",
     "text": [
      "<class 'pandas.core.frame.DataFrame'>\n",
      "RangeIndex: 36742 entries, 0 to 36741\n",
      "Data columns (total 11 columns):\n",
      " #   Column            Non-Null Count  Dtype  \n",
      "---  ------            --------------  -----  \n",
      " 0   Code INSEE        36742 non-null  object \n",
      " 1   Code Postal       36742 non-null  object \n",
      " 2   Commune           36742 non-null  object \n",
      " 3   Département       36742 non-null  object \n",
      " 4   Région            36742 non-null  object \n",
      " 5   Statut            36742 non-null  object \n",
      " 6   Altitude Moyenne  36742 non-null  float64\n",
      " 7   Superficie        36742 non-null  float64\n",
      " 8   Population        36742 non-null  float64\n",
      " 9   geo_point_2d      36742 non-null  object \n",
      " 10  geo_shape         36742 non-null  object \n",
      "dtypes: float64(3), object(8)\n",
      "memory usage: 3.1+ MB\n"
     ]
    }
   ],
   "source": [
    "# appel de la méthode info()\n",
    "geo.info()"
   ]
  },
  {
   "cell_type": "code",
   "execution_count": 98,
   "metadata": {
    "scrolled": false
   },
   "outputs": [
    {
     "data": {
      "text/html": [
       "<div>\n",
       "<style scoped>\n",
       "    .dataframe tbody tr th:only-of-type {\n",
       "        vertical-align: middle;\n",
       "    }\n",
       "\n",
       "    .dataframe tbody tr th {\n",
       "        vertical-align: top;\n",
       "    }\n",
       "\n",
       "    .dataframe thead th {\n",
       "        text-align: right;\n",
       "    }\n",
       "</style>\n",
       "<table border=\"1\" class=\"dataframe\">\n",
       "  <thead>\n",
       "    <tr style=\"text-align: right;\">\n",
       "      <th></th>\n",
       "      <th>Code INSEE</th>\n",
       "      <th>Code Postal</th>\n",
       "      <th>Commune</th>\n",
       "      <th>Département</th>\n",
       "      <th>Région</th>\n",
       "      <th>Statut</th>\n",
       "      <th>Altitude Moyenne</th>\n",
       "      <th>Superficie</th>\n",
       "      <th>Population</th>\n",
       "      <th>geo_point_2d</th>\n",
       "      <th>geo_shape</th>\n",
       "    </tr>\n",
       "  </thead>\n",
       "  <tbody>\n",
       "    <tr>\n",
       "      <th>0</th>\n",
       "      <td>31080</td>\n",
       "      <td>31350</td>\n",
       "      <td>BOULOGNE-SUR-GESSE</td>\n",
       "      <td>HAUTE-GARONNE</td>\n",
       "      <td>MIDI-PYRENEES</td>\n",
       "      <td>Chef-lieu canton</td>\n",
       "      <td>301.0</td>\n",
       "      <td>2470.0</td>\n",
       "      <td>1.6</td>\n",
       "      <td>43.2904403081, 0.650641474176</td>\n",
       "      <td>{\"type\": \"Polygon\", \"coordinates\": [[[0.671852...</td>\n",
       "    </tr>\n",
       "    <tr>\n",
       "      <th>1</th>\n",
       "      <td>11143</td>\n",
       "      <td>11510</td>\n",
       "      <td>FEUILLA</td>\n",
       "      <td>AUDE</td>\n",
       "      <td>LANGUEDOC-ROUSSILLON</td>\n",
       "      <td>Commune simple</td>\n",
       "      <td>314.0</td>\n",
       "      <td>2426.0</td>\n",
       "      <td>0.1</td>\n",
       "      <td>42.9291375888, 2.90138923544</td>\n",
       "      <td>{\"type\": \"Polygon\", \"coordinates\": [[[2.906996...</td>\n",
       "    </tr>\n",
       "    <tr>\n",
       "      <th>2</th>\n",
       "      <td>43028</td>\n",
       "      <td>43200</td>\n",
       "      <td>BESSAMOREL</td>\n",
       "      <td>HAUTE-LOIRE</td>\n",
       "      <td>AUVERGNE</td>\n",
       "      <td>Commune simple</td>\n",
       "      <td>888.0</td>\n",
       "      <td>743.0</td>\n",
       "      <td>0.4</td>\n",
       "      <td>45.1306448726, 4.07952494849</td>\n",
       "      <td>{\"type\": \"Polygon\", \"coordinates\": [[[4.091674...</td>\n",
       "    </tr>\n",
       "    <tr>\n",
       "      <th>3</th>\n",
       "      <td>78506</td>\n",
       "      <td>78660</td>\n",
       "      <td>PRUNAY-EN-YVELINES</td>\n",
       "      <td>YVELINES</td>\n",
       "      <td>ILE-DE-FRANCE</td>\n",
       "      <td>Commune simple</td>\n",
       "      <td>155.0</td>\n",
       "      <td>2717.0</td>\n",
       "      <td>0.8</td>\n",
       "      <td>48.5267627187, 1.80513972814</td>\n",
       "      <td>{\"type\": \"Polygon\", \"coordinates\": [[[1.829610...</td>\n",
       "    </tr>\n",
       "    <tr>\n",
       "      <th>4</th>\n",
       "      <td>84081</td>\n",
       "      <td>84310</td>\n",
       "      <td>MORIERES-LES-AVIGNON</td>\n",
       "      <td>VAUCLUSE</td>\n",
       "      <td>PROVENCE-ALPES-COTE D'AZUR</td>\n",
       "      <td>Commune simple</td>\n",
       "      <td>49.0</td>\n",
       "      <td>1042.0</td>\n",
       "      <td>7.6</td>\n",
       "      <td>43.9337788848, 4.90875878315</td>\n",
       "      <td>{\"type\": \"Polygon\", \"coordinates\": [[[4.927176...</td>\n",
       "    </tr>\n",
       "  </tbody>\n",
       "</table>\n",
       "</div>"
      ],
      "text/plain": [
       "  Code INSEE Code Postal               Commune    Département  \\\n",
       "0      31080       31350    BOULOGNE-SUR-GESSE  HAUTE-GARONNE   \n",
       "1      11143       11510               FEUILLA           AUDE   \n",
       "2      43028       43200            BESSAMOREL    HAUTE-LOIRE   \n",
       "3      78506       78660    PRUNAY-EN-YVELINES       YVELINES   \n",
       "4      84081       84310  MORIERES-LES-AVIGNON       VAUCLUSE   \n",
       "\n",
       "                       Région            Statut  Altitude Moyenne  Superficie  \\\n",
       "0               MIDI-PYRENEES  Chef-lieu canton             301.0      2470.0   \n",
       "1        LANGUEDOC-ROUSSILLON    Commune simple             314.0      2426.0   \n",
       "2                    AUVERGNE    Commune simple             888.0       743.0   \n",
       "3               ILE-DE-FRANCE    Commune simple             155.0      2717.0   \n",
       "4  PROVENCE-ALPES-COTE D'AZUR    Commune simple              49.0      1042.0   \n",
       "\n",
       "   Population                   geo_point_2d  \\\n",
       "0         1.6  43.2904403081, 0.650641474176   \n",
       "1         0.1   42.9291375888, 2.90138923544   \n",
       "2         0.4   45.1306448726, 4.07952494849   \n",
       "3         0.8   48.5267627187, 1.80513972814   \n",
       "4         7.6   43.9337788848, 4.90875878315   \n",
       "\n",
       "                                           geo_shape  \n",
       "0  {\"type\": \"Polygon\", \"coordinates\": [[[0.671852...  \n",
       "1  {\"type\": \"Polygon\", \"coordinates\": [[[2.906996...  \n",
       "2  {\"type\": \"Polygon\", \"coordinates\": [[[4.091674...  \n",
       "3  {\"type\": \"Polygon\", \"coordinates\": [[[1.829610...  \n",
       "4  {\"type\": \"Polygon\", \"coordinates\": [[[4.927176...  "
      ]
     },
     "execution_count": 98,
     "metadata": {},
     "output_type": "execute_result"
    }
   ],
   "source": [
    "# tête\n",
    "geo.head()"
   ]
  },
  {
   "cell_type": "code",
   "execution_count": 99,
   "metadata": {
    "scrolled": false
   },
   "outputs": [
    {
     "data": {
      "text/html": [
       "<div>\n",
       "<style scoped>\n",
       "    .dataframe tbody tr th:only-of-type {\n",
       "        vertical-align: middle;\n",
       "    }\n",
       "\n",
       "    .dataframe tbody tr th {\n",
       "        vertical-align: top;\n",
       "    }\n",
       "\n",
       "    .dataframe thead th {\n",
       "        text-align: right;\n",
       "    }\n",
       "</style>\n",
       "<table border=\"1\" class=\"dataframe\">\n",
       "  <thead>\n",
       "    <tr style=\"text-align: right;\">\n",
       "      <th></th>\n",
       "      <th>Code INSEE</th>\n",
       "      <th>Code Postal</th>\n",
       "      <th>Commune</th>\n",
       "      <th>Département</th>\n",
       "      <th>Région</th>\n",
       "      <th>Statut</th>\n",
       "      <th>Altitude Moyenne</th>\n",
       "      <th>Superficie</th>\n",
       "      <th>Population</th>\n",
       "      <th>geo_point_2d</th>\n",
       "      <th>geo_shape</th>\n",
       "    </tr>\n",
       "  </thead>\n",
       "  <tbody>\n",
       "    <tr>\n",
       "      <th>36737</th>\n",
       "      <td>74066</td>\n",
       "      <td>74270</td>\n",
       "      <td>CHAVANNAZ</td>\n",
       "      <td>HAUTE-SAVOIE</td>\n",
       "      <td>RHONE-ALPES</td>\n",
       "      <td>Commune simple</td>\n",
       "      <td>564.0</td>\n",
       "      <td>321.0</td>\n",
       "      <td>0.2</td>\n",
       "      <td>46.0500384099, 6.01652644319</td>\n",
       "      <td>{\"type\": \"Polygon\", \"coordinates\": [[[6.026228...</td>\n",
       "    </tr>\n",
       "    <tr>\n",
       "      <th>36738</th>\n",
       "      <td>67315</td>\n",
       "      <td>67630</td>\n",
       "      <td>NEEWILLER-PRES-LAUTERBOURG</td>\n",
       "      <td>BAS-RHIN</td>\n",
       "      <td>ALSACE</td>\n",
       "      <td>Commune simple</td>\n",
       "      <td>157.0</td>\n",
       "      <td>725.0</td>\n",
       "      <td>0.7</td>\n",
       "      <td>48.9516989257, 8.11931601006</td>\n",
       "      <td>{\"type\": \"Polygon\", \"coordinates\": [[[8.106826...</td>\n",
       "    </tr>\n",
       "    <tr>\n",
       "      <th>36739</th>\n",
       "      <td>07122</td>\n",
       "      <td>07200</td>\n",
       "      <td>LACHAPELLE-SOUS-AUBENAS</td>\n",
       "      <td>ARDECHE</td>\n",
       "      <td>RHONE-ALPES</td>\n",
       "      <td>Commune simple</td>\n",
       "      <td>257.0</td>\n",
       "      <td>1018.0</td>\n",
       "      <td>1.5</td>\n",
       "      <td>44.5622616562, 4.35906947518</td>\n",
       "      <td>{\"type\": \"Polygon\", \"coordinates\": [[[4.356584...</td>\n",
       "    </tr>\n",
       "    <tr>\n",
       "      <th>36740</th>\n",
       "      <td>01026</td>\n",
       "      <td>01380</td>\n",
       "      <td>BAGE-LE-CHATEL</td>\n",
       "      <td>AIN</td>\n",
       "      <td>RHONE-ALPES</td>\n",
       "      <td>Chef-lieu canton</td>\n",
       "      <td>202.0</td>\n",
       "      <td>86.0</td>\n",
       "      <td>0.8</td>\n",
       "      <td>46.3077069231, 4.92862084189</td>\n",
       "      <td>{\"type\": \"Polygon\", \"coordinates\": [[[4.926593...</td>\n",
       "    </tr>\n",
       "    <tr>\n",
       "      <th>36741</th>\n",
       "      <td>50224</td>\n",
       "      <td>50160</td>\n",
       "      <td>GUILBERVILLE</td>\n",
       "      <td>MANCHE</td>\n",
       "      <td>BASSE-NORMANDIE</td>\n",
       "      <td>Commune simple</td>\n",
       "      <td>165.0</td>\n",
       "      <td>2224.0</td>\n",
       "      <td>1.0</td>\n",
       "      <td>48.9866701737, -0.949588175705</td>\n",
       "      <td>{\"type\": \"Polygon\", \"coordinates\": [[[-0.99753...</td>\n",
       "    </tr>\n",
       "  </tbody>\n",
       "</table>\n",
       "</div>"
      ],
      "text/plain": [
       "      Code INSEE Code Postal                     Commune   Département  \\\n",
       "36737      74066       74270                   CHAVANNAZ  HAUTE-SAVOIE   \n",
       "36738      67315       67630  NEEWILLER-PRES-LAUTERBOURG      BAS-RHIN   \n",
       "36739      07122       07200     LACHAPELLE-SOUS-AUBENAS       ARDECHE   \n",
       "36740      01026       01380              BAGE-LE-CHATEL           AIN   \n",
       "36741      50224       50160                GUILBERVILLE        MANCHE   \n",
       "\n",
       "                Région            Statut  Altitude Moyenne  Superficie  \\\n",
       "36737      RHONE-ALPES    Commune simple             564.0       321.0   \n",
       "36738           ALSACE    Commune simple             157.0       725.0   \n",
       "36739      RHONE-ALPES    Commune simple             257.0      1018.0   \n",
       "36740      RHONE-ALPES  Chef-lieu canton             202.0        86.0   \n",
       "36741  BASSE-NORMANDIE    Commune simple             165.0      2224.0   \n",
       "\n",
       "       Population                    geo_point_2d  \\\n",
       "36737         0.2    46.0500384099, 6.01652644319   \n",
       "36738         0.7    48.9516989257, 8.11931601006   \n",
       "36739         1.5    44.5622616562, 4.35906947518   \n",
       "36740         0.8    46.3077069231, 4.92862084189   \n",
       "36741         1.0  48.9866701737, -0.949588175705   \n",
       "\n",
       "                                               geo_shape  \n",
       "36737  {\"type\": \"Polygon\", \"coordinates\": [[[6.026228...  \n",
       "36738  {\"type\": \"Polygon\", \"coordinates\": [[[8.106826...  \n",
       "36739  {\"type\": \"Polygon\", \"coordinates\": [[[4.356584...  \n",
       "36740  {\"type\": \"Polygon\", \"coordinates\": [[[4.926593...  \n",
       "36741  {\"type\": \"Polygon\", \"coordinates\": [[[-0.99753...  "
      ]
     },
     "execution_count": 99,
     "metadata": {},
     "output_type": "execute_result"
    }
   ],
   "source": [
    "# queue\n",
    "geo.tail()"
   ]
  },
  {
   "cell_type": "code",
   "execution_count": 108,
   "metadata": {
    "scrolled": false
   },
   "outputs": [
    {
     "data": {
      "text/html": [
       "<div>\n",
       "<style scoped>\n",
       "    .dataframe tbody tr th:only-of-type {\n",
       "        vertical-align: middle;\n",
       "    }\n",
       "\n",
       "    .dataframe tbody tr th {\n",
       "        vertical-align: top;\n",
       "    }\n",
       "\n",
       "    .dataframe thead th {\n",
       "        text-align: right;\n",
       "    }\n",
       "</style>\n",
       "<table border=\"1\" class=\"dataframe\">\n",
       "  <thead>\n",
       "    <tr style=\"text-align: right;\">\n",
       "      <th></th>\n",
       "      <th>0</th>\n",
       "      <th>1</th>\n",
       "      <th>2</th>\n",
       "      <th>3</th>\n",
       "      <th>4</th>\n",
       "      <th>5</th>\n",
       "      <th>6</th>\n",
       "      <th>7</th>\n",
       "      <th>8</th>\n",
       "      <th>9</th>\n",
       "      <th>...</th>\n",
       "      <th>36732</th>\n",
       "      <th>36733</th>\n",
       "      <th>36734</th>\n",
       "      <th>36735</th>\n",
       "      <th>36736</th>\n",
       "      <th>36737</th>\n",
       "      <th>36738</th>\n",
       "      <th>36739</th>\n",
       "      <th>36740</th>\n",
       "      <th>36741</th>\n",
       "    </tr>\n",
       "  </thead>\n",
       "  <tbody>\n",
       "    <tr>\n",
       "      <th>Code INSEE</th>\n",
       "      <td>31080</td>\n",
       "      <td>11143</td>\n",
       "      <td>43028</td>\n",
       "      <td>78506</td>\n",
       "      <td>84081</td>\n",
       "      <td>80462</td>\n",
       "      <td>40200</td>\n",
       "      <td>17394</td>\n",
       "      <td>61422</td>\n",
       "      <td>80496</td>\n",
       "      <td>...</td>\n",
       "      <td>28379</td>\n",
       "      <td>14325</td>\n",
       "      <td>15024</td>\n",
       "      <td>76008</td>\n",
       "      <td>02137</td>\n",
       "      <td>74066</td>\n",
       "      <td>67315</td>\n",
       "      <td>07122</td>\n",
       "      <td>01026</td>\n",
       "      <td>50224</td>\n",
       "    </tr>\n",
       "    <tr>\n",
       "      <th>Code Postal</th>\n",
       "      <td>31350</td>\n",
       "      <td>11510</td>\n",
       "      <td>43200</td>\n",
       "      <td>78660</td>\n",
       "      <td>84310</td>\n",
       "      <td>80150</td>\n",
       "      <td>40410</td>\n",
       "      <td>17700</td>\n",
       "      <td>61270</td>\n",
       "      <td>80150</td>\n",
       "      <td>...</td>\n",
       "      <td>28130</td>\n",
       "      <td>14880</td>\n",
       "      <td>15700</td>\n",
       "      <td>76370</td>\n",
       "      <td>02810</td>\n",
       "      <td>74270</td>\n",
       "      <td>67630</td>\n",
       "      <td>07200</td>\n",
       "      <td>01380</td>\n",
       "      <td>50160</td>\n",
       "    </tr>\n",
       "    <tr>\n",
       "      <th>Commune</th>\n",
       "      <td>BOULOGNE-SUR-GESSE</td>\n",
       "      <td>FEUILLA</td>\n",
       "      <td>BESSAMOREL</td>\n",
       "      <td>PRUNAY-EN-YVELINES</td>\n",
       "      <td>MORIERES-LES-AVIGNON</td>\n",
       "      <td>LAMOTTE-BULEUX</td>\n",
       "      <td>MOUSTEY</td>\n",
       "      <td>SAINT-SATURNIN-DU-BOIS</td>\n",
       "      <td>LES ASPRES</td>\n",
       "      <td>MACHIEL</td>\n",
       "      <td>...</td>\n",
       "      <td>SOULAIRES</td>\n",
       "      <td>HERMANVILLE-SUR-MER</td>\n",
       "      <td>BRAGEAC</td>\n",
       "      <td>ANCOURT</td>\n",
       "      <td>BUSSIARES</td>\n",
       "      <td>CHAVANNAZ</td>\n",
       "      <td>NEEWILLER-PRES-LAUTERBOURG</td>\n",
       "      <td>LACHAPELLE-SOUS-AUBENAS</td>\n",
       "      <td>BAGE-LE-CHATEL</td>\n",
       "      <td>GUILBERVILLE</td>\n",
       "    </tr>\n",
       "    <tr>\n",
       "      <th>Département</th>\n",
       "      <td>HAUTE-GARONNE</td>\n",
       "      <td>AUDE</td>\n",
       "      <td>HAUTE-LOIRE</td>\n",
       "      <td>YVELINES</td>\n",
       "      <td>VAUCLUSE</td>\n",
       "      <td>SOMME</td>\n",
       "      <td>LANDES</td>\n",
       "      <td>CHARENTE-MARITIME</td>\n",
       "      <td>ORNE</td>\n",
       "      <td>SOMME</td>\n",
       "      <td>...</td>\n",
       "      <td>EURE-ET-LOIR</td>\n",
       "      <td>CALVADOS</td>\n",
       "      <td>CANTAL</td>\n",
       "      <td>SEINE-MARITIME</td>\n",
       "      <td>AISNE</td>\n",
       "      <td>HAUTE-SAVOIE</td>\n",
       "      <td>BAS-RHIN</td>\n",
       "      <td>ARDECHE</td>\n",
       "      <td>AIN</td>\n",
       "      <td>MANCHE</td>\n",
       "    </tr>\n",
       "    <tr>\n",
       "      <th>Région</th>\n",
       "      <td>MIDI-PYRENEES</td>\n",
       "      <td>LANGUEDOC-ROUSSILLON</td>\n",
       "      <td>AUVERGNE</td>\n",
       "      <td>ILE-DE-FRANCE</td>\n",
       "      <td>PROVENCE-ALPES-COTE D'AZUR</td>\n",
       "      <td>PICARDIE</td>\n",
       "      <td>AQUITAINE</td>\n",
       "      <td>POITOU-CHARENTES</td>\n",
       "      <td>BASSE-NORMANDIE</td>\n",
       "      <td>PICARDIE</td>\n",
       "      <td>...</td>\n",
       "      <td>CENTRE</td>\n",
       "      <td>BASSE-NORMANDIE</td>\n",
       "      <td>AUVERGNE</td>\n",
       "      <td>HAUTE-NORMANDIE</td>\n",
       "      <td>PICARDIE</td>\n",
       "      <td>RHONE-ALPES</td>\n",
       "      <td>ALSACE</td>\n",
       "      <td>RHONE-ALPES</td>\n",
       "      <td>RHONE-ALPES</td>\n",
       "      <td>BASSE-NORMANDIE</td>\n",
       "    </tr>\n",
       "    <tr>\n",
       "      <th>Statut</th>\n",
       "      <td>Chef-lieu canton</td>\n",
       "      <td>Commune simple</td>\n",
       "      <td>Commune simple</td>\n",
       "      <td>Commune simple</td>\n",
       "      <td>Commune simple</td>\n",
       "      <td>Commune simple</td>\n",
       "      <td>Commune simple</td>\n",
       "      <td>Commune simple</td>\n",
       "      <td>Commune simple</td>\n",
       "      <td>Commune simple</td>\n",
       "      <td>...</td>\n",
       "      <td>Commune simple</td>\n",
       "      <td>Commune simple</td>\n",
       "      <td>Commune simple</td>\n",
       "      <td>Commune simple</td>\n",
       "      <td>Commune simple</td>\n",
       "      <td>Commune simple</td>\n",
       "      <td>Commune simple</td>\n",
       "      <td>Commune simple</td>\n",
       "      <td>Chef-lieu canton</td>\n",
       "      <td>Commune simple</td>\n",
       "    </tr>\n",
       "    <tr>\n",
       "      <th>Altitude Moyenne</th>\n",
       "      <td>301.0</td>\n",
       "      <td>314.0</td>\n",
       "      <td>888.0</td>\n",
       "      <td>155.0</td>\n",
       "      <td>49.0</td>\n",
       "      <td>59.0</td>\n",
       "      <td>49.0</td>\n",
       "      <td>45.0</td>\n",
       "      <td>251.0</td>\n",
       "      <td>54.0</td>\n",
       "      <td>...</td>\n",
       "      <td>143.0</td>\n",
       "      <td>21.0</td>\n",
       "      <td>555.0</td>\n",
       "      <td>80.0</td>\n",
       "      <td>141.0</td>\n",
       "      <td>564.0</td>\n",
       "      <td>157.0</td>\n",
       "      <td>257.0</td>\n",
       "      <td>202.0</td>\n",
       "      <td>165.0</td>\n",
       "    </tr>\n",
       "    <tr>\n",
       "      <th>Superficie</th>\n",
       "      <td>2470.0</td>\n",
       "      <td>2426.0</td>\n",
       "      <td>743.0</td>\n",
       "      <td>2717.0</td>\n",
       "      <td>1042.0</td>\n",
       "      <td>613.0</td>\n",
       "      <td>6736.0</td>\n",
       "      <td>2528.0</td>\n",
       "      <td>2346.0</td>\n",
       "      <td>654.0</td>\n",
       "      <td>...</td>\n",
       "      <td>598.0</td>\n",
       "      <td>821.0</td>\n",
       "      <td>1222.0</td>\n",
       "      <td>1252.0</td>\n",
       "      <td>769.0</td>\n",
       "      <td>321.0</td>\n",
       "      <td>725.0</td>\n",
       "      <td>1018.0</td>\n",
       "      <td>86.0</td>\n",
       "      <td>2224.0</td>\n",
       "    </tr>\n",
       "    <tr>\n",
       "      <th>Population</th>\n",
       "      <td>1.6</td>\n",
       "      <td>0.1</td>\n",
       "      <td>0.4</td>\n",
       "      <td>0.8</td>\n",
       "      <td>7.6</td>\n",
       "      <td>0.4</td>\n",
       "      <td>0.7</td>\n",
       "      <td>0.9</td>\n",
       "      <td>0.7</td>\n",
       "      <td>0.2</td>\n",
       "      <td>...</td>\n",
       "      <td>0.4</td>\n",
       "      <td>2.7</td>\n",
       "      <td>0.1</td>\n",
       "      <td>0.7</td>\n",
       "      <td>0.1</td>\n",
       "      <td>0.2</td>\n",
       "      <td>0.7</td>\n",
       "      <td>1.5</td>\n",
       "      <td>0.8</td>\n",
       "      <td>1.0</td>\n",
       "    </tr>\n",
       "    <tr>\n",
       "      <th>geo_point_2d</th>\n",
       "      <td>43.2904403081, 0.650641474176</td>\n",
       "      <td>42.9291375888, 2.90138923544</td>\n",
       "      <td>45.1306448726, 4.07952494849</td>\n",
       "      <td>48.5267627187, 1.80513972814</td>\n",
       "      <td>43.9337788848, 4.90875878315</td>\n",
       "      <td>50.1865666179, 1.83564836965</td>\n",
       "      <td>44.3882918763, -0.750880080586</td>\n",
       "      <td>46.1401428747, -0.665133364912</td>\n",
       "      <td>48.6753438359, 0.610110315479</td>\n",
       "      <td>50.2721837623, 1.83743610924</td>\n",
       "      <td>...</td>\n",
       "      <td>48.5176795466, 1.58912796204</td>\n",
       "      <td>49.2832471592, -0.32297738333</td>\n",
       "      <td>45.2038604898, 2.26559675808</td>\n",
       "      <td>49.9085547953, 1.17898885458</td>\n",
       "      <td>49.0765910572, 3.25026191909</td>\n",
       "      <td>46.0500384099, 6.01652644319</td>\n",
       "      <td>48.9516989257, 8.11931601006</td>\n",
       "      <td>44.5622616562, 4.35906947518</td>\n",
       "      <td>46.3077069231, 4.92862084189</td>\n",
       "      <td>48.9866701737, -0.949588175705</td>\n",
       "    </tr>\n",
       "    <tr>\n",
       "      <th>geo_shape</th>\n",
       "      <td>{\"type\": \"Polygon\", \"coordinates\": [[[0.671852...</td>\n",
       "      <td>{\"type\": \"Polygon\", \"coordinates\": [[[2.906996...</td>\n",
       "      <td>{\"type\": \"Polygon\", \"coordinates\": [[[4.091674...</td>\n",
       "      <td>{\"type\": \"Polygon\", \"coordinates\": [[[1.829610...</td>\n",
       "      <td>{\"type\": \"Polygon\", \"coordinates\": [[[4.927176...</td>\n",
       "      <td>{\"type\": \"Polygon\", \"coordinates\": [[[1.849459...</td>\n",
       "      <td>{\"type\": \"Polygon\", \"coordinates\": [[[-0.71016...</td>\n",
       "      <td>{\"type\": \"Polygon\", \"coordinates\": [[[-0.66124...</td>\n",
       "      <td>{\"type\": \"Polygon\", \"coordinates\": [[[0.634150...</td>\n",
       "      <td>{\"type\": \"Polygon\", \"coordinates\": [[[1.863650...</td>\n",
       "      <td>...</td>\n",
       "      <td>{\"type\": \"Polygon\", \"coordinates\": [[[1.613838...</td>\n",
       "      <td>{\"type\": \"Polygon\", \"coordinates\": [[[-0.33381...</td>\n",
       "      <td>{\"type\": \"Polygon\", \"coordinates\": [[[2.302124...</td>\n",
       "      <td>{\"type\": \"Polygon\", \"coordinates\": [[[1.205457...</td>\n",
       "      <td>{\"type\": \"Polygon\", \"coordinates\": [[[3.258096...</td>\n",
       "      <td>{\"type\": \"Polygon\", \"coordinates\": [[[6.026228...</td>\n",
       "      <td>{\"type\": \"Polygon\", \"coordinates\": [[[8.106826...</td>\n",
       "      <td>{\"type\": \"Polygon\", \"coordinates\": [[[4.356584...</td>\n",
       "      <td>{\"type\": \"Polygon\", \"coordinates\": [[[4.926593...</td>\n",
       "      <td>{\"type\": \"Polygon\", \"coordinates\": [[[-0.99753...</td>\n",
       "    </tr>\n",
       "  </tbody>\n",
       "</table>\n",
       "<p>11 rows × 36742 columns</p>\n",
       "</div>"
      ],
      "text/plain": [
       "                                                              0      \\\n",
       "Code INSEE                                                    31080   \n",
       "Code Postal                                                   31350   \n",
       "Commune                                          BOULOGNE-SUR-GESSE   \n",
       "Département                                           HAUTE-GARONNE   \n",
       "Région                                                MIDI-PYRENEES   \n",
       "Statut                                             Chef-lieu canton   \n",
       "Altitude Moyenne                                              301.0   \n",
       "Superficie                                                   2470.0   \n",
       "Population                                                      1.6   \n",
       "geo_point_2d                          43.2904403081, 0.650641474176   \n",
       "geo_shape         {\"type\": \"Polygon\", \"coordinates\": [[[0.671852...   \n",
       "\n",
       "                                                              1      \\\n",
       "Code INSEE                                                    11143   \n",
       "Code Postal                                                   11510   \n",
       "Commune                                                     FEUILLA   \n",
       "Département                                                    AUDE   \n",
       "Région                                         LANGUEDOC-ROUSSILLON   \n",
       "Statut                                               Commune simple   \n",
       "Altitude Moyenne                                              314.0   \n",
       "Superficie                                                   2426.0   \n",
       "Population                                                      0.1   \n",
       "geo_point_2d                           42.9291375888, 2.90138923544   \n",
       "geo_shape         {\"type\": \"Polygon\", \"coordinates\": [[[2.906996...   \n",
       "\n",
       "                                                              2      \\\n",
       "Code INSEE                                                    43028   \n",
       "Code Postal                                                   43200   \n",
       "Commune                                                  BESSAMOREL   \n",
       "Département                                             HAUTE-LOIRE   \n",
       "Région                                                     AUVERGNE   \n",
       "Statut                                               Commune simple   \n",
       "Altitude Moyenne                                              888.0   \n",
       "Superficie                                                    743.0   \n",
       "Population                                                      0.4   \n",
       "geo_point_2d                           45.1306448726, 4.07952494849   \n",
       "geo_shape         {\"type\": \"Polygon\", \"coordinates\": [[[4.091674...   \n",
       "\n",
       "                                                              3      \\\n",
       "Code INSEE                                                    78506   \n",
       "Code Postal                                                   78660   \n",
       "Commune                                          PRUNAY-EN-YVELINES   \n",
       "Département                                                YVELINES   \n",
       "Région                                                ILE-DE-FRANCE   \n",
       "Statut                                               Commune simple   \n",
       "Altitude Moyenne                                              155.0   \n",
       "Superficie                                                   2717.0   \n",
       "Population                                                      0.8   \n",
       "geo_point_2d                           48.5267627187, 1.80513972814   \n",
       "geo_shape         {\"type\": \"Polygon\", \"coordinates\": [[[1.829610...   \n",
       "\n",
       "                                                              4      \\\n",
       "Code INSEE                                                    84081   \n",
       "Code Postal                                                   84310   \n",
       "Commune                                        MORIERES-LES-AVIGNON   \n",
       "Département                                                VAUCLUSE   \n",
       "Région                                   PROVENCE-ALPES-COTE D'AZUR   \n",
       "Statut                                               Commune simple   \n",
       "Altitude Moyenne                                               49.0   \n",
       "Superficie                                                   1042.0   \n",
       "Population                                                      7.6   \n",
       "geo_point_2d                           43.9337788848, 4.90875878315   \n",
       "geo_shape         {\"type\": \"Polygon\", \"coordinates\": [[[4.927176...   \n",
       "\n",
       "                                                              5      \\\n",
       "Code INSEE                                                    80462   \n",
       "Code Postal                                                   80150   \n",
       "Commune                                              LAMOTTE-BULEUX   \n",
       "Département                                                   SOMME   \n",
       "Région                                                     PICARDIE   \n",
       "Statut                                               Commune simple   \n",
       "Altitude Moyenne                                               59.0   \n",
       "Superficie                                                    613.0   \n",
       "Population                                                      0.4   \n",
       "geo_point_2d                           50.1865666179, 1.83564836965   \n",
       "geo_shape         {\"type\": \"Polygon\", \"coordinates\": [[[1.849459...   \n",
       "\n",
       "                                                              6      \\\n",
       "Code INSEE                                                    40200   \n",
       "Code Postal                                                   40410   \n",
       "Commune                                                     MOUSTEY   \n",
       "Département                                                  LANDES   \n",
       "Région                                                    AQUITAINE   \n",
       "Statut                                               Commune simple   \n",
       "Altitude Moyenne                                               49.0   \n",
       "Superficie                                                   6736.0   \n",
       "Population                                                      0.7   \n",
       "geo_point_2d                         44.3882918763, -0.750880080586   \n",
       "geo_shape         {\"type\": \"Polygon\", \"coordinates\": [[[-0.71016...   \n",
       "\n",
       "                                                              7      \\\n",
       "Code INSEE                                                    17394   \n",
       "Code Postal                                                   17700   \n",
       "Commune                                      SAINT-SATURNIN-DU-BOIS   \n",
       "Département                                       CHARENTE-MARITIME   \n",
       "Région                                             POITOU-CHARENTES   \n",
       "Statut                                               Commune simple   \n",
       "Altitude Moyenne                                               45.0   \n",
       "Superficie                                                   2528.0   \n",
       "Population                                                      0.9   \n",
       "geo_point_2d                         46.1401428747, -0.665133364912   \n",
       "geo_shape         {\"type\": \"Polygon\", \"coordinates\": [[[-0.66124...   \n",
       "\n",
       "                                                              8      \\\n",
       "Code INSEE                                                    61422   \n",
       "Code Postal                                                   61270   \n",
       "Commune                                                  LES ASPRES   \n",
       "Département                                                    ORNE   \n",
       "Région                                              BASSE-NORMANDIE   \n",
       "Statut                                               Commune simple   \n",
       "Altitude Moyenne                                              251.0   \n",
       "Superficie                                                   2346.0   \n",
       "Population                                                      0.7   \n",
       "geo_point_2d                          48.6753438359, 0.610110315479   \n",
       "geo_shape         {\"type\": \"Polygon\", \"coordinates\": [[[0.634150...   \n",
       "\n",
       "                                                              9      ...  \\\n",
       "Code INSEE                                                    80496  ...   \n",
       "Code Postal                                                   80150  ...   \n",
       "Commune                                                     MACHIEL  ...   \n",
       "Département                                                   SOMME  ...   \n",
       "Région                                                     PICARDIE  ...   \n",
       "Statut                                               Commune simple  ...   \n",
       "Altitude Moyenne                                               54.0  ...   \n",
       "Superficie                                                    654.0  ...   \n",
       "Population                                                      0.2  ...   \n",
       "geo_point_2d                           50.2721837623, 1.83743610924  ...   \n",
       "geo_shape         {\"type\": \"Polygon\", \"coordinates\": [[[1.863650...  ...   \n",
       "\n",
       "                                                              36732  \\\n",
       "Code INSEE                                                    28379   \n",
       "Code Postal                                                   28130   \n",
       "Commune                                                   SOULAIRES   \n",
       "Département                                            EURE-ET-LOIR   \n",
       "Région                                                       CENTRE   \n",
       "Statut                                               Commune simple   \n",
       "Altitude Moyenne                                              143.0   \n",
       "Superficie                                                    598.0   \n",
       "Population                                                      0.4   \n",
       "geo_point_2d                           48.5176795466, 1.58912796204   \n",
       "geo_shape         {\"type\": \"Polygon\", \"coordinates\": [[[1.613838...   \n",
       "\n",
       "                                                              36733  \\\n",
       "Code INSEE                                                    14325   \n",
       "Code Postal                                                   14880   \n",
       "Commune                                         HERMANVILLE-SUR-MER   \n",
       "Département                                                CALVADOS   \n",
       "Région                                              BASSE-NORMANDIE   \n",
       "Statut                                               Commune simple   \n",
       "Altitude Moyenne                                               21.0   \n",
       "Superficie                                                    821.0   \n",
       "Population                                                      2.7   \n",
       "geo_point_2d                          49.2832471592, -0.32297738333   \n",
       "geo_shape         {\"type\": \"Polygon\", \"coordinates\": [[[-0.33381...   \n",
       "\n",
       "                                                              36734  \\\n",
       "Code INSEE                                                    15024   \n",
       "Code Postal                                                   15700   \n",
       "Commune                                                     BRAGEAC   \n",
       "Département                                                  CANTAL   \n",
       "Région                                                     AUVERGNE   \n",
       "Statut                                               Commune simple   \n",
       "Altitude Moyenne                                              555.0   \n",
       "Superficie                                                   1222.0   \n",
       "Population                                                      0.1   \n",
       "geo_point_2d                           45.2038604898, 2.26559675808   \n",
       "geo_shape         {\"type\": \"Polygon\", \"coordinates\": [[[2.302124...   \n",
       "\n",
       "                                                              36735  \\\n",
       "Code INSEE                                                    76008   \n",
       "Code Postal                                                   76370   \n",
       "Commune                                                     ANCOURT   \n",
       "Département                                          SEINE-MARITIME   \n",
       "Région                                              HAUTE-NORMANDIE   \n",
       "Statut                                               Commune simple   \n",
       "Altitude Moyenne                                               80.0   \n",
       "Superficie                                                   1252.0   \n",
       "Population                                                      0.7   \n",
       "geo_point_2d                           49.9085547953, 1.17898885458   \n",
       "geo_shape         {\"type\": \"Polygon\", \"coordinates\": [[[1.205457...   \n",
       "\n",
       "                                                              36736  \\\n",
       "Code INSEE                                                    02137   \n",
       "Code Postal                                                   02810   \n",
       "Commune                                                   BUSSIARES   \n",
       "Département                                                   AISNE   \n",
       "Région                                                     PICARDIE   \n",
       "Statut                                               Commune simple   \n",
       "Altitude Moyenne                                              141.0   \n",
       "Superficie                                                    769.0   \n",
       "Population                                                      0.1   \n",
       "geo_point_2d                           49.0765910572, 3.25026191909   \n",
       "geo_shape         {\"type\": \"Polygon\", \"coordinates\": [[[3.258096...   \n",
       "\n",
       "                                                              36737  \\\n",
       "Code INSEE                                                    74066   \n",
       "Code Postal                                                   74270   \n",
       "Commune                                                   CHAVANNAZ   \n",
       "Département                                            HAUTE-SAVOIE   \n",
       "Région                                                  RHONE-ALPES   \n",
       "Statut                                               Commune simple   \n",
       "Altitude Moyenne                                              564.0   \n",
       "Superficie                                                    321.0   \n",
       "Population                                                      0.2   \n",
       "geo_point_2d                           46.0500384099, 6.01652644319   \n",
       "geo_shape         {\"type\": \"Polygon\", \"coordinates\": [[[6.026228...   \n",
       "\n",
       "                                                              36738  \\\n",
       "Code INSEE                                                    67315   \n",
       "Code Postal                                                   67630   \n",
       "Commune                                  NEEWILLER-PRES-LAUTERBOURG   \n",
       "Département                                                BAS-RHIN   \n",
       "Région                                                       ALSACE   \n",
       "Statut                                               Commune simple   \n",
       "Altitude Moyenne                                              157.0   \n",
       "Superficie                                                    725.0   \n",
       "Population                                                      0.7   \n",
       "geo_point_2d                           48.9516989257, 8.11931601006   \n",
       "geo_shape         {\"type\": \"Polygon\", \"coordinates\": [[[8.106826...   \n",
       "\n",
       "                                                              36739  \\\n",
       "Code INSEE                                                    07122   \n",
       "Code Postal                                                   07200   \n",
       "Commune                                     LACHAPELLE-SOUS-AUBENAS   \n",
       "Département                                                 ARDECHE   \n",
       "Région                                                  RHONE-ALPES   \n",
       "Statut                                               Commune simple   \n",
       "Altitude Moyenne                                              257.0   \n",
       "Superficie                                                   1018.0   \n",
       "Population                                                      1.5   \n",
       "geo_point_2d                           44.5622616562, 4.35906947518   \n",
       "geo_shape         {\"type\": \"Polygon\", \"coordinates\": [[[4.356584...   \n",
       "\n",
       "                                                              36740  \\\n",
       "Code INSEE                                                    01026   \n",
       "Code Postal                                                   01380   \n",
       "Commune                                              BAGE-LE-CHATEL   \n",
       "Département                                                     AIN   \n",
       "Région                                                  RHONE-ALPES   \n",
       "Statut                                             Chef-lieu canton   \n",
       "Altitude Moyenne                                              202.0   \n",
       "Superficie                                                     86.0   \n",
       "Population                                                      0.8   \n",
       "geo_point_2d                           46.3077069231, 4.92862084189   \n",
       "geo_shape         {\"type\": \"Polygon\", \"coordinates\": [[[4.926593...   \n",
       "\n",
       "                                                              36741  \n",
       "Code INSEE                                                    50224  \n",
       "Code Postal                                                   50160  \n",
       "Commune                                                GUILBERVILLE  \n",
       "Département                                                  MANCHE  \n",
       "Région                                              BASSE-NORMANDIE  \n",
       "Statut                                               Commune simple  \n",
       "Altitude Moyenne                                              165.0  \n",
       "Superficie                                                   2224.0  \n",
       "Population                                                      1.0  \n",
       "geo_point_2d                         48.9866701737, -0.949588175705  \n",
       "geo_shape         {\"type\": \"Polygon\", \"coordinates\": [[[-0.99753...  \n",
       "\n",
       "[11 rows x 36742 columns]"
      ]
     },
     "execution_count": 108,
     "metadata": {},
     "output_type": "execute_result"
    }
   ],
   "source": [
    "# transposition\n",
    "geo.transpose() # ou geo.T"
   ]
  },
  {
   "cell_type": "code",
   "execution_count": 101,
   "metadata": {
    "scrolled": false
   },
   "outputs": [
    {
     "data": {
      "text/html": [
       "<div>\n",
       "<style scoped>\n",
       "    .dataframe tbody tr th:only-of-type {\n",
       "        vertical-align: middle;\n",
       "    }\n",
       "\n",
       "    .dataframe tbody tr th {\n",
       "        vertical-align: top;\n",
       "    }\n",
       "\n",
       "    .dataframe thead th {\n",
       "        text-align: right;\n",
       "    }\n",
       "</style>\n",
       "<table border=\"1\" class=\"dataframe\">\n",
       "  <thead>\n",
       "    <tr style=\"text-align: right;\">\n",
       "      <th></th>\n",
       "      <th>0</th>\n",
       "    </tr>\n",
       "  </thead>\n",
       "  <tbody>\n",
       "    <tr>\n",
       "      <th>Code INSEE</th>\n",
       "      <td>31080</td>\n",
       "    </tr>\n",
       "    <tr>\n",
       "      <th>Code Postal</th>\n",
       "      <td>31350</td>\n",
       "    </tr>\n",
       "    <tr>\n",
       "      <th>Commune</th>\n",
       "      <td>BOULOGNE-SUR-GESSE</td>\n",
       "    </tr>\n",
       "    <tr>\n",
       "      <th>Département</th>\n",
       "      <td>HAUTE-GARONNE</td>\n",
       "    </tr>\n",
       "    <tr>\n",
       "      <th>Région</th>\n",
       "      <td>MIDI-PYRENEES</td>\n",
       "    </tr>\n",
       "    <tr>\n",
       "      <th>Statut</th>\n",
       "      <td>Chef-lieu canton</td>\n",
       "    </tr>\n",
       "    <tr>\n",
       "      <th>Altitude Moyenne</th>\n",
       "      <td>301.0</td>\n",
       "    </tr>\n",
       "    <tr>\n",
       "      <th>Superficie</th>\n",
       "      <td>2470.0</td>\n",
       "    </tr>\n",
       "    <tr>\n",
       "      <th>Population</th>\n",
       "      <td>1.6</td>\n",
       "    </tr>\n",
       "    <tr>\n",
       "      <th>geo_point_2d</th>\n",
       "      <td>43.2904403081, 0.650641474176</td>\n",
       "    </tr>\n",
       "    <tr>\n",
       "      <th>geo_shape</th>\n",
       "      <td>{\"type\": \"Polygon\", \"coordinates\": [[[0.671852...</td>\n",
       "    </tr>\n",
       "  </tbody>\n",
       "</table>\n",
       "</div>"
      ],
      "text/plain": [
       "                                                                  0\n",
       "Code INSEE                                                    31080\n",
       "Code Postal                                                   31350\n",
       "Commune                                          BOULOGNE-SUR-GESSE\n",
       "Département                                           HAUTE-GARONNE\n",
       "Région                                                MIDI-PYRENEES\n",
       "Statut                                             Chef-lieu canton\n",
       "Altitude Moyenne                                              301.0\n",
       "Superficie                                                   2470.0\n",
       "Population                                                      1.6\n",
       "geo_point_2d                          43.2904403081, 0.650641474176\n",
       "geo_shape         {\"type\": \"Polygon\", \"coordinates\": [[[0.671852..."
      ]
     },
     "execution_count": 101,
     "metadata": {},
     "output_type": "execute_result"
    }
   ],
   "source": [
    "# accès à la première ligne\n",
    "geo.head(1).T"
   ]
  },
  {
   "cell_type": "code",
   "execution_count": 102,
   "metadata": {
    "scrolled": false
   },
   "outputs": [
    {
     "data": {
      "text/plain": [
       "pandas.core.frame.DataFrame"
      ]
     },
     "execution_count": 102,
     "metadata": {},
     "output_type": "execute_result"
    }
   ],
   "source": [
    "# accès à la première ligne\n",
    "var = geo.head(1).T\n",
    "type(var)"
   ]
  },
  {
   "cell_type": "code",
   "execution_count": 103,
   "metadata": {},
   "outputs": [
    {
     "data": {
      "text/html": [
       "<div>\n",
       "<style scoped>\n",
       "    .dataframe tbody tr th:only-of-type {\n",
       "        vertical-align: middle;\n",
       "    }\n",
       "\n",
       "    .dataframe tbody tr th {\n",
       "        vertical-align: top;\n",
       "    }\n",
       "\n",
       "    .dataframe thead th {\n",
       "        text-align: right;\n",
       "    }\n",
       "</style>\n",
       "<table border=\"1\" class=\"dataframe\">\n",
       "  <thead>\n",
       "    <tr style=\"text-align: right;\">\n",
       "      <th></th>\n",
       "      <th>0</th>\n",
       "    </tr>\n",
       "  </thead>\n",
       "  <tbody>\n",
       "    <tr>\n",
       "      <th>Code INSEE</th>\n",
       "      <td>31080</td>\n",
       "    </tr>\n",
       "    <tr>\n",
       "      <th>Code Postal</th>\n",
       "      <td>31350</td>\n",
       "    </tr>\n",
       "    <tr>\n",
       "      <th>Commune</th>\n",
       "      <td>BOULOGNE-SUR-GESSE</td>\n",
       "    </tr>\n",
       "    <tr>\n",
       "      <th>Département</th>\n",
       "      <td>HAUTE-GARONNE</td>\n",
       "    </tr>\n",
       "    <tr>\n",
       "      <th>Région</th>\n",
       "      <td>MIDI-PYRENEES</td>\n",
       "    </tr>\n",
       "    <tr>\n",
       "      <th>Statut</th>\n",
       "      <td>Chef-lieu canton</td>\n",
       "    </tr>\n",
       "    <tr>\n",
       "      <th>Altitude Moyenne</th>\n",
       "      <td>301.0</td>\n",
       "    </tr>\n",
       "    <tr>\n",
       "      <th>Superficie</th>\n",
       "      <td>2470.0</td>\n",
       "    </tr>\n",
       "    <tr>\n",
       "      <th>Population</th>\n",
       "      <td>1.6</td>\n",
       "    </tr>\n",
       "    <tr>\n",
       "      <th>geo_point_2d</th>\n",
       "      <td>43.2904403081, 0.650641474176</td>\n",
       "    </tr>\n",
       "    <tr>\n",
       "      <th>geo_shape</th>\n",
       "      <td>{\"type\": \"Polygon\", \"coordinates\": [[[0.671852...</td>\n",
       "    </tr>\n",
       "  </tbody>\n",
       "</table>\n",
       "</div>"
      ],
      "text/plain": [
       "                                                                  0\n",
       "Code INSEE                                                    31080\n",
       "Code Postal                                                   31350\n",
       "Commune                                          BOULOGNE-SUR-GESSE\n",
       "Département                                           HAUTE-GARONNE\n",
       "Région                                                MIDI-PYRENEES\n",
       "Statut                                             Chef-lieu canton\n",
       "Altitude Moyenne                                              301.0\n",
       "Superficie                                                   2470.0\n",
       "Population                                                      1.6\n",
       "geo_point_2d                          43.2904403081, 0.650641474176\n",
       "geo_shape         {\"type\": \"Polygon\", \"coordinates\": [[[0.671852..."
      ]
     },
     "execution_count": 103,
     "metadata": {},
     "output_type": "execute_result"
    }
   ],
   "source": [
    "var[0].to_frame()"
   ]
  },
  {
   "cell_type": "code",
   "execution_count": 104,
   "metadata": {
    "scrolled": false
   },
   "outputs": [
    {
     "data": {
      "text/html": [
       "<div>\n",
       "<style scoped>\n",
       "    .dataframe tbody tr th:only-of-type {\n",
       "        vertical-align: middle;\n",
       "    }\n",
       "\n",
       "    .dataframe tbody tr th {\n",
       "        vertical-align: top;\n",
       "    }\n",
       "\n",
       "    .dataframe thead th {\n",
       "        text-align: right;\n",
       "    }\n",
       "</style>\n",
       "<table border=\"1\" class=\"dataframe\">\n",
       "  <thead>\n",
       "    <tr style=\"text-align: right;\">\n",
       "      <th></th>\n",
       "      <th>Code Postal</th>\n",
       "      <th>Commune</th>\n",
       "      <th>Département</th>\n",
       "      <th>Région</th>\n",
       "      <th>Statut</th>\n",
       "      <th>Altitude Moyenne</th>\n",
       "      <th>Superficie</th>\n",
       "      <th>Population</th>\n",
       "      <th>geo_point_2d</th>\n",
       "      <th>geo_shape</th>\n",
       "    </tr>\n",
       "    <tr>\n",
       "      <th>Code INSEE</th>\n",
       "      <th></th>\n",
       "      <th></th>\n",
       "      <th></th>\n",
       "      <th></th>\n",
       "      <th></th>\n",
       "      <th></th>\n",
       "      <th></th>\n",
       "      <th></th>\n",
       "      <th></th>\n",
       "      <th></th>\n",
       "    </tr>\n",
       "  </thead>\n",
       "  <tbody>\n",
       "    <tr>\n",
       "      <th>31080</th>\n",
       "      <td>31350</td>\n",
       "      <td>BOULOGNE-SUR-GESSE</td>\n",
       "      <td>HAUTE-GARONNE</td>\n",
       "      <td>MIDI-PYRENEES</td>\n",
       "      <td>Chef-lieu canton</td>\n",
       "      <td>301.0</td>\n",
       "      <td>2470.0</td>\n",
       "      <td>1.6</td>\n",
       "      <td>43.2904403081, 0.650641474176</td>\n",
       "      <td>{\"type\": \"Polygon\", \"coordinates\": [[[0.671852...</td>\n",
       "    </tr>\n",
       "    <tr>\n",
       "      <th>11143</th>\n",
       "      <td>11510</td>\n",
       "      <td>FEUILLA</td>\n",
       "      <td>AUDE</td>\n",
       "      <td>LANGUEDOC-ROUSSILLON</td>\n",
       "      <td>Commune simple</td>\n",
       "      <td>314.0</td>\n",
       "      <td>2426.0</td>\n",
       "      <td>0.1</td>\n",
       "      <td>42.9291375888, 2.90138923544</td>\n",
       "      <td>{\"type\": \"Polygon\", \"coordinates\": [[[2.906996...</td>\n",
       "    </tr>\n",
       "    <tr>\n",
       "      <th>43028</th>\n",
       "      <td>43200</td>\n",
       "      <td>BESSAMOREL</td>\n",
       "      <td>HAUTE-LOIRE</td>\n",
       "      <td>AUVERGNE</td>\n",
       "      <td>Commune simple</td>\n",
       "      <td>888.0</td>\n",
       "      <td>743.0</td>\n",
       "      <td>0.4</td>\n",
       "      <td>45.1306448726, 4.07952494849</td>\n",
       "      <td>{\"type\": \"Polygon\", \"coordinates\": [[[4.091674...</td>\n",
       "    </tr>\n",
       "    <tr>\n",
       "      <th>78506</th>\n",
       "      <td>78660</td>\n",
       "      <td>PRUNAY-EN-YVELINES</td>\n",
       "      <td>YVELINES</td>\n",
       "      <td>ILE-DE-FRANCE</td>\n",
       "      <td>Commune simple</td>\n",
       "      <td>155.0</td>\n",
       "      <td>2717.0</td>\n",
       "      <td>0.8</td>\n",
       "      <td>48.5267627187, 1.80513972814</td>\n",
       "      <td>{\"type\": \"Polygon\", \"coordinates\": [[[1.829610...</td>\n",
       "    </tr>\n",
       "    <tr>\n",
       "      <th>84081</th>\n",
       "      <td>84310</td>\n",
       "      <td>MORIERES-LES-AVIGNON</td>\n",
       "      <td>VAUCLUSE</td>\n",
       "      <td>PROVENCE-ALPES-COTE D'AZUR</td>\n",
       "      <td>Commune simple</td>\n",
       "      <td>49.0</td>\n",
       "      <td>1042.0</td>\n",
       "      <td>7.6</td>\n",
       "      <td>43.9337788848, 4.90875878315</td>\n",
       "      <td>{\"type\": \"Polygon\", \"coordinates\": [[[4.927176...</td>\n",
       "    </tr>\n",
       "  </tbody>\n",
       "</table>\n",
       "</div>"
      ],
      "text/plain": [
       "           Code Postal               Commune    Département  \\\n",
       "Code INSEE                                                    \n",
       "31080            31350    BOULOGNE-SUR-GESSE  HAUTE-GARONNE   \n",
       "11143            11510               FEUILLA           AUDE   \n",
       "43028            43200            BESSAMOREL    HAUTE-LOIRE   \n",
       "78506            78660    PRUNAY-EN-YVELINES       YVELINES   \n",
       "84081            84310  MORIERES-LES-AVIGNON       VAUCLUSE   \n",
       "\n",
       "                                Région            Statut  Altitude Moyenne  \\\n",
       "Code INSEE                                                                   \n",
       "31080                    MIDI-PYRENEES  Chef-lieu canton             301.0   \n",
       "11143             LANGUEDOC-ROUSSILLON    Commune simple             314.0   \n",
       "43028                         AUVERGNE    Commune simple             888.0   \n",
       "78506                    ILE-DE-FRANCE    Commune simple             155.0   \n",
       "84081       PROVENCE-ALPES-COTE D'AZUR    Commune simple              49.0   \n",
       "\n",
       "            Superficie  Population                   geo_point_2d  \\\n",
       "Code INSEE                                                          \n",
       "31080           2470.0         1.6  43.2904403081, 0.650641474176   \n",
       "11143           2426.0         0.1   42.9291375888, 2.90138923544   \n",
       "43028            743.0         0.4   45.1306448726, 4.07952494849   \n",
       "78506           2717.0         0.8   48.5267627187, 1.80513972814   \n",
       "84081           1042.0         7.6   43.9337788848, 4.90875878315   \n",
       "\n",
       "                                                    geo_shape  \n",
       "Code INSEE                                                     \n",
       "31080       {\"type\": \"Polygon\", \"coordinates\": [[[0.671852...  \n",
       "11143       {\"type\": \"Polygon\", \"coordinates\": [[[2.906996...  \n",
       "43028       {\"type\": \"Polygon\", \"coordinates\": [[[4.091674...  \n",
       "78506       {\"type\": \"Polygon\", \"coordinates\": [[[1.829610...  \n",
       "84081       {\"type\": \"Polygon\", \"coordinates\": [[[4.927176...  "
      ]
     },
     "execution_count": 104,
     "metadata": {},
     "output_type": "execute_result"
    }
   ],
   "source": [
    "# modification de l'index\n",
    "geo = geo.set_index(\"Code INSEE\")\n",
    "geo.head()"
   ]
  },
  {
   "cell_type": "code",
   "execution_count": 117,
   "metadata": {},
   "outputs": [
    {
     "name": "stdout",
     "output_type": "stream",
     "text": [
      "<class 'pandas.core.frame.DataFrame'>\n",
      "Index: 36742 entries, 31080 to 50224\n",
      "Data columns (total 10 columns):\n",
      " #   Column            Non-Null Count  Dtype  \n",
      "---  ------            --------------  -----  \n",
      " 0   Code Postal       36742 non-null  object \n",
      " 1   Commune           36742 non-null  object \n",
      " 2   Département       36742 non-null  object \n",
      " 3   Région            36742 non-null  object \n",
      " 4   Statut            36742 non-null  object \n",
      " 5   Altitude Moyenne  36742 non-null  float64\n",
      " 6   Superficie        36742 non-null  float64\n",
      " 7   Population        36742 non-null  float64\n",
      " 8   geo_point_2d      36742 non-null  object \n",
      " 9   geo_shape         36742 non-null  object \n",
      "dtypes: float64(3), object(7)\n",
      "memory usage: 3.1+ MB\n"
     ]
    }
   ],
   "source": [
    "geo.info()"
   ]
  },
  {
   "cell_type": "code",
   "execution_count": 105,
   "metadata": {},
   "outputs": [],
   "source": [
    "pd.DataFrame.set_index?"
   ]
  },
  {
   "cell_type": "code",
   "execution_count": 118,
   "metadata": {},
   "outputs": [
    {
     "data": {
      "text/plain": [
       "Index(['31080', '11143', '43028', '78506', '84081', '80462', '40200', '17394',\n",
       "       '61422', '80496',\n",
       "       ...\n",
       "       '28379', '14325', '15024', '76008', '02137', '74066', '67315', '07122',\n",
       "       '01026', '50224'],\n",
       "      dtype='object', name='Code INSEE', length=36742)"
      ]
     },
     "execution_count": 118,
     "metadata": {},
     "output_type": "execute_result"
    }
   ],
   "source": [
    "geo.index"
   ]
  },
  {
   "cell_type": "code",
   "execution_count": 108,
   "metadata": {
    "scrolled": false
   },
   "outputs": [
    {
     "data": {
      "text/plain": [
       "True"
      ]
     },
     "execution_count": 108,
     "metadata": {},
     "output_type": "execute_result"
    }
   ],
   "source": [
    "# test de l'unicité de l'index\n",
    "geo.index.is_unique"
   ]
  },
  {
   "cell_type": "markdown",
   "metadata": {},
   "source": [
    "**Exercice**\n",
    "\n",
    "- Effectuez un reset_index() puis modifiez l'index en utilisant la colonne 'Commune'.\n",
    "- Testez l'unicité de l'index. Expliquez."
   ]
  },
  {
   "cell_type": "code",
   "execution_count": 121,
   "metadata": {},
   "outputs": [],
   "source": [
    "geo.set_index?"
   ]
  },
  {
   "cell_type": "code",
   "execution_count": 113,
   "metadata": {},
   "outputs": [
    {
     "ename": "KeyError",
     "evalue": "\"None of ['Commune'] are in the columns\"",
     "output_type": "error",
     "traceback": [
      "\u001b[0;31m---------------------------------------------------------------------------\u001b[0m",
      "\u001b[0;31mKeyError\u001b[0m                                  Traceback (most recent call last)",
      "\u001b[0;32m<ipython-input-113-53577fa736a3>\u001b[0m in \u001b[0;36m<module>\u001b[0;34m\u001b[0m\n\u001b[0;32m----> 1\u001b[0;31m \u001b[0mgeo\u001b[0m \u001b[0;34m=\u001b[0m \u001b[0mgeo\u001b[0m\u001b[0;34m.\u001b[0m\u001b[0mset_index\u001b[0m\u001b[0;34m(\u001b[0m\u001b[0;34m'Commune'\u001b[0m\u001b[0;34m)\u001b[0m\u001b[0;34m\u001b[0m\u001b[0;34m\u001b[0m\u001b[0m\n\u001b[0m\u001b[1;32m      2\u001b[0m \u001b[0mgeo\u001b[0m\u001b[0;34m.\u001b[0m\u001b[0mhead\u001b[0m\u001b[0;34m(\u001b[0m\u001b[0;34m)\u001b[0m\u001b[0;34m\u001b[0m\u001b[0;34m\u001b[0m\u001b[0m\n",
      "\u001b[0;32m~/opt/anaconda3/lib/python3.8/site-packages/pandas/core/frame.py\u001b[0m in \u001b[0;36mset_index\u001b[0;34m(self, keys, drop, append, inplace, verify_integrity)\u001b[0m\n\u001b[1;32m   4725\u001b[0m \u001b[0;34m\u001b[0m\u001b[0m\n\u001b[1;32m   4726\u001b[0m         \u001b[0;32mif\u001b[0m \u001b[0mmissing\u001b[0m\u001b[0;34m:\u001b[0m\u001b[0;34m\u001b[0m\u001b[0;34m\u001b[0m\u001b[0m\n\u001b[0;32m-> 4727\u001b[0;31m             \u001b[0;32mraise\u001b[0m \u001b[0mKeyError\u001b[0m\u001b[0;34m(\u001b[0m\u001b[0;34mf\"None of {missing} are in the columns\"\u001b[0m\u001b[0;34m)\u001b[0m\u001b[0;34m\u001b[0m\u001b[0;34m\u001b[0m\u001b[0m\n\u001b[0m\u001b[1;32m   4728\u001b[0m \u001b[0;34m\u001b[0m\u001b[0m\n\u001b[1;32m   4729\u001b[0m         \u001b[0;32mif\u001b[0m \u001b[0minplace\u001b[0m\u001b[0;34m:\u001b[0m\u001b[0;34m\u001b[0m\u001b[0;34m\u001b[0m\u001b[0m\n",
      "\u001b[0;31mKeyError\u001b[0m: \"None of ['Commune'] are in the columns\""
     ]
    }
   ],
   "source": [
    "geo = geo.set_index('Commune')\n",
    "geo.head()"
   ]
  },
  {
   "cell_type": "code",
   "execution_count": 110,
   "metadata": {},
   "outputs": [
    {
     "data": {
      "text/plain": [
       "False"
      ]
     },
     "execution_count": 110,
     "metadata": {},
     "output_type": "execute_result"
    }
   ],
   "source": [
    "geo.index.is_unique    # ?????"
   ]
  },
  {
   "cell_type": "code",
   "execution_count": 114,
   "metadata": {},
   "outputs": [
    {
     "data": {
      "text/html": [
       "<div>\n",
       "<style scoped>\n",
       "    .dataframe tbody tr th:only-of-type {\n",
       "        vertical-align: middle;\n",
       "    }\n",
       "\n",
       "    .dataframe tbody tr th {\n",
       "        vertical-align: top;\n",
       "    }\n",
       "\n",
       "    .dataframe thead th {\n",
       "        text-align: right;\n",
       "    }\n",
       "</style>\n",
       "<table border=\"1\" class=\"dataframe\">\n",
       "  <thead>\n",
       "    <tr style=\"text-align: right;\">\n",
       "      <th></th>\n",
       "      <th>Code Postal</th>\n",
       "      <th>Département</th>\n",
       "      <th>Région</th>\n",
       "      <th>Statut</th>\n",
       "      <th>Altitude Moyenne</th>\n",
       "      <th>Superficie</th>\n",
       "      <th>Population</th>\n",
       "      <th>geo_point_2d</th>\n",
       "      <th>geo_shape</th>\n",
       "    </tr>\n",
       "    <tr>\n",
       "      <th>Commune</th>\n",
       "      <th></th>\n",
       "      <th></th>\n",
       "      <th></th>\n",
       "      <th></th>\n",
       "      <th></th>\n",
       "      <th></th>\n",
       "      <th></th>\n",
       "      <th></th>\n",
       "      <th></th>\n",
       "    </tr>\n",
       "  </thead>\n",
       "  <tbody>\n",
       "    <tr>\n",
       "      <th>BOULOGNE-SUR-GESSE</th>\n",
       "      <td>31350</td>\n",
       "      <td>HAUTE-GARONNE</td>\n",
       "      <td>MIDI-PYRENEES</td>\n",
       "      <td>Chef-lieu canton</td>\n",
       "      <td>301.0</td>\n",
       "      <td>2470.0</td>\n",
       "      <td>1.6</td>\n",
       "      <td>43.2904403081, 0.650641474176</td>\n",
       "      <td>{\"type\": \"Polygon\", \"coordinates\": [[[0.671852...</td>\n",
       "    </tr>\n",
       "    <tr>\n",
       "      <th>FEUILLA</th>\n",
       "      <td>11510</td>\n",
       "      <td>AUDE</td>\n",
       "      <td>LANGUEDOC-ROUSSILLON</td>\n",
       "      <td>Commune simple</td>\n",
       "      <td>314.0</td>\n",
       "      <td>2426.0</td>\n",
       "      <td>0.1</td>\n",
       "      <td>42.9291375888, 2.90138923544</td>\n",
       "      <td>{\"type\": \"Polygon\", \"coordinates\": [[[2.906996...</td>\n",
       "    </tr>\n",
       "    <tr>\n",
       "      <th>BESSAMOREL</th>\n",
       "      <td>43200</td>\n",
       "      <td>HAUTE-LOIRE</td>\n",
       "      <td>AUVERGNE</td>\n",
       "      <td>Commune simple</td>\n",
       "      <td>888.0</td>\n",
       "      <td>743.0</td>\n",
       "      <td>0.4</td>\n",
       "      <td>45.1306448726, 4.07952494849</td>\n",
       "      <td>{\"type\": \"Polygon\", \"coordinates\": [[[4.091674...</td>\n",
       "    </tr>\n",
       "    <tr>\n",
       "      <th>PRUNAY-EN-YVELINES</th>\n",
       "      <td>78660</td>\n",
       "      <td>YVELINES</td>\n",
       "      <td>ILE-DE-FRANCE</td>\n",
       "      <td>Commune simple</td>\n",
       "      <td>155.0</td>\n",
       "      <td>2717.0</td>\n",
       "      <td>0.8</td>\n",
       "      <td>48.5267627187, 1.80513972814</td>\n",
       "      <td>{\"type\": \"Polygon\", \"coordinates\": [[[1.829610...</td>\n",
       "    </tr>\n",
       "    <tr>\n",
       "      <th>MORIERES-LES-AVIGNON</th>\n",
       "      <td>84310</td>\n",
       "      <td>VAUCLUSE</td>\n",
       "      <td>PROVENCE-ALPES-COTE D'AZUR</td>\n",
       "      <td>Commune simple</td>\n",
       "      <td>49.0</td>\n",
       "      <td>1042.0</td>\n",
       "      <td>7.6</td>\n",
       "      <td>43.9337788848, 4.90875878315</td>\n",
       "      <td>{\"type\": \"Polygon\", \"coordinates\": [[[4.927176...</td>\n",
       "    </tr>\n",
       "    <tr>\n",
       "      <th>LAMOTTE-BULEUX</th>\n",
       "      <td>80150</td>\n",
       "      <td>SOMME</td>\n",
       "      <td>PICARDIE</td>\n",
       "      <td>Commune simple</td>\n",
       "      <td>59.0</td>\n",
       "      <td>613.0</td>\n",
       "      <td>0.4</td>\n",
       "      <td>50.1865666179, 1.83564836965</td>\n",
       "      <td>{\"type\": \"Polygon\", \"coordinates\": [[[1.849459...</td>\n",
       "    </tr>\n",
       "    <tr>\n",
       "      <th>MOUSTEY</th>\n",
       "      <td>40410</td>\n",
       "      <td>LANDES</td>\n",
       "      <td>AQUITAINE</td>\n",
       "      <td>Commune simple</td>\n",
       "      <td>49.0</td>\n",
       "      <td>6736.0</td>\n",
       "      <td>0.7</td>\n",
       "      <td>44.3882918763, -0.750880080586</td>\n",
       "      <td>{\"type\": \"Polygon\", \"coordinates\": [[[-0.71016...</td>\n",
       "    </tr>\n",
       "    <tr>\n",
       "      <th>SAINT-SATURNIN-DU-BOIS</th>\n",
       "      <td>17700</td>\n",
       "      <td>CHARENTE-MARITIME</td>\n",
       "      <td>POITOU-CHARENTES</td>\n",
       "      <td>Commune simple</td>\n",
       "      <td>45.0</td>\n",
       "      <td>2528.0</td>\n",
       "      <td>0.9</td>\n",
       "      <td>46.1401428747, -0.665133364912</td>\n",
       "      <td>{\"type\": \"Polygon\", \"coordinates\": [[[-0.66124...</td>\n",
       "    </tr>\n",
       "    <tr>\n",
       "      <th>...</th>\n",
       "      <td>...</td>\n",
       "      <td>...</td>\n",
       "      <td>...</td>\n",
       "      <td>...</td>\n",
       "      <td>...</td>\n",
       "      <td>...</td>\n",
       "      <td>...</td>\n",
       "      <td>...</td>\n",
       "      <td>...</td>\n",
       "    </tr>\n",
       "    <tr>\n",
       "      <th>BRAGEAC</th>\n",
       "      <td>15700</td>\n",
       "      <td>CANTAL</td>\n",
       "      <td>AUVERGNE</td>\n",
       "      <td>Commune simple</td>\n",
       "      <td>555.0</td>\n",
       "      <td>1222.0</td>\n",
       "      <td>0.1</td>\n",
       "      <td>45.2038604898, 2.26559675808</td>\n",
       "      <td>{\"type\": \"Polygon\", \"coordinates\": [[[2.302124...</td>\n",
       "    </tr>\n",
       "    <tr>\n",
       "      <th>ANCOURT</th>\n",
       "      <td>76370</td>\n",
       "      <td>SEINE-MARITIME</td>\n",
       "      <td>HAUTE-NORMANDIE</td>\n",
       "      <td>Commune simple</td>\n",
       "      <td>80.0</td>\n",
       "      <td>1252.0</td>\n",
       "      <td>0.7</td>\n",
       "      <td>49.9085547953, 1.17898885458</td>\n",
       "      <td>{\"type\": \"Polygon\", \"coordinates\": [[[1.205457...</td>\n",
       "    </tr>\n",
       "    <tr>\n",
       "      <th>BUSSIARES</th>\n",
       "      <td>02810</td>\n",
       "      <td>AISNE</td>\n",
       "      <td>PICARDIE</td>\n",
       "      <td>Commune simple</td>\n",
       "      <td>141.0</td>\n",
       "      <td>769.0</td>\n",
       "      <td>0.1</td>\n",
       "      <td>49.0765910572, 3.25026191909</td>\n",
       "      <td>{\"type\": \"Polygon\", \"coordinates\": [[[3.258096...</td>\n",
       "    </tr>\n",
       "    <tr>\n",
       "      <th>CHAVANNAZ</th>\n",
       "      <td>74270</td>\n",
       "      <td>HAUTE-SAVOIE</td>\n",
       "      <td>RHONE-ALPES</td>\n",
       "      <td>Commune simple</td>\n",
       "      <td>564.0</td>\n",
       "      <td>321.0</td>\n",
       "      <td>0.2</td>\n",
       "      <td>46.0500384099, 6.01652644319</td>\n",
       "      <td>{\"type\": \"Polygon\", \"coordinates\": [[[6.026228...</td>\n",
       "    </tr>\n",
       "    <tr>\n",
       "      <th>NEEWILLER-PRES-LAUTERBOURG</th>\n",
       "      <td>67630</td>\n",
       "      <td>BAS-RHIN</td>\n",
       "      <td>ALSACE</td>\n",
       "      <td>Commune simple</td>\n",
       "      <td>157.0</td>\n",
       "      <td>725.0</td>\n",
       "      <td>0.7</td>\n",
       "      <td>48.9516989257, 8.11931601006</td>\n",
       "      <td>{\"type\": \"Polygon\", \"coordinates\": [[[8.106826...</td>\n",
       "    </tr>\n",
       "    <tr>\n",
       "      <th>LACHAPELLE-SOUS-AUBENAS</th>\n",
       "      <td>07200</td>\n",
       "      <td>ARDECHE</td>\n",
       "      <td>RHONE-ALPES</td>\n",
       "      <td>Commune simple</td>\n",
       "      <td>257.0</td>\n",
       "      <td>1018.0</td>\n",
       "      <td>1.5</td>\n",
       "      <td>44.5622616562, 4.35906947518</td>\n",
       "      <td>{\"type\": \"Polygon\", \"coordinates\": [[[4.356584...</td>\n",
       "    </tr>\n",
       "    <tr>\n",
       "      <th>BAGE-LE-CHATEL</th>\n",
       "      <td>01380</td>\n",
       "      <td>AIN</td>\n",
       "      <td>RHONE-ALPES</td>\n",
       "      <td>Chef-lieu canton</td>\n",
       "      <td>202.0</td>\n",
       "      <td>86.0</td>\n",
       "      <td>0.8</td>\n",
       "      <td>46.3077069231, 4.92862084189</td>\n",
       "      <td>{\"type\": \"Polygon\", \"coordinates\": [[[4.926593...</td>\n",
       "    </tr>\n",
       "    <tr>\n",
       "      <th>GUILBERVILLE</th>\n",
       "      <td>50160</td>\n",
       "      <td>MANCHE</td>\n",
       "      <td>BASSE-NORMANDIE</td>\n",
       "      <td>Commune simple</td>\n",
       "      <td>165.0</td>\n",
       "      <td>2224.0</td>\n",
       "      <td>1.0</td>\n",
       "      <td>48.9866701737, -0.949588175705</td>\n",
       "      <td>{\"type\": \"Polygon\", \"coordinates\": [[[-0.99753...</td>\n",
       "    </tr>\n",
       "  </tbody>\n",
       "</table>\n",
       "<p>36742 rows × 9 columns</p>\n",
       "</div>"
      ],
      "text/plain": [
       "                           Code Postal        Département  \\\n",
       "Commune                                                     \n",
       "BOULOGNE-SUR-GESSE               31350      HAUTE-GARONNE   \n",
       "FEUILLA                          11510               AUDE   \n",
       "BESSAMOREL                       43200        HAUTE-LOIRE   \n",
       "PRUNAY-EN-YVELINES               78660           YVELINES   \n",
       "MORIERES-LES-AVIGNON             84310           VAUCLUSE   \n",
       "LAMOTTE-BULEUX                   80150              SOMME   \n",
       "MOUSTEY                          40410             LANDES   \n",
       "SAINT-SATURNIN-DU-BOIS           17700  CHARENTE-MARITIME   \n",
       "...                                ...                ...   \n",
       "BRAGEAC                          15700             CANTAL   \n",
       "ANCOURT                          76370     SEINE-MARITIME   \n",
       "BUSSIARES                        02810              AISNE   \n",
       "CHAVANNAZ                        74270       HAUTE-SAVOIE   \n",
       "NEEWILLER-PRES-LAUTERBOURG       67630           BAS-RHIN   \n",
       "LACHAPELLE-SOUS-AUBENAS          07200            ARDECHE   \n",
       "BAGE-LE-CHATEL                   01380                AIN   \n",
       "GUILBERVILLE                     50160             MANCHE   \n",
       "\n",
       "                                                Région            Statut  \\\n",
       "Commune                                                                    \n",
       "BOULOGNE-SUR-GESSE                       MIDI-PYRENEES  Chef-lieu canton   \n",
       "FEUILLA                           LANGUEDOC-ROUSSILLON    Commune simple   \n",
       "BESSAMOREL                                    AUVERGNE    Commune simple   \n",
       "PRUNAY-EN-YVELINES                       ILE-DE-FRANCE    Commune simple   \n",
       "MORIERES-LES-AVIGNON        PROVENCE-ALPES-COTE D'AZUR    Commune simple   \n",
       "LAMOTTE-BULEUX                                PICARDIE    Commune simple   \n",
       "MOUSTEY                                      AQUITAINE    Commune simple   \n",
       "SAINT-SATURNIN-DU-BOIS                POITOU-CHARENTES    Commune simple   \n",
       "...                                                ...               ...   \n",
       "BRAGEAC                                       AUVERGNE    Commune simple   \n",
       "ANCOURT                                HAUTE-NORMANDIE    Commune simple   \n",
       "BUSSIARES                                     PICARDIE    Commune simple   \n",
       "CHAVANNAZ                                  RHONE-ALPES    Commune simple   \n",
       "NEEWILLER-PRES-LAUTERBOURG                      ALSACE    Commune simple   \n",
       "LACHAPELLE-SOUS-AUBENAS                    RHONE-ALPES    Commune simple   \n",
       "BAGE-LE-CHATEL                             RHONE-ALPES  Chef-lieu canton   \n",
       "GUILBERVILLE                           BASSE-NORMANDIE    Commune simple   \n",
       "\n",
       "                            Altitude Moyenne  Superficie  Population  \\\n",
       "Commune                                                                \n",
       "BOULOGNE-SUR-GESSE                     301.0      2470.0         1.6   \n",
       "FEUILLA                                314.0      2426.0         0.1   \n",
       "BESSAMOREL                             888.0       743.0         0.4   \n",
       "PRUNAY-EN-YVELINES                     155.0      2717.0         0.8   \n",
       "MORIERES-LES-AVIGNON                    49.0      1042.0         7.6   \n",
       "LAMOTTE-BULEUX                          59.0       613.0         0.4   \n",
       "MOUSTEY                                 49.0      6736.0         0.7   \n",
       "SAINT-SATURNIN-DU-BOIS                  45.0      2528.0         0.9   \n",
       "...                                      ...         ...         ...   \n",
       "BRAGEAC                                555.0      1222.0         0.1   \n",
       "ANCOURT                                 80.0      1252.0         0.7   \n",
       "BUSSIARES                              141.0       769.0         0.1   \n",
       "CHAVANNAZ                              564.0       321.0         0.2   \n",
       "NEEWILLER-PRES-LAUTERBOURG             157.0       725.0         0.7   \n",
       "LACHAPELLE-SOUS-AUBENAS                257.0      1018.0         1.5   \n",
       "BAGE-LE-CHATEL                         202.0        86.0         0.8   \n",
       "GUILBERVILLE                           165.0      2224.0         1.0   \n",
       "\n",
       "                                              geo_point_2d  \\\n",
       "Commune                                                      \n",
       "BOULOGNE-SUR-GESSE           43.2904403081, 0.650641474176   \n",
       "FEUILLA                       42.9291375888, 2.90138923544   \n",
       "BESSAMOREL                    45.1306448726, 4.07952494849   \n",
       "PRUNAY-EN-YVELINES            48.5267627187, 1.80513972814   \n",
       "MORIERES-LES-AVIGNON          43.9337788848, 4.90875878315   \n",
       "LAMOTTE-BULEUX                50.1865666179, 1.83564836965   \n",
       "MOUSTEY                     44.3882918763, -0.750880080586   \n",
       "SAINT-SATURNIN-DU-BOIS      46.1401428747, -0.665133364912   \n",
       "...                                                    ...   \n",
       "BRAGEAC                       45.2038604898, 2.26559675808   \n",
       "ANCOURT                       49.9085547953, 1.17898885458   \n",
       "BUSSIARES                     49.0765910572, 3.25026191909   \n",
       "CHAVANNAZ                     46.0500384099, 6.01652644319   \n",
       "NEEWILLER-PRES-LAUTERBOURG    48.9516989257, 8.11931601006   \n",
       "LACHAPELLE-SOUS-AUBENAS       44.5622616562, 4.35906947518   \n",
       "BAGE-LE-CHATEL                46.3077069231, 4.92862084189   \n",
       "GUILBERVILLE                48.9866701737, -0.949588175705   \n",
       "\n",
       "                                                                    geo_shape  \n",
       "Commune                                                                        \n",
       "BOULOGNE-SUR-GESSE          {\"type\": \"Polygon\", \"coordinates\": [[[0.671852...  \n",
       "FEUILLA                     {\"type\": \"Polygon\", \"coordinates\": [[[2.906996...  \n",
       "BESSAMOREL                  {\"type\": \"Polygon\", \"coordinates\": [[[4.091674...  \n",
       "PRUNAY-EN-YVELINES          {\"type\": \"Polygon\", \"coordinates\": [[[1.829610...  \n",
       "MORIERES-LES-AVIGNON        {\"type\": \"Polygon\", \"coordinates\": [[[4.927176...  \n",
       "LAMOTTE-BULEUX              {\"type\": \"Polygon\", \"coordinates\": [[[1.849459...  \n",
       "MOUSTEY                     {\"type\": \"Polygon\", \"coordinates\": [[[-0.71016...  \n",
       "SAINT-SATURNIN-DU-BOIS      {\"type\": \"Polygon\", \"coordinates\": [[[-0.66124...  \n",
       "...                                                                       ...  \n",
       "BRAGEAC                     {\"type\": \"Polygon\", \"coordinates\": [[[2.302124...  \n",
       "ANCOURT                     {\"type\": \"Polygon\", \"coordinates\": [[[1.205457...  \n",
       "BUSSIARES                   {\"type\": \"Polygon\", \"coordinates\": [[[3.258096...  \n",
       "CHAVANNAZ                   {\"type\": \"Polygon\", \"coordinates\": [[[6.026228...  \n",
       "NEEWILLER-PRES-LAUTERBOURG  {\"type\": \"Polygon\", \"coordinates\": [[[8.106826...  \n",
       "LACHAPELLE-SOUS-AUBENAS     {\"type\": \"Polygon\", \"coordinates\": [[[4.356584...  \n",
       "BAGE-LE-CHATEL              {\"type\": \"Polygon\", \"coordinates\": [[[4.926593...  \n",
       "GUILBERVILLE                {\"type\": \"Polygon\", \"coordinates\": [[[-0.99753...  \n",
       "\n",
       "[36742 rows x 9 columns]"
      ]
     },
     "execution_count": 114,
     "metadata": {},
     "output_type": "execute_result"
    }
   ],
   "source": [
    "geo"
   ]
  },
  {
   "cell_type": "markdown",
   "metadata": {},
   "source": [
    "## Sélections dans les Series\n",
    "\n",
    "- index (label) vs indice (position)\n",
    "- s[i]\n",
    "- s[[i, j, k]] (fancy indexing)\n",
    "- s[i:j], s[i:j:k]\n",
    "- s.loc[]\n",
    "- s.iloc[]\n",
    "- s[mask] (masque booléen ET &, OU |, NON ~)\n",
    "- opérations logiques all() et any()"
   ]
  },
  {
   "cell_type": "code",
   "execution_count": 140,
   "metadata": {},
   "outputs": [
    {
     "data": {
      "text/html": [
       "<div>\n",
       "<style scoped>\n",
       "    .dataframe tbody tr th:only-of-type {\n",
       "        vertical-align: middle;\n",
       "    }\n",
       "\n",
       "    .dataframe tbody tr th {\n",
       "        vertical-align: top;\n",
       "    }\n",
       "\n",
       "    .dataframe thead th {\n",
       "        text-align: right;\n",
       "    }\n",
       "</style>\n",
       "<table border=\"1\" class=\"dataframe\">\n",
       "  <thead>\n",
       "    <tr style=\"text-align: right;\">\n",
       "      <th></th>\n",
       "      <th>Code Postal</th>\n",
       "      <th>Commune</th>\n",
       "      <th>Département</th>\n",
       "      <th>Région</th>\n",
       "      <th>Statut</th>\n",
       "      <th>Altitude Moyenne</th>\n",
       "      <th>Superficie</th>\n",
       "      <th>Population</th>\n",
       "      <th>geo_point_2d</th>\n",
       "      <th>geo_shape</th>\n",
       "    </tr>\n",
       "    <tr>\n",
       "      <th>Code INSEE</th>\n",
       "      <th></th>\n",
       "      <th></th>\n",
       "      <th></th>\n",
       "      <th></th>\n",
       "      <th></th>\n",
       "      <th></th>\n",
       "      <th></th>\n",
       "      <th></th>\n",
       "      <th></th>\n",
       "      <th></th>\n",
       "    </tr>\n",
       "  </thead>\n",
       "  <tbody>\n",
       "    <tr>\n",
       "      <th>01001</th>\n",
       "      <td>01400</td>\n",
       "      <td>L'ABERGEMENT-CLEMENCIAT</td>\n",
       "      <td>AIN</td>\n",
       "      <td>RHONE-ALPES</td>\n",
       "      <td>Commune simple</td>\n",
       "      <td>242.0</td>\n",
       "      <td>1565.0</td>\n",
       "      <td>0.8</td>\n",
       "      <td>46.1534255214, 4.92611354223</td>\n",
       "      <td>{\"type\": \"Polygon\", \"coordinates\": [[[4.926273...</td>\n",
       "    </tr>\n",
       "    <tr>\n",
       "      <th>01002</th>\n",
       "      <td>01640</td>\n",
       "      <td>L'ABERGEMENT-DE-VAREY</td>\n",
       "      <td>AIN</td>\n",
       "      <td>RHONE-ALPES</td>\n",
       "      <td>Commune simple</td>\n",
       "      <td>483.0</td>\n",
       "      <td>912.0</td>\n",
       "      <td>0.2</td>\n",
       "      <td>46.0091878776, 5.42801696363</td>\n",
       "      <td>{\"type\": \"Polygon\", \"coordinates\": [[[5.430089...</td>\n",
       "    </tr>\n",
       "    <tr>\n",
       "      <th>01004</th>\n",
       "      <td>01500</td>\n",
       "      <td>AMBERIEU-EN-BUGEY</td>\n",
       "      <td>AIN</td>\n",
       "      <td>RHONE-ALPES</td>\n",
       "      <td>Chef-lieu canton</td>\n",
       "      <td>379.0</td>\n",
       "      <td>2448.0</td>\n",
       "      <td>13.4</td>\n",
       "      <td>45.9608475114, 5.3729257777</td>\n",
       "      <td>{\"type\": \"Polygon\", \"coordinates\": [[[5.386190...</td>\n",
       "    </tr>\n",
       "    <tr>\n",
       "      <th>01005</th>\n",
       "      <td>01330</td>\n",
       "      <td>AMBERIEUX-EN-DOMBES</td>\n",
       "      <td>AIN</td>\n",
       "      <td>RHONE-ALPES</td>\n",
       "      <td>Commune simple</td>\n",
       "      <td>290.0</td>\n",
       "      <td>1605.0</td>\n",
       "      <td>1.6</td>\n",
       "      <td>45.9961799872, 4.91227250796</td>\n",
       "      <td>{\"type\": \"Polygon\", \"coordinates\": [[[4.895580...</td>\n",
       "    </tr>\n",
       "    <tr>\n",
       "      <th>01006</th>\n",
       "      <td>01300</td>\n",
       "      <td>AMBLEON</td>\n",
       "      <td>AIN</td>\n",
       "      <td>RHONE-ALPES</td>\n",
       "      <td>Commune simple</td>\n",
       "      <td>589.0</td>\n",
       "      <td>602.0</td>\n",
       "      <td>0.1</td>\n",
       "      <td>45.7494989044, 5.59432017366</td>\n",
       "      <td>{\"type\": \"Polygon\", \"coordinates\": [[[5.614854...</td>\n",
       "    </tr>\n",
       "  </tbody>\n",
       "</table>\n",
       "</div>"
      ],
      "text/plain": [
       "           Code Postal                  Commune Département       Région  \\\n",
       "Code INSEE                                                                 \n",
       "01001            01400  L'ABERGEMENT-CLEMENCIAT         AIN  RHONE-ALPES   \n",
       "01002            01640    L'ABERGEMENT-DE-VAREY         AIN  RHONE-ALPES   \n",
       "01004            01500        AMBERIEU-EN-BUGEY         AIN  RHONE-ALPES   \n",
       "01005            01330      AMBERIEUX-EN-DOMBES         AIN  RHONE-ALPES   \n",
       "01006            01300                  AMBLEON         AIN  RHONE-ALPES   \n",
       "\n",
       "                      Statut  Altitude Moyenne  Superficie  Population  \\\n",
       "Code INSEE                                                               \n",
       "01001         Commune simple             242.0      1565.0         0.8   \n",
       "01002         Commune simple             483.0       912.0         0.2   \n",
       "01004       Chef-lieu canton             379.0      2448.0        13.4   \n",
       "01005         Commune simple             290.0      1605.0         1.6   \n",
       "01006         Commune simple             589.0       602.0         0.1   \n",
       "\n",
       "                            geo_point_2d  \\\n",
       "Code INSEE                                 \n",
       "01001       46.1534255214, 4.92611354223   \n",
       "01002       46.0091878776, 5.42801696363   \n",
       "01004        45.9608475114, 5.3729257777   \n",
       "01005       45.9961799872, 4.91227250796   \n",
       "01006       45.7494989044, 5.59432017366   \n",
       "\n",
       "                                                    geo_shape  \n",
       "Code INSEE                                                     \n",
       "01001       {\"type\": \"Polygon\", \"coordinates\": [[[4.926273...  \n",
       "01002       {\"type\": \"Polygon\", \"coordinates\": [[[5.430089...  \n",
       "01004       {\"type\": \"Polygon\", \"coordinates\": [[[5.386190...  \n",
       "01005       {\"type\": \"Polygon\", \"coordinates\": [[[4.895580...  \n",
       "01006       {\"type\": \"Polygon\", \"coordinates\": [[[5.614854...  "
      ]
     },
     "execution_count": 140,
     "metadata": {},
     "output_type": "execute_result"
    }
   ],
   "source": [
    "# chargement des données\n",
    "geo = pd.read_csv(\"correspondance-code-insee-code-postal.csv\",\n",
    "                   sep=';',\n",
    "                   usecols=range(11))\n",
    "geo = geo.set_index('Code INSEE')\n",
    "geo = geo.sort_index()\n",
    "geo.head()"
   ]
  },
  {
   "cell_type": "code",
   "execution_count": 116,
   "metadata": {},
   "outputs": [
    {
     "data": {
      "text/plain": [
       "Code INSEE\n",
       "01001    L'ABERGEMENT-CLEMENCIAT\n",
       "01002      L'ABERGEMENT-DE-VAREY\n",
       "01004          AMBERIEU-EN-BUGEY\n",
       "01005        AMBERIEUX-EN-DOMBES\n",
       "01006                    AMBLEON\n",
       "01007                   AMBRONAY\n",
       "01008                   AMBUTRIX\n",
       "01009           ANDERT-ET-CONDON\n",
       "                  ...           \n",
       "97610                    KOUNGOU\n",
       "97611                  MAMOUDZOU\n",
       "97612                  MTSAMBORO\n",
       "97613              M'TSANGAMOUJI\n",
       "97614                   OUANGANI\n",
       "97615                   PAMANDZI\n",
       "97616                       SADA\n",
       "97617                   TSINGONI\n",
       "Name: Commune, Length: 36742, dtype: object"
      ]
     },
     "execution_count": 116,
     "metadata": {},
     "output_type": "execute_result"
    }
   ],
   "source": [
    "# sélection par index\n",
    "s = geo['Commune']\n",
    "s"
   ]
  },
  {
   "cell_type": "code",
   "execution_count": 117,
   "metadata": {},
   "outputs": [
    {
     "data": {
      "text/plain": [
       "'PALAISEAU'"
      ]
     },
     "execution_count": 117,
     "metadata": {},
     "output_type": "execute_result"
    }
   ],
   "source": [
    "# sélection par index\n",
    "s = geo['Commune']\n",
    "s.loc['91477'] # ou s['91477']"
   ]
  },
  {
   "cell_type": "code",
   "execution_count": 118,
   "metadata": {},
   "outputs": [
    {
     "data": {
      "text/plain": [
       "'PALAISEAU'"
      ]
     },
     "execution_count": 118,
     "metadata": {},
     "output_type": "execute_result"
    }
   ],
   "source": [
    "# sélection par indice\n",
    "s.iloc[36240] # ou s[36240]"
   ]
  },
  {
   "cell_type": "code",
   "execution_count": 119,
   "metadata": {},
   "outputs": [
    {
     "data": {
      "text/plain": [
       "Code INSEE\n",
       "01001    L'ABERGEMENT-CLEMENCIAT\n",
       "01004          AMBERIEU-EN-BUGEY\n",
       "01006                    AMBLEON\n",
       "Name: Commune, dtype: object"
      ]
     },
     "execution_count": 119,
     "metadata": {},
     "output_type": "execute_result"
    }
   ],
   "source": [
    "# sélection par une liste d'index\n",
    "s.loc[['01001', '01004', '01006']] # ou s[['01001', '01004', '01006']]"
   ]
  },
  {
   "cell_type": "code",
   "execution_count": 120,
   "metadata": {},
   "outputs": [
    {
     "data": {
      "text/plain": [
       "Code INSEE\n",
       "01001    L'ABERGEMENT-CLEMENCIAT\n",
       "01004          AMBERIEU-EN-BUGEY\n",
       "01006                    AMBLEON\n",
       "Name: Commune, dtype: object"
      ]
     },
     "execution_count": 120,
     "metadata": {},
     "output_type": "execute_result"
    }
   ],
   "source": [
    "# sélection par une liste d'index\n",
    "liste = ['01001', '01004', '01006']\n",
    "s.loc[liste] # ou s[l]"
   ]
  },
  {
   "cell_type": "code",
   "execution_count": 121,
   "metadata": {},
   "outputs": [
    {
     "data": {
      "text/plain": [
       "Code INSEE\n",
       "01001    L'ABERGEMENT-CLEMENCIAT\n",
       "01004          AMBERIEU-EN-BUGEY\n",
       "01006                    AMBLEON\n",
       "Name: Commune, dtype: object"
      ]
     },
     "execution_count": 121,
     "metadata": {},
     "output_type": "execute_result"
    }
   ],
   "source": [
    "# sélection par une liste d'indices\n",
    "s.iloc[[0, 2, 4]] # ou s[[0, 2, 4]]"
   ]
  },
  {
   "cell_type": "code",
   "execution_count": 122,
   "metadata": {},
   "outputs": [
    {
     "data": {
      "text/plain": [
       "Code INSEE\n",
       "01001    L'ABERGEMENT-CLEMENCIAT\n",
       "01002      L'ABERGEMENT-DE-VAREY\n",
       "01004          AMBERIEU-EN-BUGEY\n",
       "01005        AMBERIEUX-EN-DOMBES\n",
       "01006                    AMBLEON\n",
       "Name: Commune, dtype: object"
      ]
     },
     "execution_count": 122,
     "metadata": {},
     "output_type": "execute_result"
    }
   ],
   "source": [
    "# sélection par une plage d'index\n",
    "# 01006 est inclus\n",
    "s.loc['01001':'01006'] # ou s['01001':'01006']"
   ]
  },
  {
   "cell_type": "code",
   "execution_count": 123,
   "metadata": {},
   "outputs": [
    {
     "data": {
      "text/plain": [
       "Code INSEE\n",
       "01001    L'ABERGEMENT-CLEMENCIAT\n",
       "01002      L'ABERGEMENT-DE-VAREY\n",
       "01004          AMBERIEU-EN-BUGEY\n",
       "01005        AMBERIEUX-EN-DOMBES\n",
       "01006                    AMBLEON\n",
       "Name: Commune, dtype: object"
      ]
     },
     "execution_count": 123,
     "metadata": {},
     "output_type": "execute_result"
    }
   ],
   "source": [
    "# sélection par une plage d'indices\n",
    "# 5 est exclu\n",
    "s.iloc[0:5] # ou s[0:5]"
   ]
  },
  {
   "cell_type": "code",
   "execution_count": 124,
   "metadata": {},
   "outputs": [
    {
     "data": {
      "text/plain": [
       "Code INSEE\n",
       "01001    L'ABERGEMENT-CLEMENCIAT\n",
       "01004          AMBERIEU-EN-BUGEY\n",
       "01006                    AMBLEON\n",
       "Name: Commune, dtype: object"
      ]
     },
     "execution_count": 124,
     "metadata": {},
     "output_type": "execute_result"
    }
   ],
   "source": [
    "# sélection par une plage d'index\n",
    "# 01006 est inclus\n",
    "s.loc['01001':'01006':2] # ou s['01001':'01006':2]"
   ]
  },
  {
   "cell_type": "code",
   "execution_count": 125,
   "metadata": {},
   "outputs": [
    {
     "data": {
      "text/plain": [
       "Code INSEE\n",
       "01001    L'ABERGEMENT-CLEMENCIAT\n",
       "01004          AMBERIEU-EN-BUGEY\n",
       "01006                    AMBLEON\n",
       "Name: Commune, dtype: object"
      ]
     },
     "execution_count": 125,
     "metadata": {},
     "output_type": "execute_result"
    }
   ],
   "source": [
    "# sélection par une plage d'indices\n",
    "# 5 est inclus\n",
    "s.iloc[0:5:2] # ou s[0:5:2]"
   ]
  },
  {
   "cell_type": "code",
   "execution_count": 126,
   "metadata": {},
   "outputs": [
    {
     "data": {
      "text/plain": [
       "Code INSEE\n",
       "01001    L'ABERGEMENT-CLEMENCIAT\n",
       "01002      L'ABERGEMENT-DE-VAREY\n",
       "01004          AMBERIEU-EN-BUGEY\n",
       "01005        AMBERIEUX-EN-DOMBES\n",
       "01006                    AMBLEON\n",
       "01007                   AMBRONAY\n",
       "01008                   AMBUTRIX\n",
       "01009           ANDERT-ET-CONDON\n",
       "                  ...           \n",
       "97610                    KOUNGOU\n",
       "97611                  MAMOUDZOU\n",
       "97612                  MTSAMBORO\n",
       "97613              M'TSANGAMOUJI\n",
       "97614                   OUANGANI\n",
       "97615                   PAMANDZI\n",
       "97616                       SADA\n",
       "97617                   TSINGONI\n",
       "Name: Commune, Length: 36742, dtype: object"
      ]
     },
     "execution_count": 126,
     "metadata": {},
     "output_type": "execute_result"
    }
   ],
   "source": [
    "# Series\n",
    "s"
   ]
  },
  {
   "cell_type": "code",
   "execution_count": 127,
   "metadata": {
    "scrolled": false
   },
   "outputs": [
    {
     "data": {
      "text/plain": [
       "Code INSEE\n",
       "01001    False\n",
       "01002    False\n",
       "01004     True\n",
       "01005     True\n",
       "01006     True\n",
       "01007     True\n",
       "01008     True\n",
       "01009     True\n",
       "         ...  \n",
       "97610    False\n",
       "97611    False\n",
       "97612    False\n",
       "97613    False\n",
       "97614    False\n",
       "97615    False\n",
       "97616    False\n",
       "97617    False\n",
       "Name: Commune, Length: 36742, dtype: bool"
      ]
     },
     "execution_count": 127,
     "metadata": {},
     "output_type": "execute_result"
    }
   ],
   "source": [
    "# vecteur de booléens selon si le nom de la ville commence par \"A\"\n",
    "masque = s.str.startswith(\"A\")\n",
    "masque"
   ]
  },
  {
   "cell_type": "code",
   "execution_count": 128,
   "metadata": {
    "scrolled": false
   },
   "outputs": [
    {
     "data": {
      "text/plain": [
       "Code INSEE\n",
       "01004      AMBERIEU-EN-BUGEY\n",
       "01005    AMBERIEUX-EN-DOMBES\n",
       "01006                AMBLEON\n",
       "01007               AMBRONAY\n",
       "01008               AMBUTRIX\n",
       "01009       ANDERT-ET-CONDON\n",
       "01010              ANGLEFORT\n",
       "01011               APREMONT\n",
       "                ...         \n",
       "95026      ASNIERES-SUR-OISE\n",
       "95028            ATTAINVILLE\n",
       "95039        AUVERS-SUR-OISE\n",
       "95040                AVERNES\n",
       "97102          ANSE-BERTRAND\n",
       "97360                 APATOU\n",
       "97361         AWALA-YALIMAPO\n",
       "97601                  ACOUA\n",
       "Name: Commune, Length: 1934, dtype: object"
      ]
     },
     "execution_count": 128,
     "metadata": {},
     "output_type": "execute_result"
    }
   ],
   "source": [
    "# sélection à partir du vecteur de booléens\n",
    "s.loc[masque]  # ou bien s[masque]"
   ]
  },
  {
   "cell_type": "code",
   "execution_count": 129,
   "metadata": {
    "scrolled": false
   },
   "outputs": [
    {
     "data": {
      "text/plain": [
       "Code INSEE\n",
       "01331                   SAINT-ALBAN\n",
       "01332           SAINT-ANDRE-DE-BAGE\n",
       "01333          SAINT-ANDRE-DE-CORCY\n",
       "01334         SAINT-ANDRE-D'HUIRIAT\n",
       "01335       SAINT-ANDRE-LE-BOUCHOUX\n",
       "01336    SAINT-ANDRE-SUR-VIEUX-JONC\n",
       "01337                 SAINT-BENIGNE\n",
       "01338                  SAINT-BENOIT\n",
       "                    ...            \n",
       "97413                     SAINT-LEU\n",
       "97414                   SAINT-LOUIS\n",
       "97415                    SAINT-PAUL\n",
       "97416                  SAINT-PIERRE\n",
       "97417                SAINT-PHILIPPE\n",
       "97418                  SAINTE-MARIE\n",
       "97419                   SAINTE-ROSE\n",
       "97420                SAINTE-SUZANNE\n",
       "Name: Commune, Length: 4256, dtype: object"
      ]
     },
     "execution_count": 129,
     "metadata": {},
     "output_type": "execute_result"
    }
   ],
   "source": [
    "# les communes qui commencent par SAINT\n",
    "s.loc[s.str.startswith(\"SAINT\")]"
   ]
  },
  {
   "cell_type": "code",
   "execution_count": 130,
   "metadata": {},
   "outputs": [
    {
     "data": {
      "text/plain": [
       "Code INSEE\n",
       "01331                   SAINT-ALBAN\n",
       "01332           SAINT-ANDRE-DE-BAGE\n",
       "01333          SAINT-ANDRE-DE-CORCY\n",
       "01334         SAINT-ANDRE-D'HUIRIAT\n",
       "01335       SAINT-ANDRE-LE-BOUCHOUX\n",
       "01336    SAINT-ANDRE-SUR-VIEUX-JONC\n",
       "01337                 SAINT-BENIGNE\n",
       "01338                  SAINT-BENOIT\n",
       "                    ...            \n",
       "97413                     SAINT-LEU\n",
       "97414                   SAINT-LOUIS\n",
       "97415                    SAINT-PAUL\n",
       "97416                  SAINT-PIERRE\n",
       "97417                SAINT-PHILIPPE\n",
       "97418                  SAINTE-MARIE\n",
       "97419                   SAINTE-ROSE\n",
       "97420                SAINTE-SUZANNE\n",
       "Name: Commune, Length: 4256, dtype: object"
      ]
     },
     "execution_count": 130,
     "metadata": {},
     "output_type": "execute_result"
    }
   ],
   "source": [
    "s[s.str.startswith(\"SAINT\")]"
   ]
  },
  {
   "cell_type": "markdown",
   "metadata": {},
   "source": [
    "**Exercice**\n",
    "- Quelles communes commencent par la lettre \"Z\" ?\n",
    "- Quelles communes commencent et finissent par la lettre \"Y\" ?\n",
    "- Combien de communes sont \"SUR-MER\" ?\n",
    "- Quelles communes ont un nom avec la préposition \"SOUS\" ?\n",
    "- Quelles communes ont un nom avec \"SOUS\" mais pas la préposition \"SOUS\" ?"
   ]
  },
  {
   "cell_type": "code",
   "execution_count": 140,
   "metadata": {},
   "outputs": [
    {
     "data": {
      "text/plain": [
       "Code INSEE\n",
       "2A357         ZERUBIA\n",
       "2A358          ZEVACO\n",
       "2A359          ZICAVO\n",
       "2A360        ZIGLIARA\n",
       "2A362           ZONZA\n",
       "2A363            ZOZA\n",
       "2B356          ZALANA\n",
       "2B361           ZILIA\n",
       "2B364           ZUANI\n",
       "57759       ZARBELING\n",
       "57760         ZETTING\n",
       "57761         ZILLING\n",
       "57762         ZIMMING\n",
       "57763        ZOMMANGE\n",
       "57764       ZOUFFTGEN\n",
       "59666    ZEGERSCAPPEL\n",
       "59667      ZERMEZEELE\n",
       "59668       ZUYDCOOTE\n",
       "59669       ZUYTPEENE\n",
       "62903          ZOTEUX\n",
       "62904       ZOUAFQUES\n",
       "62905      ZUDAUSQUES\n",
       "62906       ZUTKERQUE\n",
       "67555       ZEHNACKER\n",
       "67556        ZEINHEIM\n",
       "67557      ZELLWILLER\n",
       "67558      ZINSWILLER\n",
       "67559     ZITTERSHEIM\n",
       "67560     ZOEBERSDORF\n",
       "68382      ZAESSINGUE\n",
       "68383      ZELLENBERG\n",
       "68384      ZILLISHEIM\n",
       "68385      ZIMMERBACH\n",
       "68386     ZIMMERSHEIM\n",
       "88532        ZINCOURT\n",
       "Name: Commune, dtype: object"
      ]
     },
     "execution_count": 140,
     "metadata": {},
     "output_type": "execute_result"
    }
   ],
   "source": [
    "s.loc[s.str.startswith(\"Z\")]"
   ]
  },
  {
   "cell_type": "code",
   "execution_count": 131,
   "metadata": {},
   "outputs": [
    {
     "data": {
      "text/plain": [
       "Code INSEE\n",
       "28425     YMERAY\n",
       "49381    YZERNAY\n",
       "80829          Y\n",
       "86300    YVERSAY\n",
       "Name: Commune, dtype: object"
      ]
     },
     "execution_count": 131,
     "metadata": {},
     "output_type": "execute_result"
    }
   ],
   "source": [
    "s.loc[s.str.startswith(\"Y\") & s.str.endswith(\"Y\")]"
   ]
  },
  {
   "cell_type": "code",
   "execution_count": 143,
   "metadata": {},
   "outputs": [
    {
     "data": {
      "text/plain": [
       "Code INSEE\n",
       "06011         BEAULIEU-SUR-MER\n",
       "06027           CAGNES-SUR-MER\n",
       "06138          THEOULE-SUR-MER\n",
       "06159     VILLEFRANCHE-SUR-MER\n",
       "13039              FOS-SUR-MER\n",
       "14059       BENERVILLE-SUR-MER\n",
       "14062             BENY-SUR-MER\n",
       "14066        BERNIERES-SUR-MER\n",
       "                 ...          \n",
       "85035     BRETIGNOLLES-SUR-MER\n",
       "85114             JARD-SUR-MER\n",
       "85127       LONGEVILLE-SUR-MER\n",
       "85166           OLONNE-SUR-MER\n",
       "85201    SAINT-BENOIST-SUR-MER\n",
       "85243             BREM-SUR-MER\n",
       "85294       LA TRANCHE-SUR-MER\n",
       "85307         LA FAUTE-SUR-MER\n",
       "Name: Commune, Length: 100, dtype: object"
      ]
     },
     "execution_count": 143,
     "metadata": {},
     "output_type": "execute_result"
    }
   ],
   "source": [
    "s.loc[s.str.endswith(\"-SUR-MER\")]"
   ]
  },
  {
   "cell_type": "code",
   "execution_count": 144,
   "metadata": {},
   "outputs": [
    {
     "data": {
      "text/plain": [
       "Code INSEE\n",
       "02028              ATHIES-SOUS-LAON\n",
       "02037             AULNOIS-SOUS-LAON\n",
       "02107        BOURGUIGNON-SOUS-COUCY\n",
       "02108    BOURGUIGNON-SOUS-MONTBAVIN\n",
       "02147      LA CELLE-SOUS-MONTMIRAIL\n",
       "02423            LEUILLY-SOUS-COUCY\n",
       "02460              MARCY-SOUS-MARLE\n",
       "02516           MONTIGNY-SOUS-MARLE\n",
       "                    ...            \n",
       "93014              CLICHY-SOUS-BOIS\n",
       "93057       LES PAVILLONS-SOUS-BOIS\n",
       "93064               ROSNY-SOUS-BOIS\n",
       "94033            FONTENAY-SOUS-BOIS\n",
       "95316               JAGNY-SOUS-BOIS\n",
       "95539        SAINT-BRICE-SOUS-FORET\n",
       "95598        SOISY-SOUS-MONTMORENCY\n",
       "95660           VILLAINES-SOUS-BOIS\n",
       "Name: Commune, Length: 277, dtype: object"
      ]
     },
     "execution_count": 144,
     "metadata": {},
     "output_type": "execute_result"
    }
   ],
   "source": [
    "s.loc[s.str.contains(\"-SOUS-\")]"
   ]
  },
  {
   "cell_type": "code",
   "execution_count": 132,
   "metadata": {},
   "outputs": [
    {
     "data": {
      "text/plain": [
       "Code INSEE\n",
       "17433                 SOUSMOULINS\n",
       "21613         SOUSSEY-SUR-BRIONNE\n",
       "23175                 SOUS-PARSAT\n",
       "25001              ABBANS-DESSOUS\n",
       "25034               AUXON-DESSOUS\n",
       "26343                  SOUSPIERRE\n",
       "30323                   SOUSTELLE\n",
       "31015               ARGUT-DESSOUS\n",
       "31064    BENQUE-DESSOUS-ET-DESSUS\n",
       "31408                    PAYSSOUS\n",
       "32218              LOUSSOUS-DEBAT\n",
       "33516                     SOUSSAC\n",
       "33517                    SOUSSANS\n",
       "38497                   SOUSVILLE\n",
       "40069         CASTAIGNOS-SOUSLENS\n",
       "40310                    SOUSTONS\n",
       "46311                  SOUSCEYRAC\n",
       "47066            CLERMONT-DESSOUS\n",
       "51545                   SOMMESOUS\n",
       "65032              ARRENS-MARSOUS\n",
       "73263       SAINT-OFFENGE-DESSOUS\n",
       "91689                     WISSOUS\n",
       "Name: Commune, dtype: object"
      ]
     },
     "execution_count": 132,
     "metadata": {},
     "output_type": "execute_result"
    }
   ],
   "source": [
    "s.loc[s.str.contains(\"SOUS\")&~s.str.contains(\"-SOUS-\")]"
   ]
  },
  {
   "cell_type": "markdown",
   "metadata": {},
   "source": [
    "### Point sur les expressions régulières\n",
    "\n",
    "Voir le module **re**"
   ]
  },
  {
   "cell_type": "code",
   "execution_count": 146,
   "metadata": {},
   "outputs": [
    {
     "data": {
      "text/plain": [
       "Code INSEE\n",
       "2A027              AZZANA\n",
       "2A099             COZZANO\n",
       "2A118             FOZZANO\n",
       "2A259               REZZA\n",
       "2A336    VALLE-DI-MEZZANA\n",
       "2B143        LINGUIZZETTA\n",
       "2B147               LOZZI\n",
       "2B149       LUGO-DI-NAZZA\n",
       "2B157             MAZZOLA\n",
       "2B164    MONACIA-D'OREZZA\n",
       "2B216            PIAZZALI\n",
       "2B217            PIAZZOLE\n",
       "2B222        PIE-D'OREZZA\n",
       "2B236     POGGIO-DI-NAZZA\n",
       "2B242      POGGIO-MEZZANA\n",
       "2B291            STAZZONA\n",
       "2B338      VALLE-D'OREZZA\n",
       "2B347             VEZZANI\n",
       "68030       BERGHOLTZZELL\n",
       "Name: Commune, dtype: object"
      ]
     },
     "execution_count": 146,
     "metadata": {},
     "output_type": "execute_result"
    }
   ],
   "source": [
    "# les communes comportant 2 Z accolés\n",
    "s.loc[s.str.contains(\"ZZ\")]"
   ]
  },
  {
   "cell_type": "code",
   "execution_count": 151,
   "metadata": {},
   "outputs": [
    {
     "data": {
      "text/plain": [
       "Code INSEE\n",
       "2A027                 AZZANA\n",
       "2A099                COZZANO\n",
       "2A118                FOZZANO\n",
       "2A259                  REZZA\n",
       "2A336       VALLE-DI-MEZZANA\n",
       "2A363                   ZOZA\n",
       "2B143           LINGUIZZETTA\n",
       "2B147                  LOZZI\n",
       "2B149          LUGO-DI-NAZZA\n",
       "2B157                MAZZOLA\n",
       "2B164       MONACIA-D'OREZZA\n",
       "2B216               PIAZZALI\n",
       "2B217               PIAZZOLE\n",
       "2B222           PIE-D'OREZZA\n",
       "2B236        POGGIO-DI-NAZZA\n",
       "2B242         POGGIO-MEZZANA\n",
       "2B291               STAZZONA\n",
       "2B338         VALLE-D'OREZZA\n",
       "2B347                VEZZANI\n",
       "43261               VEZEZOUX\n",
       "68030          BERGHOLTZZELL\n",
       "71174    DEZIZE-LES-MARANGES\n",
       "Name: Commune, dtype: object"
      ]
     },
     "execution_count": 151,
     "metadata": {},
     "output_type": "execute_result"
    }
   ],
   "source": [
    "s.loc[s.str.contains(\"Z.?Z\")]  #contains 1 Z ou 2Z"
   ]
  },
  {
   "cell_type": "code",
   "execution_count": 147,
   "metadata": {},
   "outputs": [],
   "source": [
    "pd.Series.str.contains?"
   ]
  },
  {
   "cell_type": "markdown",
   "metadata": {},
   "source": [
    "Caractères spéciaux :\n",
    "\n",
    "- `.`: tout caractère\n",
    "- ^: le début de la chaine\n",
    "- $: la fin de la chaine\n",
    "- *: 0 ou plusieurs répétitions du motif précédent\n",
    "- +: 1 ou plusieurs répétitions du motif précédent\n",
    "- ?: 0 ou 1 répétition du motif précédent\n",
    "- \\\\: pour que ces caractères soient traités normalement, il faut les préfixer par un \\\\\n",
    "- [A-Za-zÀ-ÿ0-9] : tout caractère alphanumérique\n",
    "- () : capture du motif entre parenthèses"
   ]
  },
  {
   "cell_type": "code",
   "execution_count": 133,
   "metadata": {},
   "outputs": [
    {
     "data": {
      "text/plain": [
       "Code INSEE\n",
       "07161      MONTPEZAT-SOUS-BAUZON\n",
       "09105         DAUMAZAN-SUR-ARIZE\n",
       "09167             LEZAT-SUR-LEZE\n",
       "11034           BELVEZE-DU-RAZES\n",
       "11228        MAZEROLLES-DU-RAZES\n",
       "11417         VILLARZEL-DU-RAZES\n",
       "12294          VEZINS-DE-LEVEZOU\n",
       "16378                TAIZE-AIZIE\n",
       "                  ...           \n",
       "69229    SAINT-NIZIER-D'AZERGUES\n",
       "71174        DEZIZE-LES-MARANGES\n",
       "74310            VIUZ-LA-CHIESAZ\n",
       "74311             VIUZ-EN-SALLAZ\n",
       "78337              LIMETZ-VILLEZ\n",
       "88404        ROZIERES-SUR-MOUZON\n",
       "95282                 GOUZANGREZ\n",
       "97608                   DZAOUDZI\n",
       "Name: Commune, Length: 67, dtype: object"
      ]
     },
     "execution_count": 133,
     "metadata": {},
     "output_type": "execute_result"
    }
   ],
   "source": [
    "# les communes comportant 2 Z\n",
    "s.loc[s.str.contains(\"Z.*Z\")]  #contains 1 Z ou plusieurs Z"
   ]
  },
  {
   "cell_type": "code",
   "execution_count": 134,
   "metadata": {},
   "outputs": [
    {
     "data": {
      "text/plain": [
       "Code INSEE\n",
       "07161       MONTPEZAT-SOUS-BAUZON\n",
       "09105          DAUMAZAN-SUR-ARIZE\n",
       "09167              LEZAT-SUR-LEZE\n",
       "11034            BELVEZE-DU-RAZES\n",
       "11228         MAZEROLLES-DU-RAZES\n",
       "11417          VILLARZEL-DU-RAZES\n",
       "12294           VEZINS-DE-LEVEZOU\n",
       "16378                 TAIZE-AIZIE\n",
       "29008            BEUZEC-CAP-SIZUN\n",
       "29176             PLONEVEZ-PORZAY\n",
       "2A026              AZILONE-AMPAZA\n",
       "2A362                       ZONZA\n",
       "2A363                        ZOZA\n",
       "31245               JUZET-D'IZAUT\n",
       "34069         CAZOULS-LES-BEZIERS\n",
       "34279    SAINT-NAZAIRE-DE-LADAREZ\n",
       "34280      SAINT-NAZAIRE-DE-PEZAN\n",
       "34310          THEZAN-LES-BEZIERS\n",
       "42193             ROZIER-EN-DONZY\n",
       "43131             MAZERAT-AUROUZE\n",
       "43261                    VEZEZOUX\n",
       "45026        BAZOCHES-SUR-LE-BETZ\n",
       "45204          MEZIERES-LEZ-CLERY\n",
       "45245          OUZOUER-SUR-TREZEE\n",
       "47006          ALLEZ-ET-CAZENEUVE\n",
       "54129           CIREY-SUR-VEZOUZE\n",
       "54161         DOMEVRE-SUR-VEZOUZE\n",
       "55024      AZANNES-ET-SOUMAZANNES\n",
       "55178          ERIZE-SAINT-DIZIER\n",
       "56090           INZINZAC-LOCHRIST\n",
       "57433          MAIZIERES-LES-METZ\n",
       "58116                   FLEZ-CUZY\n",
       "59667                  ZERMEZEELE\n",
       "63435           TOURZEL-RONZIERES\n",
       "64063           ARZACQ-ARRAZIGUET\n",
       "64373              MAZERES-LEZONS\n",
       "65020           ARCIZAC-EZ-ANGLES\n",
       "65203               GEZ-EZ-ANGLES\n",
       "67347       OBERMODERN-ZUTZENDORF\n",
       "69052           CHAZAY-D'AZERGUES\n",
       "69229     SAINT-NIZIER-D'AZERGUES\n",
       "71174         DEZIZE-LES-MARANGES\n",
       "74310             VIUZ-LA-CHIESAZ\n",
       "74311              VIUZ-EN-SALLAZ\n",
       "78337               LIMETZ-VILLEZ\n",
       "88404         ROZIERES-SUR-MOUZON\n",
       "95282                  GOUZANGREZ\n",
       "97608                    DZAOUDZI\n",
       "Name: Commune, dtype: object"
      ]
     },
     "execution_count": 134,
     "metadata": {},
     "output_type": "execute_result"
    }
   ],
   "source": [
    "# les communes comportant 2 Z ou plusieurs\n",
    "s.loc[s.str.contains(\"Z.+Z\")]"
   ]
  },
  {
   "cell_type": "code",
   "execution_count": 135,
   "metadata": {},
   "outputs": [],
   "source": [
    "# import re"
   ]
  },
  {
   "cell_type": "markdown",
   "metadata": {},
   "source": [
    "### Sélections dans les DataFrames"
   ]
  },
  {
   "cell_type": "code",
   "execution_count": 136,
   "metadata": {
    "scrolled": false
   },
   "outputs": [
    {
     "data": {
      "text/plain": [
       "Code INSEE\n",
       "01001    L'ABERGEMENT-CLEMENCIAT\n",
       "01002      L'ABERGEMENT-DE-VAREY\n",
       "01004          AMBERIEU-EN-BUGEY\n",
       "01005        AMBERIEUX-EN-DOMBES\n",
       "01006                    AMBLEON\n",
       "01007                   AMBRONAY\n",
       "01008                   AMBUTRIX\n",
       "01009           ANDERT-ET-CONDON\n",
       "                  ...           \n",
       "97610                    KOUNGOU\n",
       "97611                  MAMOUDZOU\n",
       "97612                  MTSAMBORO\n",
       "97613              M'TSANGAMOUJI\n",
       "97614                   OUANGANI\n",
       "97615                   PAMANDZI\n",
       "97616                       SADA\n",
       "97617                   TSINGONI\n",
       "Name: Commune, Length: 36742, dtype: object"
      ]
     },
     "execution_count": 136,
     "metadata": {},
     "output_type": "execute_result"
    }
   ],
   "source": [
    "# sélection d'une colonne\n",
    "geo[\"Commune\"]"
   ]
  },
  {
   "cell_type": "code",
   "execution_count": 137,
   "metadata": {},
   "outputs": [
    {
     "data": {
      "text/plain": [
       "Code INSEE\n",
       "01001    L'ABERGEMENT-CLEMENCIAT\n",
       "01002      L'ABERGEMENT-DE-VAREY\n",
       "01004          AMBERIEU-EN-BUGEY\n",
       "01005        AMBERIEUX-EN-DOMBES\n",
       "01006                    AMBLEON\n",
       "01007                   AMBRONAY\n",
       "01008                   AMBUTRIX\n",
       "01009           ANDERT-ET-CONDON\n",
       "                  ...           \n",
       "97610                    KOUNGOU\n",
       "97611                  MAMOUDZOU\n",
       "97612                  MTSAMBORO\n",
       "97613              M'TSANGAMOUJI\n",
       "97614                   OUANGANI\n",
       "97615                   PAMANDZI\n",
       "97616                       SADA\n",
       "97617                   TSINGONI\n",
       "Name: Commune, Length: 36742, dtype: object"
      ]
     },
     "execution_count": 137,
     "metadata": {},
     "output_type": "execute_result"
    }
   ],
   "source": [
    "geo.Commune"
   ]
  },
  {
   "cell_type": "code",
   "execution_count": 138,
   "metadata": {
    "scrolled": false
   },
   "outputs": [
    {
     "data": {
      "text/html": [
       "<div>\n",
       "<style scoped>\n",
       "    .dataframe tbody tr th:only-of-type {\n",
       "        vertical-align: middle;\n",
       "    }\n",
       "\n",
       "    .dataframe tbody tr th {\n",
       "        vertical-align: top;\n",
       "    }\n",
       "\n",
       "    .dataframe thead th {\n",
       "        text-align: right;\n",
       "    }\n",
       "</style>\n",
       "<table border=\"1\" class=\"dataframe\">\n",
       "  <thead>\n",
       "    <tr style=\"text-align: right;\">\n",
       "      <th></th>\n",
       "      <th>Commune</th>\n",
       "      <th>Superficie</th>\n",
       "      <th>Population</th>\n",
       "    </tr>\n",
       "    <tr>\n",
       "      <th>Code INSEE</th>\n",
       "      <th></th>\n",
       "      <th></th>\n",
       "      <th></th>\n",
       "    </tr>\n",
       "  </thead>\n",
       "  <tbody>\n",
       "    <tr>\n",
       "      <th>01001</th>\n",
       "      <td>L'ABERGEMENT-CLEMENCIAT</td>\n",
       "      <td>1565.0</td>\n",
       "      <td>0.8</td>\n",
       "    </tr>\n",
       "    <tr>\n",
       "      <th>01002</th>\n",
       "      <td>L'ABERGEMENT-DE-VAREY</td>\n",
       "      <td>912.0</td>\n",
       "      <td>0.2</td>\n",
       "    </tr>\n",
       "    <tr>\n",
       "      <th>01004</th>\n",
       "      <td>AMBERIEU-EN-BUGEY</td>\n",
       "      <td>2448.0</td>\n",
       "      <td>13.4</td>\n",
       "    </tr>\n",
       "    <tr>\n",
       "      <th>01005</th>\n",
       "      <td>AMBERIEUX-EN-DOMBES</td>\n",
       "      <td>1605.0</td>\n",
       "      <td>1.6</td>\n",
       "    </tr>\n",
       "    <tr>\n",
       "      <th>01006</th>\n",
       "      <td>AMBLEON</td>\n",
       "      <td>602.0</td>\n",
       "      <td>0.1</td>\n",
       "    </tr>\n",
       "  </tbody>\n",
       "</table>\n",
       "</div>"
      ],
      "text/plain": [
       "                            Commune  Superficie  Population\n",
       "Code INSEE                                                 \n",
       "01001       L'ABERGEMENT-CLEMENCIAT      1565.0         0.8\n",
       "01002         L'ABERGEMENT-DE-VAREY       912.0         0.2\n",
       "01004             AMBERIEU-EN-BUGEY      2448.0        13.4\n",
       "01005           AMBERIEUX-EN-DOMBES      1605.0         1.6\n",
       "01006                       AMBLEON       602.0         0.1"
      ]
     },
     "execution_count": 138,
     "metadata": {},
     "output_type": "execute_result"
    }
   ],
   "source": [
    "# communes + superficie et population\n",
    "liste = [\"Commune\", \"Superficie\", \"Population\"]\n",
    "geo[liste].head()"
   ]
  },
  {
   "cell_type": "code",
   "execution_count": 139,
   "metadata": {
    "scrolled": false
   },
   "outputs": [
    {
     "data": {
      "text/html": [
       "<div>\n",
       "<style scoped>\n",
       "    .dataframe tbody tr th:only-of-type {\n",
       "        vertical-align: middle;\n",
       "    }\n",
       "\n",
       "    .dataframe tbody tr th {\n",
       "        vertical-align: top;\n",
       "    }\n",
       "\n",
       "    .dataframe thead th {\n",
       "        text-align: right;\n",
       "    }\n",
       "</style>\n",
       "<table border=\"1\" class=\"dataframe\">\n",
       "  <thead>\n",
       "    <tr style=\"text-align: right;\">\n",
       "      <th></th>\n",
       "      <th>Commune</th>\n",
       "      <th>Superficie</th>\n",
       "      <th>Population</th>\n",
       "    </tr>\n",
       "    <tr>\n",
       "      <th>Code INSEE</th>\n",
       "      <th></th>\n",
       "      <th></th>\n",
       "      <th></th>\n",
       "    </tr>\n",
       "  </thead>\n",
       "  <tbody>\n",
       "    <tr>\n",
       "      <th>01001</th>\n",
       "      <td>L'ABERGEMENT-CLEMENCIAT</td>\n",
       "      <td>1565.0</td>\n",
       "      <td>0.8</td>\n",
       "    </tr>\n",
       "    <tr>\n",
       "      <th>01002</th>\n",
       "      <td>L'ABERGEMENT-DE-VAREY</td>\n",
       "      <td>912.0</td>\n",
       "      <td>0.2</td>\n",
       "    </tr>\n",
       "    <tr>\n",
       "      <th>01004</th>\n",
       "      <td>AMBERIEU-EN-BUGEY</td>\n",
       "      <td>2448.0</td>\n",
       "      <td>13.4</td>\n",
       "    </tr>\n",
       "    <tr>\n",
       "      <th>01005</th>\n",
       "      <td>AMBERIEUX-EN-DOMBES</td>\n",
       "      <td>1605.0</td>\n",
       "      <td>1.6</td>\n",
       "    </tr>\n",
       "    <tr>\n",
       "      <th>01006</th>\n",
       "      <td>AMBLEON</td>\n",
       "      <td>602.0</td>\n",
       "      <td>0.1</td>\n",
       "    </tr>\n",
       "  </tbody>\n",
       "</table>\n",
       "</div>"
      ],
      "text/plain": [
       "                            Commune  Superficie  Population\n",
       "Code INSEE                                                 \n",
       "01001       L'ABERGEMENT-CLEMENCIAT      1565.0         0.8\n",
       "01002         L'ABERGEMENT-DE-VAREY       912.0         0.2\n",
       "01004             AMBERIEU-EN-BUGEY      2448.0        13.4\n",
       "01005           AMBERIEUX-EN-DOMBES      1605.0         1.6\n",
       "01006                       AMBLEON       602.0         0.1"
      ]
     },
     "execution_count": 139,
     "metadata": {},
     "output_type": "execute_result"
    }
   ],
   "source": [
    "# communes + superficie et population\n",
    "geo[[\"Commune\", \"Superficie\", \"Population\"]].head()"
   ]
  },
  {
   "cell_type": "code",
   "execution_count": 141,
   "metadata": {
    "scrolled": false
   },
   "outputs": [
    {
     "data": {
      "text/plain": [
       "Code Postal                                                     01400\n",
       "Commune                                       L'ABERGEMENT-CLEMENCIAT\n",
       "Département                                                       AIN\n",
       "Région                                                    RHONE-ALPES\n",
       "Statut                                                 Commune simple\n",
       "Altitude Moyenne                                                242.0\n",
       "Superficie                                                     1565.0\n",
       "Population                                                        0.8\n",
       "geo_point_2d                             46.1534255214, 4.92611354223\n",
       "geo_shape           {\"type\": \"Polygon\", \"coordinates\": [[[4.926273...\n",
       "Name: 01001, dtype: object"
      ]
     },
     "execution_count": 141,
     "metadata": {},
     "output_type": "execute_result"
    }
   ],
   "source": [
    "# sélection d'une ligne\n",
    "s = geo.loc[\"01001\"]\n",
    "s"
   ]
  },
  {
   "cell_type": "code",
   "execution_count": 142,
   "metadata": {
    "scrolled": true
   },
   "outputs": [
    {
     "data": {
      "text/plain": [
       "True"
      ]
     },
     "execution_count": 142,
     "metadata": {},
     "output_type": "execute_result"
    }
   ],
   "source": [
    "(geo.columns == s.index).all()"
   ]
  },
  {
   "cell_type": "code",
   "execution_count": 143,
   "metadata": {},
   "outputs": [],
   "source": [
    "all?"
   ]
  },
  {
   "cell_type": "code",
   "execution_count": null,
   "metadata": {},
   "outputs": [],
   "source": []
  },
  {
   "cell_type": "code",
   "execution_count": 144,
   "metadata": {
    "scrolled": false
   },
   "outputs": [
    {
     "data": {
      "text/plain": [
       "Code Postal                                                     01400\n",
       "Commune                                       L'ABERGEMENT-CLEMENCIAT\n",
       "Département                                                       AIN\n",
       "Région                                                    RHONE-ALPES\n",
       "Statut                                                 Commune simple\n",
       "Altitude Moyenne                                                242.0\n",
       "Superficie                                                     1565.0\n",
       "Population                                                        0.8\n",
       "geo_point_2d                             46.1534255214, 4.92611354223\n",
       "geo_shape           {\"type\": \"Polygon\", \"coordinates\": [[[4.926273...\n",
       "Name: 01001, dtype: object"
      ]
     },
     "execution_count": 144,
     "metadata": {},
     "output_type": "execute_result"
    }
   ],
   "source": [
    "# sélection d'une ligne\n",
    "geo.iloc[0]"
   ]
  },
  {
   "cell_type": "code",
   "execution_count": 145,
   "metadata": {
    "scrolled": false
   },
   "outputs": [
    {
     "data": {
      "text/html": [
       "<div>\n",
       "<style scoped>\n",
       "    .dataframe tbody tr th:only-of-type {\n",
       "        vertical-align: middle;\n",
       "    }\n",
       "\n",
       "    .dataframe tbody tr th {\n",
       "        vertical-align: top;\n",
       "    }\n",
       "\n",
       "    .dataframe thead th {\n",
       "        text-align: right;\n",
       "    }\n",
       "</style>\n",
       "<table border=\"1\" class=\"dataframe\">\n",
       "  <thead>\n",
       "    <tr style=\"text-align: right;\">\n",
       "      <th></th>\n",
       "      <th>Code Postal</th>\n",
       "      <th>Commune</th>\n",
       "      <th>Département</th>\n",
       "      <th>Région</th>\n",
       "      <th>Statut</th>\n",
       "      <th>Altitude Moyenne</th>\n",
       "      <th>Superficie</th>\n",
       "      <th>Population</th>\n",
       "      <th>geo_point_2d</th>\n",
       "      <th>geo_shape</th>\n",
       "    </tr>\n",
       "    <tr>\n",
       "      <th>Code INSEE</th>\n",
       "      <th></th>\n",
       "      <th></th>\n",
       "      <th></th>\n",
       "      <th></th>\n",
       "      <th></th>\n",
       "      <th></th>\n",
       "      <th></th>\n",
       "      <th></th>\n",
       "      <th></th>\n",
       "      <th></th>\n",
       "    </tr>\n",
       "  </thead>\n",
       "  <tbody>\n",
       "    <tr>\n",
       "      <th>01001</th>\n",
       "      <td>01400</td>\n",
       "      <td>L'ABERGEMENT-CLEMENCIAT</td>\n",
       "      <td>AIN</td>\n",
       "      <td>RHONE-ALPES</td>\n",
       "      <td>Commune simple</td>\n",
       "      <td>242.0</td>\n",
       "      <td>1565.0</td>\n",
       "      <td>0.8</td>\n",
       "      <td>46.1534255214, 4.92611354223</td>\n",
       "      <td>{\"type\": \"Polygon\", \"coordinates\": [[[4.926273...</td>\n",
       "    </tr>\n",
       "    <tr>\n",
       "      <th>01002</th>\n",
       "      <td>01640</td>\n",
       "      <td>L'ABERGEMENT-DE-VAREY</td>\n",
       "      <td>AIN</td>\n",
       "      <td>RHONE-ALPES</td>\n",
       "      <td>Commune simple</td>\n",
       "      <td>483.0</td>\n",
       "      <td>912.0</td>\n",
       "      <td>0.2</td>\n",
       "      <td>46.0091878776, 5.42801696363</td>\n",
       "      <td>{\"type\": \"Polygon\", \"coordinates\": [[[5.430089...</td>\n",
       "    </tr>\n",
       "    <tr>\n",
       "      <th>01004</th>\n",
       "      <td>01500</td>\n",
       "      <td>AMBERIEU-EN-BUGEY</td>\n",
       "      <td>AIN</td>\n",
       "      <td>RHONE-ALPES</td>\n",
       "      <td>Chef-lieu canton</td>\n",
       "      <td>379.0</td>\n",
       "      <td>2448.0</td>\n",
       "      <td>13.4</td>\n",
       "      <td>45.9608475114, 5.3729257777</td>\n",
       "      <td>{\"type\": \"Polygon\", \"coordinates\": [[[5.386190...</td>\n",
       "    </tr>\n",
       "    <tr>\n",
       "      <th>01005</th>\n",
       "      <td>01330</td>\n",
       "      <td>AMBERIEUX-EN-DOMBES</td>\n",
       "      <td>AIN</td>\n",
       "      <td>RHONE-ALPES</td>\n",
       "      <td>Commune simple</td>\n",
       "      <td>290.0</td>\n",
       "      <td>1605.0</td>\n",
       "      <td>1.6</td>\n",
       "      <td>45.9961799872, 4.91227250796</td>\n",
       "      <td>{\"type\": \"Polygon\", \"coordinates\": [[[4.895580...</td>\n",
       "    </tr>\n",
       "    <tr>\n",
       "      <th>01006</th>\n",
       "      <td>01300</td>\n",
       "      <td>AMBLEON</td>\n",
       "      <td>AIN</td>\n",
       "      <td>RHONE-ALPES</td>\n",
       "      <td>Commune simple</td>\n",
       "      <td>589.0</td>\n",
       "      <td>602.0</td>\n",
       "      <td>0.1</td>\n",
       "      <td>45.7494989044, 5.59432017366</td>\n",
       "      <td>{\"type\": \"Polygon\", \"coordinates\": [[[5.614854...</td>\n",
       "    </tr>\n",
       "  </tbody>\n",
       "</table>\n",
       "</div>"
      ],
      "text/plain": [
       "           Code Postal                  Commune Département       Région  \\\n",
       "Code INSEE                                                                 \n",
       "01001            01400  L'ABERGEMENT-CLEMENCIAT         AIN  RHONE-ALPES   \n",
       "01002            01640    L'ABERGEMENT-DE-VAREY         AIN  RHONE-ALPES   \n",
       "01004            01500        AMBERIEU-EN-BUGEY         AIN  RHONE-ALPES   \n",
       "01005            01330      AMBERIEUX-EN-DOMBES         AIN  RHONE-ALPES   \n",
       "01006            01300                  AMBLEON         AIN  RHONE-ALPES   \n",
       "\n",
       "                      Statut  Altitude Moyenne  Superficie  Population  \\\n",
       "Code INSEE                                                               \n",
       "01001         Commune simple             242.0      1565.0         0.8   \n",
       "01002         Commune simple             483.0       912.0         0.2   \n",
       "01004       Chef-lieu canton             379.0      2448.0        13.4   \n",
       "01005         Commune simple             290.0      1605.0         1.6   \n",
       "01006         Commune simple             589.0       602.0         0.1   \n",
       "\n",
       "                            geo_point_2d  \\\n",
       "Code INSEE                                 \n",
       "01001       46.1534255214, 4.92611354223   \n",
       "01002       46.0091878776, 5.42801696363   \n",
       "01004        45.9608475114, 5.3729257777   \n",
       "01005       45.9961799872, 4.91227250796   \n",
       "01006       45.7494989044, 5.59432017366   \n",
       "\n",
       "                                                    geo_shape  \n",
       "Code INSEE                                                     \n",
       "01001       {\"type\": \"Polygon\", \"coordinates\": [[[4.926273...  \n",
       "01002       {\"type\": \"Polygon\", \"coordinates\": [[[5.430089...  \n",
       "01004       {\"type\": \"Polygon\", \"coordinates\": [[[5.386190...  \n",
       "01005       {\"type\": \"Polygon\", \"coordinates\": [[[4.895580...  \n",
       "01006       {\"type\": \"Polygon\", \"coordinates\": [[[5.614854...  "
      ]
     },
     "execution_count": 145,
     "metadata": {},
     "output_type": "execute_result"
    }
   ],
   "source": [
    "# sélection de plusieurs lignes\n",
    "geo.loc[\"01001\":\"01006\"]"
   ]
  },
  {
   "cell_type": "code",
   "execution_count": 146,
   "metadata": {
    "scrolled": false
   },
   "outputs": [
    {
     "data": {
      "text/html": [
       "<div>\n",
       "<style scoped>\n",
       "    .dataframe tbody tr th:only-of-type {\n",
       "        vertical-align: middle;\n",
       "    }\n",
       "\n",
       "    .dataframe tbody tr th {\n",
       "        vertical-align: top;\n",
       "    }\n",
       "\n",
       "    .dataframe thead th {\n",
       "        text-align: right;\n",
       "    }\n",
       "</style>\n",
       "<table border=\"1\" class=\"dataframe\">\n",
       "  <thead>\n",
       "    <tr style=\"text-align: right;\">\n",
       "      <th></th>\n",
       "      <th>Code Postal</th>\n",
       "      <th>Commune</th>\n",
       "      <th>Département</th>\n",
       "      <th>Région</th>\n",
       "      <th>Statut</th>\n",
       "      <th>Altitude Moyenne</th>\n",
       "      <th>Superficie</th>\n",
       "      <th>Population</th>\n",
       "      <th>geo_point_2d</th>\n",
       "      <th>geo_shape</th>\n",
       "    </tr>\n",
       "    <tr>\n",
       "      <th>Code INSEE</th>\n",
       "      <th></th>\n",
       "      <th></th>\n",
       "      <th></th>\n",
       "      <th></th>\n",
       "      <th></th>\n",
       "      <th></th>\n",
       "      <th></th>\n",
       "      <th></th>\n",
       "      <th></th>\n",
       "      <th></th>\n",
       "    </tr>\n",
       "  </thead>\n",
       "  <tbody>\n",
       "    <tr>\n",
       "      <th>01001</th>\n",
       "      <td>01400</td>\n",
       "      <td>L'ABERGEMENT-CLEMENCIAT</td>\n",
       "      <td>AIN</td>\n",
       "      <td>RHONE-ALPES</td>\n",
       "      <td>Commune simple</td>\n",
       "      <td>242.0</td>\n",
       "      <td>1565.0</td>\n",
       "      <td>0.8</td>\n",
       "      <td>46.1534255214, 4.92611354223</td>\n",
       "      <td>{\"type\": \"Polygon\", \"coordinates\": [[[4.926273...</td>\n",
       "    </tr>\n",
       "    <tr>\n",
       "      <th>01002</th>\n",
       "      <td>01640</td>\n",
       "      <td>L'ABERGEMENT-DE-VAREY</td>\n",
       "      <td>AIN</td>\n",
       "      <td>RHONE-ALPES</td>\n",
       "      <td>Commune simple</td>\n",
       "      <td>483.0</td>\n",
       "      <td>912.0</td>\n",
       "      <td>0.2</td>\n",
       "      <td>46.0091878776, 5.42801696363</td>\n",
       "      <td>{\"type\": \"Polygon\", \"coordinates\": [[[5.430089...</td>\n",
       "    </tr>\n",
       "    <tr>\n",
       "      <th>01004</th>\n",
       "      <td>01500</td>\n",
       "      <td>AMBERIEU-EN-BUGEY</td>\n",
       "      <td>AIN</td>\n",
       "      <td>RHONE-ALPES</td>\n",
       "      <td>Chef-lieu canton</td>\n",
       "      <td>379.0</td>\n",
       "      <td>2448.0</td>\n",
       "      <td>13.4</td>\n",
       "      <td>45.9608475114, 5.3729257777</td>\n",
       "      <td>{\"type\": \"Polygon\", \"coordinates\": [[[5.386190...</td>\n",
       "    </tr>\n",
       "    <tr>\n",
       "      <th>01005</th>\n",
       "      <td>01330</td>\n",
       "      <td>AMBERIEUX-EN-DOMBES</td>\n",
       "      <td>AIN</td>\n",
       "      <td>RHONE-ALPES</td>\n",
       "      <td>Commune simple</td>\n",
       "      <td>290.0</td>\n",
       "      <td>1605.0</td>\n",
       "      <td>1.6</td>\n",
       "      <td>45.9961799872, 4.91227250796</td>\n",
       "      <td>{\"type\": \"Polygon\", \"coordinates\": [[[4.895580...</td>\n",
       "    </tr>\n",
       "    <tr>\n",
       "      <th>01006</th>\n",
       "      <td>01300</td>\n",
       "      <td>AMBLEON</td>\n",
       "      <td>AIN</td>\n",
       "      <td>RHONE-ALPES</td>\n",
       "      <td>Commune simple</td>\n",
       "      <td>589.0</td>\n",
       "      <td>602.0</td>\n",
       "      <td>0.1</td>\n",
       "      <td>45.7494989044, 5.59432017366</td>\n",
       "      <td>{\"type\": \"Polygon\", \"coordinates\": [[[5.614854...</td>\n",
       "    </tr>\n",
       "  </tbody>\n",
       "</table>\n",
       "</div>"
      ],
      "text/plain": [
       "           Code Postal                  Commune Département       Région  \\\n",
       "Code INSEE                                                                 \n",
       "01001            01400  L'ABERGEMENT-CLEMENCIAT         AIN  RHONE-ALPES   \n",
       "01002            01640    L'ABERGEMENT-DE-VAREY         AIN  RHONE-ALPES   \n",
       "01004            01500        AMBERIEU-EN-BUGEY         AIN  RHONE-ALPES   \n",
       "01005            01330      AMBERIEUX-EN-DOMBES         AIN  RHONE-ALPES   \n",
       "01006            01300                  AMBLEON         AIN  RHONE-ALPES   \n",
       "\n",
       "                      Statut  Altitude Moyenne  Superficie  Population  \\\n",
       "Code INSEE                                                               \n",
       "01001         Commune simple             242.0      1565.0         0.8   \n",
       "01002         Commune simple             483.0       912.0         0.2   \n",
       "01004       Chef-lieu canton             379.0      2448.0        13.4   \n",
       "01005         Commune simple             290.0      1605.0         1.6   \n",
       "01006         Commune simple             589.0       602.0         0.1   \n",
       "\n",
       "                            geo_point_2d  \\\n",
       "Code INSEE                                 \n",
       "01001       46.1534255214, 4.92611354223   \n",
       "01002       46.0091878776, 5.42801696363   \n",
       "01004        45.9608475114, 5.3729257777   \n",
       "01005       45.9961799872, 4.91227250796   \n",
       "01006       45.7494989044, 5.59432017366   \n",
       "\n",
       "                                                    geo_shape  \n",
       "Code INSEE                                                     \n",
       "01001       {\"type\": \"Polygon\", \"coordinates\": [[[4.926273...  \n",
       "01002       {\"type\": \"Polygon\", \"coordinates\": [[[5.430089...  \n",
       "01004       {\"type\": \"Polygon\", \"coordinates\": [[[5.386190...  \n",
       "01005       {\"type\": \"Polygon\", \"coordinates\": [[[4.895580...  \n",
       "01006       {\"type\": \"Polygon\", \"coordinates\": [[[5.614854...  "
      ]
     },
     "execution_count": 146,
     "metadata": {},
     "output_type": "execute_result"
    }
   ],
   "source": [
    "# sélection de plusieurs lignes\n",
    "geo.iloc[0:5]"
   ]
  },
  {
   "cell_type": "code",
   "execution_count": 147,
   "metadata": {
    "scrolled": false
   },
   "outputs": [
    {
     "data": {
      "text/html": [
       "<div>\n",
       "<style scoped>\n",
       "    .dataframe tbody tr th:only-of-type {\n",
       "        vertical-align: middle;\n",
       "    }\n",
       "\n",
       "    .dataframe tbody tr th {\n",
       "        vertical-align: top;\n",
       "    }\n",
       "\n",
       "    .dataframe thead th {\n",
       "        text-align: right;\n",
       "    }\n",
       "</style>\n",
       "<table border=\"1\" class=\"dataframe\">\n",
       "  <thead>\n",
       "    <tr style=\"text-align: right;\">\n",
       "      <th></th>\n",
       "      <th>Commune</th>\n",
       "      <th>Département</th>\n",
       "      <th>Région</th>\n",
       "      <th>Statut</th>\n",
       "    </tr>\n",
       "    <tr>\n",
       "      <th>Code INSEE</th>\n",
       "      <th></th>\n",
       "      <th></th>\n",
       "      <th></th>\n",
       "      <th></th>\n",
       "    </tr>\n",
       "  </thead>\n",
       "  <tbody>\n",
       "    <tr>\n",
       "      <th>01001</th>\n",
       "      <td>L'ABERGEMENT-CLEMENCIAT</td>\n",
       "      <td>AIN</td>\n",
       "      <td>RHONE-ALPES</td>\n",
       "      <td>Commune simple</td>\n",
       "    </tr>\n",
       "    <tr>\n",
       "      <th>01002</th>\n",
       "      <td>L'ABERGEMENT-DE-VAREY</td>\n",
       "      <td>AIN</td>\n",
       "      <td>RHONE-ALPES</td>\n",
       "      <td>Commune simple</td>\n",
       "    </tr>\n",
       "    <tr>\n",
       "      <th>01004</th>\n",
       "      <td>AMBERIEU-EN-BUGEY</td>\n",
       "      <td>AIN</td>\n",
       "      <td>RHONE-ALPES</td>\n",
       "      <td>Chef-lieu canton</td>\n",
       "    </tr>\n",
       "    <tr>\n",
       "      <th>01005</th>\n",
       "      <td>AMBERIEUX-EN-DOMBES</td>\n",
       "      <td>AIN</td>\n",
       "      <td>RHONE-ALPES</td>\n",
       "      <td>Commune simple</td>\n",
       "    </tr>\n",
       "    <tr>\n",
       "      <th>01006</th>\n",
       "      <td>AMBLEON</td>\n",
       "      <td>AIN</td>\n",
       "      <td>RHONE-ALPES</td>\n",
       "      <td>Commune simple</td>\n",
       "    </tr>\n",
       "  </tbody>\n",
       "</table>\n",
       "</div>"
      ],
      "text/plain": [
       "                            Commune Département       Région            Statut\n",
       "Code INSEE                                                                    \n",
       "01001       L'ABERGEMENT-CLEMENCIAT         AIN  RHONE-ALPES    Commune simple\n",
       "01002         L'ABERGEMENT-DE-VAREY         AIN  RHONE-ALPES    Commune simple\n",
       "01004             AMBERIEU-EN-BUGEY         AIN  RHONE-ALPES  Chef-lieu canton\n",
       "01005           AMBERIEUX-EN-DOMBES         AIN  RHONE-ALPES    Commune simple\n",
       "01006                       AMBLEON         AIN  RHONE-ALPES    Commune simple"
      ]
     },
     "execution_count": 147,
     "metadata": {},
     "output_type": "execute_result"
    }
   ],
   "source": [
    "# sélection de plusieurs lignes et de plusieurs colonnes\n",
    "geo.loc[\"01001\":\"01006\", \"Commune\":\"Statut\"]"
   ]
  },
  {
   "cell_type": "code",
   "execution_count": 151,
   "metadata": {
    "scrolled": false
   },
   "outputs": [
    {
     "data": {
      "text/html": [
       "<div>\n",
       "<style scoped>\n",
       "    .dataframe tbody tr th:only-of-type {\n",
       "        vertical-align: middle;\n",
       "    }\n",
       "\n",
       "    .dataframe tbody tr th {\n",
       "        vertical-align: top;\n",
       "    }\n",
       "\n",
       "    .dataframe thead th {\n",
       "        text-align: right;\n",
       "    }\n",
       "</style>\n",
       "<table border=\"1\" class=\"dataframe\">\n",
       "  <thead>\n",
       "    <tr style=\"text-align: right;\">\n",
       "      <th></th>\n",
       "      <th>Commune</th>\n",
       "      <th>Département</th>\n",
       "      <th>Région</th>\n",
       "      <th>Statut</th>\n",
       "    </tr>\n",
       "    <tr>\n",
       "      <th>Code INSEE</th>\n",
       "      <th></th>\n",
       "      <th></th>\n",
       "      <th></th>\n",
       "      <th></th>\n",
       "    </tr>\n",
       "  </thead>\n",
       "  <tbody>\n",
       "    <tr>\n",
       "      <th>01001</th>\n",
       "      <td>L'ABERGEMENT-CLEMENCIAT</td>\n",
       "      <td>AIN</td>\n",
       "      <td>RHONE-ALPES</td>\n",
       "      <td>Commune simple</td>\n",
       "    </tr>\n",
       "    <tr>\n",
       "      <th>01002</th>\n",
       "      <td>L'ABERGEMENT-DE-VAREY</td>\n",
       "      <td>AIN</td>\n",
       "      <td>RHONE-ALPES</td>\n",
       "      <td>Commune simple</td>\n",
       "    </tr>\n",
       "    <tr>\n",
       "      <th>01004</th>\n",
       "      <td>AMBERIEU-EN-BUGEY</td>\n",
       "      <td>AIN</td>\n",
       "      <td>RHONE-ALPES</td>\n",
       "      <td>Chef-lieu canton</td>\n",
       "    </tr>\n",
       "    <tr>\n",
       "      <th>01005</th>\n",
       "      <td>AMBERIEUX-EN-DOMBES</td>\n",
       "      <td>AIN</td>\n",
       "      <td>RHONE-ALPES</td>\n",
       "      <td>Commune simple</td>\n",
       "    </tr>\n",
       "    <tr>\n",
       "      <th>01006</th>\n",
       "      <td>AMBLEON</td>\n",
       "      <td>AIN</td>\n",
       "      <td>RHONE-ALPES</td>\n",
       "      <td>Commune simple</td>\n",
       "    </tr>\n",
       "  </tbody>\n",
       "</table>\n",
       "</div>"
      ],
      "text/plain": [
       "                            Commune Département       Région            Statut\n",
       "Code INSEE                                                                    \n",
       "01001       L'ABERGEMENT-CLEMENCIAT         AIN  RHONE-ALPES    Commune simple\n",
       "01002         L'ABERGEMENT-DE-VAREY         AIN  RHONE-ALPES    Commune simple\n",
       "01004             AMBERIEU-EN-BUGEY         AIN  RHONE-ALPES  Chef-lieu canton\n",
       "01005           AMBERIEUX-EN-DOMBES         AIN  RHONE-ALPES    Commune simple\n",
       "01006                       AMBLEON         AIN  RHONE-ALPES    Commune simple"
      ]
     },
     "execution_count": 151,
     "metadata": {},
     "output_type": "execute_result"
    }
   ],
   "source": [
    "# sélection de plusieurs lignes et de plusieurs colonnes\n",
    "geo.iloc[0:5, 1:5]"
   ]
  },
  {
   "cell_type": "code",
   "execution_count": 152,
   "metadata": {},
   "outputs": [
    {
     "data": {
      "text/html": [
       "<div>\n",
       "<style scoped>\n",
       "    .dataframe tbody tr th:only-of-type {\n",
       "        vertical-align: middle;\n",
       "    }\n",
       "\n",
       "    .dataframe tbody tr th {\n",
       "        vertical-align: top;\n",
       "    }\n",
       "\n",
       "    .dataframe thead th {\n",
       "        text-align: right;\n",
       "    }\n",
       "</style>\n",
       "<table border=\"1\" class=\"dataframe\">\n",
       "  <thead>\n",
       "    <tr style=\"text-align: right;\">\n",
       "      <th></th>\n",
       "      <th>Commune</th>\n",
       "      <th>Département</th>\n",
       "    </tr>\n",
       "    <tr>\n",
       "      <th>Code INSEE</th>\n",
       "      <th></th>\n",
       "      <th></th>\n",
       "    </tr>\n",
       "  </thead>\n",
       "  <tbody>\n",
       "    <tr>\n",
       "      <th>01001</th>\n",
       "      <td>L'ABERGEMENT-CLEMENCIAT</td>\n",
       "      <td>AIN</td>\n",
       "    </tr>\n",
       "    <tr>\n",
       "      <th>01002</th>\n",
       "      <td>L'ABERGEMENT-DE-VAREY</td>\n",
       "      <td>AIN</td>\n",
       "    </tr>\n",
       "  </tbody>\n",
       "</table>\n",
       "</div>"
      ],
      "text/plain": [
       "                            Commune Département\n",
       "Code INSEE                                     \n",
       "01001       L'ABERGEMENT-CLEMENCIAT         AIN\n",
       "01002         L'ABERGEMENT-DE-VAREY         AIN"
      ]
     },
     "execution_count": 152,
     "metadata": {},
     "output_type": "execute_result"
    }
   ],
   "source": [
    "geo.loc[['01001', '01002'], [\"Commune\", \"Département\"]]"
   ]
  },
  {
   "cell_type": "code",
   "execution_count": 153,
   "metadata": {},
   "outputs": [
    {
     "data": {
      "text/plain": [
       "196"
      ]
     },
     "execution_count": 153,
     "metadata": {},
     "output_type": "execute_result"
    }
   ],
   "source": [
    "(geo[\"Département\"] == \"ESSONNE\").sum()"
   ]
  },
  {
   "cell_type": "code",
   "execution_count": 154,
   "metadata": {},
   "outputs": [
    {
     "data": {
      "text/plain": [
       "293"
      ]
     },
     "execution_count": 154,
     "metadata": {},
     "output_type": "execute_result"
    }
   ],
   "source": [
    "(geo[\"Population\"] > 30.0).sum()"
   ]
  },
  {
   "cell_type": "code",
   "execution_count": 155,
   "metadata": {},
   "outputs": [
    {
     "data": {
      "text/plain": [
       "8"
      ]
     },
     "execution_count": 155,
     "metadata": {},
     "output_type": "execute_result"
    }
   ],
   "source": [
    "((geo[\"Département\"] == \"ESSONNE\") & (geo[\"Population\"] > 30.0)).sum()"
   ]
  },
  {
   "cell_type": "code",
   "execution_count": 156,
   "metadata": {
    "scrolled": false
   },
   "outputs": [
    {
     "data": {
      "text/html": [
       "<div>\n",
       "<style scoped>\n",
       "    .dataframe tbody tr th:only-of-type {\n",
       "        vertical-align: middle;\n",
       "    }\n",
       "\n",
       "    .dataframe tbody tr th {\n",
       "        vertical-align: top;\n",
       "    }\n",
       "\n",
       "    .dataframe thead th {\n",
       "        text-align: right;\n",
       "    }\n",
       "</style>\n",
       "<table border=\"1\" class=\"dataframe\">\n",
       "  <thead>\n",
       "    <tr style=\"text-align: right;\">\n",
       "      <th></th>\n",
       "      <th>Code Postal</th>\n",
       "      <th>Commune</th>\n",
       "      <th>Département</th>\n",
       "      <th>Région</th>\n",
       "      <th>Statut</th>\n",
       "      <th>Altitude Moyenne</th>\n",
       "      <th>Superficie</th>\n",
       "      <th>Population</th>\n",
       "      <th>geo_point_2d</th>\n",
       "      <th>geo_shape</th>\n",
       "    </tr>\n",
       "    <tr>\n",
       "      <th>Code INSEE</th>\n",
       "      <th></th>\n",
       "      <th></th>\n",
       "      <th></th>\n",
       "      <th></th>\n",
       "      <th></th>\n",
       "      <th></th>\n",
       "      <th></th>\n",
       "      <th></th>\n",
       "      <th></th>\n",
       "      <th></th>\n",
       "    </tr>\n",
       "  </thead>\n",
       "  <tbody>\n",
       "    <tr>\n",
       "      <th>91027</th>\n",
       "      <td>91200</td>\n",
       "      <td>ATHIS-MONS</td>\n",
       "      <td>ESSONNE</td>\n",
       "      <td>ILE-DE-FRANCE</td>\n",
       "      <td>Chef-lieu canton</td>\n",
       "      <td>69.0</td>\n",
       "      <td>861.0</td>\n",
       "      <td>30.6</td>\n",
       "      <td>48.7092445775, 2.38660492325</td>\n",
       "      <td>{\"type\": \"Polygon\", \"coordinates\": [[[2.389918...</td>\n",
       "    </tr>\n",
       "    <tr>\n",
       "      <th>91174</th>\n",
       "      <td>91100</td>\n",
       "      <td>CORBEIL-ESSONNES</td>\n",
       "      <td>ESSONNE</td>\n",
       "      <td>ILE-DE-FRANCE</td>\n",
       "      <td>Chef-lieu canton</td>\n",
       "      <td>55.0</td>\n",
       "      <td>1104.0</td>\n",
       "      <td>42.5</td>\n",
       "      <td>48.6034809251, 2.46934079002</td>\n",
       "      <td>{\"type\": \"Polygon\", \"coordinates\": [[[2.481253...</td>\n",
       "    </tr>\n",
       "    <tr>\n",
       "      <th>91228</th>\n",
       "      <td>91000</td>\n",
       "      <td>EVRY</td>\n",
       "      <td>ESSONNE</td>\n",
       "      <td>ILE-DE-FRANCE</td>\n",
       "      <td>Préfecture</td>\n",
       "      <td>71.0</td>\n",
       "      <td>855.0</td>\n",
       "      <td>52.4</td>\n",
       "      <td>48.6294831659, 2.44008244492</td>\n",
       "      <td>{\"type\": \"Polygon\", \"coordinates\": [[[2.436981...</td>\n",
       "    </tr>\n",
       "    <tr>\n",
       "      <th>91377</th>\n",
       "      <td>91300</td>\n",
       "      <td>MASSY</td>\n",
       "      <td>ESSONNE</td>\n",
       "      <td>ILE-DE-FRANCE</td>\n",
       "      <td>Chef-lieu canton</td>\n",
       "      <td>81.0</td>\n",
       "      <td>940.0</td>\n",
       "      <td>40.5</td>\n",
       "      <td>48.7277896426, 2.27513131903</td>\n",
       "      <td>{\"type\": \"Polygon\", \"coordinates\": [[[2.293929...</td>\n",
       "    </tr>\n",
       "    <tr>\n",
       "      <th>91477</th>\n",
       "      <td>91120</td>\n",
       "      <td>PALAISEAU</td>\n",
       "      <td>ESSONNE</td>\n",
       "      <td>ILE-DE-FRANCE</td>\n",
       "      <td>Sous-préfecture</td>\n",
       "      <td>118.0</td>\n",
       "      <td>1168.0</td>\n",
       "      <td>30.3</td>\n",
       "      <td>48.7146765876, 2.22881488083</td>\n",
       "      <td>{\"type\": \"Polygon\", \"coordinates\": [[[2.259350...</td>\n",
       "    </tr>\n",
       "    <tr>\n",
       "      <th>91549</th>\n",
       "      <td>91700</td>\n",
       "      <td>SAINTE-GENEVIEVE-DES-BOIS</td>\n",
       "      <td>ESSONNE</td>\n",
       "      <td>ILE-DE-FRANCE</td>\n",
       "      <td>Chef-lieu canton</td>\n",
       "      <td>74.0</td>\n",
       "      <td>936.0</td>\n",
       "      <td>34.1</td>\n",
       "      <td>48.6412523804, 2.33019417891</td>\n",
       "      <td>{\"type\": \"Polygon\", \"coordinates\": [[[2.349942...</td>\n",
       "    </tr>\n",
       "    <tr>\n",
       "      <th>91589</th>\n",
       "      <td>91600</td>\n",
       "      <td>SAVIGNY-SUR-ORGE</td>\n",
       "      <td>ESSONNE</td>\n",
       "      <td>ILE-DE-FRANCE</td>\n",
       "      <td>Chef-lieu canton</td>\n",
       "      <td>74.0</td>\n",
       "      <td>700.0</td>\n",
       "      <td>37.1</td>\n",
       "      <td>48.684228392, 2.34873862215</td>\n",
       "      <td>{\"type\": \"Polygon\", \"coordinates\": [[[2.338125...</td>\n",
       "    </tr>\n",
       "    <tr>\n",
       "      <th>91687</th>\n",
       "      <td>91170</td>\n",
       "      <td>VIRY-CHATILLON</td>\n",
       "      <td>ESSONNE</td>\n",
       "      <td>ILE-DE-FRANCE</td>\n",
       "      <td>Chef-lieu canton</td>\n",
       "      <td>54.0</td>\n",
       "      <td>615.0</td>\n",
       "      <td>31.6</td>\n",
       "      <td>48.6696168935, 2.37374357641</td>\n",
       "      <td>{\"type\": \"Polygon\", \"coordinates\": [[[2.365772...</td>\n",
       "    </tr>\n",
       "  </tbody>\n",
       "</table>\n",
       "</div>"
      ],
      "text/plain": [
       "           Code Postal                    Commune Département         Région  \\\n",
       "Code INSEE                                                                     \n",
       "91027            91200                 ATHIS-MONS     ESSONNE  ILE-DE-FRANCE   \n",
       "91174            91100           CORBEIL-ESSONNES     ESSONNE  ILE-DE-FRANCE   \n",
       "91228            91000                       EVRY     ESSONNE  ILE-DE-FRANCE   \n",
       "91377            91300                      MASSY     ESSONNE  ILE-DE-FRANCE   \n",
       "91477            91120                  PALAISEAU     ESSONNE  ILE-DE-FRANCE   \n",
       "91549            91700  SAINTE-GENEVIEVE-DES-BOIS     ESSONNE  ILE-DE-FRANCE   \n",
       "91589            91600           SAVIGNY-SUR-ORGE     ESSONNE  ILE-DE-FRANCE   \n",
       "91687            91170             VIRY-CHATILLON     ESSONNE  ILE-DE-FRANCE   \n",
       "\n",
       "                      Statut  Altitude Moyenne  Superficie  Population  \\\n",
       "Code INSEE                                                               \n",
       "91027       Chef-lieu canton              69.0       861.0        30.6   \n",
       "91174       Chef-lieu canton              55.0      1104.0        42.5   \n",
       "91228             Préfecture              71.0       855.0        52.4   \n",
       "91377       Chef-lieu canton              81.0       940.0        40.5   \n",
       "91477        Sous-préfecture             118.0      1168.0        30.3   \n",
       "91549       Chef-lieu canton              74.0       936.0        34.1   \n",
       "91589       Chef-lieu canton              74.0       700.0        37.1   \n",
       "91687       Chef-lieu canton              54.0       615.0        31.6   \n",
       "\n",
       "                            geo_point_2d  \\\n",
       "Code INSEE                                 \n",
       "91027       48.7092445775, 2.38660492325   \n",
       "91174       48.6034809251, 2.46934079002   \n",
       "91228       48.6294831659, 2.44008244492   \n",
       "91377       48.7277896426, 2.27513131903   \n",
       "91477       48.7146765876, 2.22881488083   \n",
       "91549       48.6412523804, 2.33019417891   \n",
       "91589        48.684228392, 2.34873862215   \n",
       "91687       48.6696168935, 2.37374357641   \n",
       "\n",
       "                                                    geo_shape  \n",
       "Code INSEE                                                     \n",
       "91027       {\"type\": \"Polygon\", \"coordinates\": [[[2.389918...  \n",
       "91174       {\"type\": \"Polygon\", \"coordinates\": [[[2.481253...  \n",
       "91228       {\"type\": \"Polygon\", \"coordinates\": [[[2.436981...  \n",
       "91377       {\"type\": \"Polygon\", \"coordinates\": [[[2.293929...  \n",
       "91477       {\"type\": \"Polygon\", \"coordinates\": [[[2.259350...  \n",
       "91549       {\"type\": \"Polygon\", \"coordinates\": [[[2.349942...  \n",
       "91589       {\"type\": \"Polygon\", \"coordinates\": [[[2.338125...  \n",
       "91687       {\"type\": \"Polygon\", \"coordinates\": [[[2.365772...  "
      ]
     },
     "execution_count": 156,
     "metadata": {},
     "output_type": "execute_result"
    }
   ],
   "source": [
    "# les communes de l'Essonne avec une population supérieure à 30000\n",
    "geo.loc[(geo[\"Département\"] == \"ESSONNE\") & (geo[\"Population\"] > 30.0)]"
   ]
  },
  {
   "cell_type": "markdown",
   "metadata": {},
   "source": [
    "**Exercice**\n",
    "\n",
    "- Affichez l'altitude moyenne, la superficie et la population de toutes les communes dénommées Sainte-Colombe.\n",
    "- Combien y a-t-il de départements dans lesquels au moins une commune a plus de 200.000 habitants ?\n",
    "- Donner la liste de ces départements.\n",
    "- Combien y a-t-il de communes dont le nom comporte 2 lettres?\n",
    "- Donnez la liste de ces communes dans l'ordre alphabétique.\n",
    "- Sélectionnez les communes pour lesquelles l'altitude moyenne vaut la superficie.\n",
    "- Quelle est la population totale de ces communes ?\n",
    "- Y a-t-il des communes au niveau de la mer ?"
   ]
  },
  {
   "cell_type": "code",
   "execution_count": 157,
   "metadata": {},
   "outputs": [
    {
     "data": {
      "text/html": [
       "<div>\n",
       "<style scoped>\n",
       "    .dataframe tbody tr th:only-of-type {\n",
       "        vertical-align: middle;\n",
       "    }\n",
       "\n",
       "    .dataframe tbody tr th {\n",
       "        vertical-align: top;\n",
       "    }\n",
       "\n",
       "    .dataframe thead th {\n",
       "        text-align: right;\n",
       "    }\n",
       "</style>\n",
       "<table border=\"1\" class=\"dataframe\">\n",
       "  <thead>\n",
       "    <tr style=\"text-align: right;\">\n",
       "      <th></th>\n",
       "      <th>Altitude Moyenne</th>\n",
       "      <th>Superficie</th>\n",
       "      <th>Population</th>\n",
       "    </tr>\n",
       "    <tr>\n",
       "      <th>Code INSEE</th>\n",
       "      <th></th>\n",
       "      <th></th>\n",
       "      <th></th>\n",
       "    </tr>\n",
       "  </thead>\n",
       "  <tbody>\n",
       "    <tr>\n",
       "      <th>05135</th>\n",
       "      <td>965.0</td>\n",
       "      <td>1726.0</td>\n",
       "      <td>0.1</td>\n",
       "    </tr>\n",
       "    <tr>\n",
       "      <th>16309</th>\n",
       "      <td>102.0</td>\n",
       "      <td>654.0</td>\n",
       "      <td>0.2</td>\n",
       "    </tr>\n",
       "    <tr>\n",
       "      <th>17319</th>\n",
       "      <td>111.0</td>\n",
       "      <td>440.0</td>\n",
       "      <td>0.1</td>\n",
       "    </tr>\n",
       "    <tr>\n",
       "      <th>21544</th>\n",
       "      <td>441.0</td>\n",
       "      <td>633.0</td>\n",
       "      <td>0.1</td>\n",
       "    </tr>\n",
       "    <tr>\n",
       "      <th>25515</th>\n",
       "      <td>884.0</td>\n",
       "      <td>1052.0</td>\n",
       "      <td>0.3</td>\n",
       "    </tr>\n",
       "    <tr>\n",
       "      <th>33390</th>\n",
       "      <td>61.0</td>\n",
       "      <td>404.0</td>\n",
       "      <td>0.4</td>\n",
       "    </tr>\n",
       "    <tr>\n",
       "      <th>35262</th>\n",
       "      <td>75.0</td>\n",
       "      <td>776.0</td>\n",
       "      <td>0.3</td>\n",
       "    </tr>\n",
       "    <tr>\n",
       "      <th>40252</th>\n",
       "      <td>96.0</td>\n",
       "      <td>1289.0</td>\n",
       "      <td>0.6</td>\n",
       "    </tr>\n",
       "    <tr>\n",
       "      <th>46260</th>\n",
       "      <td>516.0</td>\n",
       "      <td>1131.0</td>\n",
       "      <td>0.2</td>\n",
       "    </tr>\n",
       "    <tr>\n",
       "      <th>50457</th>\n",
       "      <td>20.0</td>\n",
       "      <td>509.0</td>\n",
       "      <td>0.2</td>\n",
       "    </tr>\n",
       "    <tr>\n",
       "      <th>69189</th>\n",
       "      <td>216.0</td>\n",
       "      <td>158.0</td>\n",
       "      <td>1.9</td>\n",
       "    </tr>\n",
       "    <tr>\n",
       "      <th>76569</th>\n",
       "      <td>100.0</td>\n",
       "      <td>584.0</td>\n",
       "      <td>0.2</td>\n",
       "    </tr>\n",
       "    <tr>\n",
       "      <th>77404</th>\n",
       "      <td>115.0</td>\n",
       "      <td>813.0</td>\n",
       "      <td>1.8</td>\n",
       "    </tr>\n",
       "    <tr>\n",
       "      <th>89339</th>\n",
       "      <td>279.0</td>\n",
       "      <td>1851.0</td>\n",
       "      <td>0.2</td>\n",
       "    </tr>\n",
       "  </tbody>\n",
       "</table>\n",
       "</div>"
      ],
      "text/plain": [
       "            Altitude Moyenne  Superficie  Population\n",
       "Code INSEE                                          \n",
       "05135                  965.0      1726.0         0.1\n",
       "16309                  102.0       654.0         0.2\n",
       "17319                  111.0       440.0         0.1\n",
       "21544                  441.0       633.0         0.1\n",
       "25515                  884.0      1052.0         0.3\n",
       "33390                   61.0       404.0         0.4\n",
       "35262                   75.0       776.0         0.3\n",
       "40252                   96.0      1289.0         0.6\n",
       "46260                  516.0      1131.0         0.2\n",
       "50457                   20.0       509.0         0.2\n",
       "69189                  216.0       158.0         1.9\n",
       "76569                  100.0       584.0         0.2\n",
       "77404                  115.0       813.0         1.8\n",
       "89339                  279.0      1851.0         0.2"
      ]
     },
     "execution_count": 157,
     "metadata": {},
     "output_type": "execute_result"
    }
   ],
   "source": [
    "geo.loc[geo['Commune']=='SAINTE-COLOMBE', ['Altitude Moyenne','Superficie','Population']]"
   ]
  },
  {
   "cell_type": "code",
   "execution_count": 158,
   "metadata": {},
   "outputs": [
    {
     "data": {
      "text/plain": [
       "9"
      ]
     },
     "execution_count": 158,
     "metadata": {},
     "output_type": "execute_result"
    }
   ],
   "source": [
    "geo.loc[geo['Population']>200, 'Département'].nunique()"
   ]
  },
  {
   "cell_type": "code",
   "execution_count": 159,
   "metadata": {},
   "outputs": [
    {
     "data": {
      "text/plain": [
       "['ALPES-MARITIMES',\n",
       " 'HAUTE-GARONNE',\n",
       " 'GIRONDE',\n",
       " 'HERAULT',\n",
       " 'ILLE-ET-VILAINE',\n",
       " 'LOIRE-ATLANTIQUE',\n",
       " 'NORD',\n",
       " 'BAS-RHIN',\n",
       " 'PARIS']"
      ]
     },
     "execution_count": 159,
     "metadata": {},
     "output_type": "execute_result"
    }
   ],
   "source": [
    "geo.loc[geo['Population']>200, 'Département'].unique().tolist()"
   ]
  },
  {
   "cell_type": "code",
   "execution_count": 161,
   "metadata": {},
   "outputs": [
    {
     "data": {
      "text/plain": [
       "15"
      ]
     },
     "execution_count": 161,
     "metadata": {},
     "output_type": "execute_result"
    }
   ],
   "source": [
    "(geo['Commune'].str.len()==2).sum()"
   ]
  },
  {
   "cell_type": "code",
   "execution_count": 162,
   "metadata": {},
   "outputs": [
    {
     "data": {
      "text/plain": [
       "['AY',\n",
       " 'BU',\n",
       " 'BY',\n",
       " 'EU',\n",
       " 'FA',\n",
       " 'GY',\n",
       " 'OO',\n",
       " 'OZ',\n",
       " 'PY',\n",
       " 'RI',\n",
       " 'RY',\n",
       " 'SY',\n",
       " 'UR',\n",
       " 'US',\n",
       " 'UZ']"
      ]
     },
     "execution_count": 162,
     "metadata": {},
     "output_type": "execute_result"
    }
   ],
   "source": [
    "sorted(geo.loc[geo['Commune'].str.len()==2, 'Commune'])"
   ]
  },
  {
   "cell_type": "code",
   "execution_count": 183,
   "metadata": {},
   "outputs": [
    {
     "data": {
      "text/html": [
       "<div>\n",
       "<style scoped>\n",
       "    .dataframe tbody tr th:only-of-type {\n",
       "        vertical-align: middle;\n",
       "    }\n",
       "\n",
       "    .dataframe tbody tr th {\n",
       "        vertical-align: top;\n",
       "    }\n",
       "\n",
       "    .dataframe thead th {\n",
       "        text-align: right;\n",
       "    }\n",
       "</style>\n",
       "<table border=\"1\" class=\"dataframe\">\n",
       "  <thead>\n",
       "    <tr style=\"text-align: right;\">\n",
       "      <th></th>\n",
       "      <th>Code Postal</th>\n",
       "      <th>Commune</th>\n",
       "      <th>Département</th>\n",
       "      <th>Région</th>\n",
       "      <th>Statut</th>\n",
       "      <th>Altitude Moyenne</th>\n",
       "      <th>Superficie</th>\n",
       "      <th>Population</th>\n",
       "      <th>geo_point_2d</th>\n",
       "      <th>geo_shape</th>\n",
       "    </tr>\n",
       "    <tr>\n",
       "      <th>Code INSEE</th>\n",
       "      <th></th>\n",
       "      <th></th>\n",
       "      <th></th>\n",
       "      <th></th>\n",
       "      <th></th>\n",
       "      <th></th>\n",
       "      <th></th>\n",
       "      <th></th>\n",
       "      <th></th>\n",
       "      <th></th>\n",
       "    </tr>\n",
       "  </thead>\n",
       "  <tbody>\n",
       "    <tr>\n",
       "      <th>06026</th>\n",
       "      <td>06530</td>\n",
       "      <td>CABRIS</td>\n",
       "      <td>ALPES-MARITIMES</td>\n",
       "      <td>PROVENCE-ALPES-COTE D'AZUR</td>\n",
       "      <td>Commune simple</td>\n",
       "      <td>540.0</td>\n",
       "      <td>540.0</td>\n",
       "      <td>1.4</td>\n",
       "      <td>43.6599560638, 6.87825509814</td>\n",
       "      <td>{\"type\": \"Polygon\", \"coordinates\": [[[6.868991...</td>\n",
       "    </tr>\n",
       "    <tr>\n",
       "      <th>21010</th>\n",
       "      <td>21420</td>\n",
       "      <td>ALOXE-CORTON</td>\n",
       "      <td>COTE-D'OR</td>\n",
       "      <td>BOURGOGNE</td>\n",
       "      <td>Commune simple</td>\n",
       "      <td>261.0</td>\n",
       "      <td>261.0</td>\n",
       "      <td>0.2</td>\n",
       "      <td>47.0682393129, 4.86123205088</td>\n",
       "      <td>{\"type\": \"Polygon\", \"coordinates\": [[[4.866669...</td>\n",
       "    </tr>\n",
       "    <tr>\n",
       "      <th>25391</th>\n",
       "      <td>25210</td>\n",
       "      <td>MONT-DE-LAVAL</td>\n",
       "      <td>DOUBS</td>\n",
       "      <td>FRANCHE-COMTE</td>\n",
       "      <td>Commune simple</td>\n",
       "      <td>845.0</td>\n",
       "      <td>845.0</td>\n",
       "      <td>0.2</td>\n",
       "      <td>47.161609954, 6.63636805448</td>\n",
       "      <td>{\"type\": \"Polygon\", \"coordinates\": [[[6.627720...</td>\n",
       "    </tr>\n",
       "    <tr>\n",
       "      <th>38230</th>\n",
       "      <td>38300</td>\n",
       "      <td>MEYRIE</td>\n",
       "      <td>ISERE</td>\n",
       "      <td>RHONE-ALPES</td>\n",
       "      <td>Commune simple</td>\n",
       "      <td>346.0</td>\n",
       "      <td>346.0</td>\n",
       "      <td>1.0</td>\n",
       "      <td>45.5602461635, 5.2848381306</td>\n",
       "      <td>{\"type\": \"Polygon\", \"coordinates\": [[[5.293302...</td>\n",
       "    </tr>\n",
       "    <tr>\n",
       "      <th>65102</th>\n",
       "      <td>65140</td>\n",
       "      <td>BOUILH-DEVANT</td>\n",
       "      <td>HAUTES-PYRENEES</td>\n",
       "      <td>MIDI-PYRENEES</td>\n",
       "      <td>Commune simple</td>\n",
       "      <td>298.0</td>\n",
       "      <td>298.0</td>\n",
       "      <td>0.0</td>\n",
       "      <td>43.3365484114, 0.261492915975</td>\n",
       "      <td>{\"type\": \"Polygon\", \"coordinates\": [[[0.267934...</td>\n",
       "    </tr>\n",
       "    <tr>\n",
       "      <th>68211</th>\n",
       "      <td>68470</td>\n",
       "      <td>MITZACH</td>\n",
       "      <td>HAUT-RHIN</td>\n",
       "      <td>ALSACE</td>\n",
       "      <td>Commune simple</td>\n",
       "      <td>637.0</td>\n",
       "      <td>637.0</td>\n",
       "      <td>0.4</td>\n",
       "      <td>47.8611986942, 6.99775039385</td>\n",
       "      <td>{\"type\": \"Polygon\", \"coordinates\": [[[6.987666...</td>\n",
       "    </tr>\n",
       "    <tr>\n",
       "      <th>88215</th>\n",
       "      <td>88210</td>\n",
       "      <td>GRANDRUPT</td>\n",
       "      <td>VOSGES</td>\n",
       "      <td>LORRAINE</td>\n",
       "      <td>Commune simple</td>\n",
       "      <td>634.0</td>\n",
       "      <td>634.0</td>\n",
       "      <td>0.1</td>\n",
       "      <td>48.3669519771, 7.06206760711</td>\n",
       "      <td>{\"type\": \"Polygon\", \"coordinates\": [[[7.064913...</td>\n",
       "    </tr>\n",
       "  </tbody>\n",
       "</table>\n",
       "</div>"
      ],
      "text/plain": [
       "           Code Postal        Commune      Département  \\\n",
       "Code INSEE                                               \n",
       "06026            06530         CABRIS  ALPES-MARITIMES   \n",
       "21010            21420   ALOXE-CORTON        COTE-D'OR   \n",
       "25391            25210  MONT-DE-LAVAL            DOUBS   \n",
       "38230            38300         MEYRIE            ISERE   \n",
       "65102            65140  BOUILH-DEVANT  HAUTES-PYRENEES   \n",
       "68211            68470        MITZACH        HAUT-RHIN   \n",
       "88215            88210      GRANDRUPT           VOSGES   \n",
       "\n",
       "                                Région          Statut  Altitude Moyenne  \\\n",
       "Code INSEE                                                                 \n",
       "06026       PROVENCE-ALPES-COTE D'AZUR  Commune simple             540.0   \n",
       "21010                        BOURGOGNE  Commune simple             261.0   \n",
       "25391                    FRANCHE-COMTE  Commune simple             845.0   \n",
       "38230                      RHONE-ALPES  Commune simple             346.0   \n",
       "65102                    MIDI-PYRENEES  Commune simple             298.0   \n",
       "68211                           ALSACE  Commune simple             637.0   \n",
       "88215                         LORRAINE  Commune simple             634.0   \n",
       "\n",
       "            Superficie  Population                   geo_point_2d  \\\n",
       "Code INSEE                                                          \n",
       "06026            540.0         1.4   43.6599560638, 6.87825509814   \n",
       "21010            261.0         0.2   47.0682393129, 4.86123205088   \n",
       "25391            845.0         0.2    47.161609954, 6.63636805448   \n",
       "38230            346.0         1.0    45.5602461635, 5.2848381306   \n",
       "65102            298.0         0.0  43.3365484114, 0.261492915975   \n",
       "68211            637.0         0.4   47.8611986942, 6.99775039385   \n",
       "88215            634.0         0.1   48.3669519771, 7.06206760711   \n",
       "\n",
       "                                                    geo_shape  \n",
       "Code INSEE                                                     \n",
       "06026       {\"type\": \"Polygon\", \"coordinates\": [[[6.868991...  \n",
       "21010       {\"type\": \"Polygon\", \"coordinates\": [[[4.866669...  \n",
       "25391       {\"type\": \"Polygon\", \"coordinates\": [[[6.627720...  \n",
       "38230       {\"type\": \"Polygon\", \"coordinates\": [[[5.293302...  \n",
       "65102       {\"type\": \"Polygon\", \"coordinates\": [[[0.267934...  \n",
       "68211       {\"type\": \"Polygon\", \"coordinates\": [[[6.987666...  \n",
       "88215       {\"type\": \"Polygon\", \"coordinates\": [[[7.064913...  "
      ]
     },
     "execution_count": 183,
     "metadata": {},
     "output_type": "execute_result"
    }
   ],
   "source": [
    "geo.loc[geo['Altitude Moyenne']==geo['Superficie']]"
   ]
  },
  {
   "cell_type": "code",
   "execution_count": 184,
   "metadata": {},
   "outputs": [
    {
     "data": {
      "text/plain": [
       "3.3"
      ]
     },
     "execution_count": 184,
     "metadata": {},
     "output_type": "execute_result"
    }
   ],
   "source": [
    "geo.loc[geo['Altitude Moyenne']==geo['Superficie'], 'Population'].sum()"
   ]
  },
  {
   "cell_type": "code",
   "execution_count": 186,
   "metadata": {},
   "outputs": [
    {
     "data": {
      "text/plain": [
       "True"
      ]
     },
     "execution_count": 186,
     "metadata": {},
     "output_type": "execute_result"
    }
   ],
   "source": [
    "(geo['Altitude Moyenne']==0).any()"
   ]
  },
  {
   "cell_type": "code",
   "execution_count": 172,
   "metadata": {},
   "outputs": [
    {
     "data": {
      "text/plain": [
       "Code INSEE\n",
       "34192    PALAVAS-LES-FLOTS\n",
       "59404           LES MOERES\n",
       "Name: Commune, dtype: object"
      ]
     },
     "execution_count": 172,
     "metadata": {},
     "output_type": "execute_result"
    }
   ],
   "source": [
    "geo.loc[geo['Altitude Moyenne']==0, 'Commune']"
   ]
  },
  {
   "cell_type": "markdown",
   "metadata": {},
   "source": [
    "### Index non unique"
   ]
  },
  {
   "cell_type": "code",
   "execution_count": 173,
   "metadata": {},
   "outputs": [
    {
     "data": {
      "text/plain": [
       "True"
      ]
     },
     "execution_count": 173,
     "metadata": {},
     "output_type": "execute_result"
    }
   ],
   "source": [
    "# test de l'unicité de l'index\n",
    "geo.index.is_unique"
   ]
  },
  {
   "cell_type": "code",
   "execution_count": 182,
   "metadata": {},
   "outputs": [
    {
     "data": {
      "text/html": [
       "<div>\n",
       "<style scoped>\n",
       "    .dataframe tbody tr th:only-of-type {\n",
       "        vertical-align: middle;\n",
       "    }\n",
       "\n",
       "    .dataframe tbody tr th {\n",
       "        vertical-align: top;\n",
       "    }\n",
       "\n",
       "    .dataframe thead th {\n",
       "        text-align: right;\n",
       "    }\n",
       "</style>\n",
       "<table border=\"1\" class=\"dataframe\">\n",
       "  <thead>\n",
       "    <tr style=\"text-align: right;\">\n",
       "      <th></th>\n",
       "      <th>index</th>\n",
       "      <th>Commune</th>\n",
       "      <th>Code INSEE</th>\n",
       "      <th>Code Postal</th>\n",
       "      <th>Département</th>\n",
       "      <th>Région</th>\n",
       "      <th>Statut</th>\n",
       "      <th>Altitude Moyenne</th>\n",
       "      <th>Superficie</th>\n",
       "      <th>Population</th>\n",
       "      <th>geo_point_2d</th>\n",
       "      <th>geo_shape</th>\n",
       "    </tr>\n",
       "    <tr>\n",
       "      <th>Commune</th>\n",
       "      <th></th>\n",
       "      <th></th>\n",
       "      <th></th>\n",
       "      <th></th>\n",
       "      <th></th>\n",
       "      <th></th>\n",
       "      <th></th>\n",
       "      <th></th>\n",
       "      <th></th>\n",
       "      <th></th>\n",
       "      <th></th>\n",
       "      <th></th>\n",
       "    </tr>\n",
       "  </thead>\n",
       "  <tbody>\n",
       "    <tr>\n",
       "      <th>L'ABERGEMENT-CLEMENCIAT</th>\n",
       "      <td>0</td>\n",
       "      <td>L'ABERGEMENT-CLEMENCIAT</td>\n",
       "      <td>01001</td>\n",
       "      <td>01400</td>\n",
       "      <td>AIN</td>\n",
       "      <td>RHONE-ALPES</td>\n",
       "      <td>Commune simple</td>\n",
       "      <td>242.0</td>\n",
       "      <td>1565.0</td>\n",
       "      <td>0.8</td>\n",
       "      <td>46.1534255214, 4.92611354223</td>\n",
       "      <td>{\"type\": \"Polygon\", \"coordinates\": [[[4.926273...</td>\n",
       "    </tr>\n",
       "    <tr>\n",
       "      <th>L'ABERGEMENT-DE-VAREY</th>\n",
       "      <td>1</td>\n",
       "      <td>L'ABERGEMENT-DE-VAREY</td>\n",
       "      <td>01002</td>\n",
       "      <td>01640</td>\n",
       "      <td>AIN</td>\n",
       "      <td>RHONE-ALPES</td>\n",
       "      <td>Commune simple</td>\n",
       "      <td>483.0</td>\n",
       "      <td>912.0</td>\n",
       "      <td>0.2</td>\n",
       "      <td>46.0091878776, 5.42801696363</td>\n",
       "      <td>{\"type\": \"Polygon\", \"coordinates\": [[[5.430089...</td>\n",
       "    </tr>\n",
       "    <tr>\n",
       "      <th>AMBERIEU-EN-BUGEY</th>\n",
       "      <td>2</td>\n",
       "      <td>AMBERIEU-EN-BUGEY</td>\n",
       "      <td>01004</td>\n",
       "      <td>01500</td>\n",
       "      <td>AIN</td>\n",
       "      <td>RHONE-ALPES</td>\n",
       "      <td>Chef-lieu canton</td>\n",
       "      <td>379.0</td>\n",
       "      <td>2448.0</td>\n",
       "      <td>13.4</td>\n",
       "      <td>45.9608475114, 5.3729257777</td>\n",
       "      <td>{\"type\": \"Polygon\", \"coordinates\": [[[5.386190...</td>\n",
       "    </tr>\n",
       "    <tr>\n",
       "      <th>AMBERIEUX-EN-DOMBES</th>\n",
       "      <td>3</td>\n",
       "      <td>AMBERIEUX-EN-DOMBES</td>\n",
       "      <td>01005</td>\n",
       "      <td>01330</td>\n",
       "      <td>AIN</td>\n",
       "      <td>RHONE-ALPES</td>\n",
       "      <td>Commune simple</td>\n",
       "      <td>290.0</td>\n",
       "      <td>1605.0</td>\n",
       "      <td>1.6</td>\n",
       "      <td>45.9961799872, 4.91227250796</td>\n",
       "      <td>{\"type\": \"Polygon\", \"coordinates\": [[[4.895580...</td>\n",
       "    </tr>\n",
       "    <tr>\n",
       "      <th>AMBLEON</th>\n",
       "      <td>4</td>\n",
       "      <td>AMBLEON</td>\n",
       "      <td>01006</td>\n",
       "      <td>01300</td>\n",
       "      <td>AIN</td>\n",
       "      <td>RHONE-ALPES</td>\n",
       "      <td>Commune simple</td>\n",
       "      <td>589.0</td>\n",
       "      <td>602.0</td>\n",
       "      <td>0.1</td>\n",
       "      <td>45.7494989044, 5.59432017366</td>\n",
       "      <td>{\"type\": \"Polygon\", \"coordinates\": [[[5.614854...</td>\n",
       "    </tr>\n",
       "  </tbody>\n",
       "</table>\n",
       "</div>"
      ],
      "text/plain": [
       "                         index                  Commune Code INSEE  \\\n",
       "Commune                                                              \n",
       "L'ABERGEMENT-CLEMENCIAT      0  L'ABERGEMENT-CLEMENCIAT      01001   \n",
       "L'ABERGEMENT-DE-VAREY        1    L'ABERGEMENT-DE-VAREY      01002   \n",
       "AMBERIEU-EN-BUGEY            2        AMBERIEU-EN-BUGEY      01004   \n",
       "AMBERIEUX-EN-DOMBES          3      AMBERIEUX-EN-DOMBES      01005   \n",
       "AMBLEON                      4                  AMBLEON      01006   \n",
       "\n",
       "                        Code Postal Département       Région  \\\n",
       "Commune                                                        \n",
       "L'ABERGEMENT-CLEMENCIAT       01400         AIN  RHONE-ALPES   \n",
       "L'ABERGEMENT-DE-VAREY         01640         AIN  RHONE-ALPES   \n",
       "AMBERIEU-EN-BUGEY             01500         AIN  RHONE-ALPES   \n",
       "AMBERIEUX-EN-DOMBES           01330         AIN  RHONE-ALPES   \n",
       "AMBLEON                       01300         AIN  RHONE-ALPES   \n",
       "\n",
       "                                   Statut  Altitude Moyenne  Superficie  \\\n",
       "Commune                                                                   \n",
       "L'ABERGEMENT-CLEMENCIAT    Commune simple             242.0      1565.0   \n",
       "L'ABERGEMENT-DE-VAREY      Commune simple             483.0       912.0   \n",
       "AMBERIEU-EN-BUGEY        Chef-lieu canton             379.0      2448.0   \n",
       "AMBERIEUX-EN-DOMBES        Commune simple             290.0      1605.0   \n",
       "AMBLEON                    Commune simple             589.0       602.0   \n",
       "\n",
       "                         Population                  geo_point_2d  \\\n",
       "Commune                                                             \n",
       "L'ABERGEMENT-CLEMENCIAT         0.8  46.1534255214, 4.92611354223   \n",
       "L'ABERGEMENT-DE-VAREY           0.2  46.0091878776, 5.42801696363   \n",
       "AMBERIEU-EN-BUGEY              13.4   45.9608475114, 5.3729257777   \n",
       "AMBERIEUX-EN-DOMBES             1.6  45.9961799872, 4.91227250796   \n",
       "AMBLEON                         0.1  45.7494989044, 5.59432017366   \n",
       "\n",
       "                                                                 geo_shape  \n",
       "Commune                                                                     \n",
       "L'ABERGEMENT-CLEMENCIAT  {\"type\": \"Polygon\", \"coordinates\": [[[4.926273...  \n",
       "L'ABERGEMENT-DE-VAREY    {\"type\": \"Polygon\", \"coordinates\": [[[5.430089...  \n",
       "AMBERIEU-EN-BUGEY        {\"type\": \"Polygon\", \"coordinates\": [[[5.386190...  \n",
       "AMBERIEUX-EN-DOMBES      {\"type\": \"Polygon\", \"coordinates\": [[[4.895580...  \n",
       "AMBLEON                  {\"type\": \"Polygon\", \"coordinates\": [[[5.614854...  "
      ]
     },
     "execution_count": 182,
     "metadata": {},
     "output_type": "execute_result"
    }
   ],
   "source": [
    "# reset de l'index\n",
    "geo = geo.reset_index()\n",
    "geo = geo.set_index('Commune', drop=True)\n",
    "geo.head()                                         ## ???"
   ]
  },
  {
   "cell_type": "code",
   "execution_count": 183,
   "metadata": {},
   "outputs": [
    {
     "data": {
      "text/plain": [
       "False"
      ]
     },
     "execution_count": 183,
     "metadata": {},
     "output_type": "execute_result"
    }
   ],
   "source": [
    "# test de l'unicité de l'index\n",
    "geo.index.is_unique"
   ]
  },
  {
   "cell_type": "code",
   "execution_count": 178,
   "metadata": {},
   "outputs": [
    {
     "data": {
      "text/html": [
       "<div>\n",
       "<style scoped>\n",
       "    .dataframe tbody tr th:only-of-type {\n",
       "        vertical-align: middle;\n",
       "    }\n",
       "\n",
       "    .dataframe tbody tr th {\n",
       "        vertical-align: top;\n",
       "    }\n",
       "\n",
       "    .dataframe thead th {\n",
       "        text-align: right;\n",
       "    }\n",
       "</style>\n",
       "<table border=\"1\" class=\"dataframe\">\n",
       "  <thead>\n",
       "    <tr style=\"text-align: right;\">\n",
       "      <th></th>\n",
       "      <th>Code INSEE</th>\n",
       "      <th>Code Postal</th>\n",
       "      <th>Département</th>\n",
       "      <th>Région</th>\n",
       "      <th>Statut</th>\n",
       "      <th>Altitude Moyenne</th>\n",
       "      <th>Superficie</th>\n",
       "      <th>Population</th>\n",
       "      <th>geo_point_2d</th>\n",
       "      <th>geo_shape</th>\n",
       "    </tr>\n",
       "    <tr>\n",
       "      <th>Commune</th>\n",
       "      <th></th>\n",
       "      <th></th>\n",
       "      <th></th>\n",
       "      <th></th>\n",
       "      <th></th>\n",
       "      <th></th>\n",
       "      <th></th>\n",
       "      <th></th>\n",
       "      <th></th>\n",
       "      <th></th>\n",
       "    </tr>\n",
       "  </thead>\n",
       "  <tbody>\n",
       "    <tr>\n",
       "      <th>SAINTE-COLOMBE</th>\n",
       "      <td>05135</td>\n",
       "      <td>05700</td>\n",
       "      <td>HAUTES-ALPES</td>\n",
       "      <td>PROVENCE-ALPES-COTE D'AZUR</td>\n",
       "      <td>Commune simple</td>\n",
       "      <td>965.0</td>\n",
       "      <td>1726.0</td>\n",
       "      <td>0.1</td>\n",
       "      <td>44.2889272211, 5.66834974647</td>\n",
       "      <td>{\"type\": \"Polygon\", \"coordinates\": [[[5.646781...</td>\n",
       "    </tr>\n",
       "    <tr>\n",
       "      <th>SAINTE-COLOMBE</th>\n",
       "      <td>16309</td>\n",
       "      <td>16230</td>\n",
       "      <td>CHARENTE</td>\n",
       "      <td>POITOU-CHARENTES</td>\n",
       "      <td>Commune simple</td>\n",
       "      <td>102.0</td>\n",
       "      <td>654.0</td>\n",
       "      <td>0.2</td>\n",
       "      <td>45.8295299814, 0.320048436517</td>\n",
       "      <td>{\"type\": \"Polygon\", \"coordinates\": [[[0.326195...</td>\n",
       "    </tr>\n",
       "    <tr>\n",
       "      <th>SAINTE-COLOMBE</th>\n",
       "      <td>17319</td>\n",
       "      <td>17210</td>\n",
       "      <td>CHARENTE-MARITIME</td>\n",
       "      <td>POITOU-CHARENTES</td>\n",
       "      <td>Commune simple</td>\n",
       "      <td>111.0</td>\n",
       "      <td>440.0</td>\n",
       "      <td>0.1</td>\n",
       "      <td>45.281890465, -0.273965618336</td>\n",
       "      <td>{\"type\": \"Polygon\", \"coordinates\": [[[-0.28042...</td>\n",
       "    </tr>\n",
       "    <tr>\n",
       "      <th>SAINTE-COLOMBE</th>\n",
       "      <td>21544</td>\n",
       "      <td>21350</td>\n",
       "      <td>COTE-D'OR</td>\n",
       "      <td>BOURGOGNE</td>\n",
       "      <td>Commune simple</td>\n",
       "      <td>441.0</td>\n",
       "      <td>633.0</td>\n",
       "      <td>0.1</td>\n",
       "      <td>47.4272975926, 4.46203899793</td>\n",
       "      <td>{\"type\": \"Polygon\", \"coordinates\": [[[4.462906...</td>\n",
       "    </tr>\n",
       "    <tr>\n",
       "      <th>SAINTE-COLOMBE</th>\n",
       "      <td>25515</td>\n",
       "      <td>25300</td>\n",
       "      <td>DOUBS</td>\n",
       "      <td>FRANCHE-COMTE</td>\n",
       "      <td>Commune simple</td>\n",
       "      <td>884.0</td>\n",
       "      <td>1052.0</td>\n",
       "      <td>0.3</td>\n",
       "      <td>46.8735551517, 6.27545445456</td>\n",
       "      <td>{\"type\": \"Polygon\", \"coordinates\": [[[6.293376...</td>\n",
       "    </tr>\n",
       "    <tr>\n",
       "      <th>SAINTE-COLOMBE</th>\n",
       "      <td>33390</td>\n",
       "      <td>33350</td>\n",
       "      <td>GIRONDE</td>\n",
       "      <td>AQUITAINE</td>\n",
       "      <td>Commune simple</td>\n",
       "      <td>61.0</td>\n",
       "      <td>404.0</td>\n",
       "      <td>0.4</td>\n",
       "      <td>44.8789588977, -0.0634971172004</td>\n",
       "      <td>{\"type\": \"Polygon\", \"coordinates\": [[[-0.04871...</td>\n",
       "    </tr>\n",
       "    <tr>\n",
       "      <th>SAINTE-COLOMBE</th>\n",
       "      <td>35262</td>\n",
       "      <td>35134</td>\n",
       "      <td>ILLE-ET-VILAINE</td>\n",
       "      <td>BRETAGNE</td>\n",
       "      <td>Commune simple</td>\n",
       "      <td>75.0</td>\n",
       "      <td>776.0</td>\n",
       "      <td>0.3</td>\n",
       "      <td>47.8955543395, -1.45748423621</td>\n",
       "      <td>{\"type\": \"Polygon\", \"coordinates\": [[[-1.46368...</td>\n",
       "    </tr>\n",
       "    <tr>\n",
       "      <th>SAINTE-COLOMBE</th>\n",
       "      <td>40252</td>\n",
       "      <td>40700</td>\n",
       "      <td>LANDES</td>\n",
       "      <td>AQUITAINE</td>\n",
       "      <td>Commune simple</td>\n",
       "      <td>96.0</td>\n",
       "      <td>1289.0</td>\n",
       "      <td>0.6</td>\n",
       "      <td>43.6810025684, -0.556768147827</td>\n",
       "      <td>{\"type\": \"Polygon\", \"coordinates\": [[[-0.54208...</td>\n",
       "    </tr>\n",
       "    <tr>\n",
       "      <th>SAINTE-COLOMBE</th>\n",
       "      <td>46260</td>\n",
       "      <td>46120</td>\n",
       "      <td>LOT</td>\n",
       "      <td>MIDI-PYRENEES</td>\n",
       "      <td>Commune simple</td>\n",
       "      <td>516.0</td>\n",
       "      <td>1131.0</td>\n",
       "      <td>0.2</td>\n",
       "      <td>44.7204297846, 2.01266388255</td>\n",
       "      <td>{\"type\": \"Polygon\", \"coordinates\": [[[2.038138...</td>\n",
       "    </tr>\n",
       "    <tr>\n",
       "      <th>SAINTE-COLOMBE</th>\n",
       "      <td>50457</td>\n",
       "      <td>50390</td>\n",
       "      <td>MANCHE</td>\n",
       "      <td>BASSE-NORMANDIE</td>\n",
       "      <td>Commune simple</td>\n",
       "      <td>20.0</td>\n",
       "      <td>509.0</td>\n",
       "      <td>0.2</td>\n",
       "      <td>49.4151457162, -1.51172159828</td>\n",
       "      <td>{\"type\": \"Polygon\", \"coordinates\": [[[-1.49421...</td>\n",
       "    </tr>\n",
       "    <tr>\n",
       "      <th>SAINTE-COLOMBE</th>\n",
       "      <td>69189</td>\n",
       "      <td>69560</td>\n",
       "      <td>RHONE</td>\n",
       "      <td>RHONE-ALPES</td>\n",
       "      <td>Commune simple</td>\n",
       "      <td>216.0</td>\n",
       "      <td>158.0</td>\n",
       "      <td>1.9</td>\n",
       "      <td>45.5250030617, 4.85931457938</td>\n",
       "      <td>{\"type\": \"Polygon\", \"coordinates\": [[[4.861328...</td>\n",
       "    </tr>\n",
       "    <tr>\n",
       "      <th>SAINTE-COLOMBE</th>\n",
       "      <td>76569</td>\n",
       "      <td>76460</td>\n",
       "      <td>SEINE-MARITIME</td>\n",
       "      <td>HAUTE-NORMANDIE</td>\n",
       "      <td>Commune simple</td>\n",
       "      <td>100.0</td>\n",
       "      <td>584.0</td>\n",
       "      <td>0.2</td>\n",
       "      <td>49.7963787198, 0.761815502519</td>\n",
       "      <td>{\"type\": \"Polygon\", \"coordinates\": [[[0.753089...</td>\n",
       "    </tr>\n",
       "    <tr>\n",
       "      <th>SAINTE-COLOMBE</th>\n",
       "      <td>77404</td>\n",
       "      <td>77650</td>\n",
       "      <td>SEINE-ET-MARNE</td>\n",
       "      <td>ILE-DE-FRANCE</td>\n",
       "      <td>Commune simple</td>\n",
       "      <td>115.0</td>\n",
       "      <td>813.0</td>\n",
       "      <td>1.8</td>\n",
       "      <td>48.5343555436, 3.25919071204</td>\n",
       "      <td>{\"type\": \"Polygon\", \"coordinates\": [[[3.264675...</td>\n",
       "    </tr>\n",
       "    <tr>\n",
       "      <th>SAINTE-COLOMBE</th>\n",
       "      <td>89339</td>\n",
       "      <td>89440</td>\n",
       "      <td>YONNE</td>\n",
       "      <td>BOURGOGNE</td>\n",
       "      <td>Commune simple</td>\n",
       "      <td>279.0</td>\n",
       "      <td>1851.0</td>\n",
       "      <td>0.2</td>\n",
       "      <td>47.5733326756, 3.95597782049</td>\n",
       "      <td>{\"type\": \"Polygon\", \"coordinates\": [[[3.983814...</td>\n",
       "    </tr>\n",
       "  </tbody>\n",
       "</table>\n",
       "</div>"
      ],
      "text/plain": [
       "               Code INSEE Code Postal        Département  \\\n",
       "Commune                                                    \n",
       "SAINTE-COLOMBE      05135       05700       HAUTES-ALPES   \n",
       "SAINTE-COLOMBE      16309       16230           CHARENTE   \n",
       "SAINTE-COLOMBE      17319       17210  CHARENTE-MARITIME   \n",
       "SAINTE-COLOMBE      21544       21350          COTE-D'OR   \n",
       "SAINTE-COLOMBE      25515       25300              DOUBS   \n",
       "SAINTE-COLOMBE      33390       33350            GIRONDE   \n",
       "SAINTE-COLOMBE      35262       35134    ILLE-ET-VILAINE   \n",
       "SAINTE-COLOMBE      40252       40700             LANDES   \n",
       "SAINTE-COLOMBE      46260       46120                LOT   \n",
       "SAINTE-COLOMBE      50457       50390             MANCHE   \n",
       "SAINTE-COLOMBE      69189       69560              RHONE   \n",
       "SAINTE-COLOMBE      76569       76460     SEINE-MARITIME   \n",
       "SAINTE-COLOMBE      77404       77650     SEINE-ET-MARNE   \n",
       "SAINTE-COLOMBE      89339       89440              YONNE   \n",
       "\n",
       "                                    Région          Statut  Altitude Moyenne  \\\n",
       "Commune                                                                        \n",
       "SAINTE-COLOMBE  PROVENCE-ALPES-COTE D'AZUR  Commune simple             965.0   \n",
       "SAINTE-COLOMBE            POITOU-CHARENTES  Commune simple             102.0   \n",
       "SAINTE-COLOMBE            POITOU-CHARENTES  Commune simple             111.0   \n",
       "SAINTE-COLOMBE                   BOURGOGNE  Commune simple             441.0   \n",
       "SAINTE-COLOMBE               FRANCHE-COMTE  Commune simple             884.0   \n",
       "SAINTE-COLOMBE                   AQUITAINE  Commune simple              61.0   \n",
       "SAINTE-COLOMBE                    BRETAGNE  Commune simple              75.0   \n",
       "SAINTE-COLOMBE                   AQUITAINE  Commune simple              96.0   \n",
       "SAINTE-COLOMBE               MIDI-PYRENEES  Commune simple             516.0   \n",
       "SAINTE-COLOMBE             BASSE-NORMANDIE  Commune simple              20.0   \n",
       "SAINTE-COLOMBE                 RHONE-ALPES  Commune simple             216.0   \n",
       "SAINTE-COLOMBE             HAUTE-NORMANDIE  Commune simple             100.0   \n",
       "SAINTE-COLOMBE               ILE-DE-FRANCE  Commune simple             115.0   \n",
       "SAINTE-COLOMBE                   BOURGOGNE  Commune simple             279.0   \n",
       "\n",
       "                Superficie  Population                     geo_point_2d  \\\n",
       "Commune                                                                   \n",
       "SAINTE-COLOMBE      1726.0         0.1     44.2889272211, 5.66834974647   \n",
       "SAINTE-COLOMBE       654.0         0.2    45.8295299814, 0.320048436517   \n",
       "SAINTE-COLOMBE       440.0         0.1    45.281890465, -0.273965618336   \n",
       "SAINTE-COLOMBE       633.0         0.1     47.4272975926, 4.46203899793   \n",
       "SAINTE-COLOMBE      1052.0         0.3     46.8735551517, 6.27545445456   \n",
       "SAINTE-COLOMBE       404.0         0.4  44.8789588977, -0.0634971172004   \n",
       "SAINTE-COLOMBE       776.0         0.3    47.8955543395, -1.45748423621   \n",
       "SAINTE-COLOMBE      1289.0         0.6   43.6810025684, -0.556768147827   \n",
       "SAINTE-COLOMBE      1131.0         0.2     44.7204297846, 2.01266388255   \n",
       "SAINTE-COLOMBE       509.0         0.2    49.4151457162, -1.51172159828   \n",
       "SAINTE-COLOMBE       158.0         1.9     45.5250030617, 4.85931457938   \n",
       "SAINTE-COLOMBE       584.0         0.2    49.7963787198, 0.761815502519   \n",
       "SAINTE-COLOMBE       813.0         1.8     48.5343555436, 3.25919071204   \n",
       "SAINTE-COLOMBE      1851.0         0.2     47.5733326756, 3.95597782049   \n",
       "\n",
       "                                                        geo_shape  \n",
       "Commune                                                            \n",
       "SAINTE-COLOMBE  {\"type\": \"Polygon\", \"coordinates\": [[[5.646781...  \n",
       "SAINTE-COLOMBE  {\"type\": \"Polygon\", \"coordinates\": [[[0.326195...  \n",
       "SAINTE-COLOMBE  {\"type\": \"Polygon\", \"coordinates\": [[[-0.28042...  \n",
       "SAINTE-COLOMBE  {\"type\": \"Polygon\", \"coordinates\": [[[4.462906...  \n",
       "SAINTE-COLOMBE  {\"type\": \"Polygon\", \"coordinates\": [[[6.293376...  \n",
       "SAINTE-COLOMBE  {\"type\": \"Polygon\", \"coordinates\": [[[-0.04871...  \n",
       "SAINTE-COLOMBE  {\"type\": \"Polygon\", \"coordinates\": [[[-1.46368...  \n",
       "SAINTE-COLOMBE  {\"type\": \"Polygon\", \"coordinates\": [[[-0.54208...  \n",
       "SAINTE-COLOMBE  {\"type\": \"Polygon\", \"coordinates\": [[[2.038138...  \n",
       "SAINTE-COLOMBE  {\"type\": \"Polygon\", \"coordinates\": [[[-1.49421...  \n",
       "SAINTE-COLOMBE  {\"type\": \"Polygon\", \"coordinates\": [[[4.861328...  \n",
       "SAINTE-COLOMBE  {\"type\": \"Polygon\", \"coordinates\": [[[0.753089...  \n",
       "SAINTE-COLOMBE  {\"type\": \"Polygon\", \"coordinates\": [[[3.264675...  \n",
       "SAINTE-COLOMBE  {\"type\": \"Polygon\", \"coordinates\": [[[3.983814...  "
      ]
     },
     "execution_count": 178,
     "metadata": {},
     "output_type": "execute_result"
    }
   ],
   "source": [
    "# accès avec un index non unique\n",
    "geo.loc['SAINTE-COLOMBE']"
   ]
  },
  {
   "cell_type": "code",
   "execution_count": 179,
   "metadata": {},
   "outputs": [
    {
     "data": {
      "text/html": [
       "<div>\n",
       "<style scoped>\n",
       "    .dataframe tbody tr th:only-of-type {\n",
       "        vertical-align: middle;\n",
       "    }\n",
       "\n",
       "    .dataframe tbody tr th {\n",
       "        vertical-align: top;\n",
       "    }\n",
       "\n",
       "    .dataframe thead th {\n",
       "        text-align: right;\n",
       "    }\n",
       "</style>\n",
       "<table border=\"1\" class=\"dataframe\">\n",
       "  <thead>\n",
       "    <tr style=\"text-align: right;\">\n",
       "      <th></th>\n",
       "      <th>Code INSEE</th>\n",
       "      <th>Code Postal</th>\n",
       "      <th>Département</th>\n",
       "      <th>Région</th>\n",
       "      <th>Statut</th>\n",
       "      <th>Altitude Moyenne</th>\n",
       "      <th>Superficie</th>\n",
       "      <th>Population</th>\n",
       "      <th>geo_point_2d</th>\n",
       "      <th>geo_shape</th>\n",
       "    </tr>\n",
       "    <tr>\n",
       "      <th>Commune</th>\n",
       "      <th></th>\n",
       "      <th></th>\n",
       "      <th></th>\n",
       "      <th></th>\n",
       "      <th></th>\n",
       "      <th></th>\n",
       "      <th></th>\n",
       "      <th></th>\n",
       "      <th></th>\n",
       "      <th></th>\n",
       "    </tr>\n",
       "  </thead>\n",
       "  <tbody>\n",
       "    <tr>\n",
       "      <th>L'ABERGEMENT-CLEMENCIAT</th>\n",
       "      <td>01001</td>\n",
       "      <td>01400</td>\n",
       "      <td>AIN</td>\n",
       "      <td>RHONE-ALPES</td>\n",
       "      <td>Commune simple</td>\n",
       "      <td>242.0</td>\n",
       "      <td>1565.0</td>\n",
       "      <td>0.8</td>\n",
       "      <td>46.1534255214, 4.92611354223</td>\n",
       "      <td>{\"type\": \"Polygon\", \"coordinates\": [[[4.926273...</td>\n",
       "    </tr>\n",
       "    <tr>\n",
       "      <th>L'ABERGEMENT-DE-VAREY</th>\n",
       "      <td>01002</td>\n",
       "      <td>01640</td>\n",
       "      <td>AIN</td>\n",
       "      <td>RHONE-ALPES</td>\n",
       "      <td>Commune simple</td>\n",
       "      <td>483.0</td>\n",
       "      <td>912.0</td>\n",
       "      <td>0.2</td>\n",
       "      <td>46.0091878776, 5.42801696363</td>\n",
       "      <td>{\"type\": \"Polygon\", \"coordinates\": [[[5.430089...</td>\n",
       "    </tr>\n",
       "    <tr>\n",
       "      <th>AMBERIEU-EN-BUGEY</th>\n",
       "      <td>01004</td>\n",
       "      <td>01500</td>\n",
       "      <td>AIN</td>\n",
       "      <td>RHONE-ALPES</td>\n",
       "      <td>Chef-lieu canton</td>\n",
       "      <td>379.0</td>\n",
       "      <td>2448.0</td>\n",
       "      <td>13.4</td>\n",
       "      <td>45.9608475114, 5.3729257777</td>\n",
       "      <td>{\"type\": \"Polygon\", \"coordinates\": [[[5.386190...</td>\n",
       "    </tr>\n",
       "    <tr>\n",
       "      <th>AMBERIEUX-EN-DOMBES</th>\n",
       "      <td>01005</td>\n",
       "      <td>01330</td>\n",
       "      <td>AIN</td>\n",
       "      <td>RHONE-ALPES</td>\n",
       "      <td>Commune simple</td>\n",
       "      <td>290.0</td>\n",
       "      <td>1605.0</td>\n",
       "      <td>1.6</td>\n",
       "      <td>45.9961799872, 4.91227250796</td>\n",
       "      <td>{\"type\": \"Polygon\", \"coordinates\": [[[4.895580...</td>\n",
       "    </tr>\n",
       "    <tr>\n",
       "      <th>AMBLEON</th>\n",
       "      <td>01006</td>\n",
       "      <td>01300</td>\n",
       "      <td>AIN</td>\n",
       "      <td>RHONE-ALPES</td>\n",
       "      <td>Commune simple</td>\n",
       "      <td>589.0</td>\n",
       "      <td>602.0</td>\n",
       "      <td>0.1</td>\n",
       "      <td>45.7494989044, 5.59432017366</td>\n",
       "      <td>{\"type\": \"Polygon\", \"coordinates\": [[[5.614854...</td>\n",
       "    </tr>\n",
       "  </tbody>\n",
       "</table>\n",
       "</div>"
      ],
      "text/plain": [
       "                        Code INSEE Code Postal Département       Région  \\\n",
       "Commune                                                                   \n",
       "L'ABERGEMENT-CLEMENCIAT      01001       01400         AIN  RHONE-ALPES   \n",
       "L'ABERGEMENT-DE-VAREY        01002       01640         AIN  RHONE-ALPES   \n",
       "AMBERIEU-EN-BUGEY            01004       01500         AIN  RHONE-ALPES   \n",
       "AMBERIEUX-EN-DOMBES          01005       01330         AIN  RHONE-ALPES   \n",
       "AMBLEON                      01006       01300         AIN  RHONE-ALPES   \n",
       "\n",
       "                                   Statut  Altitude Moyenne  Superficie  \\\n",
       "Commune                                                                   \n",
       "L'ABERGEMENT-CLEMENCIAT    Commune simple             242.0      1565.0   \n",
       "L'ABERGEMENT-DE-VAREY      Commune simple             483.0       912.0   \n",
       "AMBERIEU-EN-BUGEY        Chef-lieu canton             379.0      2448.0   \n",
       "AMBERIEUX-EN-DOMBES        Commune simple             290.0      1605.0   \n",
       "AMBLEON                    Commune simple             589.0       602.0   \n",
       "\n",
       "                         Population                  geo_point_2d  \\\n",
       "Commune                                                             \n",
       "L'ABERGEMENT-CLEMENCIAT         0.8  46.1534255214, 4.92611354223   \n",
       "L'ABERGEMENT-DE-VAREY           0.2  46.0091878776, 5.42801696363   \n",
       "AMBERIEU-EN-BUGEY              13.4   45.9608475114, 5.3729257777   \n",
       "AMBERIEUX-EN-DOMBES             1.6  45.9961799872, 4.91227250796   \n",
       "AMBLEON                         0.1  45.7494989044, 5.59432017366   \n",
       "\n",
       "                                                                 geo_shape  \n",
       "Commune                                                                     \n",
       "L'ABERGEMENT-CLEMENCIAT  {\"type\": \"Polygon\", \"coordinates\": [[[4.926273...  \n",
       "L'ABERGEMENT-DE-VAREY    {\"type\": \"Polygon\", \"coordinates\": [[[5.430089...  \n",
       "AMBERIEU-EN-BUGEY        {\"type\": \"Polygon\", \"coordinates\": [[[5.386190...  \n",
       "AMBERIEUX-EN-DOMBES      {\"type\": \"Polygon\", \"coordinates\": [[[4.895580...  \n",
       "AMBLEON                  {\"type\": \"Polygon\", \"coordinates\": [[[5.614854...  "
      ]
     },
     "execution_count": 179,
     "metadata": {},
     "output_type": "execute_result"
    }
   ],
   "source": [
    "# tête\n",
    "geo.head()"
   ]
  },
  {
   "cell_type": "code",
   "execution_count": 180,
   "metadata": {},
   "outputs": [
    {
     "ename": "KeyError",
     "evalue": "\"Cannot get right slice bound for non-unique label: 'SAINTE-COLOMBE'\"",
     "output_type": "error",
     "traceback": [
      "\u001b[0;31m---------------------------------------------------------------------------\u001b[0m",
      "\u001b[0;31mKeyError\u001b[0m                                  Traceback (most recent call last)",
      "\u001b[0;32m<ipython-input-180-969cb686bfe2>\u001b[0m in \u001b[0;36m<module>\u001b[0;34m\u001b[0m\n\u001b[1;32m      1\u001b[0m \u001b[0;31m# tentative d'accès à une plage d'index\u001b[0m\u001b[0;34m\u001b[0m\u001b[0;34m\u001b[0m\u001b[0;34m\u001b[0m\u001b[0m\n\u001b[0;32m----> 2\u001b[0;31m \u001b[0mgeo\u001b[0m\u001b[0;34m.\u001b[0m\u001b[0mloc\u001b[0m\u001b[0;34m[\u001b[0m\u001b[0;34m\"L'ABERGEMENT-CLEMENCIAT\"\u001b[0m\u001b[0;34m:\u001b[0m\u001b[0;34m\"SAINTE-COLOMBE\"\u001b[0m\u001b[0;34m]\u001b[0m\u001b[0;34m\u001b[0m\u001b[0;34m\u001b[0m\u001b[0m\n\u001b[0m",
      "\u001b[0;32m~/opt/anaconda3/lib/python3.8/site-packages/pandas/core/indexing.py\u001b[0m in \u001b[0;36m__getitem__\u001b[0;34m(self, key)\u001b[0m\n\u001b[1;32m    893\u001b[0m \u001b[0;34m\u001b[0m\u001b[0m\n\u001b[1;32m    894\u001b[0m             \u001b[0mmaybe_callable\u001b[0m \u001b[0;34m=\u001b[0m \u001b[0mcom\u001b[0m\u001b[0;34m.\u001b[0m\u001b[0mapply_if_callable\u001b[0m\u001b[0;34m(\u001b[0m\u001b[0mkey\u001b[0m\u001b[0;34m,\u001b[0m \u001b[0mself\u001b[0m\u001b[0;34m.\u001b[0m\u001b[0mobj\u001b[0m\u001b[0;34m)\u001b[0m\u001b[0;34m\u001b[0m\u001b[0;34m\u001b[0m\u001b[0m\n\u001b[0;32m--> 895\u001b[0;31m             \u001b[0;32mreturn\u001b[0m \u001b[0mself\u001b[0m\u001b[0;34m.\u001b[0m\u001b[0m_getitem_axis\u001b[0m\u001b[0;34m(\u001b[0m\u001b[0mmaybe_callable\u001b[0m\u001b[0;34m,\u001b[0m \u001b[0maxis\u001b[0m\u001b[0;34m=\u001b[0m\u001b[0maxis\u001b[0m\u001b[0;34m)\u001b[0m\u001b[0;34m\u001b[0m\u001b[0;34m\u001b[0m\u001b[0m\n\u001b[0m\u001b[1;32m    896\u001b[0m \u001b[0;34m\u001b[0m\u001b[0m\n\u001b[1;32m    897\u001b[0m     \u001b[0;32mdef\u001b[0m \u001b[0m_is_scalar_access\u001b[0m\u001b[0;34m(\u001b[0m\u001b[0mself\u001b[0m\u001b[0;34m,\u001b[0m \u001b[0mkey\u001b[0m\u001b[0;34m:\u001b[0m \u001b[0mTuple\u001b[0m\u001b[0;34m)\u001b[0m\u001b[0;34m:\u001b[0m\u001b[0;34m\u001b[0m\u001b[0;34m\u001b[0m\u001b[0m\n",
      "\u001b[0;32m~/opt/anaconda3/lib/python3.8/site-packages/pandas/core/indexing.py\u001b[0m in \u001b[0;36m_getitem_axis\u001b[0;34m(self, key, axis)\u001b[0m\n\u001b[1;32m   1100\u001b[0m         \u001b[0;32mif\u001b[0m \u001b[0misinstance\u001b[0m\u001b[0;34m(\u001b[0m\u001b[0mkey\u001b[0m\u001b[0;34m,\u001b[0m \u001b[0mslice\u001b[0m\u001b[0;34m)\u001b[0m\u001b[0;34m:\u001b[0m\u001b[0;34m\u001b[0m\u001b[0;34m\u001b[0m\u001b[0m\n\u001b[1;32m   1101\u001b[0m             \u001b[0mself\u001b[0m\u001b[0;34m.\u001b[0m\u001b[0m_validate_key\u001b[0m\u001b[0;34m(\u001b[0m\u001b[0mkey\u001b[0m\u001b[0;34m,\u001b[0m \u001b[0maxis\u001b[0m\u001b[0;34m)\u001b[0m\u001b[0;34m\u001b[0m\u001b[0;34m\u001b[0m\u001b[0m\n\u001b[0;32m-> 1102\u001b[0;31m             \u001b[0;32mreturn\u001b[0m \u001b[0mself\u001b[0m\u001b[0;34m.\u001b[0m\u001b[0m_get_slice_axis\u001b[0m\u001b[0;34m(\u001b[0m\u001b[0mkey\u001b[0m\u001b[0;34m,\u001b[0m \u001b[0maxis\u001b[0m\u001b[0;34m=\u001b[0m\u001b[0maxis\u001b[0m\u001b[0;34m)\u001b[0m\u001b[0;34m\u001b[0m\u001b[0;34m\u001b[0m\u001b[0m\n\u001b[0m\u001b[1;32m   1103\u001b[0m         \u001b[0;32melif\u001b[0m \u001b[0mcom\u001b[0m\u001b[0;34m.\u001b[0m\u001b[0mis_bool_indexer\u001b[0m\u001b[0;34m(\u001b[0m\u001b[0mkey\u001b[0m\u001b[0;34m)\u001b[0m\u001b[0;34m:\u001b[0m\u001b[0;34m\u001b[0m\u001b[0;34m\u001b[0m\u001b[0m\n\u001b[1;32m   1104\u001b[0m             \u001b[0;32mreturn\u001b[0m \u001b[0mself\u001b[0m\u001b[0;34m.\u001b[0m\u001b[0m_getbool_axis\u001b[0m\u001b[0;34m(\u001b[0m\u001b[0mkey\u001b[0m\u001b[0;34m,\u001b[0m \u001b[0maxis\u001b[0m\u001b[0;34m=\u001b[0m\u001b[0maxis\u001b[0m\u001b[0;34m)\u001b[0m\u001b[0;34m\u001b[0m\u001b[0;34m\u001b[0m\u001b[0m\n",
      "\u001b[0;32m~/opt/anaconda3/lib/python3.8/site-packages/pandas/core/indexing.py\u001b[0m in \u001b[0;36m_get_slice_axis\u001b[0;34m(self, slice_obj, axis)\u001b[0m\n\u001b[1;32m   1134\u001b[0m \u001b[0;34m\u001b[0m\u001b[0m\n\u001b[1;32m   1135\u001b[0m         \u001b[0mlabels\u001b[0m \u001b[0;34m=\u001b[0m \u001b[0mobj\u001b[0m\u001b[0;34m.\u001b[0m\u001b[0m_get_axis\u001b[0m\u001b[0;34m(\u001b[0m\u001b[0maxis\u001b[0m\u001b[0;34m)\u001b[0m\u001b[0;34m\u001b[0m\u001b[0;34m\u001b[0m\u001b[0m\n\u001b[0;32m-> 1136\u001b[0;31m         indexer = labels.slice_indexer(\n\u001b[0m\u001b[1;32m   1137\u001b[0m             \u001b[0mslice_obj\u001b[0m\u001b[0;34m.\u001b[0m\u001b[0mstart\u001b[0m\u001b[0;34m,\u001b[0m \u001b[0mslice_obj\u001b[0m\u001b[0;34m.\u001b[0m\u001b[0mstop\u001b[0m\u001b[0;34m,\u001b[0m \u001b[0mslice_obj\u001b[0m\u001b[0;34m.\u001b[0m\u001b[0mstep\u001b[0m\u001b[0;34m,\u001b[0m \u001b[0mkind\u001b[0m\u001b[0;34m=\u001b[0m\u001b[0;34m\"loc\"\u001b[0m\u001b[0;34m\u001b[0m\u001b[0;34m\u001b[0m\u001b[0m\n\u001b[1;32m   1138\u001b[0m         )\n",
      "\u001b[0;32m~/opt/anaconda3/lib/python3.8/site-packages/pandas/core/indexes/base.py\u001b[0m in \u001b[0;36mslice_indexer\u001b[0;34m(self, start, end, step, kind)\u001b[0m\n\u001b[1;32m   5275\u001b[0m         \u001b[0mslice\u001b[0m\u001b[0;34m(\u001b[0m\u001b[0;36m1\u001b[0m\u001b[0;34m,\u001b[0m \u001b[0;36m3\u001b[0m\u001b[0;34m,\u001b[0m \u001b[0;32mNone\u001b[0m\u001b[0;34m)\u001b[0m\u001b[0;34m\u001b[0m\u001b[0;34m\u001b[0m\u001b[0m\n\u001b[1;32m   5276\u001b[0m         \"\"\"\n\u001b[0;32m-> 5277\u001b[0;31m         \u001b[0mstart_slice\u001b[0m\u001b[0;34m,\u001b[0m \u001b[0mend_slice\u001b[0m \u001b[0;34m=\u001b[0m \u001b[0mself\u001b[0m\u001b[0;34m.\u001b[0m\u001b[0mslice_locs\u001b[0m\u001b[0;34m(\u001b[0m\u001b[0mstart\u001b[0m\u001b[0;34m,\u001b[0m \u001b[0mend\u001b[0m\u001b[0;34m,\u001b[0m \u001b[0mstep\u001b[0m\u001b[0;34m=\u001b[0m\u001b[0mstep\u001b[0m\u001b[0;34m,\u001b[0m \u001b[0mkind\u001b[0m\u001b[0;34m=\u001b[0m\u001b[0mkind\u001b[0m\u001b[0;34m)\u001b[0m\u001b[0;34m\u001b[0m\u001b[0;34m\u001b[0m\u001b[0m\n\u001b[0m\u001b[1;32m   5278\u001b[0m \u001b[0;34m\u001b[0m\u001b[0m\n\u001b[1;32m   5279\u001b[0m         \u001b[0;31m# return a slice\u001b[0m\u001b[0;34m\u001b[0m\u001b[0;34m\u001b[0m\u001b[0;34m\u001b[0m\u001b[0m\n",
      "\u001b[0;32m~/opt/anaconda3/lib/python3.8/site-packages/pandas/core/indexes/base.py\u001b[0m in \u001b[0;36mslice_locs\u001b[0;34m(self, start, end, step, kind)\u001b[0m\n\u001b[1;32m   5480\u001b[0m         \u001b[0mend_slice\u001b[0m \u001b[0;34m=\u001b[0m \u001b[0;32mNone\u001b[0m\u001b[0;34m\u001b[0m\u001b[0;34m\u001b[0m\u001b[0m\n\u001b[1;32m   5481\u001b[0m         \u001b[0;32mif\u001b[0m \u001b[0mend\u001b[0m \u001b[0;32mis\u001b[0m \u001b[0;32mnot\u001b[0m \u001b[0;32mNone\u001b[0m\u001b[0;34m:\u001b[0m\u001b[0;34m\u001b[0m\u001b[0;34m\u001b[0m\u001b[0m\n\u001b[0;32m-> 5482\u001b[0;31m             \u001b[0mend_slice\u001b[0m \u001b[0;34m=\u001b[0m \u001b[0mself\u001b[0m\u001b[0;34m.\u001b[0m\u001b[0mget_slice_bound\u001b[0m\u001b[0;34m(\u001b[0m\u001b[0mend\u001b[0m\u001b[0;34m,\u001b[0m \u001b[0;34m\"right\"\u001b[0m\u001b[0;34m,\u001b[0m \u001b[0mkind\u001b[0m\u001b[0;34m)\u001b[0m\u001b[0;34m\u001b[0m\u001b[0;34m\u001b[0m\u001b[0m\n\u001b[0m\u001b[1;32m   5483\u001b[0m         \u001b[0;32mif\u001b[0m \u001b[0mend_slice\u001b[0m \u001b[0;32mis\u001b[0m \u001b[0;32mNone\u001b[0m\u001b[0;34m:\u001b[0m\u001b[0;34m\u001b[0m\u001b[0;34m\u001b[0m\u001b[0m\n\u001b[1;32m   5484\u001b[0m             \u001b[0mend_slice\u001b[0m \u001b[0;34m=\u001b[0m \u001b[0mlen\u001b[0m\u001b[0;34m(\u001b[0m\u001b[0mself\u001b[0m\u001b[0;34m)\u001b[0m\u001b[0;34m\u001b[0m\u001b[0;34m\u001b[0m\u001b[0m\n",
      "\u001b[0;32m~/opt/anaconda3/lib/python3.8/site-packages/pandas/core/indexes/base.py\u001b[0m in \u001b[0;36mget_slice_bound\u001b[0;34m(self, label, side, kind)\u001b[0m\n\u001b[1;32m   5406\u001b[0m                 )\n\u001b[1;32m   5407\u001b[0m             \u001b[0;32mif\u001b[0m \u001b[0misinstance\u001b[0m\u001b[0;34m(\u001b[0m\u001b[0mslc\u001b[0m\u001b[0;34m,\u001b[0m \u001b[0mnp\u001b[0m\u001b[0;34m.\u001b[0m\u001b[0mndarray\u001b[0m\u001b[0;34m)\u001b[0m\u001b[0;34m:\u001b[0m\u001b[0;34m\u001b[0m\u001b[0;34m\u001b[0m\u001b[0m\n\u001b[0;32m-> 5408\u001b[0;31m                 raise KeyError(\n\u001b[0m\u001b[1;32m   5409\u001b[0m                     \u001b[0;34mf\"Cannot get {side} slice bound for non-unique \"\u001b[0m\u001b[0;34m\u001b[0m\u001b[0;34m\u001b[0m\u001b[0m\n\u001b[1;32m   5410\u001b[0m                     \u001b[0;34mf\"label: {repr(original_label)}\"\u001b[0m\u001b[0;34m\u001b[0m\u001b[0;34m\u001b[0m\u001b[0m\n",
      "\u001b[0;31mKeyError\u001b[0m: \"Cannot get right slice bound for non-unique label: 'SAINTE-COLOMBE'\""
     ]
    }
   ],
   "source": [
    "# tentative d'accès à une plage d'index\n",
    "geo.loc[\"L'ABERGEMENT-CLEMENCIAT\":\"SAINTE-COLOMBE\"]       #????"
   ]
  },
  {
   "cell_type": "markdown",
   "metadata": {},
   "source": [
    "## Manipulations et modifications des données"
   ]
  },
  {
   "cell_type": "code",
   "execution_count": 184,
   "metadata": {
    "scrolled": false
   },
   "outputs": [
    {
     "data": {
      "text/html": [
       "<div>\n",
       "<style scoped>\n",
       "    .dataframe tbody tr th:only-of-type {\n",
       "        vertical-align: middle;\n",
       "    }\n",
       "\n",
       "    .dataframe tbody tr th {\n",
       "        vertical-align: top;\n",
       "    }\n",
       "\n",
       "    .dataframe thead th {\n",
       "        text-align: right;\n",
       "    }\n",
       "</style>\n",
       "<table border=\"1\" class=\"dataframe\">\n",
       "  <thead>\n",
       "    <tr style=\"text-align: right;\">\n",
       "      <th></th>\n",
       "      <th>Code Postal</th>\n",
       "      <th>Commune</th>\n",
       "      <th>Département</th>\n",
       "      <th>Région</th>\n",
       "      <th>Statut</th>\n",
       "      <th>Altitude Moyenne</th>\n",
       "      <th>Superficie</th>\n",
       "      <th>Population</th>\n",
       "      <th>geo_point_2d</th>\n",
       "      <th>geo_shape</th>\n",
       "    </tr>\n",
       "    <tr>\n",
       "      <th>Code INSEE</th>\n",
       "      <th></th>\n",
       "      <th></th>\n",
       "      <th></th>\n",
       "      <th></th>\n",
       "      <th></th>\n",
       "      <th></th>\n",
       "      <th></th>\n",
       "      <th></th>\n",
       "      <th></th>\n",
       "      <th></th>\n",
       "    </tr>\n",
       "  </thead>\n",
       "  <tbody>\n",
       "    <tr>\n",
       "      <th>31080</th>\n",
       "      <td>31350</td>\n",
       "      <td>BOULOGNE-SUR-GESSE</td>\n",
       "      <td>HAUTE-GARONNE</td>\n",
       "      <td>MIDI-PYRENEES</td>\n",
       "      <td>Chef-lieu canton</td>\n",
       "      <td>301.0</td>\n",
       "      <td>2470.0</td>\n",
       "      <td>1.6</td>\n",
       "      <td>43.2904403081, 0.650641474176</td>\n",
       "      <td>{\"type\": \"Polygon\", \"coordinates\": [[[0.671852...</td>\n",
       "    </tr>\n",
       "    <tr>\n",
       "      <th>11143</th>\n",
       "      <td>11510</td>\n",
       "      <td>FEUILLA</td>\n",
       "      <td>AUDE</td>\n",
       "      <td>LANGUEDOC-ROUSSILLON</td>\n",
       "      <td>Commune simple</td>\n",
       "      <td>314.0</td>\n",
       "      <td>2426.0</td>\n",
       "      <td>0.1</td>\n",
       "      <td>42.9291375888, 2.90138923544</td>\n",
       "      <td>{\"type\": \"Polygon\", \"coordinates\": [[[2.906996...</td>\n",
       "    </tr>\n",
       "    <tr>\n",
       "      <th>43028</th>\n",
       "      <td>43200</td>\n",
       "      <td>BESSAMOREL</td>\n",
       "      <td>HAUTE-LOIRE</td>\n",
       "      <td>AUVERGNE</td>\n",
       "      <td>Commune simple</td>\n",
       "      <td>888.0</td>\n",
       "      <td>743.0</td>\n",
       "      <td>0.4</td>\n",
       "      <td>45.1306448726, 4.07952494849</td>\n",
       "      <td>{\"type\": \"Polygon\", \"coordinates\": [[[4.091674...</td>\n",
       "    </tr>\n",
       "    <tr>\n",
       "      <th>78506</th>\n",
       "      <td>78660</td>\n",
       "      <td>PRUNAY-EN-YVELINES</td>\n",
       "      <td>YVELINES</td>\n",
       "      <td>ILE-DE-FRANCE</td>\n",
       "      <td>Commune simple</td>\n",
       "      <td>155.0</td>\n",
       "      <td>2717.0</td>\n",
       "      <td>0.8</td>\n",
       "      <td>48.5267627187, 1.80513972814</td>\n",
       "      <td>{\"type\": \"Polygon\", \"coordinates\": [[[1.829610...</td>\n",
       "    </tr>\n",
       "    <tr>\n",
       "      <th>84081</th>\n",
       "      <td>84310</td>\n",
       "      <td>MORIERES-LES-AVIGNON</td>\n",
       "      <td>VAUCLUSE</td>\n",
       "      <td>PROVENCE-ALPES-COTE D'AZUR</td>\n",
       "      <td>Commune simple</td>\n",
       "      <td>49.0</td>\n",
       "      <td>1042.0</td>\n",
       "      <td>7.6</td>\n",
       "      <td>43.9337788848, 4.90875878315</td>\n",
       "      <td>{\"type\": \"Polygon\", \"coordinates\": [[[4.927176...</td>\n",
       "    </tr>\n",
       "  </tbody>\n",
       "</table>\n",
       "</div>"
      ],
      "text/plain": [
       "           Code Postal               Commune    Département  \\\n",
       "Code INSEE                                                    \n",
       "31080            31350    BOULOGNE-SUR-GESSE  HAUTE-GARONNE   \n",
       "11143            11510               FEUILLA           AUDE   \n",
       "43028            43200            BESSAMOREL    HAUTE-LOIRE   \n",
       "78506            78660    PRUNAY-EN-YVELINES       YVELINES   \n",
       "84081            84310  MORIERES-LES-AVIGNON       VAUCLUSE   \n",
       "\n",
       "                                Région            Statut  Altitude Moyenne  \\\n",
       "Code INSEE                                                                   \n",
       "31080                    MIDI-PYRENEES  Chef-lieu canton             301.0   \n",
       "11143             LANGUEDOC-ROUSSILLON    Commune simple             314.0   \n",
       "43028                         AUVERGNE    Commune simple             888.0   \n",
       "78506                    ILE-DE-FRANCE    Commune simple             155.0   \n",
       "84081       PROVENCE-ALPES-COTE D'AZUR    Commune simple              49.0   \n",
       "\n",
       "            Superficie  Population                   geo_point_2d  \\\n",
       "Code INSEE                                                          \n",
       "31080           2470.0         1.6  43.2904403081, 0.650641474176   \n",
       "11143           2426.0         0.1   42.9291375888, 2.90138923544   \n",
       "43028            743.0         0.4   45.1306448726, 4.07952494849   \n",
       "78506           2717.0         0.8   48.5267627187, 1.80513972814   \n",
       "84081           1042.0         7.6   43.9337788848, 4.90875878315   \n",
       "\n",
       "                                                    geo_shape  \n",
       "Code INSEE                                                     \n",
       "31080       {\"type\": \"Polygon\", \"coordinates\": [[[0.671852...  \n",
       "11143       {\"type\": \"Polygon\", \"coordinates\": [[[2.906996...  \n",
       "43028       {\"type\": \"Polygon\", \"coordinates\": [[[4.091674...  \n",
       "78506       {\"type\": \"Polygon\", \"coordinates\": [[[1.829610...  \n",
       "84081       {\"type\": \"Polygon\", \"coordinates\": [[[4.927176...  "
      ]
     },
     "execution_count": 184,
     "metadata": {},
     "output_type": "execute_result"
    }
   ],
   "source": [
    "# chargement des données\n",
    "geo = pd.read_csv(\"correspondance-code-insee-code-postal.csv\",\n",
    "                   sep=';',\n",
    "                   usecols=range(11),\n",
    "                   index_col=\"Code INSEE\")\n",
    "geo.head()"
   ]
  },
  {
   "cell_type": "markdown",
   "metadata": {},
   "source": [
    "### Tri"
   ]
  },
  {
   "cell_type": "code",
   "execution_count": 185,
   "metadata": {
    "scrolled": false
   },
   "outputs": [
    {
     "data": {
      "text/html": [
       "<div>\n",
       "<style scoped>\n",
       "    .dataframe tbody tr th:only-of-type {\n",
       "        vertical-align: middle;\n",
       "    }\n",
       "\n",
       "    .dataframe tbody tr th {\n",
       "        vertical-align: top;\n",
       "    }\n",
       "\n",
       "    .dataframe thead th {\n",
       "        text-align: right;\n",
       "    }\n",
       "</style>\n",
       "<table border=\"1\" class=\"dataframe\">\n",
       "  <thead>\n",
       "    <tr style=\"text-align: right;\">\n",
       "      <th></th>\n",
       "      <th>Code Postal</th>\n",
       "      <th>Commune</th>\n",
       "      <th>Département</th>\n",
       "      <th>Région</th>\n",
       "      <th>Statut</th>\n",
       "      <th>Altitude Moyenne</th>\n",
       "      <th>Superficie</th>\n",
       "      <th>Population</th>\n",
       "      <th>geo_point_2d</th>\n",
       "      <th>geo_shape</th>\n",
       "    </tr>\n",
       "    <tr>\n",
       "      <th>Code INSEE</th>\n",
       "      <th></th>\n",
       "      <th></th>\n",
       "      <th></th>\n",
       "      <th></th>\n",
       "      <th></th>\n",
       "      <th></th>\n",
       "      <th></th>\n",
       "      <th></th>\n",
       "      <th></th>\n",
       "      <th></th>\n",
       "    </tr>\n",
       "  </thead>\n",
       "  <tbody>\n",
       "    <tr>\n",
       "      <th>59404</th>\n",
       "      <td>59122</td>\n",
       "      <td>LES MOERES</td>\n",
       "      <td>NORD</td>\n",
       "      <td>NORD-PAS-DE-CALAIS</td>\n",
       "      <td>Commune simple</td>\n",
       "      <td>0.0</td>\n",
       "      <td>1967.0</td>\n",
       "      <td>0.8</td>\n",
       "      <td>51.0240965472, 2.5473689484</td>\n",
       "      <td>{\"type\": \"Polygon\", \"coordinates\": [[[2.572476...</td>\n",
       "    </tr>\n",
       "    <tr>\n",
       "      <th>34192</th>\n",
       "      <td>34250</td>\n",
       "      <td>PALAVAS-LES-FLOTS</td>\n",
       "      <td>HERAULT</td>\n",
       "      <td>LANGUEDOC-ROUSSILLON</td>\n",
       "      <td>Commune simple</td>\n",
       "      <td>0.0</td>\n",
       "      <td>920.0</td>\n",
       "      <td>6.0</td>\n",
       "      <td>43.533536456, 3.92620839566</td>\n",
       "      <td>{\"type\": \"Polygon\", \"coordinates\": [[[3.907955...</td>\n",
       "    </tr>\n",
       "    <tr>\n",
       "      <th>13096</th>\n",
       "      <td>13460</td>\n",
       "      <td>SAINTES-MARIES-DE-LA-MER</td>\n",
       "      <td>BOUCHES-DU-RHONE</td>\n",
       "      <td>PROVENCE-ALPES-COTE D'AZUR</td>\n",
       "      <td>Chef-lieu canton</td>\n",
       "      <td>1.0</td>\n",
       "      <td>37242.0</td>\n",
       "      <td>2.3</td>\n",
       "      <td>43.50398297, 4.46396357194</td>\n",
       "      <td>{\"type\": \"Polygon\", \"coordinates\": [[[4.597237...</td>\n",
       "    </tr>\n",
       "    <tr>\n",
       "      <th>34344</th>\n",
       "      <td>34280</td>\n",
       "      <td>LA GRANDE-MOTTE</td>\n",
       "      <td>HERAULT</td>\n",
       "      <td>LANGUEDOC-ROUSSILLON</td>\n",
       "      <td>Commune simple</td>\n",
       "      <td>1.0</td>\n",
       "      <td>1391.0</td>\n",
       "      <td>8.4</td>\n",
       "      <td>43.5685394142, 4.0758328467</td>\n",
       "      <td>{\"type\": \"Polygon\", \"coordinates\": [[[4.101041...</td>\n",
       "    </tr>\n",
       "    <tr>\n",
       "      <th>59154</th>\n",
       "      <td>59380</td>\n",
       "      <td>COUDEKERQUE-VILLAGE</td>\n",
       "      <td>NORD</td>\n",
       "      <td>NORD-PAS-DE-CALAIS</td>\n",
       "      <td>Commune simple</td>\n",
       "      <td>1.0</td>\n",
       "      <td>1203.0</td>\n",
       "      <td>1.2</td>\n",
       "      <td>50.9945680467, 2.42167016066</td>\n",
       "      <td>{\"type\": \"Polygon\", \"coordinates\": [[[2.435660...</td>\n",
       "    </tr>\n",
       "  </tbody>\n",
       "</table>\n",
       "</div>"
      ],
      "text/plain": [
       "           Code Postal                   Commune       Département  \\\n",
       "Code INSEE                                                           \n",
       "59404            59122                LES MOERES              NORD   \n",
       "34192            34250         PALAVAS-LES-FLOTS           HERAULT   \n",
       "13096            13460  SAINTES-MARIES-DE-LA-MER  BOUCHES-DU-RHONE   \n",
       "34344            34280           LA GRANDE-MOTTE           HERAULT   \n",
       "59154            59380       COUDEKERQUE-VILLAGE              NORD   \n",
       "\n",
       "                                Région            Statut  Altitude Moyenne  \\\n",
       "Code INSEE                                                                   \n",
       "59404               NORD-PAS-DE-CALAIS    Commune simple               0.0   \n",
       "34192             LANGUEDOC-ROUSSILLON    Commune simple               0.0   \n",
       "13096       PROVENCE-ALPES-COTE D'AZUR  Chef-lieu canton               1.0   \n",
       "34344             LANGUEDOC-ROUSSILLON    Commune simple               1.0   \n",
       "59154               NORD-PAS-DE-CALAIS    Commune simple               1.0   \n",
       "\n",
       "            Superficie  Population                  geo_point_2d  \\\n",
       "Code INSEE                                                         \n",
       "59404           1967.0         0.8   51.0240965472, 2.5473689484   \n",
       "34192            920.0         6.0   43.533536456, 3.92620839566   \n",
       "13096          37242.0         2.3    43.50398297, 4.46396357194   \n",
       "34344           1391.0         8.4   43.5685394142, 4.0758328467   \n",
       "59154           1203.0         1.2  50.9945680467, 2.42167016066   \n",
       "\n",
       "                                                    geo_shape  \n",
       "Code INSEE                                                     \n",
       "59404       {\"type\": \"Polygon\", \"coordinates\": [[[2.572476...  \n",
       "34192       {\"type\": \"Polygon\", \"coordinates\": [[[3.907955...  \n",
       "13096       {\"type\": \"Polygon\", \"coordinates\": [[[4.597237...  \n",
       "34344       {\"type\": \"Polygon\", \"coordinates\": [[[4.101041...  \n",
       "59154       {\"type\": \"Polygon\", \"coordinates\": [[[2.435660...  "
      ]
     },
     "execution_count": 185,
     "metadata": {},
     "output_type": "execute_result"
    }
   ],
   "source": [
    "# tri selon l'altitude\n",
    "geo.sort_values(\"Altitude Moyenne\").head()"
   ]
  },
  {
   "cell_type": "code",
   "execution_count": 186,
   "metadata": {
    "scrolled": false
   },
   "outputs": [
    {
     "data": {
      "text/html": [
       "<div>\n",
       "<style scoped>\n",
       "    .dataframe tbody tr th:only-of-type {\n",
       "        vertical-align: middle;\n",
       "    }\n",
       "\n",
       "    .dataframe tbody tr th {\n",
       "        vertical-align: top;\n",
       "    }\n",
       "\n",
       "    .dataframe thead th {\n",
       "        text-align: right;\n",
       "    }\n",
       "</style>\n",
       "<table border=\"1\" class=\"dataframe\">\n",
       "  <thead>\n",
       "    <tr style=\"text-align: right;\">\n",
       "      <th></th>\n",
       "      <th>Code Postal</th>\n",
       "      <th>Commune</th>\n",
       "      <th>Département</th>\n",
       "      <th>Région</th>\n",
       "      <th>Statut</th>\n",
       "      <th>Altitude Moyenne</th>\n",
       "      <th>Superficie</th>\n",
       "      <th>Population</th>\n",
       "      <th>geo_point_2d</th>\n",
       "      <th>geo_shape</th>\n",
       "    </tr>\n",
       "    <tr>\n",
       "      <th>Code INSEE</th>\n",
       "      <th></th>\n",
       "      <th></th>\n",
       "      <th></th>\n",
       "      <th></th>\n",
       "      <th></th>\n",
       "      <th></th>\n",
       "      <th></th>\n",
       "      <th></th>\n",
       "      <th></th>\n",
       "      <th></th>\n",
       "    </tr>\n",
       "  </thead>\n",
       "  <tbody>\n",
       "    <tr>\n",
       "      <th>73047</th>\n",
       "      <td>73480</td>\n",
       "      <td>BONNEVAL-SUR-ARC</td>\n",
       "      <td>SAVOIE</td>\n",
       "      <td>RHONE-ALPES</td>\n",
       "      <td>Commune simple</td>\n",
       "      <td>2713.0</td>\n",
       "      <td>11231.0</td>\n",
       "      <td>0.2</td>\n",
       "      <td>45.3858269371, 7.09178979521</td>\n",
       "      <td>{\"type\": \"Polygon\", \"coordinates\": [[[7.110695...</td>\n",
       "    </tr>\n",
       "    <tr>\n",
       "      <th>73040</th>\n",
       "      <td>73480</td>\n",
       "      <td>BESSANS</td>\n",
       "      <td>SAVOIE</td>\n",
       "      <td>RHONE-ALPES</td>\n",
       "      <td>Commune simple</td>\n",
       "      <td>2649.0</td>\n",
       "      <td>15414.0</td>\n",
       "      <td>0.3</td>\n",
       "      <td>45.292032537, 7.04532734274</td>\n",
       "      <td>{\"type\": \"Polygon\", \"coordinates\": [[[7.110695...</td>\n",
       "    </tr>\n",
       "    <tr>\n",
       "      <th>73290</th>\n",
       "      <td>73500</td>\n",
       "      <td>TERMIGNON</td>\n",
       "      <td>SAVOIE</td>\n",
       "      <td>RHONE-ALPES</td>\n",
       "      <td>Commune simple</td>\n",
       "      <td>2584.0</td>\n",
       "      <td>18010.0</td>\n",
       "      <td>0.4</td>\n",
       "      <td>45.3441528771, 6.84789108583</td>\n",
       "      <td>{\"type\": \"Polygon\", \"coordinates\": [[[6.854937...</td>\n",
       "    </tr>\n",
       "    <tr>\n",
       "      <th>73304</th>\n",
       "      <td>73150</td>\n",
       "      <td>VAL-D'ISERE</td>\n",
       "      <td>SAVOIE</td>\n",
       "      <td>RHONE-ALPES</td>\n",
       "      <td>Commune simple</td>\n",
       "      <td>2583.0</td>\n",
       "      <td>10765.0</td>\n",
       "      <td>1.6</td>\n",
       "      <td>45.4310113935, 6.99852444032</td>\n",
       "      <td>{\"type\": \"Polygon\", \"coordinates\": [[[6.998183...</td>\n",
       "    </tr>\n",
       "    <tr>\n",
       "      <th>38375</th>\n",
       "      <td>38520</td>\n",
       "      <td>SAINT-CHRISTOPHE-EN-OISANS</td>\n",
       "      <td>ISERE</td>\n",
       "      <td>RHONE-ALPES</td>\n",
       "      <td>Commune simple</td>\n",
       "      <td>2557.0</td>\n",
       "      <td>23740.0</td>\n",
       "      <td>0.1</td>\n",
       "      <td>44.9290846615, 6.24454607842</td>\n",
       "      <td>{\"type\": \"Polygon\", \"coordinates\": [[[6.336319...</td>\n",
       "    </tr>\n",
       "  </tbody>\n",
       "</table>\n",
       "</div>"
      ],
      "text/plain": [
       "           Code Postal                     Commune Département       Région  \\\n",
       "Code INSEE                                                                    \n",
       "73047            73480            BONNEVAL-SUR-ARC      SAVOIE  RHONE-ALPES   \n",
       "73040            73480                     BESSANS      SAVOIE  RHONE-ALPES   \n",
       "73290            73500                   TERMIGNON      SAVOIE  RHONE-ALPES   \n",
       "73304            73150                 VAL-D'ISERE      SAVOIE  RHONE-ALPES   \n",
       "38375            38520  SAINT-CHRISTOPHE-EN-OISANS       ISERE  RHONE-ALPES   \n",
       "\n",
       "                    Statut  Altitude Moyenne  Superficie  Population  \\\n",
       "Code INSEE                                                             \n",
       "73047       Commune simple            2713.0     11231.0         0.2   \n",
       "73040       Commune simple            2649.0     15414.0         0.3   \n",
       "73290       Commune simple            2584.0     18010.0         0.4   \n",
       "73304       Commune simple            2583.0     10765.0         1.6   \n",
       "38375       Commune simple            2557.0     23740.0         0.1   \n",
       "\n",
       "                            geo_point_2d  \\\n",
       "Code INSEE                                 \n",
       "73047       45.3858269371, 7.09178979521   \n",
       "73040        45.292032537, 7.04532734274   \n",
       "73290       45.3441528771, 6.84789108583   \n",
       "73304       45.4310113935, 6.99852444032   \n",
       "38375       44.9290846615, 6.24454607842   \n",
       "\n",
       "                                                    geo_shape  \n",
       "Code INSEE                                                     \n",
       "73047       {\"type\": \"Polygon\", \"coordinates\": [[[7.110695...  \n",
       "73040       {\"type\": \"Polygon\", \"coordinates\": [[[7.110695...  \n",
       "73290       {\"type\": \"Polygon\", \"coordinates\": [[[6.854937...  \n",
       "73304       {\"type\": \"Polygon\", \"coordinates\": [[[6.998183...  \n",
       "38375       {\"type\": \"Polygon\", \"coordinates\": [[[6.336319...  "
      ]
     },
     "execution_count": 186,
     "metadata": {},
     "output_type": "execute_result"
    }
   ],
   "source": [
    "# tri selon l'altitude inverse\n",
    "geo.sort_values(\"Altitude Moyenne\", ascending=False).head()"
   ]
  },
  {
   "cell_type": "raw",
   "metadata": {},
   "source": []
  },
  {
   "cell_type": "code",
   "execution_count": 187,
   "metadata": {
    "scrolled": false
   },
   "outputs": [
    {
     "data": {
      "text/html": [
       "<div>\n",
       "<style scoped>\n",
       "    .dataframe tbody tr th:only-of-type {\n",
       "        vertical-align: middle;\n",
       "    }\n",
       "\n",
       "    .dataframe tbody tr th {\n",
       "        vertical-align: top;\n",
       "    }\n",
       "\n",
       "    .dataframe thead th {\n",
       "        text-align: right;\n",
       "    }\n",
       "</style>\n",
       "<table border=\"1\" class=\"dataframe\">\n",
       "  <thead>\n",
       "    <tr style=\"text-align: right;\">\n",
       "      <th></th>\n",
       "      <th>Code Postal</th>\n",
       "      <th>Commune</th>\n",
       "      <th>Département</th>\n",
       "      <th>Région</th>\n",
       "      <th>Statut</th>\n",
       "      <th>Altitude Moyenne</th>\n",
       "      <th>Superficie</th>\n",
       "      <th>Population</th>\n",
       "      <th>geo_point_2d</th>\n",
       "      <th>geo_shape</th>\n",
       "    </tr>\n",
       "    <tr>\n",
       "      <th>Code INSEE</th>\n",
       "      <th></th>\n",
       "      <th></th>\n",
       "      <th></th>\n",
       "      <th></th>\n",
       "      <th></th>\n",
       "      <th></th>\n",
       "      <th></th>\n",
       "      <th></th>\n",
       "      <th></th>\n",
       "      <th></th>\n",
       "    </tr>\n",
       "  </thead>\n",
       "  <tbody>\n",
       "    <tr>\n",
       "      <th>59404</th>\n",
       "      <td>59122</td>\n",
       "      <td>LES MOERES</td>\n",
       "      <td>NORD</td>\n",
       "      <td>NORD-PAS-DE-CALAIS</td>\n",
       "      <td>Commune simple</td>\n",
       "      <td>0.0</td>\n",
       "      <td>1967.0</td>\n",
       "      <td>0.8</td>\n",
       "      <td>51.0240965472, 2.5473689484</td>\n",
       "      <td>{\"type\": \"Polygon\", \"coordinates\": [[[2.572476...</td>\n",
       "    </tr>\n",
       "    <tr>\n",
       "      <th>34192</th>\n",
       "      <td>34250</td>\n",
       "      <td>PALAVAS-LES-FLOTS</td>\n",
       "      <td>HERAULT</td>\n",
       "      <td>LANGUEDOC-ROUSSILLON</td>\n",
       "      <td>Commune simple</td>\n",
       "      <td>0.0</td>\n",
       "      <td>920.0</td>\n",
       "      <td>6.0</td>\n",
       "      <td>43.533536456, 3.92620839566</td>\n",
       "      <td>{\"type\": \"Polygon\", \"coordinates\": [[[3.907955...</td>\n",
       "    </tr>\n",
       "    <tr>\n",
       "      <th>30003</th>\n",
       "      <td>30220</td>\n",
       "      <td>AIGUES-MORTES</td>\n",
       "      <td>GARD</td>\n",
       "      <td>LANGUEDOC-ROUSSILLON</td>\n",
       "      <td>Chef-lieu canton</td>\n",
       "      <td>1.0</td>\n",
       "      <td>5776.0</td>\n",
       "      <td>8.1</td>\n",
       "      <td>43.5507249635, 4.18349802063</td>\n",
       "      <td>{\"type\": \"Polygon\", \"coordinates\": [[[4.237933...</td>\n",
       "    </tr>\n",
       "    <tr>\n",
       "      <th>59154</th>\n",
       "      <td>59380</td>\n",
       "      <td>COUDEKERQUE-VILLAGE</td>\n",
       "      <td>NORD</td>\n",
       "      <td>NORD-PAS-DE-CALAIS</td>\n",
       "      <td>Commune simple</td>\n",
       "      <td>1.0</td>\n",
       "      <td>1203.0</td>\n",
       "      <td>1.2</td>\n",
       "      <td>50.9945680467, 2.42167016066</td>\n",
       "      <td>{\"type\": \"Polygon\", \"coordinates\": [[[2.435660...</td>\n",
       "    </tr>\n",
       "    <tr>\n",
       "      <th>29085</th>\n",
       "      <td>29980</td>\n",
       "      <td>ILE-TUDY</td>\n",
       "      <td>FINISTERE</td>\n",
       "      <td>BRETAGNE</td>\n",
       "      <td>Commune simple</td>\n",
       "      <td>1.0</td>\n",
       "      <td>128.0</td>\n",
       "      <td>0.7</td>\n",
       "      <td>47.8527643575, -4.16160884308</td>\n",
       "      <td>{\"type\": \"Polygon\", \"coordinates\": [[[-4.15131...</td>\n",
       "    </tr>\n",
       "  </tbody>\n",
       "</table>\n",
       "</div>"
      ],
      "text/plain": [
       "           Code Postal              Commune Département                Région  \\\n",
       "Code INSEE                                                                      \n",
       "59404            59122           LES MOERES        NORD    NORD-PAS-DE-CALAIS   \n",
       "34192            34250    PALAVAS-LES-FLOTS     HERAULT  LANGUEDOC-ROUSSILLON   \n",
       "30003            30220        AIGUES-MORTES        GARD  LANGUEDOC-ROUSSILLON   \n",
       "59154            59380  COUDEKERQUE-VILLAGE        NORD    NORD-PAS-DE-CALAIS   \n",
       "29085            29980             ILE-TUDY   FINISTERE              BRETAGNE   \n",
       "\n",
       "                      Statut  Altitude Moyenne  Superficie  Population  \\\n",
       "Code INSEE                                                               \n",
       "59404         Commune simple               0.0      1967.0         0.8   \n",
       "34192         Commune simple               0.0       920.0         6.0   \n",
       "30003       Chef-lieu canton               1.0      5776.0         8.1   \n",
       "59154         Commune simple               1.0      1203.0         1.2   \n",
       "29085         Commune simple               1.0       128.0         0.7   \n",
       "\n",
       "                             geo_point_2d  \\\n",
       "Code INSEE                                  \n",
       "59404         51.0240965472, 2.5473689484   \n",
       "34192         43.533536456, 3.92620839566   \n",
       "30003        43.5507249635, 4.18349802063   \n",
       "59154        50.9945680467, 2.42167016066   \n",
       "29085       47.8527643575, -4.16160884308   \n",
       "\n",
       "                                                    geo_shape  \n",
       "Code INSEE                                                     \n",
       "59404       {\"type\": \"Polygon\", \"coordinates\": [[[2.572476...  \n",
       "34192       {\"type\": \"Polygon\", \"coordinates\": [[[3.907955...  \n",
       "30003       {\"type\": \"Polygon\", \"coordinates\": [[[4.237933...  \n",
       "59154       {\"type\": \"Polygon\", \"coordinates\": [[[2.435660...  \n",
       "29085       {\"type\": \"Polygon\", \"coordinates\": [[[-4.15131...  "
      ]
     },
     "execution_count": 187,
     "metadata": {},
     "output_type": "execute_result"
    }
   ],
   "source": [
    "# tri selon l'altitude puis suivant le nom de la commune A->Z\n",
    "geo.sort_values([\"Altitude Moyenne\", \"Commune\"]).head()"
   ]
  },
  {
   "cell_type": "code",
   "execution_count": 190,
   "metadata": {
    "scrolled": false
   },
   "outputs": [
    {
     "data": {
      "text/html": [
       "<div>\n",
       "<style scoped>\n",
       "    .dataframe tbody tr th:only-of-type {\n",
       "        vertical-align: middle;\n",
       "    }\n",
       "\n",
       "    .dataframe tbody tr th {\n",
       "        vertical-align: top;\n",
       "    }\n",
       "\n",
       "    .dataframe thead th {\n",
       "        text-align: right;\n",
       "    }\n",
       "</style>\n",
       "<table border=\"1\" class=\"dataframe\">\n",
       "  <thead>\n",
       "    <tr style=\"text-align: right;\">\n",
       "      <th></th>\n",
       "      <th>Code Postal</th>\n",
       "      <th>Commune</th>\n",
       "      <th>Département</th>\n",
       "      <th>Région</th>\n",
       "      <th>Statut</th>\n",
       "      <th>Altitude Moyenne</th>\n",
       "      <th>Superficie</th>\n",
       "      <th>Population</th>\n",
       "      <th>geo_point_2d</th>\n",
       "      <th>geo_shape</th>\n",
       "    </tr>\n",
       "    <tr>\n",
       "      <th>Code INSEE</th>\n",
       "      <th></th>\n",
       "      <th></th>\n",
       "      <th></th>\n",
       "      <th></th>\n",
       "      <th></th>\n",
       "      <th></th>\n",
       "      <th></th>\n",
       "      <th></th>\n",
       "      <th></th>\n",
       "      <th></th>\n",
       "    </tr>\n",
       "  </thead>\n",
       "  <tbody>\n",
       "    <tr>\n",
       "      <th>34192</th>\n",
       "      <td>34250</td>\n",
       "      <td>PALAVAS-LES-FLOTS</td>\n",
       "      <td>HERAULT</td>\n",
       "      <td>LANGUEDOC-ROUSSILLON</td>\n",
       "      <td>Commune simple</td>\n",
       "      <td>0.0</td>\n",
       "      <td>920.0</td>\n",
       "      <td>6.0</td>\n",
       "      <td>43.533536456, 3.92620839566</td>\n",
       "      <td>{\"type\": \"Polygon\", \"coordinates\": [[[3.907955...</td>\n",
       "    </tr>\n",
       "    <tr>\n",
       "      <th>59404</th>\n",
       "      <td>59122</td>\n",
       "      <td>LES MOERES</td>\n",
       "      <td>NORD</td>\n",
       "      <td>NORD-PAS-DE-CALAIS</td>\n",
       "      <td>Commune simple</td>\n",
       "      <td>0.0</td>\n",
       "      <td>1967.0</td>\n",
       "      <td>0.8</td>\n",
       "      <td>51.0240965472, 2.5473689484</td>\n",
       "      <td>{\"type\": \"Polygon\", \"coordinates\": [[[2.572476...</td>\n",
       "    </tr>\n",
       "    <tr>\n",
       "      <th>59605</th>\n",
       "      <td>59229</td>\n",
       "      <td>UXEM</td>\n",
       "      <td>NORD</td>\n",
       "      <td>NORD-PAS-DE-CALAIS</td>\n",
       "      <td>Commune simple</td>\n",
       "      <td>1.0</td>\n",
       "      <td>808.0</td>\n",
       "      <td>1.3</td>\n",
       "      <td>51.0239750832, 2.49246889837</td>\n",
       "      <td>{\"type\": \"Polygon\", \"coordinates\": [[[2.505855...</td>\n",
       "    </tr>\n",
       "    <tr>\n",
       "      <th>59588</th>\n",
       "      <td>59229</td>\n",
       "      <td>TETEGHEM</td>\n",
       "      <td>NORD</td>\n",
       "      <td>NORD-PAS-DE-CALAIS</td>\n",
       "      <td>Commune simple</td>\n",
       "      <td>1.0</td>\n",
       "      <td>1896.0</td>\n",
       "      <td>7.1</td>\n",
       "      <td>51.0158652678, 2.45278368133</td>\n",
       "      <td>{\"type\": \"Polygon\", \"coordinates\": [[[2.449611...</td>\n",
       "    </tr>\n",
       "    <tr>\n",
       "      <th>13096</th>\n",
       "      <td>13460</td>\n",
       "      <td>SAINTES-MARIES-DE-LA-MER</td>\n",
       "      <td>BOUCHES-DU-RHONE</td>\n",
       "      <td>PROVENCE-ALPES-COTE D'AZUR</td>\n",
       "      <td>Chef-lieu canton</td>\n",
       "      <td>1.0</td>\n",
       "      <td>37242.0</td>\n",
       "      <td>2.3</td>\n",
       "      <td>43.50398297, 4.46396357194</td>\n",
       "      <td>{\"type\": \"Polygon\", \"coordinates\": [[[4.597237...</td>\n",
       "    </tr>\n",
       "  </tbody>\n",
       "</table>\n",
       "</div>"
      ],
      "text/plain": [
       "           Code Postal                   Commune       Département  \\\n",
       "Code INSEE                                                           \n",
       "34192            34250         PALAVAS-LES-FLOTS           HERAULT   \n",
       "59404            59122                LES MOERES              NORD   \n",
       "59605            59229                      UXEM              NORD   \n",
       "59588            59229                  TETEGHEM              NORD   \n",
       "13096            13460  SAINTES-MARIES-DE-LA-MER  BOUCHES-DU-RHONE   \n",
       "\n",
       "                                Région            Statut  Altitude Moyenne  \\\n",
       "Code INSEE                                                                   \n",
       "34192             LANGUEDOC-ROUSSILLON    Commune simple               0.0   \n",
       "59404               NORD-PAS-DE-CALAIS    Commune simple               0.0   \n",
       "59605               NORD-PAS-DE-CALAIS    Commune simple               1.0   \n",
       "59588               NORD-PAS-DE-CALAIS    Commune simple               1.0   \n",
       "13096       PROVENCE-ALPES-COTE D'AZUR  Chef-lieu canton               1.0   \n",
       "\n",
       "            Superficie  Population                  geo_point_2d  \\\n",
       "Code INSEE                                                         \n",
       "34192            920.0         6.0   43.533536456, 3.92620839566   \n",
       "59404           1967.0         0.8   51.0240965472, 2.5473689484   \n",
       "59605            808.0         1.3  51.0239750832, 2.49246889837   \n",
       "59588           1896.0         7.1  51.0158652678, 2.45278368133   \n",
       "13096          37242.0         2.3    43.50398297, 4.46396357194   \n",
       "\n",
       "                                                    geo_shape  \n",
       "Code INSEE                                                     \n",
       "34192       {\"type\": \"Polygon\", \"coordinates\": [[[3.907955...  \n",
       "59404       {\"type\": \"Polygon\", \"coordinates\": [[[2.572476...  \n",
       "59605       {\"type\": \"Polygon\", \"coordinates\": [[[2.505855...  \n",
       "59588       {\"type\": \"Polygon\", \"coordinates\": [[[2.449611...  \n",
       "13096       {\"type\": \"Polygon\", \"coordinates\": [[[4.597237...  "
      ]
     },
     "execution_count": 190,
     "metadata": {},
     "output_type": "execute_result"
    }
   ],
   "source": [
    "# tri selon l'altitude puis suivant le nom de la commune Z->A\n",
    "geo.sort_values([\"Altitude Moyenne\", \"Commune\"], ascending=[True, False]).head()"
   ]
  },
  {
   "cell_type": "code",
   "execution_count": 191,
   "metadata": {
    "scrolled": false
   },
   "outputs": [
    {
     "data": {
      "text/html": [
       "<div>\n",
       "<style scoped>\n",
       "    .dataframe tbody tr th:only-of-type {\n",
       "        vertical-align: middle;\n",
       "    }\n",
       "\n",
       "    .dataframe tbody tr th {\n",
       "        vertical-align: top;\n",
       "    }\n",
       "\n",
       "    .dataframe thead th {\n",
       "        text-align: right;\n",
       "    }\n",
       "</style>\n",
       "<table border=\"1\" class=\"dataframe\">\n",
       "  <thead>\n",
       "    <tr style=\"text-align: right;\">\n",
       "      <th></th>\n",
       "      <th>Code Postal</th>\n",
       "      <th>Commune</th>\n",
       "      <th>Département</th>\n",
       "      <th>Région</th>\n",
       "      <th>Statut</th>\n",
       "      <th>Altitude Moyenne</th>\n",
       "      <th>Superficie</th>\n",
       "      <th>Population</th>\n",
       "      <th>geo_point_2d</th>\n",
       "      <th>geo_shape</th>\n",
       "    </tr>\n",
       "    <tr>\n",
       "      <th>Code INSEE</th>\n",
       "      <th></th>\n",
       "      <th></th>\n",
       "      <th></th>\n",
       "      <th></th>\n",
       "      <th></th>\n",
       "      <th></th>\n",
       "      <th></th>\n",
       "      <th></th>\n",
       "      <th></th>\n",
       "      <th></th>\n",
       "    </tr>\n",
       "  </thead>\n",
       "  <tbody>\n",
       "    <tr>\n",
       "      <th>01001</th>\n",
       "      <td>01400</td>\n",
       "      <td>L'ABERGEMENT-CLEMENCIAT</td>\n",
       "      <td>AIN</td>\n",
       "      <td>RHONE-ALPES</td>\n",
       "      <td>Commune simple</td>\n",
       "      <td>242.0</td>\n",
       "      <td>1565.0</td>\n",
       "      <td>0.8</td>\n",
       "      <td>46.1534255214, 4.92611354223</td>\n",
       "      <td>{\"type\": \"Polygon\", \"coordinates\": [[[4.926273...</td>\n",
       "    </tr>\n",
       "    <tr>\n",
       "      <th>01002</th>\n",
       "      <td>01640</td>\n",
       "      <td>L'ABERGEMENT-DE-VAREY</td>\n",
       "      <td>AIN</td>\n",
       "      <td>RHONE-ALPES</td>\n",
       "      <td>Commune simple</td>\n",
       "      <td>483.0</td>\n",
       "      <td>912.0</td>\n",
       "      <td>0.2</td>\n",
       "      <td>46.0091878776, 5.42801696363</td>\n",
       "      <td>{\"type\": \"Polygon\", \"coordinates\": [[[5.430089...</td>\n",
       "    </tr>\n",
       "    <tr>\n",
       "      <th>01004</th>\n",
       "      <td>01500</td>\n",
       "      <td>AMBERIEU-EN-BUGEY</td>\n",
       "      <td>AIN</td>\n",
       "      <td>RHONE-ALPES</td>\n",
       "      <td>Chef-lieu canton</td>\n",
       "      <td>379.0</td>\n",
       "      <td>2448.0</td>\n",
       "      <td>13.4</td>\n",
       "      <td>45.9608475114, 5.3729257777</td>\n",
       "      <td>{\"type\": \"Polygon\", \"coordinates\": [[[5.386190...</td>\n",
       "    </tr>\n",
       "    <tr>\n",
       "      <th>01005</th>\n",
       "      <td>01330</td>\n",
       "      <td>AMBERIEUX-EN-DOMBES</td>\n",
       "      <td>AIN</td>\n",
       "      <td>RHONE-ALPES</td>\n",
       "      <td>Commune simple</td>\n",
       "      <td>290.0</td>\n",
       "      <td>1605.0</td>\n",
       "      <td>1.6</td>\n",
       "      <td>45.9961799872, 4.91227250796</td>\n",
       "      <td>{\"type\": \"Polygon\", \"coordinates\": [[[4.895580...</td>\n",
       "    </tr>\n",
       "    <tr>\n",
       "      <th>01006</th>\n",
       "      <td>01300</td>\n",
       "      <td>AMBLEON</td>\n",
       "      <td>AIN</td>\n",
       "      <td>RHONE-ALPES</td>\n",
       "      <td>Commune simple</td>\n",
       "      <td>589.0</td>\n",
       "      <td>602.0</td>\n",
       "      <td>0.1</td>\n",
       "      <td>45.7494989044, 5.59432017366</td>\n",
       "      <td>{\"type\": \"Polygon\", \"coordinates\": [[[5.614854...</td>\n",
       "    </tr>\n",
       "  </tbody>\n",
       "</table>\n",
       "</div>"
      ],
      "text/plain": [
       "           Code Postal                  Commune Département       Région  \\\n",
       "Code INSEE                                                                 \n",
       "01001            01400  L'ABERGEMENT-CLEMENCIAT         AIN  RHONE-ALPES   \n",
       "01002            01640    L'ABERGEMENT-DE-VAREY         AIN  RHONE-ALPES   \n",
       "01004            01500        AMBERIEU-EN-BUGEY         AIN  RHONE-ALPES   \n",
       "01005            01330      AMBERIEUX-EN-DOMBES         AIN  RHONE-ALPES   \n",
       "01006            01300                  AMBLEON         AIN  RHONE-ALPES   \n",
       "\n",
       "                      Statut  Altitude Moyenne  Superficie  Population  \\\n",
       "Code INSEE                                                               \n",
       "01001         Commune simple             242.0      1565.0         0.8   \n",
       "01002         Commune simple             483.0       912.0         0.2   \n",
       "01004       Chef-lieu canton             379.0      2448.0        13.4   \n",
       "01005         Commune simple             290.0      1605.0         1.6   \n",
       "01006         Commune simple             589.0       602.0         0.1   \n",
       "\n",
       "                            geo_point_2d  \\\n",
       "Code INSEE                                 \n",
       "01001       46.1534255214, 4.92611354223   \n",
       "01002       46.0091878776, 5.42801696363   \n",
       "01004        45.9608475114, 5.3729257777   \n",
       "01005       45.9961799872, 4.91227250796   \n",
       "01006       45.7494989044, 5.59432017366   \n",
       "\n",
       "                                                    geo_shape  \n",
       "Code INSEE                                                     \n",
       "01001       {\"type\": \"Polygon\", \"coordinates\": [[[4.926273...  \n",
       "01002       {\"type\": \"Polygon\", \"coordinates\": [[[5.430089...  \n",
       "01004       {\"type\": \"Polygon\", \"coordinates\": [[[5.386190...  \n",
       "01005       {\"type\": \"Polygon\", \"coordinates\": [[[4.895580...  \n",
       "01006       {\"type\": \"Polygon\", \"coordinates\": [[[5.614854...  "
      ]
     },
     "execution_count": 191,
     "metadata": {},
     "output_type": "execute_result"
    }
   ],
   "source": [
    "# tri selon l'index\n",
    "geo = geo.sort_index()\n",
    "geo.head()"
   ]
  },
  {
   "cell_type": "markdown",
   "metadata": {},
   "source": [
    "### Modification de colonnes et conversions"
   ]
  },
  {
   "cell_type": "code",
   "execution_count": 192,
   "metadata": {
    "scrolled": false
   },
   "outputs": [
    {
     "data": {
      "text/html": [
       "<div>\n",
       "<style scoped>\n",
       "    .dataframe tbody tr th:only-of-type {\n",
       "        vertical-align: middle;\n",
       "    }\n",
       "\n",
       "    .dataframe tbody tr th {\n",
       "        vertical-align: top;\n",
       "    }\n",
       "\n",
       "    .dataframe thead th {\n",
       "        text-align: right;\n",
       "    }\n",
       "</style>\n",
       "<table border=\"1\" class=\"dataframe\">\n",
       "  <thead>\n",
       "    <tr style=\"text-align: right;\">\n",
       "      <th></th>\n",
       "      <th>Code Postal</th>\n",
       "      <th>Commune</th>\n",
       "      <th>Département</th>\n",
       "      <th>Région</th>\n",
       "      <th>Statut</th>\n",
       "      <th>Altitude Moyenne</th>\n",
       "      <th>Superficie</th>\n",
       "      <th>Population</th>\n",
       "      <th>geo_point_2d</th>\n",
       "      <th>geo_shape</th>\n",
       "    </tr>\n",
       "    <tr>\n",
       "      <th>Code INSEE</th>\n",
       "      <th></th>\n",
       "      <th></th>\n",
       "      <th></th>\n",
       "      <th></th>\n",
       "      <th></th>\n",
       "      <th></th>\n",
       "      <th></th>\n",
       "      <th></th>\n",
       "      <th></th>\n",
       "      <th></th>\n",
       "    </tr>\n",
       "  </thead>\n",
       "  <tbody>\n",
       "    <tr>\n",
       "      <th>01001</th>\n",
       "      <td>01400</td>\n",
       "      <td>L'ABERGEMENT-CLEMENCIAT</td>\n",
       "      <td>AIN</td>\n",
       "      <td>RHONE-ALPES</td>\n",
       "      <td>Commune simple</td>\n",
       "      <td>242.0</td>\n",
       "      <td>15.65</td>\n",
       "      <td>0.8</td>\n",
       "      <td>46.1534255214, 4.92611354223</td>\n",
       "      <td>{\"type\": \"Polygon\", \"coordinates\": [[[4.926273...</td>\n",
       "    </tr>\n",
       "    <tr>\n",
       "      <th>01002</th>\n",
       "      <td>01640</td>\n",
       "      <td>L'ABERGEMENT-DE-VAREY</td>\n",
       "      <td>AIN</td>\n",
       "      <td>RHONE-ALPES</td>\n",
       "      <td>Commune simple</td>\n",
       "      <td>483.0</td>\n",
       "      <td>9.12</td>\n",
       "      <td>0.2</td>\n",
       "      <td>46.0091878776, 5.42801696363</td>\n",
       "      <td>{\"type\": \"Polygon\", \"coordinates\": [[[5.430089...</td>\n",
       "    </tr>\n",
       "    <tr>\n",
       "      <th>01004</th>\n",
       "      <td>01500</td>\n",
       "      <td>AMBERIEU-EN-BUGEY</td>\n",
       "      <td>AIN</td>\n",
       "      <td>RHONE-ALPES</td>\n",
       "      <td>Chef-lieu canton</td>\n",
       "      <td>379.0</td>\n",
       "      <td>24.48</td>\n",
       "      <td>13.4</td>\n",
       "      <td>45.9608475114, 5.3729257777</td>\n",
       "      <td>{\"type\": \"Polygon\", \"coordinates\": [[[5.386190...</td>\n",
       "    </tr>\n",
       "    <tr>\n",
       "      <th>01005</th>\n",
       "      <td>01330</td>\n",
       "      <td>AMBERIEUX-EN-DOMBES</td>\n",
       "      <td>AIN</td>\n",
       "      <td>RHONE-ALPES</td>\n",
       "      <td>Commune simple</td>\n",
       "      <td>290.0</td>\n",
       "      <td>16.05</td>\n",
       "      <td>1.6</td>\n",
       "      <td>45.9961799872, 4.91227250796</td>\n",
       "      <td>{\"type\": \"Polygon\", \"coordinates\": [[[4.895580...</td>\n",
       "    </tr>\n",
       "    <tr>\n",
       "      <th>01006</th>\n",
       "      <td>01300</td>\n",
       "      <td>AMBLEON</td>\n",
       "      <td>AIN</td>\n",
       "      <td>RHONE-ALPES</td>\n",
       "      <td>Commune simple</td>\n",
       "      <td>589.0</td>\n",
       "      <td>6.02</td>\n",
       "      <td>0.1</td>\n",
       "      <td>45.7494989044, 5.59432017366</td>\n",
       "      <td>{\"type\": \"Polygon\", \"coordinates\": [[[5.614854...</td>\n",
       "    </tr>\n",
       "  </tbody>\n",
       "</table>\n",
       "</div>"
      ],
      "text/plain": [
       "           Code Postal                  Commune Département       Région  \\\n",
       "Code INSEE                                                                 \n",
       "01001            01400  L'ABERGEMENT-CLEMENCIAT         AIN  RHONE-ALPES   \n",
       "01002            01640    L'ABERGEMENT-DE-VAREY         AIN  RHONE-ALPES   \n",
       "01004            01500        AMBERIEU-EN-BUGEY         AIN  RHONE-ALPES   \n",
       "01005            01330      AMBERIEUX-EN-DOMBES         AIN  RHONE-ALPES   \n",
       "01006            01300                  AMBLEON         AIN  RHONE-ALPES   \n",
       "\n",
       "                      Statut  Altitude Moyenne  Superficie  Population  \\\n",
       "Code INSEE                                                               \n",
       "01001         Commune simple             242.0       15.65         0.8   \n",
       "01002         Commune simple             483.0        9.12         0.2   \n",
       "01004       Chef-lieu canton             379.0       24.48        13.4   \n",
       "01005         Commune simple             290.0       16.05         1.6   \n",
       "01006         Commune simple             589.0        6.02         0.1   \n",
       "\n",
       "                            geo_point_2d  \\\n",
       "Code INSEE                                 \n",
       "01001       46.1534255214, 4.92611354223   \n",
       "01002       46.0091878776, 5.42801696363   \n",
       "01004        45.9608475114, 5.3729257777   \n",
       "01005       45.9961799872, 4.91227250796   \n",
       "01006       45.7494989044, 5.59432017366   \n",
       "\n",
       "                                                    geo_shape  \n",
       "Code INSEE                                                     \n",
       "01001       {\"type\": \"Polygon\", \"coordinates\": [[[4.926273...  \n",
       "01002       {\"type\": \"Polygon\", \"coordinates\": [[[5.430089...  \n",
       "01004       {\"type\": \"Polygon\", \"coordinates\": [[[5.386190...  \n",
       "01005       {\"type\": \"Polygon\", \"coordinates\": [[[4.895580...  \n",
       "01006       {\"type\": \"Polygon\", \"coordinates\": [[[5.614854...  "
      ]
     },
     "execution_count": 192,
     "metadata": {},
     "output_type": "execute_result"
    }
   ],
   "source": [
    "# la superficie des communes est en hectares, on la passe en km2\n",
    "geo[\"Superficie\"] = geo[\"Superficie\"] / 100.0  # ou bien geo[\"Superficie\"] =/ 100.0\n",
    "geo.head()"
   ]
  },
  {
   "cell_type": "code",
   "execution_count": null,
   "metadata": {},
   "outputs": [],
   "source": [
    "# astype : méthode de Series, DataFrame .astype(int) .apply(int) .apply(lambda x: int(x))\n",
    "# int() : fonction qui convertit une valeur en entier"
   ]
  },
  {
   "cell_type": "code",
   "execution_count": 193,
   "metadata": {
    "scrolled": false
   },
   "outputs": [
    {
     "data": {
      "text/html": [
       "<div>\n",
       "<style scoped>\n",
       "    .dataframe tbody tr th:only-of-type {\n",
       "        vertical-align: middle;\n",
       "    }\n",
       "\n",
       "    .dataframe tbody tr th {\n",
       "        vertical-align: top;\n",
       "    }\n",
       "\n",
       "    .dataframe thead th {\n",
       "        text-align: right;\n",
       "    }\n",
       "</style>\n",
       "<table border=\"1\" class=\"dataframe\">\n",
       "  <thead>\n",
       "    <tr style=\"text-align: right;\">\n",
       "      <th></th>\n",
       "      <th>Code Postal</th>\n",
       "      <th>Commune</th>\n",
       "      <th>Département</th>\n",
       "      <th>Région</th>\n",
       "      <th>Statut</th>\n",
       "      <th>Altitude Moyenne</th>\n",
       "      <th>Superficie</th>\n",
       "      <th>Population</th>\n",
       "      <th>geo_point_2d</th>\n",
       "      <th>geo_shape</th>\n",
       "    </tr>\n",
       "    <tr>\n",
       "      <th>Code INSEE</th>\n",
       "      <th></th>\n",
       "      <th></th>\n",
       "      <th></th>\n",
       "      <th></th>\n",
       "      <th></th>\n",
       "      <th></th>\n",
       "      <th></th>\n",
       "      <th></th>\n",
       "      <th></th>\n",
       "      <th></th>\n",
       "    </tr>\n",
       "  </thead>\n",
       "  <tbody>\n",
       "    <tr>\n",
       "      <th>01001</th>\n",
       "      <td>01400</td>\n",
       "      <td>L'ABERGEMENT-CLEMENCIAT</td>\n",
       "      <td>AIN</td>\n",
       "      <td>RHONE-ALPES</td>\n",
       "      <td>Commune simple</td>\n",
       "      <td>242</td>\n",
       "      <td>15.65</td>\n",
       "      <td>0.8</td>\n",
       "      <td>46.1534255214, 4.92611354223</td>\n",
       "      <td>{\"type\": \"Polygon\", \"coordinates\": [[[4.926273...</td>\n",
       "    </tr>\n",
       "    <tr>\n",
       "      <th>01002</th>\n",
       "      <td>01640</td>\n",
       "      <td>L'ABERGEMENT-DE-VAREY</td>\n",
       "      <td>AIN</td>\n",
       "      <td>RHONE-ALPES</td>\n",
       "      <td>Commune simple</td>\n",
       "      <td>483</td>\n",
       "      <td>9.12</td>\n",
       "      <td>0.2</td>\n",
       "      <td>46.0091878776, 5.42801696363</td>\n",
       "      <td>{\"type\": \"Polygon\", \"coordinates\": [[[5.430089...</td>\n",
       "    </tr>\n",
       "    <tr>\n",
       "      <th>01004</th>\n",
       "      <td>01500</td>\n",
       "      <td>AMBERIEU-EN-BUGEY</td>\n",
       "      <td>AIN</td>\n",
       "      <td>RHONE-ALPES</td>\n",
       "      <td>Chef-lieu canton</td>\n",
       "      <td>379</td>\n",
       "      <td>24.48</td>\n",
       "      <td>13.4</td>\n",
       "      <td>45.9608475114, 5.3729257777</td>\n",
       "      <td>{\"type\": \"Polygon\", \"coordinates\": [[[5.386190...</td>\n",
       "    </tr>\n",
       "    <tr>\n",
       "      <th>01005</th>\n",
       "      <td>01330</td>\n",
       "      <td>AMBERIEUX-EN-DOMBES</td>\n",
       "      <td>AIN</td>\n",
       "      <td>RHONE-ALPES</td>\n",
       "      <td>Commune simple</td>\n",
       "      <td>290</td>\n",
       "      <td>16.05</td>\n",
       "      <td>1.6</td>\n",
       "      <td>45.9961799872, 4.91227250796</td>\n",
       "      <td>{\"type\": \"Polygon\", \"coordinates\": [[[4.895580...</td>\n",
       "    </tr>\n",
       "    <tr>\n",
       "      <th>01006</th>\n",
       "      <td>01300</td>\n",
       "      <td>AMBLEON</td>\n",
       "      <td>AIN</td>\n",
       "      <td>RHONE-ALPES</td>\n",
       "      <td>Commune simple</td>\n",
       "      <td>589</td>\n",
       "      <td>6.02</td>\n",
       "      <td>0.1</td>\n",
       "      <td>45.7494989044, 5.59432017366</td>\n",
       "      <td>{\"type\": \"Polygon\", \"coordinates\": [[[5.614854...</td>\n",
       "    </tr>\n",
       "  </tbody>\n",
       "</table>\n",
       "</div>"
      ],
      "text/plain": [
       "           Code Postal                  Commune Département       Région  \\\n",
       "Code INSEE                                                                 \n",
       "01001            01400  L'ABERGEMENT-CLEMENCIAT         AIN  RHONE-ALPES   \n",
       "01002            01640    L'ABERGEMENT-DE-VAREY         AIN  RHONE-ALPES   \n",
       "01004            01500        AMBERIEU-EN-BUGEY         AIN  RHONE-ALPES   \n",
       "01005            01330      AMBERIEUX-EN-DOMBES         AIN  RHONE-ALPES   \n",
       "01006            01300                  AMBLEON         AIN  RHONE-ALPES   \n",
       "\n",
       "                      Statut  Altitude Moyenne  Superficie  Population  \\\n",
       "Code INSEE                                                               \n",
       "01001         Commune simple               242       15.65         0.8   \n",
       "01002         Commune simple               483        9.12         0.2   \n",
       "01004       Chef-lieu canton               379       24.48        13.4   \n",
       "01005         Commune simple               290       16.05         1.6   \n",
       "01006         Commune simple               589        6.02         0.1   \n",
       "\n",
       "                            geo_point_2d  \\\n",
       "Code INSEE                                 \n",
       "01001       46.1534255214, 4.92611354223   \n",
       "01002       46.0091878776, 5.42801696363   \n",
       "01004        45.9608475114, 5.3729257777   \n",
       "01005       45.9961799872, 4.91227250796   \n",
       "01006       45.7494989044, 5.59432017366   \n",
       "\n",
       "                                                    geo_shape  \n",
       "Code INSEE                                                     \n",
       "01001       {\"type\": \"Polygon\", \"coordinates\": [[[4.926273...  \n",
       "01002       {\"type\": \"Polygon\", \"coordinates\": [[[5.430089...  \n",
       "01004       {\"type\": \"Polygon\", \"coordinates\": [[[5.386190...  \n",
       "01005       {\"type\": \"Polygon\", \"coordinates\": [[[4.895580...  \n",
       "01006       {\"type\": \"Polygon\", \"coordinates\": [[[5.614854...  "
      ]
     },
     "execution_count": 193,
     "metadata": {},
     "output_type": "execute_result"
    }
   ],
   "source": [
    "# exemple de conversion\n",
    "geo[\"Altitude Moyenne\"] = geo[\"Altitude Moyenne\"].astype(int)\n",
    "geo.head()"
   ]
  },
  {
   "cell_type": "code",
   "execution_count": 194,
   "metadata": {
    "scrolled": false
   },
   "outputs": [
    {
     "name": "stdout",
     "output_type": "stream",
     "text": [
      "<class 'pandas.core.frame.DataFrame'>\n",
      "Index: 36742 entries, 01001 to 97617\n",
      "Data columns (total 10 columns):\n",
      " #   Column            Non-Null Count  Dtype  \n",
      "---  ------            --------------  -----  \n",
      " 0   Code Postal       36742 non-null  object \n",
      " 1   Commune           36742 non-null  object \n",
      " 2   Département       36742 non-null  object \n",
      " 3   Région            36742 non-null  object \n",
      " 4   Statut            36742 non-null  object \n",
      " 5   Altitude Moyenne  36742 non-null  int64  \n",
      " 6   Superficie        36742 non-null  float64\n",
      " 7   Population        36742 non-null  float64\n",
      " 8   geo_point_2d      36742 non-null  object \n",
      " 9   geo_shape         36742 non-null  object \n",
      "dtypes: float64(2), int64(1), object(7)\n",
      "memory usage: 3.1+ MB\n"
     ]
    }
   ],
   "source": [
    "# info\n",
    "geo.info()"
   ]
  },
  {
   "cell_type": "code",
   "execution_count": 195,
   "metadata": {},
   "outputs": [
    {
     "data": {
      "text/plain": [
       "Commune simple          33421\n",
       "Chef-lieu canton         2980\n",
       "Sous-préfecture           240\n",
       "Préfecture                 74\n",
       "Préfecture de région       26\n",
       "Capitale d'état             1\n",
       "Name: Statut, dtype: int64"
      ]
     },
     "execution_count": 195,
     "metadata": {},
     "output_type": "execute_result"
    }
   ],
   "source": [
    "# statuts\n",
    "geo[\"Statut\"].value_counts()"
   ]
  },
  {
   "cell_type": "code",
   "execution_count": 196,
   "metadata": {
    "scrolled": false
   },
   "outputs": [
    {
     "name": "stdout",
     "output_type": "stream",
     "text": [
      "<class 'pandas.core.frame.DataFrame'>\n",
      "Index: 36742 entries, 01001 to 97617\n",
      "Data columns (total 10 columns):\n",
      " #   Column            Non-Null Count  Dtype   \n",
      "---  ------            --------------  -----   \n",
      " 0   Code Postal       36742 non-null  object  \n",
      " 1   Commune           36742 non-null  object  \n",
      " 2   Département       36742 non-null  object  \n",
      " 3   Région            36742 non-null  object  \n",
      " 4   Statut            36742 non-null  category\n",
      " 5   Altitude Moyenne  36742 non-null  int64   \n",
      " 6   Superficie        36742 non-null  float64 \n",
      " 7   Population        36742 non-null  float64 \n",
      " 8   geo_point_2d      36742 non-null  object  \n",
      " 9   geo_shape         36742 non-null  object  \n",
      "dtypes: category(1), float64(2), int64(1), object(6)\n",
      "memory usage: 2.8+ MB\n"
     ]
    }
   ],
   "source": [
    "# conversion de la colonne Statut en catégorie\n",
    "\n",
    "from pandas.api.types import CategoricalDtype\n",
    "\n",
    "statuts = [\"Commune simple\", \"Chef-lieu canton\", \"Sous-préfecture\",\n",
    "            \"Préfecture\", \"Préfecture de région\", \"Capitale d'état\"]\n",
    "\n",
    "cat_statut = CategoricalDtype(categories=statuts, ordered=True)\n",
    "\n",
    "geo[\"Statut\"] = geo[\"Statut\"].astype(cat_statut)\n",
    "\n",
    "geo.info()"
   ]
  },
  {
   "cell_type": "code",
   "execution_count": null,
   "metadata": {},
   "outputs": [],
   "source": [
    "# low medium high"
   ]
  },
  {
   "cell_type": "code",
   "execution_count": 412,
   "metadata": {
    "scrolled": false
   },
   "outputs": [],
   "source": [
    "# chargement des données\n",
    "geo = pd.read_csv(\"correspondance-code-insee-code-postal.csv\",\n",
    "                   sep=';',\n",
    "                   usecols=range(11),\n",
    "                   index_col=\"Code INSEE\")\n",
    "\n",
    "statuts = [\"Commune simple\", \"Chef-lieu canton\", \"Sous-préfecture\",\n",
    "            \"Préfecture\", \"Préfecture de région\"]\n",
    "cat_statut = CategoricalDtype(categories=statuts, ordered=True)\n",
    "geo[\"Statut\"] = geo[\"Statut\"].astype(cat_statut)"
   ]
  },
  {
   "cell_type": "markdown",
   "metadata": {},
   "source": [
    "### Ajout de colonnes"
   ]
  },
  {
   "cell_type": "code",
   "execution_count": 413,
   "metadata": {
    "scrolled": false
   },
   "outputs": [
    {
     "data": {
      "text/html": [
       "<div>\n",
       "<style scoped>\n",
       "    .dataframe tbody tr th:only-of-type {\n",
       "        vertical-align: middle;\n",
       "    }\n",
       "\n",
       "    .dataframe tbody tr th {\n",
       "        vertical-align: top;\n",
       "    }\n",
       "\n",
       "    .dataframe thead th {\n",
       "        text-align: right;\n",
       "    }\n",
       "</style>\n",
       "<table border=\"1\" class=\"dataframe\">\n",
       "  <thead>\n",
       "    <tr style=\"text-align: right;\">\n",
       "      <th></th>\n",
       "      <th>Code Postal</th>\n",
       "      <th>Commune</th>\n",
       "      <th>Département</th>\n",
       "      <th>Région</th>\n",
       "      <th>Statut</th>\n",
       "      <th>Altitude Moyenne</th>\n",
       "      <th>Superficie</th>\n",
       "      <th>Population</th>\n",
       "      <th>geo_point_2d</th>\n",
       "      <th>geo_shape</th>\n",
       "      <th>Densité</th>\n",
       "    </tr>\n",
       "    <tr>\n",
       "      <th>Code INSEE</th>\n",
       "      <th></th>\n",
       "      <th></th>\n",
       "      <th></th>\n",
       "      <th></th>\n",
       "      <th></th>\n",
       "      <th></th>\n",
       "      <th></th>\n",
       "      <th></th>\n",
       "      <th></th>\n",
       "      <th></th>\n",
       "      <th></th>\n",
       "    </tr>\n",
       "  </thead>\n",
       "  <tbody>\n",
       "    <tr>\n",
       "      <th>31080</th>\n",
       "      <td>31350</td>\n",
       "      <td>BOULOGNE-SUR-GESSE</td>\n",
       "      <td>HAUTE-GARONNE</td>\n",
       "      <td>MIDI-PYRENEES</td>\n",
       "      <td>Chef-lieu canton</td>\n",
       "      <td>301.0</td>\n",
       "      <td>2470.0</td>\n",
       "      <td>1.6</td>\n",
       "      <td>43.2904403081, 0.650641474176</td>\n",
       "      <td>{\"type\": \"Polygon\", \"coordinates\": [[[0.671852...</td>\n",
       "      <td>0.647773</td>\n",
       "    </tr>\n",
       "    <tr>\n",
       "      <th>11143</th>\n",
       "      <td>11510</td>\n",
       "      <td>FEUILLA</td>\n",
       "      <td>AUDE</td>\n",
       "      <td>LANGUEDOC-ROUSSILLON</td>\n",
       "      <td>Commune simple</td>\n",
       "      <td>314.0</td>\n",
       "      <td>2426.0</td>\n",
       "      <td>0.1</td>\n",
       "      <td>42.9291375888, 2.90138923544</td>\n",
       "      <td>{\"type\": \"Polygon\", \"coordinates\": [[[2.906996...</td>\n",
       "      <td>0.041220</td>\n",
       "    </tr>\n",
       "    <tr>\n",
       "      <th>43028</th>\n",
       "      <td>43200</td>\n",
       "      <td>BESSAMOREL</td>\n",
       "      <td>HAUTE-LOIRE</td>\n",
       "      <td>AUVERGNE</td>\n",
       "      <td>Commune simple</td>\n",
       "      <td>888.0</td>\n",
       "      <td>743.0</td>\n",
       "      <td>0.4</td>\n",
       "      <td>45.1306448726, 4.07952494849</td>\n",
       "      <td>{\"type\": \"Polygon\", \"coordinates\": [[[4.091674...</td>\n",
       "      <td>0.538358</td>\n",
       "    </tr>\n",
       "    <tr>\n",
       "      <th>78506</th>\n",
       "      <td>78660</td>\n",
       "      <td>PRUNAY-EN-YVELINES</td>\n",
       "      <td>YVELINES</td>\n",
       "      <td>ILE-DE-FRANCE</td>\n",
       "      <td>Commune simple</td>\n",
       "      <td>155.0</td>\n",
       "      <td>2717.0</td>\n",
       "      <td>0.8</td>\n",
       "      <td>48.5267627187, 1.80513972814</td>\n",
       "      <td>{\"type\": \"Polygon\", \"coordinates\": [[[1.829610...</td>\n",
       "      <td>0.294442</td>\n",
       "    </tr>\n",
       "    <tr>\n",
       "      <th>84081</th>\n",
       "      <td>84310</td>\n",
       "      <td>MORIERES-LES-AVIGNON</td>\n",
       "      <td>VAUCLUSE</td>\n",
       "      <td>PROVENCE-ALPES-COTE D'AZUR</td>\n",
       "      <td>Commune simple</td>\n",
       "      <td>49.0</td>\n",
       "      <td>1042.0</td>\n",
       "      <td>7.6</td>\n",
       "      <td>43.9337788848, 4.90875878315</td>\n",
       "      <td>{\"type\": \"Polygon\", \"coordinates\": [[[4.927176...</td>\n",
       "      <td>7.293666</td>\n",
       "    </tr>\n",
       "  </tbody>\n",
       "</table>\n",
       "</div>"
      ],
      "text/plain": [
       "           Code Postal               Commune    Département  \\\n",
       "Code INSEE                                                    \n",
       "31080            31350    BOULOGNE-SUR-GESSE  HAUTE-GARONNE   \n",
       "11143            11510               FEUILLA           AUDE   \n",
       "43028            43200            BESSAMOREL    HAUTE-LOIRE   \n",
       "78506            78660    PRUNAY-EN-YVELINES       YVELINES   \n",
       "84081            84310  MORIERES-LES-AVIGNON       VAUCLUSE   \n",
       "\n",
       "                                Région            Statut  Altitude Moyenne  \\\n",
       "Code INSEE                                                                   \n",
       "31080                    MIDI-PYRENEES  Chef-lieu canton             301.0   \n",
       "11143             LANGUEDOC-ROUSSILLON    Commune simple             314.0   \n",
       "43028                         AUVERGNE    Commune simple             888.0   \n",
       "78506                    ILE-DE-FRANCE    Commune simple             155.0   \n",
       "84081       PROVENCE-ALPES-COTE D'AZUR    Commune simple              49.0   \n",
       "\n",
       "            Superficie  Population                   geo_point_2d  \\\n",
       "Code INSEE                                                          \n",
       "31080           2470.0         1.6  43.2904403081, 0.650641474176   \n",
       "11143           2426.0         0.1   42.9291375888, 2.90138923544   \n",
       "43028            743.0         0.4   45.1306448726, 4.07952494849   \n",
       "78506           2717.0         0.8   48.5267627187, 1.80513972814   \n",
       "84081           1042.0         7.6   43.9337788848, 4.90875878315   \n",
       "\n",
       "                                                    geo_shape   Densité  \n",
       "Code INSEE                                                               \n",
       "31080       {\"type\": \"Polygon\", \"coordinates\": [[[0.671852...  0.647773  \n",
       "11143       {\"type\": \"Polygon\", \"coordinates\": [[[2.906996...  0.041220  \n",
       "43028       {\"type\": \"Polygon\", \"coordinates\": [[[4.091674...  0.538358  \n",
       "78506       {\"type\": \"Polygon\", \"coordinates\": [[[1.829610...  0.294442  \n",
       "84081       {\"type\": \"Polygon\", \"coordinates\": [[[4.927176...  7.293666  "
      ]
     },
     "execution_count": 413,
     "metadata": {},
     "output_type": "execute_result"
    }
   ],
   "source": [
    "# on ajoute la colonne \"Densité\"\n",
    "geo[\"Densité\"] = 1000 * geo[\"Population\"] / geo[\"Superficie\"]\n",
    "geo.head()"
   ]
  },
  {
   "cell_type": "markdown",
   "metadata": {},
   "source": [
    "### Extraction d'informations"
   ]
  },
  {
   "cell_type": "code",
   "execution_count": 414,
   "metadata": {},
   "outputs": [
    {
     "data": {
      "text/html": [
       "<div>\n",
       "<style scoped>\n",
       "    .dataframe tbody tr th:only-of-type {\n",
       "        vertical-align: middle;\n",
       "    }\n",
       "\n",
       "    .dataframe tbody tr th {\n",
       "        vertical-align: top;\n",
       "    }\n",
       "\n",
       "    .dataframe thead th {\n",
       "        text-align: right;\n",
       "    }\n",
       "</style>\n",
       "<table border=\"1\" class=\"dataframe\">\n",
       "  <thead>\n",
       "    <tr style=\"text-align: right;\">\n",
       "      <th></th>\n",
       "      <th>Code Postal</th>\n",
       "      <th>Commune</th>\n",
       "      <th>Département</th>\n",
       "      <th>Région</th>\n",
       "      <th>Statut</th>\n",
       "      <th>Altitude Moyenne</th>\n",
       "      <th>Superficie</th>\n",
       "      <th>Population</th>\n",
       "      <th>geo_point_2d</th>\n",
       "      <th>geo_shape</th>\n",
       "      <th>Densité</th>\n",
       "    </tr>\n",
       "    <tr>\n",
       "      <th>Code INSEE</th>\n",
       "      <th></th>\n",
       "      <th></th>\n",
       "      <th></th>\n",
       "      <th></th>\n",
       "      <th></th>\n",
       "      <th></th>\n",
       "      <th></th>\n",
       "      <th></th>\n",
       "      <th></th>\n",
       "      <th></th>\n",
       "      <th></th>\n",
       "    </tr>\n",
       "  </thead>\n",
       "  <tbody>\n",
       "    <tr>\n",
       "      <th>31080</th>\n",
       "      <td>31350</td>\n",
       "      <td>BOULOGNE-SUR-GESSE</td>\n",
       "      <td>HAUTE-GARONNE</td>\n",
       "      <td>MIDI-PYRENEES</td>\n",
       "      <td>Chef-lieu canton</td>\n",
       "      <td>301.0</td>\n",
       "      <td>2470.0</td>\n",
       "      <td>1.6</td>\n",
       "      <td>43.2904403081, 0.650641474176</td>\n",
       "      <td>{\"type\": \"Polygon\", \"coordinates\": [[[0.671852...</td>\n",
       "      <td>0.647773</td>\n",
       "    </tr>\n",
       "    <tr>\n",
       "      <th>11143</th>\n",
       "      <td>11510</td>\n",
       "      <td>FEUILLA</td>\n",
       "      <td>AUDE</td>\n",
       "      <td>LANGUEDOC-ROUSSILLON</td>\n",
       "      <td>Commune simple</td>\n",
       "      <td>314.0</td>\n",
       "      <td>2426.0</td>\n",
       "      <td>0.1</td>\n",
       "      <td>42.9291375888, 2.90138923544</td>\n",
       "      <td>{\"type\": \"Polygon\", \"coordinates\": [[[2.906996...</td>\n",
       "      <td>0.041220</td>\n",
       "    </tr>\n",
       "    <tr>\n",
       "      <th>43028</th>\n",
       "      <td>43200</td>\n",
       "      <td>BESSAMOREL</td>\n",
       "      <td>HAUTE-LOIRE</td>\n",
       "      <td>AUVERGNE</td>\n",
       "      <td>Commune simple</td>\n",
       "      <td>888.0</td>\n",
       "      <td>743.0</td>\n",
       "      <td>0.4</td>\n",
       "      <td>45.1306448726, 4.07952494849</td>\n",
       "      <td>{\"type\": \"Polygon\", \"coordinates\": [[[4.091674...</td>\n",
       "      <td>0.538358</td>\n",
       "    </tr>\n",
       "    <tr>\n",
       "      <th>78506</th>\n",
       "      <td>78660</td>\n",
       "      <td>PRUNAY-EN-YVELINES</td>\n",
       "      <td>YVELINES</td>\n",
       "      <td>ILE-DE-FRANCE</td>\n",
       "      <td>Commune simple</td>\n",
       "      <td>155.0</td>\n",
       "      <td>2717.0</td>\n",
       "      <td>0.8</td>\n",
       "      <td>48.5267627187, 1.80513972814</td>\n",
       "      <td>{\"type\": \"Polygon\", \"coordinates\": [[[1.829610...</td>\n",
       "      <td>0.294442</td>\n",
       "    </tr>\n",
       "    <tr>\n",
       "      <th>84081</th>\n",
       "      <td>84310</td>\n",
       "      <td>MORIERES-LES-AVIGNON</td>\n",
       "      <td>VAUCLUSE</td>\n",
       "      <td>PROVENCE-ALPES-COTE D'AZUR</td>\n",
       "      <td>Commune simple</td>\n",
       "      <td>49.0</td>\n",
       "      <td>1042.0</td>\n",
       "      <td>7.6</td>\n",
       "      <td>43.9337788848, 4.90875878315</td>\n",
       "      <td>{\"type\": \"Polygon\", \"coordinates\": [[[4.927176...</td>\n",
       "      <td>7.293666</td>\n",
       "    </tr>\n",
       "  </tbody>\n",
       "</table>\n",
       "</div>"
      ],
      "text/plain": [
       "           Code Postal               Commune    Département  \\\n",
       "Code INSEE                                                    \n",
       "31080            31350    BOULOGNE-SUR-GESSE  HAUTE-GARONNE   \n",
       "11143            11510               FEUILLA           AUDE   \n",
       "43028            43200            BESSAMOREL    HAUTE-LOIRE   \n",
       "78506            78660    PRUNAY-EN-YVELINES       YVELINES   \n",
       "84081            84310  MORIERES-LES-AVIGNON       VAUCLUSE   \n",
       "\n",
       "                                Région            Statut  Altitude Moyenne  \\\n",
       "Code INSEE                                                                   \n",
       "31080                    MIDI-PYRENEES  Chef-lieu canton             301.0   \n",
       "11143             LANGUEDOC-ROUSSILLON    Commune simple             314.0   \n",
       "43028                         AUVERGNE    Commune simple             888.0   \n",
       "78506                    ILE-DE-FRANCE    Commune simple             155.0   \n",
       "84081       PROVENCE-ALPES-COTE D'AZUR    Commune simple              49.0   \n",
       "\n",
       "            Superficie  Population                   geo_point_2d  \\\n",
       "Code INSEE                                                          \n",
       "31080           2470.0         1.6  43.2904403081, 0.650641474176   \n",
       "11143           2426.0         0.1   42.9291375888, 2.90138923544   \n",
       "43028            743.0         0.4   45.1306448726, 4.07952494849   \n",
       "78506           2717.0         0.8   48.5267627187, 1.80513972814   \n",
       "84081           1042.0         7.6   43.9337788848, 4.90875878315   \n",
       "\n",
       "                                                    geo_shape   Densité  \n",
       "Code INSEE                                                               \n",
       "31080       {\"type\": \"Polygon\", \"coordinates\": [[[0.671852...  0.647773  \n",
       "11143       {\"type\": \"Polygon\", \"coordinates\": [[[2.906996...  0.041220  \n",
       "43028       {\"type\": \"Polygon\", \"coordinates\": [[[4.091674...  0.538358  \n",
       "78506       {\"type\": \"Polygon\", \"coordinates\": [[[1.829610...  0.294442  \n",
       "84081       {\"type\": \"Polygon\", \"coordinates\": [[[4.927176...  7.293666  "
      ]
     },
     "execution_count": 414,
     "metadata": {},
     "output_type": "execute_result"
    }
   ],
   "source": [
    "# reset de l'index\n",
    "geo = geo.reset_index()\n",
    "geo = geo.set_index('Code INSEE', drop=True)\n",
    "geo.head()"
   ]
  },
  {
   "cell_type": "code",
   "execution_count": 415,
   "metadata": {},
   "outputs": [
    {
     "data": {
      "text/plain": [
       "Code INSEE\n",
       "31080     43.2904403081, 0.650641474176\n",
       "11143      42.9291375888, 2.90138923544\n",
       "43028      45.1306448726, 4.07952494849\n",
       "78506      48.5267627187, 1.80513972814\n",
       "84081      43.9337788848, 4.90875878315\n",
       "80462      50.1865666179, 1.83564836965\n",
       "40200    44.3882918763, -0.750880080586\n",
       "17394    46.1401428747, -0.665133364912\n",
       "                      ...              \n",
       "15024      45.2038604898, 2.26559675808\n",
       "76008      49.9085547953, 1.17898885458\n",
       "02137      49.0765910572, 3.25026191909\n",
       "74066      46.0500384099, 6.01652644319\n",
       "67315      48.9516989257, 8.11931601006\n",
       "07122      44.5622616562, 4.35906947518\n",
       "01026      46.3077069231, 4.92862084189\n",
       "50224    48.9866701737, -0.949588175705\n",
       "Name: geo_point_2d, Length: 36742, dtype: object"
      ]
     },
     "execution_count": 415,
     "metadata": {},
     "output_type": "execute_result"
    }
   ],
   "source": [
    "# colonne \"geo_point_2d\"\n",
    "geo[\"geo_point_2d\"]"
   ]
  },
  {
   "cell_type": "code",
   "execution_count": 416,
   "metadata": {},
   "outputs": [
    {
     "data": {
      "text/plain": [
       "'46.1534255214, 4.92611354223'"
      ]
     },
     "execution_count": 416,
     "metadata": {},
     "output_type": "execute_result"
    }
   ],
   "source": [
    "# accès à une valeur \"geo_point_2d\"\n",
    "geo.loc[\"01001\", \"geo_point_2d\"]"
   ]
  },
  {
   "cell_type": "code",
   "execution_count": 417,
   "metadata": {
    "scrolled": false
   },
   "outputs": [
    {
     "data": {
      "text/plain": [
       "['46.1534255214', '4.92611354223']"
      ]
     },
     "execution_count": 417,
     "metadata": {},
     "output_type": "execute_result"
    }
   ],
   "source": [
    "# application de la méthode split()\n",
    "x = geo.loc[\"01001\", \"geo_point_2d\"].split(', ')\n",
    "x"
   ]
  },
  {
   "cell_type": "code",
   "execution_count": 418,
   "metadata": {
    "scrolled": false
   },
   "outputs": [
    {
     "data": {
      "text/plain": [
       "'46.1534255214'"
      ]
     },
     "execution_count": 418,
     "metadata": {},
     "output_type": "execute_result"
    }
   ],
   "source": [
    "# extraction de la latitude, indice 0 dans la liste retournée par *split()*\n",
    "x[0]  # on obtient une chaîne de caractères"
   ]
  },
  {
   "cell_type": "code",
   "execution_count": 419,
   "metadata": {
    "scrolled": false
   },
   "outputs": [
    {
     "data": {
      "text/plain": [
       "46.1534255214"
      ]
     },
     "execution_count": 419,
     "metadata": {},
     "output_type": "execute_result"
    }
   ],
   "source": [
    "float(x[0])  # on obtient enfin un nombre flottant représentant la latitude avec le convertisseur float()"
   ]
  },
  {
   "cell_type": "code",
   "execution_count": 420,
   "metadata": {
    "scrolled": false
   },
   "outputs": [
    {
     "data": {
      "text/html": [
       "<div>\n",
       "<style scoped>\n",
       "    .dataframe tbody tr th:only-of-type {\n",
       "        vertical-align: middle;\n",
       "    }\n",
       "\n",
       "    .dataframe tbody tr th {\n",
       "        vertical-align: top;\n",
       "    }\n",
       "\n",
       "    .dataframe thead th {\n",
       "        text-align: right;\n",
       "    }\n",
       "</style>\n",
       "<table border=\"1\" class=\"dataframe\">\n",
       "  <thead>\n",
       "    <tr style=\"text-align: right;\">\n",
       "      <th></th>\n",
       "      <th>Code Postal</th>\n",
       "      <th>Commune</th>\n",
       "      <th>Département</th>\n",
       "      <th>Région</th>\n",
       "      <th>Statut</th>\n",
       "      <th>Altitude Moyenne</th>\n",
       "      <th>Superficie</th>\n",
       "      <th>Population</th>\n",
       "      <th>geo_point_2d</th>\n",
       "      <th>geo_shape</th>\n",
       "      <th>Densité</th>\n",
       "      <th>Latitude</th>\n",
       "      <th>Longitude</th>\n",
       "    </tr>\n",
       "    <tr>\n",
       "      <th>Code INSEE</th>\n",
       "      <th></th>\n",
       "      <th></th>\n",
       "      <th></th>\n",
       "      <th></th>\n",
       "      <th></th>\n",
       "      <th></th>\n",
       "      <th></th>\n",
       "      <th></th>\n",
       "      <th></th>\n",
       "      <th></th>\n",
       "      <th></th>\n",
       "      <th></th>\n",
       "      <th></th>\n",
       "    </tr>\n",
       "  </thead>\n",
       "  <tbody>\n",
       "    <tr>\n",
       "      <th>31080</th>\n",
       "      <td>31350</td>\n",
       "      <td>BOULOGNE-SUR-GESSE</td>\n",
       "      <td>HAUTE-GARONNE</td>\n",
       "      <td>MIDI-PYRENEES</td>\n",
       "      <td>Chef-lieu canton</td>\n",
       "      <td>301.0</td>\n",
       "      <td>2470.0</td>\n",
       "      <td>1.6</td>\n",
       "      <td>43.2904403081, 0.650641474176</td>\n",
       "      <td>{\"type\": \"Polygon\", \"coordinates\": [[[0.671852...</td>\n",
       "      <td>0.647773</td>\n",
       "      <td>43.290440</td>\n",
       "      <td>0.650641</td>\n",
       "    </tr>\n",
       "    <tr>\n",
       "      <th>11143</th>\n",
       "      <td>11510</td>\n",
       "      <td>FEUILLA</td>\n",
       "      <td>AUDE</td>\n",
       "      <td>LANGUEDOC-ROUSSILLON</td>\n",
       "      <td>Commune simple</td>\n",
       "      <td>314.0</td>\n",
       "      <td>2426.0</td>\n",
       "      <td>0.1</td>\n",
       "      <td>42.9291375888, 2.90138923544</td>\n",
       "      <td>{\"type\": \"Polygon\", \"coordinates\": [[[2.906996...</td>\n",
       "      <td>0.041220</td>\n",
       "      <td>42.929138</td>\n",
       "      <td>2.901389</td>\n",
       "    </tr>\n",
       "    <tr>\n",
       "      <th>43028</th>\n",
       "      <td>43200</td>\n",
       "      <td>BESSAMOREL</td>\n",
       "      <td>HAUTE-LOIRE</td>\n",
       "      <td>AUVERGNE</td>\n",
       "      <td>Commune simple</td>\n",
       "      <td>888.0</td>\n",
       "      <td>743.0</td>\n",
       "      <td>0.4</td>\n",
       "      <td>45.1306448726, 4.07952494849</td>\n",
       "      <td>{\"type\": \"Polygon\", \"coordinates\": [[[4.091674...</td>\n",
       "      <td>0.538358</td>\n",
       "      <td>45.130645</td>\n",
       "      <td>4.079525</td>\n",
       "    </tr>\n",
       "    <tr>\n",
       "      <th>78506</th>\n",
       "      <td>78660</td>\n",
       "      <td>PRUNAY-EN-YVELINES</td>\n",
       "      <td>YVELINES</td>\n",
       "      <td>ILE-DE-FRANCE</td>\n",
       "      <td>Commune simple</td>\n",
       "      <td>155.0</td>\n",
       "      <td>2717.0</td>\n",
       "      <td>0.8</td>\n",
       "      <td>48.5267627187, 1.80513972814</td>\n",
       "      <td>{\"type\": \"Polygon\", \"coordinates\": [[[1.829610...</td>\n",
       "      <td>0.294442</td>\n",
       "      <td>48.526763</td>\n",
       "      <td>1.805140</td>\n",
       "    </tr>\n",
       "    <tr>\n",
       "      <th>84081</th>\n",
       "      <td>84310</td>\n",
       "      <td>MORIERES-LES-AVIGNON</td>\n",
       "      <td>VAUCLUSE</td>\n",
       "      <td>PROVENCE-ALPES-COTE D'AZUR</td>\n",
       "      <td>Commune simple</td>\n",
       "      <td>49.0</td>\n",
       "      <td>1042.0</td>\n",
       "      <td>7.6</td>\n",
       "      <td>43.9337788848, 4.90875878315</td>\n",
       "      <td>{\"type\": \"Polygon\", \"coordinates\": [[[4.927176...</td>\n",
       "      <td>7.293666</td>\n",
       "      <td>43.933779</td>\n",
       "      <td>4.908759</td>\n",
       "    </tr>\n",
       "  </tbody>\n",
       "</table>\n",
       "</div>"
      ],
      "text/plain": [
       "           Code Postal               Commune    Département  \\\n",
       "Code INSEE                                                    \n",
       "31080            31350    BOULOGNE-SUR-GESSE  HAUTE-GARONNE   \n",
       "11143            11510               FEUILLA           AUDE   \n",
       "43028            43200            BESSAMOREL    HAUTE-LOIRE   \n",
       "78506            78660    PRUNAY-EN-YVELINES       YVELINES   \n",
       "84081            84310  MORIERES-LES-AVIGNON       VAUCLUSE   \n",
       "\n",
       "                                Région            Statut  Altitude Moyenne  \\\n",
       "Code INSEE                                                                   \n",
       "31080                    MIDI-PYRENEES  Chef-lieu canton             301.0   \n",
       "11143             LANGUEDOC-ROUSSILLON    Commune simple             314.0   \n",
       "43028                         AUVERGNE    Commune simple             888.0   \n",
       "78506                    ILE-DE-FRANCE    Commune simple             155.0   \n",
       "84081       PROVENCE-ALPES-COTE D'AZUR    Commune simple              49.0   \n",
       "\n",
       "            Superficie  Population                   geo_point_2d  \\\n",
       "Code INSEE                                                          \n",
       "31080           2470.0         1.6  43.2904403081, 0.650641474176   \n",
       "11143           2426.0         0.1   42.9291375888, 2.90138923544   \n",
       "43028            743.0         0.4   45.1306448726, 4.07952494849   \n",
       "78506           2717.0         0.8   48.5267627187, 1.80513972814   \n",
       "84081           1042.0         7.6   43.9337788848, 4.90875878315   \n",
       "\n",
       "                                                    geo_shape   Densité  \\\n",
       "Code INSEE                                                                \n",
       "31080       {\"type\": \"Polygon\", \"coordinates\": [[[0.671852...  0.647773   \n",
       "11143       {\"type\": \"Polygon\", \"coordinates\": [[[2.906996...  0.041220   \n",
       "43028       {\"type\": \"Polygon\", \"coordinates\": [[[4.091674...  0.538358   \n",
       "78506       {\"type\": \"Polygon\", \"coordinates\": [[[1.829610...  0.294442   \n",
       "84081       {\"type\": \"Polygon\", \"coordinates\": [[[4.927176...  7.293666   \n",
       "\n",
       "             Latitude  Longitude  \n",
       "Code INSEE                        \n",
       "31080       43.290440   0.650641  \n",
       "11143       42.929138   2.901389  \n",
       "43028       45.130645   4.079525  \n",
       "78506       48.526763   1.805140  \n",
       "84081       43.933779   4.908759  "
      ]
     },
     "execution_count": 420,
     "metadata": {},
     "output_type": "execute_result"
    }
   ],
   "source": [
    "# on calcule  la latitude et la longitude et on ajoute les colones\n",
    "geo[\"Latitude\"] = geo[\"geo_point_2d\"].apply(lambda x: float(x.split(', ')[0]))\n",
    "geo[\"Longitude\"] = geo[\"geo_point_2d\"].apply(lambda x: float(x.split(', ')[1]))\n",
    "geo.head()"
   ]
  },
  {
   "cell_type": "code",
   "execution_count": 421,
   "metadata": {
    "scrolled": false
   },
   "outputs": [
    {
     "name": "stdout",
     "output_type": "stream",
     "text": [
      "<class 'pandas.core.frame.DataFrame'>\n",
      "Index: 36742 entries, 31080 to 50224\n",
      "Data columns (total 13 columns):\n",
      " #   Column            Non-Null Count  Dtype   \n",
      "---  ------            --------------  -----   \n",
      " 0   Code Postal       36742 non-null  object  \n",
      " 1   Commune           36742 non-null  object  \n",
      " 2   Département       36742 non-null  object  \n",
      " 3   Région            36742 non-null  object  \n",
      " 4   Statut            36741 non-null  category\n",
      " 5   Altitude Moyenne  36742 non-null  float64 \n",
      " 6   Superficie        36742 non-null  float64 \n",
      " 7   Population        36742 non-null  float64 \n",
      " 8   geo_point_2d      36742 non-null  object  \n",
      " 9   geo_shape         36742 non-null  object  \n",
      " 10  Densité           36742 non-null  float64 \n",
      " 11  Latitude          36742 non-null  float64 \n",
      " 12  Longitude         36742 non-null  float64 \n",
      "dtypes: category(1), float64(6), object(6)\n",
      "memory usage: 4.7+ MB\n"
     ]
    }
   ],
   "source": [
    "# on vérifie le type des colonne ajoutées\n",
    "geo.info()"
   ]
  },
  {
   "cell_type": "code",
   "execution_count": 422,
   "metadata": {},
   "outputs": [
    {
     "data": {
      "text/html": [
       "<div>\n",
       "<style scoped>\n",
       "    .dataframe tbody tr th:only-of-type {\n",
       "        vertical-align: middle;\n",
       "    }\n",
       "\n",
       "    .dataframe tbody tr th {\n",
       "        vertical-align: top;\n",
       "    }\n",
       "\n",
       "    .dataframe thead th {\n",
       "        text-align: right;\n",
       "    }\n",
       "</style>\n",
       "<table border=\"1\" class=\"dataframe\">\n",
       "  <thead>\n",
       "    <tr style=\"text-align: right;\">\n",
       "      <th></th>\n",
       "      <th>0</th>\n",
       "      <th>1</th>\n",
       "    </tr>\n",
       "    <tr>\n",
       "      <th>Code INSEE</th>\n",
       "      <th></th>\n",
       "      <th></th>\n",
       "    </tr>\n",
       "  </thead>\n",
       "  <tbody>\n",
       "    <tr>\n",
       "      <th>31080</th>\n",
       "      <td>43.2904403081</td>\n",
       "      <td>0.650641474176</td>\n",
       "    </tr>\n",
       "    <tr>\n",
       "      <th>11143</th>\n",
       "      <td>42.9291375888</td>\n",
       "      <td>2.90138923544</td>\n",
       "    </tr>\n",
       "    <tr>\n",
       "      <th>43028</th>\n",
       "      <td>45.1306448726</td>\n",
       "      <td>4.07952494849</td>\n",
       "    </tr>\n",
       "    <tr>\n",
       "      <th>78506</th>\n",
       "      <td>48.5267627187</td>\n",
       "      <td>1.80513972814</td>\n",
       "    </tr>\n",
       "    <tr>\n",
       "      <th>84081</th>\n",
       "      <td>43.9337788848</td>\n",
       "      <td>4.90875878315</td>\n",
       "    </tr>\n",
       "    <tr>\n",
       "      <th>80462</th>\n",
       "      <td>50.1865666179</td>\n",
       "      <td>1.83564836965</td>\n",
       "    </tr>\n",
       "    <tr>\n",
       "      <th>40200</th>\n",
       "      <td>44.3882918763</td>\n",
       "      <td>-0.750880080586</td>\n",
       "    </tr>\n",
       "    <tr>\n",
       "      <th>17394</th>\n",
       "      <td>46.1401428747</td>\n",
       "      <td>-0.665133364912</td>\n",
       "    </tr>\n",
       "    <tr>\n",
       "      <th>...</th>\n",
       "      <td>...</td>\n",
       "      <td>...</td>\n",
       "    </tr>\n",
       "    <tr>\n",
       "      <th>15024</th>\n",
       "      <td>45.2038604898</td>\n",
       "      <td>2.26559675808</td>\n",
       "    </tr>\n",
       "    <tr>\n",
       "      <th>76008</th>\n",
       "      <td>49.9085547953</td>\n",
       "      <td>1.17898885458</td>\n",
       "    </tr>\n",
       "    <tr>\n",
       "      <th>02137</th>\n",
       "      <td>49.0765910572</td>\n",
       "      <td>3.25026191909</td>\n",
       "    </tr>\n",
       "    <tr>\n",
       "      <th>74066</th>\n",
       "      <td>46.0500384099</td>\n",
       "      <td>6.01652644319</td>\n",
       "    </tr>\n",
       "    <tr>\n",
       "      <th>67315</th>\n",
       "      <td>48.9516989257</td>\n",
       "      <td>8.11931601006</td>\n",
       "    </tr>\n",
       "    <tr>\n",
       "      <th>07122</th>\n",
       "      <td>44.5622616562</td>\n",
       "      <td>4.35906947518</td>\n",
       "    </tr>\n",
       "    <tr>\n",
       "      <th>01026</th>\n",
       "      <td>46.3077069231</td>\n",
       "      <td>4.92862084189</td>\n",
       "    </tr>\n",
       "    <tr>\n",
       "      <th>50224</th>\n",
       "      <td>48.9866701737</td>\n",
       "      <td>-0.949588175705</td>\n",
       "    </tr>\n",
       "  </tbody>\n",
       "</table>\n",
       "<p>36742 rows × 2 columns</p>\n",
       "</div>"
      ],
      "text/plain": [
       "                        0                1\n",
       "Code INSEE                                \n",
       "31080       43.2904403081   0.650641474176\n",
       "11143       42.9291375888    2.90138923544\n",
       "43028       45.1306448726    4.07952494849\n",
       "78506       48.5267627187    1.80513972814\n",
       "84081       43.9337788848    4.90875878315\n",
       "80462       50.1865666179    1.83564836965\n",
       "40200       44.3882918763  -0.750880080586\n",
       "17394       46.1401428747  -0.665133364912\n",
       "...                   ...              ...\n",
       "15024       45.2038604898    2.26559675808\n",
       "76008       49.9085547953    1.17898885458\n",
       "02137       49.0765910572    3.25026191909\n",
       "74066       46.0500384099    6.01652644319\n",
       "67315       48.9516989257    8.11931601006\n",
       "07122       44.5622616562    4.35906947518\n",
       "01026       46.3077069231    4.92862084189\n",
       "50224       48.9866701737  -0.949588175705\n",
       "\n",
       "[36742 rows x 2 columns]"
      ]
     },
     "execution_count": 422,
     "metadata": {},
     "output_type": "execute_result"
    }
   ],
   "source": [
    "# méthode extract\n",
    "geo[\"geo_point_2d\"].str.extract(\"(.*), (.*)\")"
   ]
  },
  {
   "cell_type": "code",
   "execution_count": 423,
   "metadata": {},
   "outputs": [
    {
     "data": {
      "text/html": [
       "<div>\n",
       "<style scoped>\n",
       "    .dataframe tbody tr th:only-of-type {\n",
       "        vertical-align: middle;\n",
       "    }\n",
       "\n",
       "    .dataframe tbody tr th {\n",
       "        vertical-align: top;\n",
       "    }\n",
       "\n",
       "    .dataframe thead th {\n",
       "        text-align: right;\n",
       "    }\n",
       "</style>\n",
       "<table border=\"1\" class=\"dataframe\">\n",
       "  <thead>\n",
       "    <tr style=\"text-align: right;\">\n",
       "      <th></th>\n",
       "      <th>Code Postal</th>\n",
       "      <th>Commune</th>\n",
       "      <th>Département</th>\n",
       "      <th>Région</th>\n",
       "      <th>Statut</th>\n",
       "      <th>Altitude Moyenne</th>\n",
       "      <th>Superficie</th>\n",
       "      <th>Population</th>\n",
       "      <th>geo_point_2d</th>\n",
       "      <th>geo_shape</th>\n",
       "      <th>Densité</th>\n",
       "      <th>Latitude</th>\n",
       "      <th>Longitude</th>\n",
       "    </tr>\n",
       "    <tr>\n",
       "      <th>Code INSEE</th>\n",
       "      <th></th>\n",
       "      <th></th>\n",
       "      <th></th>\n",
       "      <th></th>\n",
       "      <th></th>\n",
       "      <th></th>\n",
       "      <th></th>\n",
       "      <th></th>\n",
       "      <th></th>\n",
       "      <th></th>\n",
       "      <th></th>\n",
       "      <th></th>\n",
       "      <th></th>\n",
       "    </tr>\n",
       "  </thead>\n",
       "  <tbody>\n",
       "    <tr>\n",
       "      <th>31080</th>\n",
       "      <td>31350</td>\n",
       "      <td>BOULOGNE-SUR-GESSE</td>\n",
       "      <td>HAUTE-GARONNE</td>\n",
       "      <td>MIDI-PYRENEES</td>\n",
       "      <td>Chef-lieu canton</td>\n",
       "      <td>301.0</td>\n",
       "      <td>2470.0</td>\n",
       "      <td>1.6</td>\n",
       "      <td>43.2904403081, 0.650641474176</td>\n",
       "      <td>{\"type\": \"Polygon\", \"coordinates\": [[[0.671852...</td>\n",
       "      <td>0.647773</td>\n",
       "      <td>43.290440</td>\n",
       "      <td>0.650641</td>\n",
       "    </tr>\n",
       "    <tr>\n",
       "      <th>11143</th>\n",
       "      <td>11510</td>\n",
       "      <td>FEUILLA</td>\n",
       "      <td>AUDE</td>\n",
       "      <td>LANGUEDOC-ROUSSILLON</td>\n",
       "      <td>Commune simple</td>\n",
       "      <td>314.0</td>\n",
       "      <td>2426.0</td>\n",
       "      <td>0.1</td>\n",
       "      <td>42.9291375888, 2.90138923544</td>\n",
       "      <td>{\"type\": \"Polygon\", \"coordinates\": [[[2.906996...</td>\n",
       "      <td>0.041220</td>\n",
       "      <td>42.929138</td>\n",
       "      <td>2.901389</td>\n",
       "    </tr>\n",
       "    <tr>\n",
       "      <th>43028</th>\n",
       "      <td>43200</td>\n",
       "      <td>BESSAMOREL</td>\n",
       "      <td>HAUTE-LOIRE</td>\n",
       "      <td>AUVERGNE</td>\n",
       "      <td>Commune simple</td>\n",
       "      <td>888.0</td>\n",
       "      <td>743.0</td>\n",
       "      <td>0.4</td>\n",
       "      <td>45.1306448726, 4.07952494849</td>\n",
       "      <td>{\"type\": \"Polygon\", \"coordinates\": [[[4.091674...</td>\n",
       "      <td>0.538358</td>\n",
       "      <td>45.130645</td>\n",
       "      <td>4.079525</td>\n",
       "    </tr>\n",
       "    <tr>\n",
       "      <th>78506</th>\n",
       "      <td>78660</td>\n",
       "      <td>PRUNAY-EN-YVELINES</td>\n",
       "      <td>YVELINES</td>\n",
       "      <td>ILE-DE-FRANCE</td>\n",
       "      <td>Commune simple</td>\n",
       "      <td>155.0</td>\n",
       "      <td>2717.0</td>\n",
       "      <td>0.8</td>\n",
       "      <td>48.5267627187, 1.80513972814</td>\n",
       "      <td>{\"type\": \"Polygon\", \"coordinates\": [[[1.829610...</td>\n",
       "      <td>0.294442</td>\n",
       "      <td>48.526763</td>\n",
       "      <td>1.805140</td>\n",
       "    </tr>\n",
       "    <tr>\n",
       "      <th>84081</th>\n",
       "      <td>84310</td>\n",
       "      <td>MORIERES-LES-AVIGNON</td>\n",
       "      <td>VAUCLUSE</td>\n",
       "      <td>PROVENCE-ALPES-COTE D'AZUR</td>\n",
       "      <td>Commune simple</td>\n",
       "      <td>49.0</td>\n",
       "      <td>1042.0</td>\n",
       "      <td>7.6</td>\n",
       "      <td>43.9337788848, 4.90875878315</td>\n",
       "      <td>{\"type\": \"Polygon\", \"coordinates\": [[[4.927176...</td>\n",
       "      <td>7.293666</td>\n",
       "      <td>43.933779</td>\n",
       "      <td>4.908759</td>\n",
       "    </tr>\n",
       "  </tbody>\n",
       "</table>\n",
       "</div>"
      ],
      "text/plain": [
       "           Code Postal               Commune    Département  \\\n",
       "Code INSEE                                                    \n",
       "31080            31350    BOULOGNE-SUR-GESSE  HAUTE-GARONNE   \n",
       "11143            11510               FEUILLA           AUDE   \n",
       "43028            43200            BESSAMOREL    HAUTE-LOIRE   \n",
       "78506            78660    PRUNAY-EN-YVELINES       YVELINES   \n",
       "84081            84310  MORIERES-LES-AVIGNON       VAUCLUSE   \n",
       "\n",
       "                                Région            Statut  Altitude Moyenne  \\\n",
       "Code INSEE                                                                   \n",
       "31080                    MIDI-PYRENEES  Chef-lieu canton             301.0   \n",
       "11143             LANGUEDOC-ROUSSILLON    Commune simple             314.0   \n",
       "43028                         AUVERGNE    Commune simple             888.0   \n",
       "78506                    ILE-DE-FRANCE    Commune simple             155.0   \n",
       "84081       PROVENCE-ALPES-COTE D'AZUR    Commune simple              49.0   \n",
       "\n",
       "            Superficie  Population                   geo_point_2d  \\\n",
       "Code INSEE                                                          \n",
       "31080           2470.0         1.6  43.2904403081, 0.650641474176   \n",
       "11143           2426.0         0.1   42.9291375888, 2.90138923544   \n",
       "43028            743.0         0.4   45.1306448726, 4.07952494849   \n",
       "78506           2717.0         0.8   48.5267627187, 1.80513972814   \n",
       "84081           1042.0         7.6   43.9337788848, 4.90875878315   \n",
       "\n",
       "                                                    geo_shape   Densité  \\\n",
       "Code INSEE                                                                \n",
       "31080       {\"type\": \"Polygon\", \"coordinates\": [[[0.671852...  0.647773   \n",
       "11143       {\"type\": \"Polygon\", \"coordinates\": [[[2.906996...  0.041220   \n",
       "43028       {\"type\": \"Polygon\", \"coordinates\": [[[4.091674...  0.538358   \n",
       "78506       {\"type\": \"Polygon\", \"coordinates\": [[[1.829610...  0.294442   \n",
       "84081       {\"type\": \"Polygon\", \"coordinates\": [[[4.927176...  7.293666   \n",
       "\n",
       "             Latitude  Longitude  \n",
       "Code INSEE                        \n",
       "31080       43.290440   0.650641  \n",
       "11143       42.929138   2.901389  \n",
       "43028       45.130645   4.079525  \n",
       "78506       48.526763   1.805140  \n",
       "84081       43.933779   4.908759  "
      ]
     },
     "execution_count": 423,
     "metadata": {},
     "output_type": "execute_result"
    }
   ],
   "source": [
    "# méthode extract\n",
    "geo[['Latitude', 'Longitude']] = geo[\"geo_point_2d\"].str.extract(\"(.*), (.*)\").astype(float)\n",
    "geo.head()"
   ]
  },
  {
   "cell_type": "markdown",
   "metadata": {},
   "source": [
    "**Projet maison n° 1**\n",
    "\n",
    "- Ajoutez une colonne 'CP Ville' avec le Code postal + un espace + et le nom de la Ville.\n",
    "- Ecrivez une fonction qui détermine la commune la plus proche d'un point à partir de sa latitude et sa longitude.\n",
    "- Ajoutez une fonction de conversion pour pouvoir utiliser la première fonction avec un GPS (degrés, minutes, secondes)."
   ]
  },
  {
   "cell_type": "code",
   "execution_count": 424,
   "metadata": {},
   "outputs": [
    {
     "data": {
      "text/html": [
       "<div>\n",
       "<style scoped>\n",
       "    .dataframe tbody tr th:only-of-type {\n",
       "        vertical-align: middle;\n",
       "    }\n",
       "\n",
       "    .dataframe tbody tr th {\n",
       "        vertical-align: top;\n",
       "    }\n",
       "\n",
       "    .dataframe thead th {\n",
       "        text-align: right;\n",
       "    }\n",
       "</style>\n",
       "<table border=\"1\" class=\"dataframe\">\n",
       "  <thead>\n",
       "    <tr style=\"text-align: right;\">\n",
       "      <th></th>\n",
       "      <th>Code Postal</th>\n",
       "      <th>Commune</th>\n",
       "      <th>Département</th>\n",
       "      <th>Région</th>\n",
       "      <th>Statut</th>\n",
       "      <th>Altitude Moyenne</th>\n",
       "      <th>Superficie</th>\n",
       "      <th>Population</th>\n",
       "      <th>geo_point_2d</th>\n",
       "      <th>geo_shape</th>\n",
       "      <th>Densité</th>\n",
       "      <th>Latitude</th>\n",
       "      <th>Longitude</th>\n",
       "    </tr>\n",
       "    <tr>\n",
       "      <th>Code INSEE</th>\n",
       "      <th></th>\n",
       "      <th></th>\n",
       "      <th></th>\n",
       "      <th></th>\n",
       "      <th></th>\n",
       "      <th></th>\n",
       "      <th></th>\n",
       "      <th></th>\n",
       "      <th></th>\n",
       "      <th></th>\n",
       "      <th></th>\n",
       "      <th></th>\n",
       "      <th></th>\n",
       "    </tr>\n",
       "  </thead>\n",
       "  <tbody>\n",
       "    <tr>\n",
       "      <th>31080</th>\n",
       "      <td>31350</td>\n",
       "      <td>BOULOGNE-SUR-GESSE</td>\n",
       "      <td>HAUTE-GARONNE</td>\n",
       "      <td>MIDI-PYRENEES</td>\n",
       "      <td>Chef-lieu canton</td>\n",
       "      <td>301.0</td>\n",
       "      <td>2470.0</td>\n",
       "      <td>1.6</td>\n",
       "      <td>43.2904403081, 0.650641474176</td>\n",
       "      <td>{\"type\": \"Polygon\", \"coordinates\": [[[0.671852...</td>\n",
       "      <td>0.647773</td>\n",
       "      <td>43.290440</td>\n",
       "      <td>0.650641</td>\n",
       "    </tr>\n",
       "    <tr>\n",
       "      <th>11143</th>\n",
       "      <td>11510</td>\n",
       "      <td>FEUILLA</td>\n",
       "      <td>AUDE</td>\n",
       "      <td>LANGUEDOC-ROUSSILLON</td>\n",
       "      <td>Commune simple</td>\n",
       "      <td>314.0</td>\n",
       "      <td>2426.0</td>\n",
       "      <td>0.1</td>\n",
       "      <td>42.9291375888, 2.90138923544</td>\n",
       "      <td>{\"type\": \"Polygon\", \"coordinates\": [[[2.906996...</td>\n",
       "      <td>0.041220</td>\n",
       "      <td>42.929138</td>\n",
       "      <td>2.901389</td>\n",
       "    </tr>\n",
       "    <tr>\n",
       "      <th>43028</th>\n",
       "      <td>43200</td>\n",
       "      <td>BESSAMOREL</td>\n",
       "      <td>HAUTE-LOIRE</td>\n",
       "      <td>AUVERGNE</td>\n",
       "      <td>Commune simple</td>\n",
       "      <td>888.0</td>\n",
       "      <td>743.0</td>\n",
       "      <td>0.4</td>\n",
       "      <td>45.1306448726, 4.07952494849</td>\n",
       "      <td>{\"type\": \"Polygon\", \"coordinates\": [[[4.091674...</td>\n",
       "      <td>0.538358</td>\n",
       "      <td>45.130645</td>\n",
       "      <td>4.079525</td>\n",
       "    </tr>\n",
       "    <tr>\n",
       "      <th>78506</th>\n",
       "      <td>78660</td>\n",
       "      <td>PRUNAY-EN-YVELINES</td>\n",
       "      <td>YVELINES</td>\n",
       "      <td>ILE-DE-FRANCE</td>\n",
       "      <td>Commune simple</td>\n",
       "      <td>155.0</td>\n",
       "      <td>2717.0</td>\n",
       "      <td>0.8</td>\n",
       "      <td>48.5267627187, 1.80513972814</td>\n",
       "      <td>{\"type\": \"Polygon\", \"coordinates\": [[[1.829610...</td>\n",
       "      <td>0.294442</td>\n",
       "      <td>48.526763</td>\n",
       "      <td>1.805140</td>\n",
       "    </tr>\n",
       "    <tr>\n",
       "      <th>84081</th>\n",
       "      <td>84310</td>\n",
       "      <td>MORIERES-LES-AVIGNON</td>\n",
       "      <td>VAUCLUSE</td>\n",
       "      <td>PROVENCE-ALPES-COTE D'AZUR</td>\n",
       "      <td>Commune simple</td>\n",
       "      <td>49.0</td>\n",
       "      <td>1042.0</td>\n",
       "      <td>7.6</td>\n",
       "      <td>43.9337788848, 4.90875878315</td>\n",
       "      <td>{\"type\": \"Polygon\", \"coordinates\": [[[4.927176...</td>\n",
       "      <td>7.293666</td>\n",
       "      <td>43.933779</td>\n",
       "      <td>4.908759</td>\n",
       "    </tr>\n",
       "  </tbody>\n",
       "</table>\n",
       "</div>"
      ],
      "text/plain": [
       "           Code Postal               Commune    Département  \\\n",
       "Code INSEE                                                    \n",
       "31080            31350    BOULOGNE-SUR-GESSE  HAUTE-GARONNE   \n",
       "11143            11510               FEUILLA           AUDE   \n",
       "43028            43200            BESSAMOREL    HAUTE-LOIRE   \n",
       "78506            78660    PRUNAY-EN-YVELINES       YVELINES   \n",
       "84081            84310  MORIERES-LES-AVIGNON       VAUCLUSE   \n",
       "\n",
       "                                Région            Statut  Altitude Moyenne  \\\n",
       "Code INSEE                                                                   \n",
       "31080                    MIDI-PYRENEES  Chef-lieu canton             301.0   \n",
       "11143             LANGUEDOC-ROUSSILLON    Commune simple             314.0   \n",
       "43028                         AUVERGNE    Commune simple             888.0   \n",
       "78506                    ILE-DE-FRANCE    Commune simple             155.0   \n",
       "84081       PROVENCE-ALPES-COTE D'AZUR    Commune simple              49.0   \n",
       "\n",
       "            Superficie  Population                   geo_point_2d  \\\n",
       "Code INSEE                                                          \n",
       "31080           2470.0         1.6  43.2904403081, 0.650641474176   \n",
       "11143           2426.0         0.1   42.9291375888, 2.90138923544   \n",
       "43028            743.0         0.4   45.1306448726, 4.07952494849   \n",
       "78506           2717.0         0.8   48.5267627187, 1.80513972814   \n",
       "84081           1042.0         7.6   43.9337788848, 4.90875878315   \n",
       "\n",
       "                                                    geo_shape   Densité  \\\n",
       "Code INSEE                                                                \n",
       "31080       {\"type\": \"Polygon\", \"coordinates\": [[[0.671852...  0.647773   \n",
       "11143       {\"type\": \"Polygon\", \"coordinates\": [[[2.906996...  0.041220   \n",
       "43028       {\"type\": \"Polygon\", \"coordinates\": [[[4.091674...  0.538358   \n",
       "78506       {\"type\": \"Polygon\", \"coordinates\": [[[1.829610...  0.294442   \n",
       "84081       {\"type\": \"Polygon\", \"coordinates\": [[[4.927176...  7.293666   \n",
       "\n",
       "             Latitude  Longitude  \n",
       "Code INSEE                        \n",
       "31080       43.290440   0.650641  \n",
       "11143       42.929138   2.901389  \n",
       "43028       45.130645   4.079525  \n",
       "78506       48.526763   1.805140  \n",
       "84081       43.933779   4.908759  "
      ]
     },
     "execution_count": 424,
     "metadata": {},
     "output_type": "execute_result"
    }
   ],
   "source": [
    "geo.head()"
   ]
  },
  {
   "cell_type": "code",
   "execution_count": 425,
   "metadata": {},
   "outputs": [
    {
     "data": {
      "text/html": [
       "<div>\n",
       "<style scoped>\n",
       "    .dataframe tbody tr th:only-of-type {\n",
       "        vertical-align: middle;\n",
       "    }\n",
       "\n",
       "    .dataframe tbody tr th {\n",
       "        vertical-align: top;\n",
       "    }\n",
       "\n",
       "    .dataframe thead th {\n",
       "        text-align: right;\n",
       "    }\n",
       "</style>\n",
       "<table border=\"1\" class=\"dataframe\">\n",
       "  <thead>\n",
       "    <tr style=\"text-align: right;\">\n",
       "      <th></th>\n",
       "      <th>Code Postal</th>\n",
       "      <th>CP Ville</th>\n",
       "      <th>Commune</th>\n",
       "      <th>Département</th>\n",
       "      <th>Région</th>\n",
       "      <th>Statut</th>\n",
       "      <th>Altitude Moyenne</th>\n",
       "      <th>Superficie</th>\n",
       "      <th>Population</th>\n",
       "      <th>geo_point_2d</th>\n",
       "      <th>geo_shape</th>\n",
       "      <th>Densité</th>\n",
       "      <th>Latitude</th>\n",
       "      <th>Longitude</th>\n",
       "    </tr>\n",
       "    <tr>\n",
       "      <th>Code INSEE</th>\n",
       "      <th></th>\n",
       "      <th></th>\n",
       "      <th></th>\n",
       "      <th></th>\n",
       "      <th></th>\n",
       "      <th></th>\n",
       "      <th></th>\n",
       "      <th></th>\n",
       "      <th></th>\n",
       "      <th></th>\n",
       "      <th></th>\n",
       "      <th></th>\n",
       "      <th></th>\n",
       "      <th></th>\n",
       "    </tr>\n",
       "  </thead>\n",
       "  <tbody>\n",
       "    <tr>\n",
       "      <th>31080</th>\n",
       "      <td>31350</td>\n",
       "      <td>31350 BOULOGNE-SUR-GESSE</td>\n",
       "      <td>BOULOGNE-SUR-GESSE</td>\n",
       "      <td>HAUTE-GARONNE</td>\n",
       "      <td>MIDI-PYRENEES</td>\n",
       "      <td>Chef-lieu canton</td>\n",
       "      <td>301.0</td>\n",
       "      <td>2470.0</td>\n",
       "      <td>1.6</td>\n",
       "      <td>43.2904403081, 0.650641474176</td>\n",
       "      <td>{\"type\": \"Polygon\", \"coordinates\": [[[0.671852...</td>\n",
       "      <td>0.647773</td>\n",
       "      <td>43.290440</td>\n",
       "      <td>0.650641</td>\n",
       "    </tr>\n",
       "    <tr>\n",
       "      <th>11143</th>\n",
       "      <td>11510</td>\n",
       "      <td>11510 FEUILLA</td>\n",
       "      <td>FEUILLA</td>\n",
       "      <td>AUDE</td>\n",
       "      <td>LANGUEDOC-ROUSSILLON</td>\n",
       "      <td>Commune simple</td>\n",
       "      <td>314.0</td>\n",
       "      <td>2426.0</td>\n",
       "      <td>0.1</td>\n",
       "      <td>42.9291375888, 2.90138923544</td>\n",
       "      <td>{\"type\": \"Polygon\", \"coordinates\": [[[2.906996...</td>\n",
       "      <td>0.041220</td>\n",
       "      <td>42.929138</td>\n",
       "      <td>2.901389</td>\n",
       "    </tr>\n",
       "    <tr>\n",
       "      <th>43028</th>\n",
       "      <td>43200</td>\n",
       "      <td>43200 BESSAMOREL</td>\n",
       "      <td>BESSAMOREL</td>\n",
       "      <td>HAUTE-LOIRE</td>\n",
       "      <td>AUVERGNE</td>\n",
       "      <td>Commune simple</td>\n",
       "      <td>888.0</td>\n",
       "      <td>743.0</td>\n",
       "      <td>0.4</td>\n",
       "      <td>45.1306448726, 4.07952494849</td>\n",
       "      <td>{\"type\": \"Polygon\", \"coordinates\": [[[4.091674...</td>\n",
       "      <td>0.538358</td>\n",
       "      <td>45.130645</td>\n",
       "      <td>4.079525</td>\n",
       "    </tr>\n",
       "    <tr>\n",
       "      <th>78506</th>\n",
       "      <td>78660</td>\n",
       "      <td>78660 PRUNAY-EN-YVELINES</td>\n",
       "      <td>PRUNAY-EN-YVELINES</td>\n",
       "      <td>YVELINES</td>\n",
       "      <td>ILE-DE-FRANCE</td>\n",
       "      <td>Commune simple</td>\n",
       "      <td>155.0</td>\n",
       "      <td>2717.0</td>\n",
       "      <td>0.8</td>\n",
       "      <td>48.5267627187, 1.80513972814</td>\n",
       "      <td>{\"type\": \"Polygon\", \"coordinates\": [[[1.829610...</td>\n",
       "      <td>0.294442</td>\n",
       "      <td>48.526763</td>\n",
       "      <td>1.805140</td>\n",
       "    </tr>\n",
       "    <tr>\n",
       "      <th>84081</th>\n",
       "      <td>84310</td>\n",
       "      <td>84310 MORIERES-LES-AVIGNON</td>\n",
       "      <td>MORIERES-LES-AVIGNON</td>\n",
       "      <td>VAUCLUSE</td>\n",
       "      <td>PROVENCE-ALPES-COTE D'AZUR</td>\n",
       "      <td>Commune simple</td>\n",
       "      <td>49.0</td>\n",
       "      <td>1042.0</td>\n",
       "      <td>7.6</td>\n",
       "      <td>43.9337788848, 4.90875878315</td>\n",
       "      <td>{\"type\": \"Polygon\", \"coordinates\": [[[4.927176...</td>\n",
       "      <td>7.293666</td>\n",
       "      <td>43.933779</td>\n",
       "      <td>4.908759</td>\n",
       "    </tr>\n",
       "  </tbody>\n",
       "</table>\n",
       "</div>"
      ],
      "text/plain": [
       "           Code Postal                    CP Ville               Commune  \\\n",
       "Code INSEE                                                                 \n",
       "31080            31350    31350 BOULOGNE-SUR-GESSE    BOULOGNE-SUR-GESSE   \n",
       "11143            11510               11510 FEUILLA               FEUILLA   \n",
       "43028            43200            43200 BESSAMOREL            BESSAMOREL   \n",
       "78506            78660    78660 PRUNAY-EN-YVELINES    PRUNAY-EN-YVELINES   \n",
       "84081            84310  84310 MORIERES-LES-AVIGNON  MORIERES-LES-AVIGNON   \n",
       "\n",
       "              Département                      Région            Statut  \\\n",
       "Code INSEE                                                                \n",
       "31080       HAUTE-GARONNE               MIDI-PYRENEES  Chef-lieu canton   \n",
       "11143                AUDE        LANGUEDOC-ROUSSILLON    Commune simple   \n",
       "43028         HAUTE-LOIRE                    AUVERGNE    Commune simple   \n",
       "78506            YVELINES               ILE-DE-FRANCE    Commune simple   \n",
       "84081            VAUCLUSE  PROVENCE-ALPES-COTE D'AZUR    Commune simple   \n",
       "\n",
       "            Altitude Moyenne  Superficie  Population  \\\n",
       "Code INSEE                                             \n",
       "31080                  301.0      2470.0         1.6   \n",
       "11143                  314.0      2426.0         0.1   \n",
       "43028                  888.0       743.0         0.4   \n",
       "78506                  155.0      2717.0         0.8   \n",
       "84081                   49.0      1042.0         7.6   \n",
       "\n",
       "                             geo_point_2d  \\\n",
       "Code INSEE                                  \n",
       "31080       43.2904403081, 0.650641474176   \n",
       "11143        42.9291375888, 2.90138923544   \n",
       "43028        45.1306448726, 4.07952494849   \n",
       "78506        48.5267627187, 1.80513972814   \n",
       "84081        43.9337788848, 4.90875878315   \n",
       "\n",
       "                                                    geo_shape   Densité  \\\n",
       "Code INSEE                                                                \n",
       "31080       {\"type\": \"Polygon\", \"coordinates\": [[[0.671852...  0.647773   \n",
       "11143       {\"type\": \"Polygon\", \"coordinates\": [[[2.906996...  0.041220   \n",
       "43028       {\"type\": \"Polygon\", \"coordinates\": [[[4.091674...  0.538358   \n",
       "78506       {\"type\": \"Polygon\", \"coordinates\": [[[1.829610...  0.294442   \n",
       "84081       {\"type\": \"Polygon\", \"coordinates\": [[[4.927176...  7.293666   \n",
       "\n",
       "             Latitude  Longitude  \n",
       "Code INSEE                        \n",
       "31080       43.290440   0.650641  \n",
       "11143       42.929138   2.901389  \n",
       "43028       45.130645   4.079525  \n",
       "78506       48.526763   1.805140  \n",
       "84081       43.933779   4.908759  "
      ]
     },
     "execution_count": 425,
     "metadata": {},
     "output_type": "execute_result"
    }
   ],
   "source": [
    "#code postal + un espace + nom de la ville\n",
    "geo.insert(1, 'CP Ville', geo['Code Postal'] + ' '  + geo['Commune'])\n",
    "geo.head()"
   ]
  },
  {
   "cell_type": "code",
   "execution_count": 426,
   "metadata": {},
   "outputs": [
    {
     "name": "stdout",
     "output_type": "stream",
     "text": [
      "PLANRUPT\n"
     ]
    }
   ],
   "source": [
    "from geopy.distance import geodesic\n",
    "\n",
    "def ville(lat, long): \n",
    "    point = (lat, long)\n",
    "    geo['Distance'] = geo.apply(lambda x : geodesic(point, (x['Latitude'], x['Longitude'])).kilometers, axis=1)\n",
    "    return geo['Distance'].idxmin()\n",
    "\n",
    "print(geo.loc[ville(48.5267627187, 4.80513972814), 'Commune'])\n",
    "# ville(48.5267627187, 4.80513972814)\n",
    "# ville(geo.loc['31080', \"Latitude\"], geo.loc['31080', \"Longitude\"])"
   ]
  },
  {
   "cell_type": "code",
   "execution_count": 427,
   "metadata": {
    "scrolled": false
   },
   "outputs": [
    {
     "name": "stdout",
     "output_type": "stream",
     "text": [
      "BOSJEAN\n"
     ]
    }
   ],
   "source": [
    "# on applique la fonction à une coordonnée tirée au hasard\n",
    "# init du random\n",
    "np.random.seed(0)\n",
    "\n",
    "a, b = 41.5, 51.1  # latitude min et max de la France métropolitaine\n",
    "lat = (b - a) * np.random.random() + a\n",
    "a, b = -5.1, 9.5  # longitude min et max de la France métropolitaine\n",
    "long = (b - a) * np.random.random() + a\n",
    "\n",
    "print(geo.loc[ville(lat, long), 'Commune'])"
   ]
  },
  {
   "cell_type": "code",
   "execution_count": 428,
   "metadata": {
    "scrolled": false
   },
   "outputs": [],
   "source": [
    "# conversion degrés, minutes, secondes => décimal\n",
    "def dms2dec(deg, mn, sec):\n",
    "    #from degrees, minutes, seconds to decimal\n",
    "    #degrees + minutes/60 + seconds/3600\n",
    "    decimalvalue = deg + mn/60 + sec/3600\n",
    "    return decimalvalue"
   ]
  },
  {
   "cell_type": "code",
   "execution_count": 429,
   "metadata": {
    "scrolled": false
   },
   "outputs": [
    {
     "data": {
      "text/plain": [
       "Code Postal                                                     91120\n",
       "CP Ville                                              91120 PALAISEAU\n",
       "Commune                                                     PALAISEAU\n",
       "Département                                                   ESSONNE\n",
       "Région                                                  ILE-DE-FRANCE\n",
       "Statut                                                Sous-préfecture\n",
       "Altitude Moyenne                                                118.0\n",
       "Superficie                                                     1168.0\n",
       "Population                                                       30.3\n",
       "geo_point_2d                             48.7146765876, 2.22881488083\n",
       "geo_shape           {\"type\": \"Polygon\", \"coordinates\": [[[2.259350...\n",
       "Densité                                                     25.941781\n",
       "Latitude                                                    48.714677\n",
       "Longitude                                                    2.228815\n",
       "Distance                                                     1.252637\n",
       "Name: 91477, dtype: object"
      ]
     },
     "execution_count": 429,
     "metadata": {},
     "output_type": "execute_result"
    }
   ],
   "source": [
    "# à partir de coordonnées GPS précises\n",
    "geo.loc[ville(dms2dec(48, 42, 52), dms2dec(2, 14, 45))]"
   ]
  },
  {
   "cell_type": "markdown",
   "metadata": {},
   "source": [
    "**Projet maison n° 2**\n",
    "\n",
    "La colonne \"geo_shape\" comporte des chaines de catactères au format JSON. Elles représentent les formes géométriques des communes qui sont soit des polygones soit composées de plusieurs polygones.\n",
    "\n",
    "- Utiliser la librairie Python json pour parser la colonne \"geo_shape\".\n",
    "- Donner le décompte des valeurs accédées avec la clé \"type\".\n",
    "- Donner le décompte des longueurs des listes accédées avec la clé \"coordinates\".\n",
    "- Quelle commune est la plus complexe géométriquement ?\n",
    "- Quelle commune est la seconde la plus complexe géométriquement ?\n",
    "- Quelles sont les villes qui sont de type \"Polygon\" mais dont la longueur des listes accédées avec la clé \"coordinates\" vaut 2 ?\n",
    "- Pour ces villes vérifier que le premier polygone contient bien le second (enclave). *Nota bene* : installer la librairie shapely, utiliser la classe Polygon de shapely.geometry. Sur Windows shapely peut nécessiter d'installer la dll \"geos_c.dll\" dans le répertoire \"Library/bin\" de votre environnement Python."
   ]
  },
  {
   "cell_type": "code",
   "execution_count": 430,
   "metadata": {},
   "outputs": [
    {
     "name": "stdout",
     "output_type": "stream",
     "text": [
      "{\"type\": \"Polygon\", \"coordinates\": [[[4.92627342692396, 46.1200517234555], [4.92199538031264, 46.12069170563269], [4.921996260482057, 46.12663667307488], [4.90936269187648, 46.129164756530656], [4.916016986429157, 46.14461766984426], [4.903080786126749, 46.157977074275074], [4.904571300671208, 46.16096059498421], [4.910603091203733, 46.180432597608316], [4.914119126867876, 46.18271538441311], [4.932895432675545, 46.18304616431434], [4.938729478686701, 46.17383114520867], [4.933038591703602, 46.16429901579509], [4.958286230120842, 46.153246666893935], [4.943330383388636, 46.145964148557894], [4.939154593056283, 46.12938048470421], [4.931056072485923, 46.12087123131487], [4.92627342692396, 46.1200517234555]]]}\n"
     ]
    },
    {
     "data": {
      "text/plain": [
       "{'type': 'Polygon',\n",
       " 'coordinates': [[[4.92627342692396, 46.1200517234555],\n",
       "   [4.92199538031264, 46.12069170563269],\n",
       "   [4.921996260482057, 46.12663667307488],\n",
       "   [4.90936269187648, 46.129164756530656],\n",
       "   [4.916016986429157, 46.14461766984426],\n",
       "   [4.903080786126749, 46.157977074275074],\n",
       "   [4.904571300671208, 46.16096059498421],\n",
       "   [4.910603091203733, 46.180432597608316],\n",
       "   [4.914119126867876, 46.18271538441311],\n",
       "   [4.932895432675545, 46.18304616431434],\n",
       "   [4.938729478686701, 46.17383114520867],\n",
       "   [4.933038591703602, 46.16429901579509],\n",
       "   [4.958286230120842, 46.153246666893935],\n",
       "   [4.943330383388636, 46.145964148557894],\n",
       "   [4.939154593056283, 46.12938048470421],\n",
       "   [4.931056072485923, 46.12087123131487],\n",
       "   [4.92627342692396, 46.1200517234555]]]}"
      ]
     },
     "execution_count": 430,
     "metadata": {},
     "output_type": "execute_result"
    }
   ],
   "source": [
    "import json\n",
    "y = geo.loc[\"01001\", \"geo_shape\"]\n",
    "print(y)\n",
    "d = json.loads(y)\n",
    "d"
   ]
  },
  {
   "cell_type": "code",
   "execution_count": 431,
   "metadata": {},
   "outputs": [
    {
     "data": {
      "text/html": [
       "<div>\n",
       "<style scoped>\n",
       "    .dataframe tbody tr th:only-of-type {\n",
       "        vertical-align: middle;\n",
       "    }\n",
       "\n",
       "    .dataframe tbody tr th {\n",
       "        vertical-align: top;\n",
       "    }\n",
       "\n",
       "    .dataframe thead th {\n",
       "        text-align: right;\n",
       "    }\n",
       "</style>\n",
       "<table border=\"1\" class=\"dataframe\">\n",
       "  <thead>\n",
       "    <tr style=\"text-align: right;\">\n",
       "      <th></th>\n",
       "      <th>Code Postal</th>\n",
       "      <th>CP Ville</th>\n",
       "      <th>Commune</th>\n",
       "      <th>Département</th>\n",
       "      <th>Région</th>\n",
       "      <th>Statut</th>\n",
       "      <th>Altitude Moyenne</th>\n",
       "      <th>Superficie</th>\n",
       "      <th>Population</th>\n",
       "      <th>geo_point_2d</th>\n",
       "      <th>geo_shape</th>\n",
       "      <th>Densité</th>\n",
       "      <th>Latitude</th>\n",
       "      <th>Longitude</th>\n",
       "      <th>Distance</th>\n",
       "      <th>Type</th>\n",
       "      <th>Coordinates</th>\n",
       "    </tr>\n",
       "    <tr>\n",
       "      <th>Code INSEE</th>\n",
       "      <th></th>\n",
       "      <th></th>\n",
       "      <th></th>\n",
       "      <th></th>\n",
       "      <th></th>\n",
       "      <th></th>\n",
       "      <th></th>\n",
       "      <th></th>\n",
       "      <th></th>\n",
       "      <th></th>\n",
       "      <th></th>\n",
       "      <th></th>\n",
       "      <th></th>\n",
       "      <th></th>\n",
       "      <th></th>\n",
       "      <th></th>\n",
       "      <th></th>\n",
       "    </tr>\n",
       "  </thead>\n",
       "  <tbody>\n",
       "    <tr>\n",
       "      <th>31080</th>\n",
       "      <td>31350</td>\n",
       "      <td>31350 BOULOGNE-SUR-GESSE</td>\n",
       "      <td>BOULOGNE-SUR-GESSE</td>\n",
       "      <td>HAUTE-GARONNE</td>\n",
       "      <td>MIDI-PYRENEES</td>\n",
       "      <td>Chef-lieu canton</td>\n",
       "      <td>301.0</td>\n",
       "      <td>2470.0</td>\n",
       "      <td>1.6</td>\n",
       "      <td>43.2904403081, 0.650641474176</td>\n",
       "      <td>{\"type\": \"Polygon\", \"coordinates\": [[[0.671852...</td>\n",
       "      <td>0.647773</td>\n",
       "      <td>43.29044</td>\n",
       "      <td>0.650641</td>\n",
       "      <td>615.377889</td>\n",
       "      <td>Polygon</td>\n",
       "      <td>[[[0.671852008023359, 43.268343740258835], [0....</td>\n",
       "    </tr>\n",
       "  </tbody>\n",
       "</table>\n",
       "</div>"
      ],
      "text/plain": [
       "           Code Postal                  CP Ville             Commune  \\\n",
       "Code INSEE                                                             \n",
       "31080            31350  31350 BOULOGNE-SUR-GESSE  BOULOGNE-SUR-GESSE   \n",
       "\n",
       "              Département         Région            Statut  Altitude Moyenne  \\\n",
       "Code INSEE                                                                     \n",
       "31080       HAUTE-GARONNE  MIDI-PYRENEES  Chef-lieu canton             301.0   \n",
       "\n",
       "            Superficie  Population                   geo_point_2d  \\\n",
       "Code INSEE                                                          \n",
       "31080           2470.0         1.6  43.2904403081, 0.650641474176   \n",
       "\n",
       "                                                    geo_shape   Densité  \\\n",
       "Code INSEE                                                                \n",
       "31080       {\"type\": \"Polygon\", \"coordinates\": [[[0.671852...  0.647773   \n",
       "\n",
       "            Latitude  Longitude    Distance     Type  \\\n",
       "Code INSEE                                             \n",
       "31080       43.29044   0.650641  615.377889  Polygon   \n",
       "\n",
       "                                                  Coordinates  \n",
       "Code INSEE                                                     \n",
       "31080       [[[0.671852008023359, 43.268343740258835], [0....  "
      ]
     },
     "execution_count": 431,
     "metadata": {},
     "output_type": "execute_result"
    }
   ],
   "source": [
    "import json\n",
    "\n",
    "def load_json(shape, field):\n",
    "    y = json.loads(shape)\n",
    "    return y[field]\n",
    "\n",
    "geo['Type'] = geo['geo_shape'].apply(load_json, field='type')\n",
    "geo['Coordinates'] = geo['geo_shape'].apply(load_json,field='coordinates')\n",
    "geo.head(1)"
   ]
  },
  {
   "cell_type": "code",
   "execution_count": 432,
   "metadata": {},
   "outputs": [
    {
     "data": {
      "text/plain": [
       "Polygon         36670\n",
       "MultiPolygon       72\n",
       "Name: Type, dtype: int64"
      ]
     },
     "execution_count": 432,
     "metadata": {},
     "output_type": "execute_result"
    }
   ],
   "source": [
    "geo['Type'].value_counts()"
   ]
  },
  {
   "cell_type": "code",
   "execution_count": 433,
   "metadata": {},
   "outputs": [
    {
     "data": {
      "text/plain": [
       "1    36660\n",
       "2       80\n",
       "3        1\n",
       "4        1\n",
       "Name: len_coord, dtype: int64"
      ]
     },
     "execution_count": 433,
     "metadata": {},
     "output_type": "execute_result"
    }
   ],
   "source": [
    "geo['len_coord'] = geo['Coordinates'].apply(len)\n",
    "geo['len_coord'].value_counts()"
   ]
  },
  {
   "cell_type": "code",
   "execution_count": 437,
   "metadata": {},
   "outputs": [
    {
     "name": "stdout",
     "output_type": "stream",
     "text": [
      "Code INSEE\n",
      "83069    La commune la plus complexe est HYERES\n",
      "Name: Commune, dtype: object\n"
     ]
    }
   ],
   "source": [
    "c1 = geo[geo['len_coord'] == 4]\n",
    "print(\"La commune la plus complexe est \" + c1['Commune'])"
   ]
  },
  {
   "cell_type": "code",
   "execution_count": 438,
   "metadata": {},
   "outputs": [
    {
     "name": "stdout",
     "output_type": "stream",
     "text": [
      "Code INSEE\n",
      "27701    La seconde la plus complexe est VAL-DE-REUIL\n",
      "Name: Commune, dtype: object\n"
     ]
    }
   ],
   "source": [
    "c2 = geo[geo['len_coord'] == 3]\n",
    "print(\"La seconde la plus complexe est \" + c2['Commune'])"
   ]
  },
  {
   "cell_type": "code",
   "execution_count": 448,
   "metadata": {},
   "outputs": [
    {
     "data": {
      "text/html": [
       "<div>\n",
       "<style scoped>\n",
       "    .dataframe tbody tr th:only-of-type {\n",
       "        vertical-align: middle;\n",
       "    }\n",
       "\n",
       "    .dataframe tbody tr th {\n",
       "        vertical-align: top;\n",
       "    }\n",
       "\n",
       "    .dataframe thead th {\n",
       "        text-align: right;\n",
       "    }\n",
       "</style>\n",
       "<table border=\"1\" class=\"dataframe\">\n",
       "  <thead>\n",
       "    <tr style=\"text-align: right;\">\n",
       "      <th></th>\n",
       "      <th>Commune</th>\n",
       "      <th>Type</th>\n",
       "      <th>len_coord</th>\n",
       "    </tr>\n",
       "    <tr>\n",
       "      <th>Code INSEE</th>\n",
       "      <th></th>\n",
       "      <th></th>\n",
       "      <th></th>\n",
       "    </tr>\n",
       "  </thead>\n",
       "  <tbody>\n",
       "    <tr>\n",
       "      <th>2A272</th>\n",
       "      <td>SARTENE</td>\n",
       "      <td>Polygon</td>\n",
       "      <td>2</td>\n",
       "    </tr>\n",
       "    <tr>\n",
       "      <th>48080</th>\n",
       "      <td>LANGOGNE</td>\n",
       "      <td>Polygon</td>\n",
       "      <td>2</td>\n",
       "    </tr>\n",
       "    <tr>\n",
       "      <th>09042</th>\n",
       "      <td>LA BASTIDE-DE-SEROU</td>\n",
       "      <td>Polygon</td>\n",
       "      <td>2</td>\n",
       "    </tr>\n",
       "    <tr>\n",
       "      <th>71028</th>\n",
       "      <td>BEAUVERNOIS</td>\n",
       "      <td>Polygon</td>\n",
       "      <td>2</td>\n",
       "    </tr>\n",
       "    <tr>\n",
       "      <th>22209</th>\n",
       "      <td>PLOUBALAY</td>\n",
       "      <td>Polygon</td>\n",
       "      <td>2</td>\n",
       "    </tr>\n",
       "    <tr>\n",
       "      <th>02232</th>\n",
       "      <td>COYOLLES</td>\n",
       "      <td>Polygon</td>\n",
       "      <td>2</td>\n",
       "    </tr>\n",
       "    <tr>\n",
       "      <th>2B049</th>\n",
       "      <td>CALENZANA</td>\n",
       "      <td>Polygon</td>\n",
       "      <td>2</td>\n",
       "    </tr>\n",
       "    <tr>\n",
       "      <th>05052</th>\n",
       "      <td>EYGLIERS</td>\n",
       "      <td>Polygon</td>\n",
       "      <td>2</td>\n",
       "    </tr>\n",
       "    <tr>\n",
       "      <th>67486</th>\n",
       "      <td>SUNDHOUSE</td>\n",
       "      <td>Polygon</td>\n",
       "      <td>2</td>\n",
       "    </tr>\n",
       "    <tr>\n",
       "      <th>68078</th>\n",
       "      <td>EGUISHEIM</td>\n",
       "      <td>Polygon</td>\n",
       "      <td>2</td>\n",
       "    </tr>\n",
       "  </tbody>\n",
       "</table>\n",
       "</div>"
      ],
      "text/plain": [
       "                        Commune     Type  len_coord\n",
       "Code INSEE                                         \n",
       "2A272                   SARTENE  Polygon          2\n",
       "48080                  LANGOGNE  Polygon          2\n",
       "09042       LA BASTIDE-DE-SEROU  Polygon          2\n",
       "71028               BEAUVERNOIS  Polygon          2\n",
       "22209                 PLOUBALAY  Polygon          2\n",
       "02232                  COYOLLES  Polygon          2\n",
       "2B049                 CALENZANA  Polygon          2\n",
       "05052                  EYGLIERS  Polygon          2\n",
       "67486                 SUNDHOUSE  Polygon          2\n",
       "68078                 EGUISHEIM  Polygon          2"
      ]
     },
     "execution_count": 448,
     "metadata": {},
     "output_type": "execute_result"
    }
   ],
   "source": [
    "#les villes qui sont de type \"Polygon\" mais dont la longueur des listes accédées avec la clé \"coordinates\" vaut 2\n",
    "dfvilles = geo.loc[(geo['Type'] == 'Polygon') & (geo['len_coord'] == 2)]\n",
    "dfvilles[['Commune', 'Type', 'len_coord']]"
   ]
  },
  {
   "cell_type": "code",
   "execution_count": null,
   "metadata": {},
   "outputs": [],
   "source": []
  }
 ],
 "metadata": {
  "anaconda-cloud": {},
  "kernelspec": {
   "display_name": "Python 3",
   "language": "python",
   "name": "python3"
  },
  "language_info": {
   "codemirror_mode": {
    "name": "ipython",
    "version": 3
   },
   "file_extension": ".py",
   "mimetype": "text/x-python",
   "name": "python",
   "nbconvert_exporter": "python",
   "pygments_lexer": "ipython3",
   "version": "3.8.8"
  }
 },
 "nbformat": 4,
 "nbformat_minor": 1
}
